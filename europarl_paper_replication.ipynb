{
 "cells": [
  {
   "cell_type": "markdown",
   "metadata": {},
   "source": [
    "# Replication of Nanni et al. SemScale's Paper"
   ]
  },
  {
   "cell_type": "markdown",
   "metadata": {},
   "source": [
    "This notebook attempts to recreate and expand upon the results and methodology by Nanni et al. in their found in SemScale paper. \n",
    "\n",
    "We study at the **english** 5th and 6th legislation of their EuroParl dataset, which exists in an updated, fixed version, differing from the paper. In communication with Federico Nanni, he endeavors to update his results with this fixed version.\n",
    "\n",
    "We recreate the results by running the data of both legislations through SemScale and Wordfish, but also expand upon the results, by comparing them with a pre-processed version."
   ]
  },
  {
   "cell_type": "markdown",
   "metadata": {},
   "source": [
    "## Download Data\n",
    "\n",
    "For this notebook, we need files which are too large for git. We will check if they are inside the project's folder, and if not, we download them."
   ]
  },
  {
   "cell_type": "markdown",
   "metadata": {},
   "source": [
    "We check whether SemScale's embeddings file exists on the user's computer, if not, we download it:"
   ]
  },
  {
   "cell_type": "code",
   "execution_count": 1,
   "metadata": {},
   "outputs": [],
   "source": [
    "import gdown # Library for downloading from Google Drive\n",
    "import os\n",
    "# Check if file already exists\n",
    "if not os.path.isfile(\"embeddings_semscale.vec\"):\n",
    "    # Download file\n",
    "    print(\"Downloading file, please wait...\")\n",
    "    \n",
    "    url = \"https://drive.google.com/uc?id=1Oy61TV0DpruUXOK9qO3IFsvL5DMvwGwD&export=download\"\n",
    "    output_path = 'embeddings_semscale.vec'\n",
    "    gdown.download(url,output_path)\n",
    "                      \n",
    "    print(\"Done!\")"
   ]
  },
  {
   "cell_type": "markdown",
   "metadata": {},
   "source": [
    "We check for the EuroParl dataset:"
   ]
  },
  {
   "cell_type": "code",
   "execution_count": 2,
   "metadata": {},
   "outputs": [],
   "source": [
    "import urllib.request\n",
    "from io import BytesIO\n",
    "import zipfile\n",
    "# Check if file already exists\n",
    "if not os.path.exists(\"europarl_v102\"):\n",
    "    # Download file\n",
    "    print(\"Downloading file, please wait...\")\n",
    "    \n",
    "    url = \"https://cloud.uni-koblenz-landau.de/s/Mw4kECRq6RyFCbL/download\"\n",
    "    output_path = 'europarl_v102.zip'\n",
    "    urllib.request.urlretrieve(url, output_path)\n",
    "    print(\"Done downloading, will extract now...\")\n",
    "    \n",
    "    with zipfile.ZipFile(\"europarl_v102.zip\",\"r\") as zip_file:\n",
    "        zip_file.extractall()\n",
    "    # We delete the zip form the disk to make space\n",
    "    # os.system(\"rm europarl_v102.zip\")\n",
    "    # We write the extracted zip to the disk again\n",
    "    print(\"Done!\")"
   ]
  },
  {
   "cell_type": "markdown",
   "metadata": {},
   "source": [
    "Now that we downloaded everything, we create a variable to store the current time, so we can see how long the computation will take:"
   ]
  },
  {
   "cell_type": "code",
   "execution_count": 3,
   "metadata": {},
   "outputs": [],
   "source": [
    "import datetime\n",
    "start_time = datetime.datetime.now()"
   ]
  },
  {
   "cell_type": "markdown",
   "metadata": {
    "lines_to_next_cell": 0
   },
   "source": [
    "Since this is a python notebook, we need to use rpy2 to be able to run R code.\n",
    "The next cell allows us to run rpy2 in notebook cells and later import R variables into the python environment of this notebook."
   ]
  },
  {
   "cell_type": "code",
   "execution_count": 4,
   "metadata": {},
   "outputs": [],
   "source": [
    "%load_ext rpy2.ipython\n",
    "import rpy2.robjects as robjects"
   ]
  },
  {
   "cell_type": "markdown",
   "metadata": {},
   "source": [
    "Cells including the line **%%R** contain R code.\n",
    "\n",
    "Cells including the line **%%capture** do not print the output of that cell (for example because it is not of importance for the reader of the notebook).\n",
    "\n",
    "We start our R session with imports of R libraries:"
   ]
  },
  {
   "cell_type": "code",
   "execution_count": 5,
   "metadata": {
    "lines_to_next_cell": 0,
    "scrolled": true
   },
   "outputs": [
    {
     "name": "stderr",
     "output_type": "stream",
     "text": [
      "R[write to console]: Package version: 1.5.2\n",
      "\n",
      "R[write to console]: Parallel computing: 2 of 8 threads used.\n",
      "\n",
      "R[write to console]: See https://quanteda.io for tutorials and examples.\n",
      "\n",
      "R[write to console]: \n",
      "Attaching package: ‘quanteda’\n",
      "\n",
      "\n",
      "R[write to console]: The following object is masked from ‘package:utils’:\n",
      "\n",
      "    View\n",
      "\n",
      "\n",
      "R[write to console]: Loading required package: lattice\n",
      "\n",
      "R[write to console]: Loading required package: ggplot2\n",
      "\n",
      "R[write to console]: Loading required package: NLP\n",
      "\n",
      "R[write to console]: \n",
      "Attaching package: ‘NLP’\n",
      "\n",
      "\n",
      "R[write to console]: The following object is masked from ‘package:ggplot2’:\n",
      "\n",
      "    annotate\n",
      "\n",
      "\n",
      "R[write to console]: \n",
      "Attaching package: ‘tm’\n",
      "\n",
      "\n",
      "R[write to console]: The following objects are masked from ‘package:quanteda’:\n",
      "\n",
      "    as.DocumentTermMatrix, stopwords\n",
      "\n",
      "\n"
     ]
    }
   ],
   "source": [
    "%%R\n",
    "# Load R libraries\n",
    "library(quanteda)\n",
    "library(RSQLite)\n",
    "library(caret)\n",
    "library(mltools)\n",
    "library(glue)\n",
    "library(tm)"
   ]
  },
  {
   "cell_type": "markdown",
   "metadata": {},
   "source": [
    "We load the textfiles which store the speeches and apply basic preprocessing:"
   ]
  },
  {
   "cell_type": "code",
   "execution_count": 6,
   "metadata": {},
   "outputs": [],
   "source": [
    "%%R\n",
    "getSpeechesWithScores <- function(relative_txt_path, relative_scores_path) {\n",
    "  \n",
    "  file_name = list.files(relative_txt_path)\n",
    "  \n",
    "  file_path = paste0(relative_txt_path, file_name)\n",
    "  \n",
    "  content <- sapply(file_path, FUN = function(file)readChar(file, file.info(file)$size))\n",
    "  \n",
    "  # Create dataframe\n",
    "  df <- data.frame(file_name=file_name, content=content, stringsAsFactors=FALSE)\n",
    "  \n",
    "  # Read scores\n",
    "  scores <- read.csv(relative_scores_path, sep=' ', header = FALSE)\n",
    "  # Set column names\n",
    "  names(scores) <- c(\"file_name\", \"score\")\n",
    "  \n",
    "  # Merge two dataframes to only keep those with score\n",
    "  merged_df = merge(x = df, y = scores, by = \"file_name\")\n",
    "\n",
    "  # Replaced processed text inside dataframe\n",
    "  content_df = merged_df['content']\n",
    "  \n",
    "  # Drop file name as not needed anymore\n",
    "  merged_df$file_name <- NULL\n",
    "  \n",
    "  return (merged_df)\n",
    "}\n",
    "\n",
    "# Get Dataframes for fifth and sixth legislations\n",
    "fifth_df <- getSpeechesWithScores(relative_txt_path = \"./europarl_v102/5/EN/\", relative_scores_path = \"./europarl_v102/5/ideology.txt\")\n",
    "sixth_df <- getSpeechesWithScores(relative_txt_path = \"./europarl_v102/6/EN/\", relative_scores_path = \"./europarl_v102/6/ideology.txt\")\n",
    "\n",
    "# We remove the EN at the start of the speeches, which has been put there to \n",
    "# indicate the language for SemScale. \n",
    "# For SemScale, we specifically add it later again, here we however remove it for Wordfish.\n",
    "fifth_df$content <- sub(\"EN\", \"\", fifth_df$content)\n",
    "sixth_df$content <- sub(\"EN\", \"\", sixth_df$content)"
   ]
  },
  {
   "cell_type": "markdown",
   "metadata": {},
   "source": [
    "Let us look at an example speech:"
   ]
  },
  {
   "cell_type": "code",
   "execution_count": 7,
   "metadata": {
    "scrolled": true
   },
   "outputs": [
    {
     "name": "stdout",
     "output_type": "stream",
     "text": [
      "[1] \"\\n– Mr President, we have to restore public confidence in aviation and we have to let the market decide what happens to the airlines themselves. Restoring public confidence means getting security screening right and improving the quality of staff, training, job procedures, pay and conditions. It means, perhaps, ensuring that there is a state-run security operation at airports and paying accordingly. That may well create more jobs. So far as the airlines and their financial viability are concerned, we do not want more intervention, more bureaucracy and more delay. We need targeted assistance in areas like insurance and the cost of security. We must let the market decide what the future of the airline industry shall be. As was said earlier, Sabena made a profit in only one year out of the many years that it has been in existence. Aer Lingus, Alitalia, Air France and KLM are not far behind. Why the devil should we support Aer Lingus when Ryanair can make money without any difficulties at a\"\n"
     ]
    }
   ],
   "source": [
    "%%R\n",
    "# Because the entire string is so long, we only show the some characters of it\n",
    "substr(fifth_df[1,'content'], start = 1, stop = 1000)"
   ]
  },
  {
   "cell_type": "markdown",
   "metadata": {},
   "source": [
    "In order to observe the effects of proprocessing, we want to create a second version of the two legislation datasets, on which apply **further text preprocessing**, which is:\n",
    "\n",
    "- **Lowercasing**: Set all upper case letters to lower case. This helps us reduce the count of words.\n",
    "\n",
    "\n",
    "- **Removal of punctuation and numbers**:  Punctuation and numbers are not of benefit for our word frequency methods, as they give little semantic information when their count per document appears in a document-feature matrix or a token count vector.\n",
    "\n",
    "\n",
    "- **Removal of stopwords**: Stopwords such as \"the\" or \"is\" and others are not words containing a direct sentiment on their own and are thus removed.\n",
    "\n",
    "\n",
    "- **Stemming**: Words in the texts are pruned to their base form, e.g. \"runner\" and \"running\" may be pruned to \"run\". This is already an example of what problems stemming may cause (e.g. turning verbs into nouns), however, it greatly reduces the number of words inside a text corpus and is thus beneficial for our word frequency methods.\n",
    "\n",
    "\n",
    "- **Removal of extra whitespace**: Through previous preprocessing and through faults in the dataset, extra whitespace in the text may exist which is removed."
   ]
  },
  {
   "cell_type": "markdown",
   "metadata": {},
   "source": [
    "We now apply the preprocessing steps mentioned above:"
   ]
  },
  {
   "cell_type": "code",
   "execution_count": 8,
   "metadata": {
    "lines_to_next_cell": 2
   },
   "outputs": [],
   "source": [
    "%%R\n",
    "\n",
    "preprocess_documents <- function(unprocessed_docs){\n",
    "\n",
    "  # Create corpus for cleanup methods\n",
    "  corpus <- (VectorSource(unprocessed_docs))\n",
    "  corpus <- Corpus(corpus)\n",
    "  \n",
    "  # Clean up corpus\n",
    "  corpus_clean <- tm_map(corpus, content_transformer(tolower))\n",
    "  corpus_clean <- tm_map(corpus_clean, removePunctuation)\n",
    "  corpus_clean <- tm_map(corpus_clean, removeNumbers)\n",
    "  corpus_clean <- tm_map(corpus_clean, removeWords, stopwords('english'))\n",
    "  corpus_clean <- tm_map(corpus_clean, stemDocument, language = \"english\")\n",
    "  corpus_clean <- tm_map(corpus_clean, stripWhitespace)\n",
    "  \n",
    "  # Revert to string\n",
    "  processed_docs <- sapply(corpus_clean$content, as.character)\n",
    "  return (unname(processed_docs)) # Needs to be an unnamed list\n",
    "}\n",
    "\n",
    "# We remove symbols and digits\n",
    "fifth_df$content <- gsub(\"[^<>'?!.:,a-zA-Z]\", \" \", fifth_df$content)\n",
    "\n",
    "# We remove the extra created whitespace\n",
    "fifth_df$content <- gsub(\"\\\\s+\",\" \", fifth_df$content)\n",
    "\n",
    "fifth_df_processed = fifth_df\n",
    "fifth_df_processed$content <- preprocess_documents(fifth_df$content)\n",
    "\n",
    "# We remove symbols and digits\n",
    "sixth_df$content <- gsub(\"[^<>'?!.:,a-zA-Z]\", \" \", sixth_df$content)\n",
    "\n",
    "# We remove the extra created whitespace\n",
    "sixth_df$content <- gsub(\"\\\\s+\",\" \", sixth_df$content)\n",
    "\n",
    "sixth_df_processed = sixth_df\n",
    "sixth_df_processed$content <- preprocess_documents(sixth_df$content)"
   ]
  },
  {
   "cell_type": "markdown",
   "metadata": {},
   "source": [
    "We shuffle the data:"
   ]
  },
  {
   "cell_type": "code",
   "execution_count": 9,
   "metadata": {
    "lines_to_next_cell": 0
   },
   "outputs": [],
   "source": [
    "%%R\n",
    "# Shuffle the data\n",
    "# The way R works, a seed has to be set again before every randomized action\n",
    "set.seed(42)\n",
    "fifth_df <- fifth_df[sample(nrow(fifth_df)),]\n",
    "set.seed(42)\n",
    "fifth_df_processed <- fifth_df_processed[sample(nrow(fifth_df_processed)),]\n",
    "\n",
    "set.seed(42)\n",
    "sixth_df <- sixth_df[sample(nrow(sixth_df)),]\n",
    "set.seed(42)\n",
    "sixth_df_processed <- sixth_df_processed[sample(nrow(sixth_df_processed)),]\n"
   ]
  },
  {
   "cell_type": "markdown",
   "metadata": {},
   "source": [
    "\n",
    "\n",
    "\n",
    "\n"
   ]
  },
  {
   "cell_type": "markdown",
   "metadata": {},
   "source": [
    "Create DFMs for training:"
   ]
  },
  {
   "cell_type": "code",
   "execution_count": 10,
   "metadata": {
    "lines_to_next_cell": 0
   },
   "outputs": [],
   "source": [
    "%%R\n",
    "\n",
    "dfm_fifth <- dfm(fifth_df$content)\n",
    "dfm_fifth_processed <- dfm(fifth_df_processed$content)\n",
    "\n",
    "dfm_sixth <- dfm(sixth_df$content)\n",
    "dfm_sixth_processed <- dfm(sixth_df_processed$content)\n",
    "\n",
    "DFMs <- list(dfm_fifth, dfm_fifth_processed, dfm_sixth, dfm_sixth_processed)\n",
    "Ys <- list(fifth_df$score, fifth_df$score, sixth_df$score, sixth_df$score)"
   ]
  },
  {
   "cell_type": "markdown",
   "metadata": {},
   "source": [
    "We calculate the *mean-squared-error* and *pearson* and *spearman correlation* for use of a method on a datset. At the end of the notebook, we present these results.\n",
    "\n",
    "For this, we initialize a dataframe to record the data:"
   ]
  },
  {
   "cell_type": "code",
   "execution_count": 11,
   "metadata": {},
   "outputs": [],
   "source": [
    "import pandas as pd\n",
    "import numpy as np\n",
    "metrics_fifth_df = pd.DataFrame(columns=[\"Method\", \n",
    "                                         \"MSE\", \"MSE Processed\",\n",
    "                                         \"Pearson\", \"Pearson Processed\",\n",
    "                                         \"Spearman\", \"Spearman Processed\"])\n",
    "\n",
    "metrics_sixth_df = pd.DataFrame(columns=[\"Method\", \n",
    "                                         \"MSE\", \"MSE Processed\",\n",
    "                                         \"Pearson\", \"Pearson Processed\",\n",
    "                                         \"Spearman\", \"Spearman Processed\"])"
   ]
  },
  {
   "cell_type": "markdown",
   "metadata": {},
   "source": [
    "# Methods"
   ]
  },
  {
   "cell_type": "markdown",
   "metadata": {},
   "source": [
    "## Wordfish (frequency method)\n",
    "Wordfish requires two labeled documents with opposite political positions as reference documents and from that Wordfish positions the other documents in relation to these two reference documents, as the reference documents get assigned both ends of the output scale. No further training is required. In order to simulate the typical train/test-data environment, we take two labeled documents from the training-data and append them to the test-data. On this, we will then run Wordfish."
   ]
  },
  {
   "cell_type": "markdown",
   "metadata": {},
   "source": [
    "First we need to find opposite documents:"
   ]
  },
  {
   "cell_type": "code",
   "execution_count": 12,
   "metadata": {
    "lines_to_next_cell": 0,
    "scrolled": false
   },
   "outputs": [
    {
     "name": "stdout",
     "output_type": "stream",
     "text": [
      "Min fifth_df: 7\n",
      "Max fifth_df: 28\n",
      "---\n",
      "Min fifth_df_processed: 7\n",
      "Max fifth_df_processed: 28\n",
      "---\n",
      "Min sixth_df: 7\n",
      "Max sixth_df: 8\n",
      "---\n",
      "Min sixth_df_processed: 7\n",
      "Max sixth_df_processed: 8\n",
      "---\n"
     ]
    }
   ],
   "source": [
    "%%R\n",
    "print(glue(\"Min fifth_df: {which.min(fifth_df$score)}\"))\n",
    "print(glue(\"Max fifth_df: {which.max(fifth_df$score)}\"))\n",
    "print(glue(\"---\"))\n",
    "print(glue(\"Min fifth_df_processed: {which.min(fifth_df_processed$score)}\"))\n",
    "print(glue(\"Max fifth_df_processed: {which.max(fifth_df_processed$score)}\"))\n",
    "print(glue(\"---\"))\n",
    "print(glue(\"Min sixth_df: {which.min(sixth_df$score)}\"))\n",
    "print(glue(\"Max sixth_df: {which.max(sixth_df$score)}\"))\n",
    "print(glue(\"---\"))\n",
    "print(glue(\"Min sixth_df_processed: {which.min(sixth_df_processed$score)}\"))\n",
    "print(glue(\"Max sixth_df_processed: {which.max(sixth_df_processed$score)}\"))\n",
    "print(glue(\"---\"))"
   ]
  },
  {
   "cell_type": "markdown",
   "metadata": {
    "lines_to_next_cell": 0
   },
   "source": [
    "We save the reference documents in the variable *wf_train_docs*:"
   ]
  },
  {
   "cell_type": "code",
   "execution_count": 13,
   "metadata": {},
   "outputs": [],
   "source": [
    "%%R\n",
    "wf_train_docs <- list()\n",
    "# We select the documents from the training data by boolean values as indices\n",
    "wf_train_docs[[1]] = dfm_subset(dfm_fifth, c(rep(FALSE,6), TRUE, rep(FALSE, 20), TRUE, rep(FALSE, nrow(fifth_df) - 28)))\n",
    "wf_train_docs[[2]] = dfm_subset(dfm_fifth_processed, c(rep(FALSE,6), TRUE, rep(FALSE, 20), TRUE, rep(FALSE, nrow(fifth_df_processed) - 28)))\n",
    "wf_train_docs[[3]] = dfm_subset(dfm_sixth, c(rep(FALSE, 6), TRUE, TRUE, rep(FALSE, nrow(sixth_df) - 8)))\n",
    "wf_train_docs[[4]] = dfm_subset(dfm_sixth_processed, c(rep(FALSE, 6), TRUE, TRUE, rep(FALSE, nrow(sixth_df_processed) - 8)))"
   ]
  },
  {
   "cell_type": "markdown",
   "metadata": {},
   "source": [
    "We check if the variable indeed contains the training texts:"
   ]
  },
  {
   "cell_type": "code",
   "execution_count": 14,
   "metadata": {},
   "outputs": [
    {
     "name": "stdout",
     "output_type": "stream",
     "text": [
      "Document-feature matrix of: 2 documents, 1 feature (0.0% sparse).\n",
      "2 x 1 sparse Matrix of class \"dfm\"\n",
      "        features\n",
      "docs      mr\n",
      "  text7  534\n",
      "  text28 255\n",
      "Document-feature matrix of: 2 documents, 1 feature (0.0% sparse).\n",
      "2 x 1 sparse Matrix of class \"dfm\"\n",
      "        features\n",
      "docs      mr\n",
      "  text7  534\n",
      "  text28 255\n",
      "Document-feature matrix of: 2 documents, 1 feature (0.0% sparse).\n",
      "2 x 1 sparse Matrix of class \"dfm\"\n",
      "       features\n",
      "docs      .\n",
      "  text7 447\n",
      "  text8 573\n",
      "Document-feature matrix of: 2 documents, 1 feature (0.0% sparse).\n",
      "2 x 1 sparse Matrix of class \"dfm\"\n",
      "       features\n",
      "docs    madam\n",
      "  text7     4\n",
      "  text8     9\n"
     ]
    }
   ],
   "source": [
    "%%R\n",
    "for (i in 1:4) {\n",
    "    print(wf_train_docs[[i]][1:2,1])\n",
    "}"
   ]
  },
  {
   "cell_type": "markdown",
   "metadata": {},
   "source": [
    "As we can see, the texts form above are indeed inside the *wf_train_docs* document-feature matrix."
   ]
  },
  {
   "cell_type": "markdown",
   "metadata": {},
   "source": [
    "We append these two documents to the test-data, creating the variable *data_wf*. We then calculate the Wordfish results and save them in *wf_results*:"
   ]
  },
  {
   "cell_type": "code",
   "execution_count": 15,
   "metadata": {
    "lines_to_next_cell": 0,
    "scrolled": true
   },
   "outputs": [
    {
     "name": "stdout",
     "output_type": "stream",
     "text": [
      "Handling fold 1 out of 4\n",
      "Handling fold 2 out of 4\n",
      "Handling fold 3 out of 4\n",
      "Handling fold 4 out of 4\n"
     ]
    }
   ],
   "source": [
    "%%R\n",
    "data_wf <- list()\n",
    "wf_results <- list() \n",
    "for (i in 1:4) {\n",
    "    print(glue(\"Handling fold {i} out of 4\"))\n",
    "    data_wf[[i]] <- rbind(wf_train_docs[[i]], DFMs[[i]]) # Add the two training docs at the top\n",
    "    data_wf[[i]] <- dfm_trim(data_wf[[i]], min_docfreq = 1) # Only leave in terms that appear at least once.\n",
    "                                                            # Wordfish does this anyway, but we prevent lengthy\n",
    "                                                            # printouts if we do it ourselves.\n",
    "    set.seed(42)\n",
    "    wf_results[[i]] <- textmodel_wordfish(data_wf[[i]], dir=c(1,2) , sparse = TRUE)$theta\n",
    "}"
   ]
  },
  {
   "cell_type": "markdown",
   "metadata": {},
   "source": [
    "We drop the two reference documents which were put at the beginning of *wf_results* from every fold:"
   ]
  },
  {
   "cell_type": "code",
   "execution_count": 16,
   "metadata": {
    "lines_to_next_cell": 2
   },
   "outputs": [],
   "source": [
    "%%R\n",
    "for (i in 1:4) {\n",
    "wf_results[[i]] <- wf_results[[i]][- c(1,2)]\n",
    "}"
   ]
  },
  {
   "cell_type": "markdown",
   "metadata": {
    "lines_to_next_cell": 0
   },
   "source": [
    "We min-max normalize the Wordfish results to make them comparable to our other methods:"
   ]
  },
  {
   "cell_type": "code",
   "execution_count": 17,
   "metadata": {},
   "outputs": [],
   "source": [
    "%%R\n",
    "# Define normalization function\n",
    "normalize <- function(x){(x-min(x))/(max(x)-min(x))}\n",
    "\n",
    "wf_results_normalized <- list()\n",
    "for (i in 1:4) {\n",
    "wf_results_normalized[[i]] <- normalize(wf_results[[i]])\n",
    "}"
   ]
  },
  {
   "cell_type": "markdown",
   "metadata": {
    "lines_to_next_cell": 0
   },
   "source": [
    "We plot the normalized Wordfish results:"
   ]
  },
  {
   "cell_type": "code",
   "execution_count": 18,
   "metadata": {
    "lines_to_next_cell": 0,
    "scrolled": true
   },
   "outputs": [
    {
     "data": {
      "image/png": "[encoded data removed]",
      "text/plain": [
       "<Figure size 720x576 with 1 Axes>"
      ]
     },
     "metadata": {},
     "output_type": "display_data"
    },
    {
     "data": {
      "image/png": "[encoded data removed]",
      "text/plain": [
       "<Figure size 720x576 with 1 Axes>"
      ]
     },
     "metadata": {},
     "output_type": "display_data"
    },
    {
     "data": {
      "image/png": "[encoded data removed]",
      "text/plain": [
       "<Figure size 720x576 with 1 Axes>"
      ]
     },
     "metadata": {},
     "output_type": "display_data"
    },
    {
     "data": {
      "image/png": "[encoded data removed]",
      "text/plain": [
       "<Figure size 720x576 with 1 Axes>"
      ]
     },
     "metadata": {},
     "output_type": "display_data"
    }
   ],
   "source": [
    "import seaborn as sns\n",
    "import matplotlib.pyplot as plt\n",
    "import os\n",
    "import logging\n",
    "import warnings\n",
    "warnings.filterwarnings(\"ignore\") \n",
    "import logging\n",
    "logger = logging.getLogger().setLevel(logging.ERROR)\n",
    "# Get number of folds\n",
    "# For the int() to work, we first need to convert it to a numpy array\n",
    "method_name = \"Wordfish\"\n",
    "notebook_name = \"Paper Replication\"\n",
    "fig_dir = \"figs/\" + notebook_name  + \"/\" + method_name + \"/\"\n",
    "\n",
    "#X = np.array(robjects.r['Ys'])\n",
    "#y = np.array(robjects.r['wf_results_normalized'])\n",
    "\n",
    "y = np.array(robjects.r['Ys'])\n",
    "X = np.array(robjects.r['wf_results_normalized'])\n",
    "for i in range(4): \n",
    "    X[i] = np.array(X[i], dtype = np.float64)\n",
    "    y[i] = np.array(y[i], dtype = np.float64)\n",
    "\n",
    "if not os.path.isdir(fig_dir):\n",
    "    os.makedirs(fig_dir)\n",
    "for i in range(4):\n",
    "    sns.set(rc={'figure.figsize':(10,8)})\n",
    "    fig = sns.regplot(x=X[i], y=y[i], color=\"royalblue\")\n",
    "    fig.set_xlim(-0.05,1.05) # So points aren't cut off on the sides\n",
    "    plt.axhline(1, ls='--', color=\"red\")\n",
    "    plt.axhline(0, ls='--', color=\"red\")\n",
    "    #fig.set_xlabel(\"Articles (0 left, 1 right)\")\n",
    "    #fig.set_ylabel(method_name)\n",
    "    fig.set_ylabel(\"Articles (0 left, 1 right)\")\n",
    "    fig.set_xlabel(method_name)\n",
    "    if i == 0:\n",
    "        notebook_name = \"Paper Replication (Fifth Legislation, Unprocessed)\"\n",
    "        fig.set_title(notebook_name + \" - \" + method_name)\n",
    "    elif i == 1:\n",
    "        notebook_name = \"Paper Replication (Fifth Legislation, Processed)\"\n",
    "        fig.set_title(notebook_name + \" - \" + method_name)\n",
    "    elif i == 2:\n",
    "        notebook_name = \"Paper Replication (Sixth Legislation, Unprocessed)\"\n",
    "        fig.set_title(notebook_name + \" - \" + method_name)\n",
    "    elif i == 3:\n",
    "        notebook_name = \"Paper Replication (Sixth Legislation, Processed)\"\n",
    "        fig.set_title(notebook_name + \" - \" + method_name)\n",
    "    fig.get_figure().savefig(fig_dir + method_name + notebook_name + \".pdf\")\n",
    "    fig.get_figure().savefig(fig_dir + method_name + notebook_name + \".svg\")\n",
    "    plt.show()"
   ]
  },
  {
   "cell_type": "markdown",
   "metadata": {
    "lines_to_next_cell": 0
   },
   "source": [
    "We extract different MSEs for later comparison with the other methods:"
   ]
  },
  {
   "cell_type": "code",
   "execution_count": 19,
   "metadata": {},
   "outputs": [],
   "source": [
    "%%R\n",
    "MSEs_wf <- mapply(mse, wf_results_normalized, Ys)"
   ]
  },
  {
   "cell_type": "markdown",
   "metadata": {},
   "source": [
    "We also extract Pearson and Spearman correlation:"
   ]
  },
  {
   "cell_type": "code",
   "execution_count": 20,
   "metadata": {},
   "outputs": [],
   "source": [
    "%%R\n",
    "cor_p_wf <- mapply(cor, wf_results_normalized, Ys, method=\"pearson\")\n",
    "cor_s_wf <- mapply(cor, wf_results_normalized, Ys, method=\"spearman\")"
   ]
  },
  {
   "cell_type": "code",
   "execution_count": 21,
   "metadata": {},
   "outputs": [],
   "source": [
    "MSEs_wf = np.array(robjects.r['MSEs_wf'])\n",
    "cor_p_wf = np.array(robjects.r['cor_p_wf'])\n",
    "cor_s_wf = np.array(robjects.r['cor_s_wf'])\n",
    "\n",
    "metrics_fifth_df = metrics_fifth_df.append(\n",
    "            {\"Method\": \"Wordfish\",\n",
    "             \"MSE\": MSEs_wf[0],\n",
    "             \"MSE Processed\": MSEs_wf[1],\n",
    "             \"Pearson\":cor_p_wf[0],\n",
    "             \"Pearson Processed\":cor_p_wf[1],\n",
    "             \"Spearman\": cor_s_wf[0],\n",
    "             \"Spearman Processed\": cor_s_wf[1]},\n",
    "            ignore_index=True)\n",
    "\n",
    "metrics_sixth_df = metrics_sixth_df.append(\n",
    "            {\"Method\": \"Wordfish\",\n",
    "             \"MSE\": MSEs_wf[2],\n",
    "             \"MSE Processed\": MSEs_wf[3],\n",
    "             \"Pearson\":cor_p_wf[2],\n",
    "             \"Pearson Processed\":cor_p_wf[3],\n",
    "             \"Spearman\": cor_s_wf[2],\n",
    "             \"Spearman Processed\": cor_s_wf[3]},\n",
    "            ignore_index=True)"
   ]
  },
  {
   "cell_type": "markdown",
   "metadata": {},
   "source": [
    "## SemScale (semantic method)\n",
    "\n",
    "SemScale does not need training, thus we immediately input the test data. SemScale cannot be executed easily inside this notebook, as they are separate files published by the authors, supposed to be started via a bash command (which we will do here).\n",
    "\n",
    "In order to run SemScale, we have to output our data into .txt files, and add a line with \"en\" to beginning of each text file. SemScale needs this to classify it as an English text."
   ]
  },
  {
   "cell_type": "markdown",
   "metadata": {},
   "source": [
    "We add the \"en\" at the beginning of each data point using the **unprocessed** variables:"
   ]
  },
  {
   "cell_type": "code",
   "execution_count": 22,
   "metadata": {
    "lines_to_next_cell": 2
   },
   "outputs": [],
   "source": [
    "%%R\n",
    "X_fifth_sem <- paste(\"en\", fifth_df$content, sep=\"\\n\")\n",
    "X_fifth_processed_sem <- paste(\"en\", fifth_df_processed$content, sep=\"\\n\")\n",
    "X_sixth_sem <- paste(\"en\", sixth_df$content, sep=\"\\n\")\n",
    "X_sixth_processed_sem <- paste(\"en\", sixth_df_processed$content, sep=\"\\n\")\n",
    "\n",
    "# Combine all of them\n",
    "X_sem <- list(X_fifth_sem, X_fifth_processed_sem, X_sixth_sem, X_sixth_processed_sem)"
   ]
  },
  {
   "cell_type": "markdown",
   "metadata": {},
   "source": [
    "We then create the aforementioned .txt files:"
   ]
  },
  {
   "cell_type": "code",
   "execution_count": 23,
   "metadata": {},
   "outputs": [],
   "source": [
    "%%R\n",
    "txt_folders <- list()\n",
    "txt_folders[[1]] = \"txts/txts_europarl_fifth\"\n",
    "txt_folders[[2]] = \"txts/txts_europarl_fifth_processed\"\n",
    "txt_folders[[3]] = \"txts/txts_europarl_sixth\"\n",
    "txt_folders[[4]] = \"txts/txts_europarl_sixth_procesed\""
   ]
  },
  {
   "cell_type": "code",
   "execution_count": 24,
   "metadata": {
    "lines_to_next_cell": 0
   },
   "outputs": [],
   "source": [
    "%%R\n",
    "for (i in 1:length(txt_folders)) {\n",
    "  # Create folders for the text files\n",
    "  folder_for_fold = glue(paste0(txt_folders[[i]]))\n",
    "  dir.create(folder_for_fold)\n",
    "  # Create text files\n",
    "  for (j in 1:length(X_sem[[i]])){\n",
    "  filename = glue(paste0(folder_for_fold, \"/{Ys[[i]][j]}_speech.txt\"))\n",
    "  write.table(X_sem[[i]][j], file=filename, row.names = FALSE, col.names=FALSE, quote=FALSE)\n",
    "  }\n",
    "}"
   ]
  },
  {
   "cell_type": "markdown",
   "metadata": {},
   "source": [
    "We now call the SemScale script by using the bash console (if you started this notebook via bash, you can see the prints of SemScale in it):"
   ]
  },
  {
   "cell_type": "code",
   "execution_count": 25,
   "metadata": {
    "lines_to_next_cell": 2
   },
   "outputs": [
    {
     "name": "stdout",
     "output_type": "stream",
     "text": [
      "Processing folder 1 out of 4...\n",
      "Processing folder 2 out of 4...\n",
      "Processing folder 3 out of 4...\n",
      "Processing folder 4 out of 4...\n"
     ]
    }
   ],
   "source": [
    "%%R\n",
    "for (i in 1:length(txt_folders)){\n",
    "  folder_for_fold = glue(paste0(txt_folders[[i]]))\n",
    "  # Execute in bash (Commented out so it doesn't run the process when running the notebook)\n",
    "  print(glue(\"Processing folder {i} out of {length(txt_folders)}...\"))\n",
    "  # Because R does not support string concatiation via \"+\" we must take construct the string in parts...\n",
    "  script_pt1 = glue(paste0(\"cd SemScale-master && python scaler.py ../\", folder_for_fold))\n",
    "  full_script = full_cmd = glue(paste(script_pt1, \"../embeddings_semscale.vec ./../semscale_outputs/semscale_output_europarl_replication_{i}.txt\"))\n",
    "  \n",
    "  #system(full_script)\n",
    "}"
   ]
  },
  {
   "cell_type": "markdown",
   "metadata": {
    "lines_to_next_cell": 0
   },
   "source": [
    "The cell above outputs .csv files including the scores, which we now read back into our notebook:"
   ]
  },
  {
   "cell_type": "code",
   "execution_count": 26,
   "metadata": {},
   "outputs": [],
   "source": [
    "%%R\n",
    "sem_outputs <- list()\n",
    "for (i in 1:length(txt_folders)){\n",
    "  # Read each file\n",
    "  sem_outputs[[i]] <- read.csv(glue(\"semscale_outputs/semscale_output_europarl_replication_{i}.txt\"), sep=\"\\t\", header=FALSE)\n",
    "}"
   ]
  },
  {
   "cell_type": "markdown",
   "metadata": {
    "lines_to_next_cell": 0
   },
   "source": [
    "We add back target labels (0/1 for left/right) to the output of SemScale, \"sem_outputs\":"
   ]
  },
  {
   "cell_type": "code",
   "execution_count": 27,
   "metadata": {
    "lines_to_next_cell": 0
   },
   "outputs": [],
   "source": [
    "%%R\n",
    "for (i in 1:length(txt_folders)) {\n",
    "  for (j in seq_along(sem_outputs[[i]][,1])) {\n",
    "    sem_outputs[[i]][j,3] <- sub(\"\\\\_.*\", \"\", sem_outputs[[i]][j,1])\n",
    "  }\n",
    "}\n"
   ]
  },
  {
   "cell_type": "markdown",
   "metadata": {
    "lines_to_next_cell": 0
   },
   "source": [
    "We plot the SemScale results (just as we did with Wordscores and Wordfish):"
   ]
  },
  {
   "cell_type": "code",
   "execution_count": 28,
   "metadata": {},
   "outputs": [],
   "source": [
    "%%R\n",
    "plot_sem_result <- list()\n",
    "plot_target <- list()\n",
    "for (i in 1:length(txt_folders)) {\n",
    "    plot_sem_result[[i]] = sem_outputs[[i]][,2]\n",
    "    plot_target[[i]] = sem_outputs[[i]][,3]\n",
    "}"
   ]
  },
  {
   "cell_type": "code",
   "execution_count": 29,
   "metadata": {},
   "outputs": [
    {
     "data": {
      "image/png": "[encoded data removed]",
      "text/plain": [
       "<Figure size 720x576 with 1 Axes>"
      ]
     },
     "metadata": {},
     "output_type": "display_data"
    },
    {
     "data": {
      "image/png": "[encoded data removed]",
      "text/plain": [
       "<Figure size 720x576 with 1 Axes>"
      ]
     },
     "metadata": {},
     "output_type": "display_data"
    },
    {
     "data": {
      "image/png": "[encoded data removed]",
      "text/plain": [
       "<Figure size 720x576 with 1 Axes>"
      ]
     },
     "metadata": {},
     "output_type": "display_data"
    },
    {
     "data": {
      "image/png": "[encoded data removed]",
      "text/plain": [
       "<Figure size 720x576 with 1 Axes>"
      ]
     },
     "metadata": {},
     "output_type": "display_data"
    }
   ],
   "source": [
    "method_name = \"SemScale\"\n",
    "notebook_name = \"Paper Replication\"\n",
    "fig_dir = \"figs/\" + notebook_name  + \"/\" + method_name + \"/\"\n",
    "\n",
    "#X = np.array(robjects.r['plot_target'])\n",
    "#y = np.array(robjects.r['plot_sem_result'])\n",
    "y = np.array(robjects.r['plot_target'])\n",
    "X = np.array(robjects.r['plot_sem_result'])\n",
    "for i in range(4): \n",
    "    X[i] = np.array(X[i], dtype = np.float64)\n",
    "    y[i] = np.array(y[i], dtype = np.float64)\n",
    "\n",
    "if not os.path.isdir(fig_dir):\n",
    "    os.makedirs(fig_dir)\n",
    "for i in range(4):\n",
    "    sns.set(rc={'figure.figsize':(10,8)})\n",
    "    fig = sns.regplot(x=X[i], y=y[i], color=\"royalblue\")\n",
    "    fig.set_xlim(-0.05,1.05) # So points aren't cut off on the sides\n",
    "    plt.axhline(1, ls='--', color=\"red\")\n",
    "    plt.axhline(0, ls='--', color=\"red\")\n",
    "    #fig.set_xlabel(\"Articles (0 left, 1 right)\")\n",
    "    #fig.set_ylabel(method_name)\n",
    "    fig.set_ylabel(\"Articles (0 left, 1 right)\")\n",
    "    fig.set_xlabel(method_name)\n",
    "    if i == 0:\n",
    "        notebook_name = \"Paper Replication (Fifth Legislation, Unprocessed)\"\n",
    "        fig.set_title(notebook_name + \" - \" + method_name)\n",
    "    elif i == 1:\n",
    "        notebook_name = \"Paper Replication (Fifth Legislation, Processed)\"\n",
    "        fig.set_title(notebook_name + \" - \" + method_name)\n",
    "    elif i == 2:\n",
    "        notebook_name = \"Paper Replication (Sixth Legislation, Unprocessed)\"\n",
    "        fig.set_title(notebook_name + \" - \" + method_name)\n",
    "    elif i == 3:\n",
    "        notebook_name = \"Paper Replication (Sixth Legislation, Processed)\"\n",
    "        fig.set_title(notebook_name + \" - \" + method_name)\n",
    "    fig.get_figure().savefig(fig_dir + method_name + notebook_name + \".pdf\")\n",
    "    fig.get_figure().savefig(fig_dir + method_name + notebook_name + \".svg\")\n",
    "    plt.show()"
   ]
  },
  {
   "cell_type": "markdown",
   "metadata": {},
   "source": [
    "We extract the metrics for later analysis:"
   ]
  },
  {
   "cell_type": "code",
   "execution_count": 30,
   "metadata": {
    "lines_to_next_cell": 0
   },
   "outputs": [],
   "source": [
    "%%R\n",
    "MSEs_sem <- c()\n",
    "cor_p_sem <- c()\n",
    "cor_s_sem <- c()\n",
    "for (i in 1:length(txt_folders)) {\n",
    "  MSEs_sem[i] <- (mse(sem_outputs[[i]][,2],as.numeric(sem_outputs[[i]][,3])))\n",
    "  cor_p_sem[i] <- cor(sem_outputs[[i]][,2],as.numeric(sem_outputs[[i]][,3]), method=\"pearson\")\n",
    "  cor_s_sem[i] <- cor(sem_outputs[[i]][,2],as.numeric(sem_outputs[[i]][,3]), method=\"spearman\")\n",
    "}"
   ]
  },
  {
   "cell_type": "code",
   "execution_count": 31,
   "metadata": {},
   "outputs": [],
   "source": [
    "MSEs_sem = np.array(robjects.r['MSEs_sem'])\n",
    "cor_p_sem = np.array(robjects.r['cor_p_sem'])\n",
    "cor_s_sem = np.array(robjects.r['cor_s_sem'])\n",
    "\n",
    "metrics_fifth_df = metrics_fifth_df.append(\n",
    "            {\"Method\": \"SemScale\",\n",
    "             \"MSE\": MSEs_sem[0],\n",
    "             \"MSE Processed\": MSEs_sem[1],\n",
    "             \"Pearson\":cor_p_sem[0],\n",
    "             \"Pearson Processed\":cor_p_sem[1],\n",
    "             \"Spearman\": cor_s_sem[0],\n",
    "             \"Spearman Processed\": cor_s_sem[1]},\n",
    "            ignore_index=True)\n",
    "\n",
    "metrics_sixth_df = metrics_sixth_df.append(\n",
    "            {\"Method\": \"SemScale\",\n",
    "             \"MSE\": MSEs_sem[2],\n",
    "             \"MSE Processed\": MSEs_sem[3],\n",
    "             \"Pearson\":cor_p_sem[2],\n",
    "             \"Pearson Processed\":cor_p_sem[3],\n",
    "             \"Spearman\": cor_s_sem[2],\n",
    "             \"Spearman Processed\": cor_s_sem[3]},\n",
    "            ignore_index=True)"
   ]
  },
  {
   "cell_type": "code",
   "execution_count": 32,
   "metadata": {},
   "outputs": [],
   "source": [
    "# We set the Methods as indices so the plotting function automatically makes them to X-axis ticks\n",
    "metrics_fifth_df = metrics_fifth_df.set_index(\"Method\")\n",
    "metrics_sixth_df = metrics_sixth_df.set_index(\"Method\")"
   ]
  },
  {
   "cell_type": "markdown",
   "metadata": {},
   "source": [
    "## Final Results"
   ]
  },
  {
   "cell_type": "markdown",
   "metadata": {},
   "source": [
    "We now plot the **MSEs, Pearson Correlations and Spearman Correlations** of the **5th legislation**:"
   ]
  },
  {
   "cell_type": "code",
   "execution_count": 33,
   "metadata": {
    "scrolled": true
   },
   "outputs": [
    {
     "data": {
      "image/png": "[encoded data removed]",
      "text/plain": [
       "<Figure size 720x576 with 1 Axes>"
      ]
     },
     "metadata": {},
     "output_type": "display_data"
    },
    {
     "data": {
      "image/png": "[encoded data removed]",
      "text/plain": [
       "<Figure size 720x576 with 1 Axes>"
      ]
     },
     "metadata": {},
     "output_type": "display_data"
    },
    {
     "data": {
      "image/png": "[encoded data removed]",
      "text/plain": [
       "<Figure size 720x576 with 1 Axes>"
      ]
     },
     "metadata": {},
     "output_type": "display_data"
    }
   ],
   "source": [
    "from matplotlib import pyplot as plt\n",
    "plt.style.use('ggplot')\n",
    "ax1 = metrics_fifth_df[[\"MSE\", \"MSE Processed\"]].plot.bar(title=\"MSEs of the Fifth Legislation\", rot=45)\n",
    "ax2 = metrics_fifth_df[[\"Pearson\", \"Pearson Processed\"]].plot.bar(title=\"Pearson Corr. of the Fifth Legislation\", rot=45)\n",
    "ax3 = metrics_fifth_df[[\"Spearman\", \"Spearman Processed\"]].plot.bar(title=\"Spearman Corr. of the Fifth Legislation\", rot=45)\n",
    "\n",
    "fig_dir = \"figs/Paper Replication/\"\n",
    "ax1.get_figure().savefig(fig_dir + \"5th Legislation MSE\" + \".pdf\")\n",
    "ax1.get_figure().savefig(fig_dir + \"5th Legislation MSE\" + \".svg\")\n",
    "\n",
    "ax2.get_figure().savefig(fig_dir + \"5th Legislation Pearson\"  + \".pdf\")\n",
    "ax2.get_figure().savefig(fig_dir + \"5th Legislation Pearson\"  + \".svg\")\n",
    "\n",
    "ax3.get_figure().savefig(fig_dir + \"5th Legislation Spearman\"  + \".pdf\")\n",
    "ax3.get_figure().savefig(fig_dir + \"5th Legislation Spearman\"  + \".svg\")\n",
    "\n",
    "plt.show()"
   ]
  },
  {
   "cell_type": "markdown",
   "metadata": {},
   "source": [
    "We now plot the **MSEs, Pearson Correlations and Spearman Correlations** of the **6th legislation**:"
   ]
  },
  {
   "cell_type": "code",
   "execution_count": 34,
   "metadata": {
    "scrolled": true
   },
   "outputs": [
    {
     "data": {
      "image/png": "[encoded data removed]",
      "text/plain": [
       "<Figure size 720x576 with 1 Axes>"
      ]
     },
     "metadata": {},
     "output_type": "display_data"
    },
    {
     "data": {
      "image/png": "[encoded data removed]",
      "text/plain": [
       "<Figure size 720x576 with 1 Axes>"
      ]
     },
     "metadata": {},
     "output_type": "display_data"
    },
    {
     "data": {
      "image/png": "[encoded data removed]",
      "text/plain": [
       "<Figure size 720x576 with 1 Axes>"
      ]
     },
     "metadata": {},
     "output_type": "display_data"
    }
   ],
   "source": [
    "ax4 = metrics_sixth_df[[\"MSE\", \"MSE Processed\"]].plot.bar(title=\"MSEs of the Fifth Legislation\",rot=45)\n",
    "ax5 = metrics_sixth_df[[\"Pearson\", \"Pearson Processed\"]].plot.bar(title=\"Pearson Corr. of the Fifth Legislation\",rot=45)\n",
    "ax6 = metrics_sixth_df[[\"Spearman\", \"Spearman Processed\"]].plot.bar(title=\"Spearman Corr. of the Fifth Legislation\",rot=45)\n",
    "\n",
    "fig_dir = \"figs/Paper Replication/\"\n",
    "ax1.get_figure().savefig(fig_dir + \"6th Legislation MSE\" + \".pdf\")\n",
    "ax1.get_figure().savefig(fig_dir + \"6th Legislation MSE\" + \".svg\")\n",
    "\n",
    "ax2.get_figure().savefig(fig_dir + \"6th Legislation Pearson\"  + \".pdf\")\n",
    "ax2.get_figure().savefig(fig_dir + \"6th Legislation Pearson\"  + \".svg\")\n",
    "\n",
    "ax3.get_figure().savefig(fig_dir + \"6th Legislation Spearman\"  + \".pdf\")\n",
    "ax3.get_figure().savefig(fig_dir + \"6th Legislation Spearman\"  + \".svg\")\n",
    "\n",
    "plt.show()"
   ]
  },
  {
   "cell_type": "markdown",
   "metadata": {},
   "source": [
    "**Results for the 5th legislation:**"
   ]
  },
  {
   "cell_type": "code",
   "execution_count": 35,
   "metadata": {},
   "outputs": [
    {
     "data": {
      "text/html": [
       "<div>\n",
       "<style scoped>\n",
       "    .dataframe tbody tr th:only-of-type {\n",
       "        vertical-align: middle;\n",
       "    }\n",
       "\n",
       "    .dataframe tbody tr th {\n",
       "        vertical-align: top;\n",
       "    }\n",
       "\n",
       "    .dataframe thead th {\n",
       "        text-align: right;\n",
       "    }\n",
       "</style>\n",
       "<table border=\"1\" class=\"dataframe\">\n",
       "  <thead>\n",
       "    <tr style=\"text-align: right;\">\n",
       "      <th></th>\n",
       "      <th>MSE</th>\n",
       "      <th>MSE Processed</th>\n",
       "      <th>Pearson</th>\n",
       "      <th>Pearson Processed</th>\n",
       "      <th>Spearman</th>\n",
       "      <th>Spearman Processed</th>\n",
       "    </tr>\n",
       "    <tr>\n",
       "      <th>Method</th>\n",
       "      <th></th>\n",
       "      <th></th>\n",
       "      <th></th>\n",
       "      <th></th>\n",
       "      <th></th>\n",
       "      <th></th>\n",
       "    </tr>\n",
       "  </thead>\n",
       "  <tbody>\n",
       "    <tr>\n",
       "      <th>Wordfish</th>\n",
       "      <td>0.218614</td>\n",
       "      <td>0.163298</td>\n",
       "      <td>-0.073632</td>\n",
       "      <td>0.126860</td>\n",
       "      <td>-0.116600</td>\n",
       "      <td>0.188919</td>\n",
       "    </tr>\n",
       "    <tr>\n",
       "      <th>SemScale</th>\n",
       "      <td>0.126091</td>\n",
       "      <td>0.216385</td>\n",
       "      <td>0.167037</td>\n",
       "      <td>-0.087255</td>\n",
       "      <td>0.326218</td>\n",
       "      <td>-0.156541</td>\n",
       "    </tr>\n",
       "  </tbody>\n",
       "</table>\n",
       "</div>"
      ],
      "text/plain": [
       "               MSE  MSE Processed   Pearson  Pearson Processed  Spearman  \\\n",
       "Method                                                                     \n",
       "Wordfish  0.218614       0.163298 -0.073632           0.126860 -0.116600   \n",
       "SemScale  0.126091       0.216385  0.167037          -0.087255  0.326218   \n",
       "\n",
       "          Spearman Processed  \n",
       "Method                        \n",
       "Wordfish            0.188919  \n",
       "SemScale           -0.156541  "
      ]
     },
     "execution_count": 35,
     "metadata": {},
     "output_type": "execute_result"
    }
   ],
   "source": [
    "metrics_fifth_df.to_csv(\"results/paper_replication_fifth_leg_results.csv\")\n",
    "metrics_fifth_df"
   ]
  },
  {
   "cell_type": "markdown",
   "metadata": {},
   "source": [
    "**Results for the 6th legislation:**"
   ]
  },
  {
   "cell_type": "code",
   "execution_count": 36,
   "metadata": {},
   "outputs": [
    {
     "data": {
      "text/html": [
       "<div>\n",
       "<style scoped>\n",
       "    .dataframe tbody tr th:only-of-type {\n",
       "        vertical-align: middle;\n",
       "    }\n",
       "\n",
       "    .dataframe tbody tr th {\n",
       "        vertical-align: top;\n",
       "    }\n",
       "\n",
       "    .dataframe thead th {\n",
       "        text-align: right;\n",
       "    }\n",
       "</style>\n",
       "<table border=\"1\" class=\"dataframe\">\n",
       "  <thead>\n",
       "    <tr style=\"text-align: right;\">\n",
       "      <th></th>\n",
       "      <th>MSE</th>\n",
       "      <th>MSE Processed</th>\n",
       "      <th>Pearson</th>\n",
       "      <th>Pearson Processed</th>\n",
       "      <th>Spearman</th>\n",
       "      <th>Spearman Processed</th>\n",
       "    </tr>\n",
       "    <tr>\n",
       "      <th>Method</th>\n",
       "      <th></th>\n",
       "      <th></th>\n",
       "      <th></th>\n",
       "      <th></th>\n",
       "      <th></th>\n",
       "      <th></th>\n",
       "    </tr>\n",
       "  </thead>\n",
       "  <tbody>\n",
       "    <tr>\n",
       "      <th>Wordfish</th>\n",
       "      <td>0.159763</td>\n",
       "      <td>0.161225</td>\n",
       "      <td>0.071620</td>\n",
       "      <td>0.122643</td>\n",
       "      <td>0.114681</td>\n",
       "      <td>0.190311</td>\n",
       "    </tr>\n",
       "    <tr>\n",
       "      <th>SemScale</th>\n",
       "      <td>0.184793</td>\n",
       "      <td>0.202531</td>\n",
       "      <td>-0.204416</td>\n",
       "      <td>-0.176908</td>\n",
       "      <td>-0.025974</td>\n",
       "      <td>-0.036364</td>\n",
       "    </tr>\n",
       "  </tbody>\n",
       "</table>\n",
       "</div>"
      ],
      "text/plain": [
       "               MSE  MSE Processed   Pearson  Pearson Processed  Spearman  \\\n",
       "Method                                                                     \n",
       "Wordfish  0.159763       0.161225  0.071620           0.122643  0.114681   \n",
       "SemScale  0.184793       0.202531 -0.204416          -0.176908 -0.025974   \n",
       "\n",
       "          Spearman Processed  \n",
       "Method                        \n",
       "Wordfish            0.190311  \n",
       "SemScale           -0.036364  "
      ]
     },
     "execution_count": 36,
     "metadata": {},
     "output_type": "execute_result"
    }
   ],
   "source": [
    "metrics_fifth_df.to_csv(\"results/paper_replication_sixth_leg_results.csv\")\n",
    "metrics_sixth_df"
   ]
  }
 ],
 "metadata": {
  "jupytext": {
   "cell_metadata_filter": "tags,fig.height,fig.width,-all",
   "main_language": "R",
   "notebook_metadata_filter": "-all"
  },
  "kernelspec": {
   "display_name": "Python 3",
   "language": "python",
   "name": "python3"
  },
  "language_info": {
   "codemirror_mode": {
    "name": "ipython",
    "version": 3
   },
   "file_extension": ".py",
   "mimetype": "text/x-python",
   "name": "python",
   "nbconvert_exporter": "python",
   "pygments_lexer": "ipython3",
   "version": "3.7.6"
  },
  "varInspector": {
   "cols": {
    "lenName": 16,
    "lenType": 16,
    "lenVar": 40
   },
   "kernels_config": {
    "python": {
     "delete_cmd_postfix": "",
     "delete_cmd_prefix": "del ",
     "library": "var_list.py",
     "varRefreshCmd": "print(var_dic_list())"
    },
    "r": {
     "delete_cmd_postfix": ") ",
     "delete_cmd_prefix": "rm(",
     "library": "var_list.r",
     "varRefreshCmd": "cat(var_dic_list()) "
    }
   },
   "types_to_exclude": [
    "module",
    "function",
    "builtin_function_or_method",
    "instance",
    "_Feature"
   ],
   "window_display": false
  },
  "widgets": {
   "application/vnd.jupyter.widget-state+json": {
    "state": {
     "005160659d3d46a49dddfc1fbb3900e4": {
      "model_module": "@jupyter-widgets/controls",
      "model_module_version": "1.5.0",
      "model_name": "HTMLModel",
      "state": {
       "layout": "IPY_MODEL_0aa23a628e234156bcc9d1f4dd5bd7d3",
       "style": "IPY_MODEL_cf78dd0e9e1e480d9e6a9385fe21a3bd",
       "value": " 47/47 [01:14&lt;00:00,  1.58s/it]"
      }
     },
     "00771124463140c5af94f11851e72d0e": {
      "model_module": "@jupyter-widgets/controls",
      "model_module_version": "1.5.0",
      "model_name": "FloatProgressModel",
      "state": {
       "bar_style": "success",
       "description": "Current iteration: 100%",
       "layout": "IPY_MODEL_170a7abaac404d30a5e232ebb91d0bdd",
       "max": 47,
       "style": "IPY_MODEL_05042e4f23d24458b3894fdb2476c8f9",
       "value": 47
      }
     },
     "00b716feba8b4d5b9f10e5a2a3993bd7": {
      "model_module": "@jupyter-widgets/base",
      "model_module_version": "1.2.0",
      "model_name": "LayoutModel",
      "state": {}
     },
     "00b7b197892c45be929322c66c7b884e": {
      "model_module": "@jupyter-widgets/controls",
      "model_module_version": "1.5.0",
      "model_name": "ProgressStyleModel",
      "state": {
       "description_width": "initial"
      }
     },
     "010ddbe89b8b46cfa6b431be7feccd77": {
      "model_module": "@jupyter-widgets/base",
      "model_module_version": "1.2.0",
      "model_name": "LayoutModel",
      "state": {}
     },
     "01250886f93f4acd9bb912eadaff9c32": {
      "model_module": "@jupyter-widgets/base",
      "model_module_version": "1.2.0",
      "model_name": "LayoutModel",
      "state": {}
     },
     "013bf67c9ffd4992bc206caf71e50cf0": {
      "model_module": "@jupyter-widgets/controls",
      "model_module_version": "1.5.0",
      "model_name": "ProgressStyleModel",
      "state": {
       "description_width": "initial"
      }
     },
     "01af1b0af4aa406588e68e7fd4d48b6d": {
      "model_module": "@jupyter-widgets/controls",
      "model_module_version": "1.5.0",
      "model_name": "HBoxModel",
      "state": {
       "children": [
        "IPY_MODEL_6072c9101dd447eaab806a8fd1a26463",
        "IPY_MODEL_368e6fd7cea84603a3d4cbf019eaff09"
       ],
       "layout": "IPY_MODEL_ccf9de155b0042a7a43342f5b1c0a75a"
      }
     },
     "01d5e641ed87410eaf5b2cf0f6a4f6a6": {
      "model_module": "@jupyter-widgets/base",
      "model_module_version": "1.2.0",
      "model_name": "LayoutModel",
      "state": {}
     },
     "01e82fbe0a1843b39ea209cdfd6ec7a5": {
      "model_module": "@jupyter-widgets/controls",
      "model_module_version": "1.5.0",
      "model_name": "DescriptionStyleModel",
      "state": {
       "description_width": ""
      }
     },
     "01f95abbe67045298da04d483f8c6933": {
      "model_module": "@jupyter-widgets/controls",
      "model_module_version": "1.5.0",
      "model_name": "DescriptionStyleModel",
      "state": {
       "description_width": ""
      }
     },
     "020c2e6d82894ad087804d8411e532a3": {
      "model_module": "@jupyter-widgets/controls",
      "model_module_version": "1.5.0",
      "model_name": "DescriptionStyleModel",
      "state": {
       "description_width": ""
      }
     },
     "0225bac250b44d20a4ae19ec507bd9c9": {
      "model_module": "@jupyter-widgets/base",
      "model_module_version": "1.2.0",
      "model_name": "LayoutModel",
      "state": {}
     },
     "0238c0b16eac477ab9a696f1947c70c1": {
      "model_module": "@jupyter-widgets/controls",
      "model_module_version": "1.5.0",
      "model_name": "FloatProgressModel",
      "state": {
       "bar_style": "success",
       "description": "100%",
       "layout": "IPY_MODEL_39a920fd2bf44baaa143e11b50cd19c5",
       "max": 2068,
       "style": "IPY_MODEL_617b26a6514647029e502d8a92b5dec4",
       "value": 2068
      }
     },
     "02d800a27bcd49258a8982b710e32b2c": {
      "model_module": "@jupyter-widgets/controls",
      "model_module_version": "1.5.0",
      "model_name": "DescriptionStyleModel",
      "state": {
       "description_width": ""
      }
     },
     "02dda03ca28c4513ae3b42edfbbbceec": {
      "model_module": "@jupyter-widgets/controls",
      "model_module_version": "1.5.0",
      "model_name": "HBoxModel",
      "state": {
       "children": [
        "IPY_MODEL_5e42be9fd7434a07a0c5b1c1a66b78de",
        "IPY_MODEL_e615f6d9992e4caeb1d137aef0ea484d"
       ],
       "layout": "IPY_MODEL_3c129b95f26042d3a8cca9cd4a49e208"
      }
     },
     "0309cbd04e034c169ba036c0ca7b30b5": {
      "model_module": "@jupyter-widgets/controls",
      "model_module_version": "1.5.0",
      "model_name": "DescriptionStyleModel",
      "state": {
       "description_width": ""
      }
     },
     "0313bd6ed0404df1b5c4dedd5d6632d9": {
      "model_module": "@jupyter-widgets/controls",
      "model_module_version": "1.5.0",
      "model_name": "HBoxModel",
      "state": {
       "children": [
        "IPY_MODEL_c3f791616c4c40288f37e550d7bf717b",
        "IPY_MODEL_f3c570fcbcbf47189a5ce6caa9f4c2a3"
       ],
       "layout": "IPY_MODEL_cc43e225fc9a4c5480711b568fdec6aa"
      }
     },
     "036f207c45a047b2abed901124c2499e": {
      "model_module": "@jupyter-widgets/controls",
      "model_module_version": "1.5.0",
      "model_name": "DescriptionStyleModel",
      "state": {
       "description_width": ""
      }
     },
     "03829f5d58cc4f1bbda74caad2af4499": {
      "model_module": "@jupyter-widgets/controls",
      "model_module_version": "1.5.0",
      "model_name": "HBoxModel",
      "state": {
       "children": [
        "IPY_MODEL_42403e1bc27142a89b0d2122001f2d62",
        "IPY_MODEL_56419e85db384d61b492d2bcfaf503b5"
       ],
       "layout": "IPY_MODEL_d435d8e4049c4c2987b38ba86ec12569"
      }
     },
     "03a4ef5ceeaa4b198e116de6bb9a3c7e": {
      "model_module": "@jupyter-widgets/controls",
      "model_module_version": "1.5.0",
      "model_name": "HTMLModel",
      "state": {
       "layout": "IPY_MODEL_991a85065cfc435fb593f2c453dcb7ae",
       "style": "IPY_MODEL_d2f39743c1dd497eaa64a7014ceddaae",
       "value": " 47/47 [01:13&lt;00:00,  1.57s/it]"
      }
     },
     "03b259fe3fa04c8599b246905121d646": {
      "model_module": "@jupyter-widgets/base",
      "model_module_version": "1.2.0",
      "model_name": "LayoutModel",
      "state": {}
     },
     "03be4cfb020c44ed968146a77c6cf692": {
      "model_module": "@jupyter-widgets/controls",
      "model_module_version": "1.5.0",
      "model_name": "FloatProgressModel",
      "state": {
       "bar_style": "success",
       "description": "Current iteration: 100%",
       "layout": "IPY_MODEL_5a80a97d7b8541a1af073c202f6beafa",
       "max": 47,
       "style": "IPY_MODEL_191d448808dd4adeb93ae16f7aac8abe",
       "value": 47
      }
     },
     "03f76276f237487cbf6534ee6c10fee9": {
      "model_module": "@jupyter-widgets/controls",
      "model_module_version": "1.5.0",
      "model_name": "ProgressStyleModel",
      "state": {
       "description_width": "initial"
      }
     },
     "042534e3fc474d4caf4d2548297f32dd": {
      "model_module": "@jupyter-widgets/controls",
      "model_module_version": "1.5.0",
      "model_name": "ProgressStyleModel",
      "state": {
       "description_width": "initial"
      }
     },
     "04cba744a9374b3dbcc966d09897b41a": {
      "model_module": "@jupyter-widgets/controls",
      "model_module_version": "1.5.0",
      "model_name": "HTMLModel",
      "state": {
       "layout": "IPY_MODEL_50e6596e87ce467fb31fa9e12dc815d6",
       "style": "IPY_MODEL_80adf3a00b6a43ddba989a1a227e59a6",
       "value": " 2085/2085 [01:50&lt;00:00, 18.91it/s]"
      }
     },
     "04d5645035334be09f2cc3eccde9b863": {
      "model_module": "@jupyter-widgets/controls",
      "model_module_version": "1.5.0",
      "model_name": "HTMLModel",
      "state": {
       "layout": "IPY_MODEL_c60f440d794b4267bcf01c559b1596cf",
       "style": "IPY_MODEL_05dde38e76ea446fa10718d18887ea9c",
       "value": " 65/65 [00:02&lt;00:00, 22.86it/s]"
      }
     },
     "04f69c6a5ead4e93b2fef08a7255c227": {
      "model_module": "@jupyter-widgets/base",
      "model_module_version": "1.2.0",
      "model_name": "LayoutModel",
      "state": {}
     },
     "05042e4f23d24458b3894fdb2476c8f9": {
      "model_module": "@jupyter-widgets/controls",
      "model_module_version": "1.5.0",
      "model_name": "ProgressStyleModel",
      "state": {
       "description_width": "initial"
      }
     },
     "05161924cbc345c9855c6f0266424c29": {
      "model_module": "@jupyter-widgets/base",
      "model_module_version": "1.2.0",
      "model_name": "LayoutModel",
      "state": {}
     },
     "05473c64e632473b9d20a2f292165e50": {
      "model_module": "@jupyter-widgets/controls",
      "model_module_version": "1.5.0",
      "model_name": "DescriptionStyleModel",
      "state": {
       "description_width": ""
      }
     },
     "05cb5fe073ae44049fe7e088f8bfc726": {
      "model_module": "@jupyter-widgets/base",
      "model_module_version": "1.2.0",
      "model_name": "LayoutModel",
      "state": {}
     },
     "05cd71e8372047e598ef962e3454ad50": {
      "model_module": "@jupyter-widgets/controls",
      "model_module_version": "1.5.0",
      "model_name": "DescriptionStyleModel",
      "state": {
       "description_width": ""
      }
     },
     "05dde38e76ea446fa10718d18887ea9c": {
      "model_module": "@jupyter-widgets/controls",
      "model_module_version": "1.5.0",
      "model_name": "DescriptionStyleModel",
      "state": {
       "description_width": ""
      }
     },
     "05fb0154703e44a1bcf387615040215e": {
      "model_module": "@jupyter-widgets/controls",
      "model_module_version": "1.5.0",
      "model_name": "HBoxModel",
      "state": {
       "children": [
        "IPY_MODEL_6bc8f9411fee44d08260a9adb2925ffc",
        "IPY_MODEL_c9d5566e97e84b9b8fcfef1693c2bbfb"
       ],
       "layout": "IPY_MODEL_4f329490145f43a98c9548beb9a2a0d6"
      }
     },
     "06800e9d90284f9699795b6f48a76322": {
      "model_module": "@jupyter-widgets/base",
      "model_module_version": "1.2.0",
      "model_name": "LayoutModel",
      "state": {}
     },
     "06f62d3f2912415cbb0f15854a8386be": {
      "model_module": "@jupyter-widgets/controls",
      "model_module_version": "1.5.0",
      "model_name": "ProgressStyleModel",
      "state": {
       "description_width": "initial"
      }
     },
     "0737f38191cc42b4a913062fb3bb6c84": {
      "model_module": "@jupyter-widgets/controls",
      "model_module_version": "1.5.0",
      "model_name": "FloatProgressModel",
      "state": {
       "bar_style": "success",
       "description": "Epoch: 100%",
       "layout": "IPY_MODEL_0cea9fa9ab40448f89f581e75e809e8b",
       "max": 3,
       "style": "IPY_MODEL_b900c02207344be9b2e426be81a70d0b",
       "value": 3
      }
     },
     "073f34253698453e991680f8d551d5f9": {
      "model_module": "@jupyter-widgets/base",
      "model_module_version": "1.2.0",
      "model_name": "LayoutModel",
      "state": {}
     },
     "07cdc27f2c064fca9e9a9fc76960b737": {
      "model_module": "@jupyter-widgets/controls",
      "model_module_version": "1.5.0",
      "model_name": "ProgressStyleModel",
      "state": {
       "description_width": "initial"
      }
     },
     "07e9483d2992442fb249b682581ad061": {
      "model_module": "@jupyter-widgets/controls",
      "model_module_version": "1.5.0",
      "model_name": "FloatProgressModel",
      "state": {
       "bar_style": "success",
       "description": "Current iteration: 100%",
       "layout": "IPY_MODEL_596527eb08e84f42ae9a03eafc6b5834",
       "max": 47,
       "style": "IPY_MODEL_3430e0291c99427e9cbda31ad09f9d6f",
       "value": 47
      }
     },
     "0834925384e54616bdf79623d09d56a6": {
      "model_module": "@jupyter-widgets/controls",
      "model_module_version": "1.5.0",
      "model_name": "ProgressStyleModel",
      "state": {
       "description_width": "initial"
      }
     },
     "08dd204f89534e65b5c5658577ca30fb": {
      "model_module": "@jupyter-widgets/base",
      "model_module_version": "1.2.0",
      "model_name": "LayoutModel",
      "state": {}
     },
     "08fb524d235846c9bc66ca71fc03469e": {
      "model_module": "@jupyter-widgets/controls",
      "model_module_version": "1.5.0",
      "model_name": "HTMLModel",
      "state": {
       "layout": "IPY_MODEL_f7aca04e50204a2d8385d56ed4542c6d",
       "style": "IPY_MODEL_85d81af5a0a8418cabc0f2c1f847c28c",
       "value": " 515/515 [00:05&lt;00:00, 101.26it/s]"
      }
     },
     "094eadbb45e84ed290ff67c3800be0c7": {
      "model_module": "@jupyter-widgets/base",
      "model_module_version": "1.2.0",
      "model_name": "LayoutModel",
      "state": {}
     },
     "096f00f459db4538a9e36587b04a1bc6": {
      "model_module": "@jupyter-widgets/controls",
      "model_module_version": "1.5.0",
      "model_name": "HTMLModel",
      "state": {
       "layout": "IPY_MODEL_f07a1867dae841f89ba4c38128359c7a",
       "style": "IPY_MODEL_f0fe34ecfa5a45cb8fea6f92b6b56d0a",
       "value": " 46/46 [00:43&lt;00:00,  1.07it/s]"
      }
     },
     "09a507a7cdcd4d6a8c8b2885a2c76d78": {
      "model_module": "@jupyter-widgets/base",
      "model_module_version": "1.2.0",
      "model_name": "LayoutModel",
      "state": {}
     },
     "0a3f8bf8d66641b9aa7ba8e65efc3791": {
      "model_module": "@jupyter-widgets/controls",
      "model_module_version": "1.5.0",
      "model_name": "FloatProgressModel",
      "state": {
       "bar_style": "success",
       "description": "100%",
       "layout": "IPY_MODEL_c054a9ab28ef4e65bb0cc8f9f2bed3de",
       "max": 519,
       "style": "IPY_MODEL_e9dda950817b484b81d03c9945b2f06d",
       "value": 519
      }
     },
     "0a57465373a740c086e0159fceb07ec6": {
      "model_module": "@jupyter-widgets/controls",
      "model_module_version": "1.5.0",
      "model_name": "DescriptionStyleModel",
      "state": {
       "description_width": ""
      }
     },
     "0a666d78b9264b0fae3b665956a15a05": {
      "model_module": "@jupyter-widgets/controls",
      "model_module_version": "1.5.0",
      "model_name": "HTMLModel",
      "state": {
       "layout": "IPY_MODEL_2340af36b1994d7580ac8492e5c09ba1",
       "style": "IPY_MODEL_9a1cec5b1d2748beab0253c22951abd6",
       "value": " 532/532 [00:05&lt;00:00, 101.45it/s]"
      }
     },
     "0a72c66faf9a45a9b6cbe19ee754f5b3": {
      "model_module": "@jupyter-widgets/controls",
      "model_module_version": "1.5.0",
      "model_name": "HTMLModel",
      "state": {
       "layout": "IPY_MODEL_8827e95f469e46dfbca92527784731ee",
       "style": "IPY_MODEL_5da458d075dc402794fa8031aad61ca5",
       "value": " 3/3 [01:48&lt;00:00, 36.01s/it]"
      }
     },
     "0a969d8ad1504d71b580aa977a45f7b7": {
      "model_module": "@jupyter-widgets/controls",
      "model_module_version": "1.5.0",
      "model_name": "FloatProgressModel",
      "state": {
       "bar_style": "success",
       "description": "100%",
       "layout": "IPY_MODEL_fc6aaa69d8564e0682084139fd77b0c7",
       "max": 65,
       "style": "IPY_MODEL_4f6f487c10294fd4bc4590b36a1f8321",
       "value": 65
      }
     },
     "0aa23a628e234156bcc9d1f4dd5bd7d3": {
      "model_module": "@jupyter-widgets/base",
      "model_module_version": "1.2.0",
      "model_name": "LayoutModel",
      "state": {}
     },
     "0ad98a65ae414aa3b8669e324b29cbf0": {
      "model_module": "@jupyter-widgets/base",
      "model_module_version": "1.2.0",
      "model_name": "LayoutModel",
      "state": {}
     },
     "0b29b8559ffb4478b300b7ef4be54c6a": {
      "model_module": "@jupyter-widgets/controls",
      "model_module_version": "1.5.0",
      "model_name": "FloatProgressModel",
      "state": {
       "bar_style": "success",
       "description": "100%",
       "layout": "IPY_MODEL_f42cdd326e2b40b2b84d87b162b047c4",
       "max": 2084,
       "style": "IPY_MODEL_9a79525a2d1647728be07f6cc718ce42",
       "value": 2084
      }
     },
     "0b784e0ecb8f4c0aa0a90b8029c7c14b": {
      "model_module": "@jupyter-widgets/base",
      "model_module_version": "1.2.0",
      "model_name": "LayoutModel",
      "state": {}
     },
     "0bd4bedc946f43ef8a4ed6d6706c2ed0": {
      "model_module": "@jupyter-widgets/controls",
      "model_module_version": "1.5.0",
      "model_name": "DescriptionStyleModel",
      "state": {
       "description_width": ""
      }
     },
     "0c1d2c50779a45cfa08ba1907fa62570": {
      "model_module": "@jupyter-widgets/controls",
      "model_module_version": "1.5.0",
      "model_name": "HTMLModel",
      "state": {
       "layout": "IPY_MODEL_366722d1e5ff48c8a89bee9908b86dd1",
       "style": "IPY_MODEL_0e1b6f9994e24849a295b28809d87220",
       "value": " 2084/2084 [01:51&lt;00:00, 18.73it/s]"
      }
     },
     "0c8f3d2f40394828b1eb9a540665f91a": {
      "model_module": "@jupyter-widgets/base",
      "model_module_version": "1.2.0",
      "model_name": "LayoutModel",
      "state": {}
     },
     "0ce72b7af22c43e3994371d2ebf7b082": {
      "model_module": "@jupyter-widgets/controls",
      "model_module_version": "1.5.0",
      "model_name": "HTMLModel",
      "state": {
       "layout": "IPY_MODEL_bb5db5a8c6be4d0185da28e3dd20a70a",
       "style": "IPY_MODEL_0bd4bedc946f43ef8a4ed6d6706c2ed0",
       "value": " 2085/2085 [01:52&lt;00:00, 18.61it/s]"
      }
     },
     "0cea9fa9ab40448f89f581e75e809e8b": {
      "model_module": "@jupyter-widgets/base",
      "model_module_version": "1.2.0",
      "model_name": "LayoutModel",
      "state": {}
     },
     "0cec8cf35f114ad38fcd3c3c01df760f": {
      "model_module": "@jupyter-widgets/controls",
      "model_module_version": "1.5.0",
      "model_name": "ProgressStyleModel",
      "state": {
       "description_width": "initial"
      }
     },
     "0e1b6f9994e24849a295b28809d87220": {
      "model_module": "@jupyter-widgets/controls",
      "model_module_version": "1.5.0",
      "model_name": "DescriptionStyleModel",
      "state": {
       "description_width": ""
      }
     },
     "0e79148b6d574e279b0aab2d41b7849d": {
      "model_module": "@jupyter-widgets/controls",
      "model_module_version": "1.5.0",
      "model_name": "HBoxModel",
      "state": {
       "children": [
        "IPY_MODEL_abd0d947f3544a7e8dc6b1cca4797777",
        "IPY_MODEL_f81837c608114182be1762f7b5f96eee"
       ],
       "layout": "IPY_MODEL_ccafae3686e84ebba492ada9ee03b18b"
      }
     },
     "0e89267ed88b450bbcb67a57639f0402": {
      "model_module": "@jupyter-widgets/base",
      "model_module_version": "1.2.0",
      "model_name": "LayoutModel",
      "state": {}
     },
     "0e8e088ad55947ac92fce66465a5de0a": {
      "model_module": "@jupyter-widgets/controls",
      "model_module_version": "1.5.0",
      "model_name": "DescriptionStyleModel",
      "state": {
       "description_width": ""
      }
     },
     "0f57df800d9849279068235449351392": {
      "model_module": "@jupyter-widgets/controls",
      "model_module_version": "1.5.0",
      "model_name": "ProgressStyleModel",
      "state": {
       "description_width": "initial"
      }
     },
     "0f6d8f25f6784bdf80b39381d1776214": {
      "model_module": "@jupyter-widgets/controls",
      "model_module_version": "1.5.0",
      "model_name": "HTMLModel",
      "state": {
       "layout": "IPY_MODEL_cef49f8b49aa4f6db85a36181661f66a",
       "style": "IPY_MODEL_eca2593d99ff481594dac3bffc19aa66",
       "value": " 3/3 [01:47&lt;00:00, 35.78s/it]"
      }
     },
     "0f754e502cbd423bad833f7e7e0448ee": {
      "model_module": "@jupyter-widgets/controls",
      "model_module_version": "1.5.0",
      "model_name": "HBoxModel",
      "state": {
       "children": [
        "IPY_MODEL_94549bdabbd047fdb029b94980f1c565",
        "IPY_MODEL_38955b53da094755a691d48a932c9904"
       ],
       "layout": "IPY_MODEL_094eadbb45e84ed290ff67c3800be0c7"
      }
     },
     "0f9ef507098442799e6f6726663aa688": {
      "model_module": "@jupyter-widgets/controls",
      "model_module_version": "1.5.0",
      "model_name": "DescriptionStyleModel",
      "state": {
       "description_width": ""
      }
     },
     "0fc75d96ea51468c91f19a7a5a607c42": {
      "model_module": "@jupyter-widgets/controls",
      "model_module_version": "1.5.0",
      "model_name": "FloatProgressModel",
      "state": {
       "bar_style": "success",
       "description": "Current iteration: 100%",
       "layout": "IPY_MODEL_327c6ab434154baa9820227a3cabec1e",
       "max": 47,
       "style": "IPY_MODEL_5fbf5e1541ef4dc68f261bc7e654f9b7",
       "value": 47
      }
     },
     "102ac5ce37e241fabed45ff83605cd80": {
      "model_module": "@jupyter-widgets/controls",
      "model_module_version": "1.5.0",
      "model_name": "DescriptionStyleModel",
      "state": {
       "description_width": ""
      }
     },
     "1065ac9633ae407e81eadfee17e17ad2": {
      "model_module": "@jupyter-widgets/base",
      "model_module_version": "1.2.0",
      "model_name": "LayoutModel",
      "state": {}
     },
     "109f59ba45b04b038ff48c1fa0ee43d5": {
      "model_module": "@jupyter-widgets/controls",
      "model_module_version": "1.5.0",
      "model_name": "FloatProgressModel",
      "state": {
       "bar_style": "success",
       "description": "Current iteration: 100%",
       "layout": "IPY_MODEL_97a27df08af449f3957d54b2c08d4a0f",
       "max": 46,
       "style": "IPY_MODEL_ad60326f371b4d4b86368188a90c3c77",
       "value": 46
      }
     },
     "10dbee729f354571a593b1d2f17ded83": {
      "model_module": "@jupyter-widgets/base",
      "model_module_version": "1.2.0",
      "model_name": "LayoutModel",
      "state": {}
     },
     "1160f7ead2734b6fb2f650e4444e67a8": {
      "model_module": "@jupyter-widgets/base",
      "model_module_version": "1.2.0",
      "model_name": "LayoutModel",
      "state": {}
     },
     "11a2e311131145b09b581f9cadb089fd": {
      "model_module": "@jupyter-widgets/controls",
      "model_module_version": "1.5.0",
      "model_name": "DescriptionStyleModel",
      "state": {
       "description_width": ""
      }
     },
     "11cb570bfeff470b998377fac1e2034a": {
      "model_module": "@jupyter-widgets/controls",
      "model_module_version": "1.5.0",
      "model_name": "ProgressStyleModel",
      "state": {
       "description_width": "initial"
      }
     },
     "122e4bd7621b438b9c3d02ec16c08f57": {
      "model_module": "@jupyter-widgets/base",
      "model_module_version": "1.2.0",
      "model_name": "LayoutModel",
      "state": {}
     },
     "12406fe68de64a12808f9c7a00335267": {
      "model_module": "@jupyter-widgets/controls",
      "model_module_version": "1.5.0",
      "model_name": "FloatProgressModel",
      "state": {
       "bar_style": "success",
       "description": "Current iteration: 100%",
       "layout": "IPY_MODEL_2c3a1c07a5ae4dd1a61b87b476dd1048",
       "max": 47,
       "style": "IPY_MODEL_52c274bd586043bc9452fb2f0ff063a0",
       "value": 47
      }
     },
     "12419b83b4114f8188e1ebcccde07fcd": {
      "model_module": "@jupyter-widgets/controls",
      "model_module_version": "1.5.0",
      "model_name": "HTMLModel",
      "state": {
       "layout": "IPY_MODEL_1cde14d663bb4c10a9e479aa2b52a4cd",
       "style": "IPY_MODEL_28b4039f91e940c8bafa346d07789bb8",
       "value": " 47/47 [00:31&lt;00:00,  1.51it/s]"
      }
     },
     "1267afd5d5964ffa8314dcc4fe594047": {
      "model_module": "@jupyter-widgets/base",
      "model_module_version": "1.2.0",
      "model_name": "LayoutModel",
      "state": {}
     },
     "126ba5815ca74d90b94367a01c9e14bd": {
      "model_module": "@jupyter-widgets/controls",
      "model_module_version": "1.5.0",
      "model_name": "HTMLModel",
      "state": {
       "layout": "IPY_MODEL_887e1002cae24b60b342d1c384b3e8cd",
       "style": "IPY_MODEL_9d395579e68d4e48b27c5d7c97b8603f",
       "value": " 515/515 [00:05&lt;00:00, 95.21it/s]"
      }
     },
     "12a95313c002486894dd7353b2614d1a": {
      "model_module": "@jupyter-widgets/base",
      "model_module_version": "1.2.0",
      "model_name": "LayoutModel",
      "state": {}
     },
     "12f1cf00a43f41ee9bd0dd6821120487": {
      "model_module": "@jupyter-widgets/base",
      "model_module_version": "1.2.0",
      "model_name": "LayoutModel",
      "state": {}
     },
     "132a5d979aaa4e80b46f6e6143c5d13f": {
      "model_module": "@jupyter-widgets/base",
      "model_module_version": "1.2.0",
      "model_name": "LayoutModel",
      "state": {}
     },
     "135ec289ed324b26986823e21b6b7f76": {
      "model_module": "@jupyter-widgets/base",
      "model_module_version": "1.2.0",
      "model_name": "LayoutModel",
      "state": {}
     },
     "138706d923114301bfbb18ffe473b368": {
      "model_module": "@jupyter-widgets/controls",
      "model_module_version": "1.5.0",
      "model_name": "DescriptionStyleModel",
      "state": {
       "description_width": ""
      }
     },
     "138e9c686cc14f58acf13e5f9d661597": {
      "model_module": "@jupyter-widgets/controls",
      "model_module_version": "1.5.0",
      "model_name": "DescriptionStyleModel",
      "state": {
       "description_width": ""
      }
     },
     "139b466e68434471b78fe30970f04213": {
      "model_module": "@jupyter-widgets/controls",
      "model_module_version": "1.5.0",
      "model_name": "ProgressStyleModel",
      "state": {
       "description_width": "initial"
      }
     },
     "13cbe6beb4494427971f052e91a44636": {
      "model_module": "@jupyter-widgets/controls",
      "model_module_version": "1.5.0",
      "model_name": "HBoxModel",
      "state": {
       "children": [
        "IPY_MODEL_96f2c059aa8f4ebc8f33fe237845f2fb",
        "IPY_MODEL_8c47720e9882483a81059b77d406801d"
       ],
       "layout": "IPY_MODEL_6f2c27fdd95a4b15a3df46017ede9854"
      }
     },
     "13f68d2bd89744a8b7209397cf00d1f4": {
      "model_module": "@jupyter-widgets/controls",
      "model_module_version": "1.5.0",
      "model_name": "HTMLModel",
      "state": {
       "layout": "IPY_MODEL_4cebd26db2f74066b9a01941a96b4df3",
       "style": "IPY_MODEL_ff8663e6de884b6aaf2e5b14133a3301",
       "value": " 2081/2081 [01:50&lt;00:00, 18.76it/s]"
      }
     },
     "14db1c2e26154c938a716e00a7a4d6af": {
      "model_module": "@jupyter-widgets/base",
      "model_module_version": "1.2.0",
      "model_name": "LayoutModel",
      "state": {}
     },
     "153a3bd479d5480eb7de63e8808aa764": {
      "model_module": "@jupyter-widgets/controls",
      "model_module_version": "1.5.0",
      "model_name": "ProgressStyleModel",
      "state": {
       "description_width": "initial"
      }
     },
     "15467a0a35aa4b62b951e08d415811ef": {
      "model_module": "@jupyter-widgets/base",
      "model_module_version": "1.2.0",
      "model_name": "LayoutModel",
      "state": {}
     },
     "15eed675d1fb43058b9ff5e0025ca05d": {
      "model_module": "@jupyter-widgets/base",
      "model_module_version": "1.2.0",
      "model_name": "LayoutModel",
      "state": {}
     },
     "16330bb0a5914904b36edd3ccb39a005": {
      "model_module": "@jupyter-widgets/controls",
      "model_module_version": "1.5.0",
      "model_name": "DescriptionStyleModel",
      "state": {
       "description_width": ""
      }
     },
     "16c8de92c44843ee91bd551b3d9ff137": {
      "model_module": "@jupyter-widgets/controls",
      "model_module_version": "1.5.0",
      "model_name": "HTMLModel",
      "state": {
       "layout": "IPY_MODEL_b0ba4dc1f0a9401581b935ced9e8bccb",
       "style": "IPY_MODEL_5bd309fc23b84e77aefe11098a159f67",
       "value": " 47/47 [01:16&lt;00:00,  1.63s/it]"
      }
     },
     "16e4f895219c4c08ac5fd0f2e0aece47": {
      "model_module": "@jupyter-widgets/base",
      "model_module_version": "1.2.0",
      "model_name": "LayoutModel",
      "state": {}
     },
     "16edc14ce0664168b78a0c4a0c8c1cf9": {
      "model_module": "@jupyter-widgets/controls",
      "model_module_version": "1.5.0",
      "model_name": "ProgressStyleModel",
      "state": {
       "description_width": "initial"
      }
     },
     "16f28f32a42f41bea92a1c9396eb6975": {
      "model_module": "@jupyter-widgets/base",
      "model_module_version": "1.2.0",
      "model_name": "LayoutModel",
      "state": {}
     },
     "16f3071a14b54427998982fe9c17bb66": {
      "model_module": "@jupyter-widgets/controls",
      "model_module_version": "1.5.0",
      "model_name": "FloatProgressModel",
      "state": {
       "bar_style": "success",
       "description": "Epoch: 100%",
       "layout": "IPY_MODEL_370a80b059744f72b28868e3fbbec8ae",
       "max": 3,
       "style": "IPY_MODEL_7727ca8576f9481995f8d89a0326bddb",
       "value": 3
      }
     },
     "170a7abaac404d30a5e232ebb91d0bdd": {
      "model_module": "@jupyter-widgets/base",
      "model_module_version": "1.2.0",
      "model_name": "LayoutModel",
      "state": {}
     },
     "176a1f5a3f554e8e952219ab4b88454b": {
      "model_module": "@jupyter-widgets/base",
      "model_module_version": "1.2.0",
      "model_name": "LayoutModel",
      "state": {}
     },
     "177614827c304784a1234a4c8a9412c9": {
      "model_module": "@jupyter-widgets/controls",
      "model_module_version": "1.5.0",
      "model_name": "ProgressStyleModel",
      "state": {
       "description_width": "initial"
      }
     },
     "17ed2e6029bd48d0a1cac26bb1cce85d": {
      "model_module": "@jupyter-widgets/controls",
      "model_module_version": "1.5.0",
      "model_name": "HTMLModel",
      "state": {
       "layout": "IPY_MODEL_7370828183f044fd9414310059a5f3e6",
       "style": "IPY_MODEL_977e30a1ddf24ba3bb9bd0d6b590d7a8",
       "value": " 47/47 [01:07&lt;00:00,  1.43s/it]"
      }
     },
     "17f6759a9e9d4a8c8d20a734b6f43f74": {
      "model_module": "@jupyter-widgets/controls",
      "model_module_version": "1.5.0",
      "model_name": "ProgressStyleModel",
      "state": {
       "description_width": "initial"
      }
     },
     "183dcd5411dc4dd49f214d22b58f9782": {
      "model_module": "@jupyter-widgets/controls",
      "model_module_version": "1.5.0",
      "model_name": "HBoxModel",
      "state": {
       "children": [
        "IPY_MODEL_3a77242c8b934587b4db07f4b35f8955",
        "IPY_MODEL_32b6b1ea29284084a6e4c1e0703a6a84"
       ],
       "layout": "IPY_MODEL_4c8477bdc46249059f8b08e2d3fa6a99"
      }
     },
     "18ffbe7fde4a4683ab5aa5ff41bab709": {
      "model_module": "@jupyter-widgets/controls",
      "model_module_version": "1.5.0",
      "model_name": "HBoxModel",
      "state": {
       "children": [
        "IPY_MODEL_bdacdfe8eef14f5db73695959fd7c389",
        "IPY_MODEL_b8c3271b0b81473296172ba6c7c1ee40"
       ],
       "layout": "IPY_MODEL_1267afd5d5964ffa8314dcc4fe594047"
      }
     },
     "191d448808dd4adeb93ae16f7aac8abe": {
      "model_module": "@jupyter-widgets/controls",
      "model_module_version": "1.5.0",
      "model_name": "ProgressStyleModel",
      "state": {
       "description_width": "initial"
      }
     },
     "1924d8898b0d4a079bf439d0b754e537": {
      "model_module": "@jupyter-widgets/base",
      "model_module_version": "1.2.0",
      "model_name": "LayoutModel",
      "state": {}
     },
     "1942efdb7dcd4ef49eef64706d81a1b7": {
      "model_module": "@jupyter-widgets/base",
      "model_module_version": "1.2.0",
      "model_name": "LayoutModel",
      "state": {}
     },
     "195fb4776ca34435a3b7502672b7b0bf": {
      "model_module": "@jupyter-widgets/controls",
      "model_module_version": "1.5.0",
      "model_name": "DescriptionStyleModel",
      "state": {
       "description_width": ""
      }
     },
     "1967563cc7884fab8dcad9251674bad5": {
      "model_module": "@jupyter-widgets/base",
      "model_module_version": "1.2.0",
      "model_name": "LayoutModel",
      "state": {}
     },
     "197c76723aa244b2a2a302599dcbd977": {
      "model_module": "@jupyter-widgets/base",
      "model_module_version": "1.2.0",
      "model_name": "LayoutModel",
      "state": {}
     },
     "19902aebdc9e4ca19d3253cd1956be50": {
      "model_module": "@jupyter-widgets/base",
      "model_module_version": "1.2.0",
      "model_name": "LayoutModel",
      "state": {}
     },
     "19a51d2ac601465e9f1678626674a081": {
      "model_module": "@jupyter-widgets/controls",
      "model_module_version": "1.5.0",
      "model_name": "DescriptionStyleModel",
      "state": {
       "description_width": ""
      }
     },
     "1a203820beaf47728cdede27d88b21a4": {
      "model_module": "@jupyter-widgets/controls",
      "model_module_version": "1.5.0",
      "model_name": "HBoxModel",
      "state": {
       "children": [
        "IPY_MODEL_07e9483d2992442fb249b682581ad061",
        "IPY_MODEL_2e0dbfba5c184455891d255a480a526f"
       ],
       "layout": "IPY_MODEL_6da23b576ae34f9fa3479752b96739b6"
      }
     },
     "1ac2f1601d114314a65f9579c2f5e08e": {
      "model_module": "@jupyter-widgets/base",
      "model_module_version": "1.2.0",
      "model_name": "LayoutModel",
      "state": {}
     },
     "1ae22ba8ba6a4f9f8623fbb707f9436d": {
      "model_module": "@jupyter-widgets/controls",
      "model_module_version": "1.5.0",
      "model_name": "DescriptionStyleModel",
      "state": {
       "description_width": ""
      }
     },
     "1aeac24f82db474d98fb63c21d6c7cd2": {
      "model_module": "@jupyter-widgets/controls",
      "model_module_version": "1.5.0",
      "model_name": "HBoxModel",
      "state": {
       "children": [
        "IPY_MODEL_9e729012f32e4dab81440a82387deebe",
        "IPY_MODEL_27dd25493efe4656a842276db5ecf62b"
       ],
       "layout": "IPY_MODEL_acad6bac3ce546d7b42d5e2f56d4c77f"
      }
     },
     "1b04426626c841c9b4c807c7bf6ba921": {
      "model_module": "@jupyter-widgets/controls",
      "model_module_version": "1.5.0",
      "model_name": "DescriptionStyleModel",
      "state": {
       "description_width": ""
      }
     },
     "1b09ef85677f41cfa20d5035e41a36d7": {
      "model_module": "@jupyter-widgets/controls",
      "model_module_version": "1.5.0",
      "model_name": "ProgressStyleModel",
      "state": {
       "description_width": "initial"
      }
     },
     "1b75051713ed4103a8aa28be3ae3177c": {
      "model_module": "@jupyter-widgets/controls",
      "model_module_version": "1.5.0",
      "model_name": "DescriptionStyleModel",
      "state": {
       "description_width": ""
      }
     },
     "1b8af807e55f4d4d9cb66e5692ee7e81": {
      "model_module": "@jupyter-widgets/base",
      "model_module_version": "1.2.0",
      "model_name": "LayoutModel",
      "state": {}
     },
     "1ba794225c8f4fb1bc68f7ba5e16d120": {
      "model_module": "@jupyter-widgets/controls",
      "model_module_version": "1.5.0",
      "model_name": "FloatProgressModel",
      "state": {
       "bar_style": "success",
       "description": "Current iteration: 100%",
       "layout": "IPY_MODEL_073f34253698453e991680f8d551d5f9",
       "max": 46,
       "style": "IPY_MODEL_886abbcb1a8443c2a9ed68d6fde7d9fe",
       "value": 46
      }
     },
     "1be6ec3f4d1c4e2db624f6d238361b4e": {
      "model_module": "@jupyter-widgets/controls",
      "model_module_version": "1.5.0",
      "model_name": "HTMLModel",
      "state": {
       "layout": "IPY_MODEL_d04caa359b634faea2cf855ca34aae95",
       "style": "IPY_MODEL_65ce05e27cb94326b5234f0014129b5f",
       "value": " 2085/2085 [01:50&lt;00:00, 18.87it/s]"
      }
     },
     "1c0558468c3f49a39db563ecf60ff692": {
      "model_module": "@jupyter-widgets/controls",
      "model_module_version": "1.5.0",
      "model_name": "HBoxModel",
      "state": {
       "children": [
        "IPY_MODEL_2769c6d830904c5980126d957faf8ce0",
        "IPY_MODEL_9802814b488b411f8dd748dc833039f2"
       ],
       "layout": "IPY_MODEL_487d96285f0043f7ba17340ce081f510"
      }
     },
     "1c2ad52a7453479a9c549cb6feaa1c5f": {
      "model_module": "@jupyter-widgets/controls",
      "model_module_version": "1.5.0",
      "model_name": "HTMLModel",
      "state": {
       "layout": "IPY_MODEL_5db840eeadca40529e2f503b9d64aebe",
       "style": "IPY_MODEL_16330bb0a5914904b36edd3ccb39a005",
       "value": " 65/65 [00:02&lt;00:00, 22.68it/s]"
      }
     },
     "1c504a3e1b0048fb91022f45c7c39730": {
      "model_module": "@jupyter-widgets/controls",
      "model_module_version": "1.5.0",
      "model_name": "HBoxModel",
      "state": {
       "children": [
        "IPY_MODEL_64006e808b8c4778ab7f4076897fd1c9",
        "IPY_MODEL_9046c14b7355492f9bd42dc445768faf"
       ],
       "layout": "IPY_MODEL_2c87523bf97b489d90323d03ae968e66"
      }
     },
     "1c6e3edcafdd412083f5d436ed0d2c7a": {
      "model_module": "@jupyter-widgets/controls",
      "model_module_version": "1.5.0",
      "model_name": "ProgressStyleModel",
      "state": {
       "description_width": "initial"
      }
     },
     "1cb65e65886d4022bc69e380b5d9bbd2": {
      "model_module": "@jupyter-widgets/base",
      "model_module_version": "1.2.0",
      "model_name": "LayoutModel",
      "state": {}
     },
     "1ccf90d9ae0c47b583475d7915f04eb8": {
      "model_module": "@jupyter-widgets/base",
      "model_module_version": "1.2.0",
      "model_name": "LayoutModel",
      "state": {}
     },
     "1cde14d663bb4c10a9e479aa2b52a4cd": {
      "model_module": "@jupyter-widgets/base",
      "model_module_version": "1.2.0",
      "model_name": "LayoutModel",
      "state": {}
     },
     "1cf75c0c960f49588ea7d62942b59adb": {
      "model_module": "@jupyter-widgets/base",
      "model_module_version": "1.2.0",
      "model_name": "LayoutModel",
      "state": {}
     },
     "1d6dac52efda46ef8a6d5d251167015a": {
      "model_module": "@jupyter-widgets/base",
      "model_module_version": "1.2.0",
      "model_name": "LayoutModel",
      "state": {}
     },
     "1d837745231644e6a2d1e4b9f859d15f": {
      "model_module": "@jupyter-widgets/base",
      "model_module_version": "1.2.0",
      "model_name": "LayoutModel",
      "state": {}
     },
     "1db84dacfa30419b8b41e35badf97dad": {
      "model_module": "@jupyter-widgets/controls",
      "model_module_version": "1.5.0",
      "model_name": "ProgressStyleModel",
      "state": {
       "description_width": "initial"
      }
     },
     "1db9bd39c6254eda86d5d83286f5a60a": {
      "model_module": "@jupyter-widgets/controls",
      "model_module_version": "1.5.0",
      "model_name": "FloatProgressModel",
      "state": {
       "bar_style": "success",
       "description": "100%",
       "layout": "IPY_MODEL_1cf75c0c960f49588ea7d62942b59adb",
       "max": 65,
       "style": "IPY_MODEL_be26e7a6dc2945b2a00f1a0a3359becb",
       "value": 65
      }
     },
     "1dc5487b6c9b4508b8487d8adb5f35ec": {
      "model_module": "@jupyter-widgets/base",
      "model_module_version": "1.2.0",
      "model_name": "LayoutModel",
      "state": {}
     },
     "1dea27063a9d43f989438f80ee65c221": {
      "model_module": "@jupyter-widgets/controls",
      "model_module_version": "1.5.0",
      "model_name": "DescriptionStyleModel",
      "state": {
       "description_width": ""
      }
     },
     "1e2bbbe7726646468f57a95f1969e01b": {
      "model_module": "@jupyter-widgets/base",
      "model_module_version": "1.2.0",
      "model_name": "LayoutModel",
      "state": {}
     },
     "1ec887c27884489d9b8d5c79d2d9adf5": {
      "model_module": "@jupyter-widgets/base",
      "model_module_version": "1.2.0",
      "model_name": "LayoutModel",
      "state": {}
     },
     "1ee0a405013a44caa554c2862e3e6436": {
      "model_module": "@jupyter-widgets/controls",
      "model_module_version": "1.5.0",
      "model_name": "DescriptionStyleModel",
      "state": {
       "description_width": ""
      }
     },
     "1f277dc5e1b345c4866eee82b5d6bf3f": {
      "model_module": "@jupyter-widgets/controls",
      "model_module_version": "1.5.0",
      "model_name": "HTMLModel",
      "state": {
       "layout": "IPY_MODEL_4fe63fccc058455191f5214c3a0c5c64",
       "style": "IPY_MODEL_b2c17d45b5d44d2098b6c6445fe30e9d",
       "value": " 3/3 [01:48&lt;00:00, 36.16s/it]"
      }
     },
     "1f944c3018634b44874a3a56f5eb1b3c": {
      "model_module": "@jupyter-widgets/base",
      "model_module_version": "1.2.0",
      "model_name": "LayoutModel",
      "state": {}
     },
     "1fa100b16970451abf689ba9ce9eb0a1": {
      "model_module": "@jupyter-widgets/controls",
      "model_module_version": "1.5.0",
      "model_name": "DescriptionStyleModel",
      "state": {
       "description_width": ""
      }
     },
     "1fc47fea5c3f4710b5be069e461e21af": {
      "model_module": "@jupyter-widgets/controls",
      "model_module_version": "1.5.0",
      "model_name": "ProgressStyleModel",
      "state": {
       "description_width": "initial"
      }
     },
     "1fc7dac89cdf434aba8b44e391d80d46": {
      "model_module": "@jupyter-widgets/controls",
      "model_module_version": "1.5.0",
      "model_name": "DescriptionStyleModel",
      "state": {
       "description_width": ""
      }
     },
     "1ff3eab03922419b970262ffcf8692f5": {
      "model_module": "@jupyter-widgets/controls",
      "model_module_version": "1.5.0",
      "model_name": "HTMLModel",
      "state": {
       "layout": "IPY_MODEL_2ccadd229cff4660adf377ff943eb97e",
       "style": "IPY_MODEL_f607eb789e10448cb0cda497dacc1094",
       "value": " 516/516 [00:05&lt;00:00, 101.29it/s]"
      }
     },
     "1ff91684b2614749b0717f67adbfff12": {
      "model_module": "@jupyter-widgets/controls",
      "model_module_version": "1.5.0",
      "model_name": "ProgressStyleModel",
      "state": {
       "description_width": "initial"
      }
     },
     "20129d94c0d54c33be9e0bfc4d8aac3f": {
      "model_module": "@jupyter-widgets/controls",
      "model_module_version": "1.5.0",
      "model_name": "ProgressStyleModel",
      "state": {
       "description_width": "initial"
      }
     },
     "201738b062ba4bd792ccd0ff4efd9636": {
      "model_module": "@jupyter-widgets/controls",
      "model_module_version": "1.5.0",
      "model_name": "ProgressStyleModel",
      "state": {
       "description_width": "initial"
      }
     },
     "20366e3c7e524206ae480cb69bf82f69": {
      "model_module": "@jupyter-widgets/controls",
      "model_module_version": "1.5.0",
      "model_name": "HTMLModel",
      "state": {
       "layout": "IPY_MODEL_f900fe14193c4914842966d90c7fd66b",
       "style": "IPY_MODEL_c8d26e537c20420ba1cfa982083ce79c",
       "value": " 518/518 [00:05&lt;00:00, 102.74it/s]"
      }
     },
     "2089d049d952439ebd30f02433f3f0e3": {
      "model_module": "@jupyter-widgets/base",
      "model_module_version": "1.2.0",
      "model_name": "LayoutModel",
      "state": {}
     },
     "21569788824b49aab72058ee08459d96": {
      "model_module": "@jupyter-widgets/controls",
      "model_module_version": "1.5.0",
      "model_name": "HTMLModel",
      "state": {
       "layout": "IPY_MODEL_97d08289afc94234b65f3eacfac53192",
       "style": "IPY_MODEL_1dea27063a9d43f989438f80ee65c221",
       "value": " 3/3 [01:52&lt;00:00, 37.40s/it]"
      }
     },
     "22069f477fbc4f6f908831493f6b679c": {
      "model_module": "@jupyter-widgets/controls",
      "model_module_version": "1.5.0",
      "model_name": "FloatProgressModel",
      "state": {
       "bar_style": "success",
       "description": "Current iteration: 100%",
       "layout": "IPY_MODEL_6f06b8c13c644494a9be97bf1b6dc3cd",
       "max": 47,
       "style": "IPY_MODEL_b04f6c72b96347739894dcf748cefdf3",
       "value": 47
      }
     },
     "2280cbcbcf42455a88fe69cd4faf0c22": {
      "model_module": "@jupyter-widgets/controls",
      "model_module_version": "1.5.0",
      "model_name": "HBoxModel",
      "state": {
       "children": [
        "IPY_MODEL_bf4c1a1fb1304470a8a117c53fced8d3",
        "IPY_MODEL_7dc9971a7bde44f8a2ea26934da3d4f3"
       ],
       "layout": "IPY_MODEL_1cb65e65886d4022bc69e380b5d9bbd2"
      }
     },
     "2340af36b1994d7580ac8492e5c09ba1": {
      "model_module": "@jupyter-widgets/base",
      "model_module_version": "1.2.0",
      "model_name": "LayoutModel",
      "state": {}
     },
     "235a3a27dcee4c50bc9b404cc2c6ed87": {
      "model_module": "@jupyter-widgets/base",
      "model_module_version": "1.2.0",
      "model_name": "LayoutModel",
      "state": {}
     },
     "2383b59d2d664de195de1036ddbb53f1": {
      "model_module": "@jupyter-widgets/base",
      "model_module_version": "1.2.0",
      "model_name": "LayoutModel",
      "state": {}
     },
     "23ff5ce663204d709798f23494c5bf02": {
      "model_module": "@jupyter-widgets/controls",
      "model_module_version": "1.5.0",
      "model_name": "DescriptionStyleModel",
      "state": {
       "description_width": ""
      }
     },
     "240356eb6d0147998312becc6b0da9ef": {
      "model_module": "@jupyter-widgets/controls",
      "model_module_version": "1.5.0",
      "model_name": "DescriptionStyleModel",
      "state": {
       "description_width": ""
      }
     },
     "2418f08bdd9a4ae883f68623fa507c7c": {
      "model_module": "@jupyter-widgets/controls",
      "model_module_version": "1.5.0",
      "model_name": "HBoxModel",
      "state": {
       "children": [
        "IPY_MODEL_88c2b67ef15c43e2af45bc80a79fbff5",
        "IPY_MODEL_f76e37b36972455ca5f1b0346d738520"
       ],
       "layout": "IPY_MODEL_010ddbe89b8b46cfa6b431be7feccd77"
      }
     },
     "2461abc361c04af2910b9e949deeda52": {
      "model_module": "@jupyter-widgets/base",
      "model_module_version": "1.2.0",
      "model_name": "LayoutModel",
      "state": {}
     },
     "246774c7de514fe4819045e698b85f39": {
      "model_module": "@jupyter-widgets/controls",
      "model_module_version": "1.5.0",
      "model_name": "FloatProgressModel",
      "state": {
       "bar_style": "success",
       "description": "Current iteration: 100%",
       "layout": "IPY_MODEL_f3da6b58ab84491baf7267f056363862",
       "max": 47,
       "style": "IPY_MODEL_e879bae07201484bb71cd09fd482db39",
       "value": 47
      }
     },
     "246a0041f445425a8a1e47824b993783": {
      "model_module": "@jupyter-widgets/controls",
      "model_module_version": "1.5.0",
      "model_name": "FloatProgressModel",
      "state": {
       "bar_style": "success",
       "description": "Current iteration: 100%",
       "layout": "IPY_MODEL_7a5b8a14a5e844278a4319d014b67541",
       "max": 47,
       "style": "IPY_MODEL_868351f4755040f5bb81a3576f914f81",
       "value": 47
      }
     },
     "24dea89742db4d54a9d1abad1687b37b": {
      "model_module": "@jupyter-widgets/controls",
      "model_module_version": "1.5.0",
      "model_name": "DescriptionStyleModel",
      "state": {
       "description_width": ""
      }
     },
     "252ac79528ff45a7b729718fc6945f18": {
      "model_module": "@jupyter-widgets/base",
      "model_module_version": "1.2.0",
      "model_name": "LayoutModel",
      "state": {}
     },
     "256594b9b72c42fcac887d4f00c79f70": {
      "model_module": "@jupyter-widgets/base",
      "model_module_version": "1.2.0",
      "model_name": "LayoutModel",
      "state": {}
     },
     "258cec3df3364da2bf10c3f25d293b3a": {
      "model_module": "@jupyter-widgets/base",
      "model_module_version": "1.2.0",
      "model_name": "LayoutModel",
      "state": {}
     },
     "25ab31e7ff4c46ac8745fee3193cfc98": {
      "model_module": "@jupyter-widgets/controls",
      "model_module_version": "1.5.0",
      "model_name": "FloatProgressModel",
      "state": {
       "bar_style": "success",
       "description": "Current iteration: 100%",
       "layout": "IPY_MODEL_9b63dd890b3f4fb881d4fd3e75d05d5c",
       "max": 47,
       "style": "IPY_MODEL_93976c8c5adb4899bc4a5dfd55ac9b0a",
       "value": 47
      }
     },
     "263f8d2c2af4403e934c96b7a3cc84b8": {
      "model_module": "@jupyter-widgets/base",
      "model_module_version": "1.2.0",
      "model_name": "LayoutModel",
      "state": {}
     },
     "26a5ff5b16384155b69e73767f0f4ee9": {
      "model_module": "@jupyter-widgets/controls",
      "model_module_version": "1.5.0",
      "model_name": "HBoxModel",
      "state": {
       "children": [
        "IPY_MODEL_b90524fbd5e84460a44471ca15ea3bdb",
        "IPY_MODEL_1c2ad52a7453479a9c549cb6feaa1c5f"
       ],
       "layout": "IPY_MODEL_97d6d27646704ddeb5107e73e90194a5"
      }
     },
     "26d03e92550348078d36dc04f4121d59": {
      "model_module": "@jupyter-widgets/controls",
      "model_module_version": "1.5.0",
      "model_name": "ProgressStyleModel",
      "state": {
       "description_width": "initial"
      }
     },
     "2769c6d830904c5980126d957faf8ce0": {
      "model_module": "@jupyter-widgets/controls",
      "model_module_version": "1.5.0",
      "model_name": "FloatProgressModel",
      "state": {
       "bar_style": "success",
       "description": "Current iteration: 100%",
       "layout": "IPY_MODEL_e28368047f4b4b7193825fc5ce97798a",
       "max": 46,
       "style": "IPY_MODEL_177614827c304784a1234a4c8a9412c9",
       "value": 46
      }
     },
     "279a4538b54a414b94f2a0662c4222ad": {
      "model_module": "@jupyter-widgets/controls",
      "model_module_version": "1.5.0",
      "model_name": "FloatProgressModel",
      "state": {
       "bar_style": "success",
       "description": "100%",
       "layout": "IPY_MODEL_3042d3f6509545e0bcd0f0415c3156eb",
       "max": 67,
       "style": "IPY_MODEL_debf34c70cfd41fd810e32c9e9fa187e",
       "value": 67
      }
     },
     "27dd25493efe4656a842276db5ecf62b": {
      "model_module": "@jupyter-widgets/controls",
      "model_module_version": "1.5.0",
      "model_name": "HTMLModel",
      "state": {
       "layout": "IPY_MODEL_e63eb4dc87d9491c9bfbc9fc701aa1ba",
       "style": "IPY_MODEL_42a8a40319a54cd39c0253f129032004",
       "value": " 47/47 [00:40&lt;00:00,  1.15it/s]"
      }
     },
     "27ed2085b3f349cb830f437fcade23ee": {
      "model_module": "@jupyter-widgets/base",
      "model_module_version": "1.2.0",
      "model_name": "LayoutModel",
      "state": {}
     },
     "281f304f8d5e4d5d8f009ace8e3d74fb": {
      "model_module": "@jupyter-widgets/controls",
      "model_module_version": "1.5.0",
      "model_name": "HTMLModel",
      "state": {
       "layout": "IPY_MODEL_1ccf90d9ae0c47b583475d7915f04eb8",
       "style": "IPY_MODEL_90a59c2f2f7845cda00f69f6a5e2ab45",
       "value": " 47/47 [01:14&lt;00:00,  1.58s/it]"
      }
     },
     "2854f186782e4a8eb9681d4babc536f7": {
      "model_module": "@jupyter-widgets/base",
      "model_module_version": "1.2.0",
      "model_name": "LayoutModel",
      "state": {}
     },
     "28b4039f91e940c8bafa346d07789bb8": {
      "model_module": "@jupyter-widgets/controls",
      "model_module_version": "1.5.0",
      "model_name": "DescriptionStyleModel",
      "state": {
       "description_width": ""
      }
     },
     "28c16e24150744d3a6937911e4da89fc": {
      "model_module": "@jupyter-widgets/controls",
      "model_module_version": "1.5.0",
      "model_name": "FloatProgressModel",
      "state": {
       "bar_style": "success",
       "description": "Epoch: 100%",
       "layout": "IPY_MODEL_8aa3915c71c448908aaf5b766c669f41",
       "max": 3,
       "style": "IPY_MODEL_46a026ad9d9e48d091500d768333da6f",
       "value": 3
      }
     },
     "28f45b7282cd4e2fa07999412fe349fa": {
      "model_module": "@jupyter-widgets/controls",
      "model_module_version": "1.5.0",
      "model_name": "FloatProgressModel",
      "state": {
       "bar_style": "success",
       "description": "100%",
       "layout": "IPY_MODEL_bded8d62ce294f58802af62dc93e3122",
       "max": 67,
       "style": "IPY_MODEL_37dc03939549496a856e6aaa5b948507",
       "value": 67
      }
     },
     "29be6558b7434f758dfe58764feb229a": {
      "model_module": "@jupyter-widgets/controls",
      "model_module_version": "1.5.0",
      "model_name": "FloatProgressModel",
      "state": {
       "bar_style": "success",
       "description": "100%",
       "layout": "IPY_MODEL_bc6ffcf26721459cac449536e8c6c5b0",
       "max": 65,
       "style": "IPY_MODEL_17f6759a9e9d4a8c8d20a734b6f43f74",
       "value": 65
      }
     },
     "29c0a7ec25364409ac79a0d757ef4b70": {
      "model_module": "@jupyter-widgets/controls",
      "model_module_version": "1.5.0",
      "model_name": "HBoxModel",
      "state": {
       "children": [
        "IPY_MODEL_3f8a06d4534e49ac9e5174e5b742f749",
        "IPY_MODEL_03a4ef5ceeaa4b198e116de6bb9a3c7e"
       ],
       "layout": "IPY_MODEL_63514970c0cc453495bc40373a7609da"
      }
     },
     "29f58494fdd8455e84b05fd0340d6a35": {
      "model_module": "@jupyter-widgets/controls",
      "model_module_version": "1.5.0",
      "model_name": "ProgressStyleModel",
      "state": {
       "description_width": "initial"
      }
     },
     "29fea125fc334098a88cff9747c70a2c": {
      "model_module": "@jupyter-widgets/base",
      "model_module_version": "1.2.0",
      "model_name": "LayoutModel",
      "state": {}
     },
     "2a2d6d280e4248f6a24326b07bfe2296": {
      "model_module": "@jupyter-widgets/controls",
      "model_module_version": "1.5.0",
      "model_name": "HTMLModel",
      "state": {
       "layout": "IPY_MODEL_874dda48e8594b27a1b2c49b639c7def",
       "style": "IPY_MODEL_7a2e1efb05a044c29676a33ace6d83e4",
       "value": " 65/65 [00:02&lt;00:00, 22.62it/s]"
      }
     },
     "2a6b0ed125c24f28839a2fff3b91ad94": {
      "model_module": "@jupyter-widgets/controls",
      "model_module_version": "1.5.0",
      "model_name": "FloatProgressModel",
      "state": {
       "bar_style": "success",
       "description": "Current iteration: 100%",
       "layout": "IPY_MODEL_4a81c5a5f65540e5ad1975d0ec51902c",
       "max": 46,
       "style": "IPY_MODEL_1ff91684b2614749b0717f67adbfff12",
       "value": 46
      }
     },
     "2a886b76473f4ea49233ab7339de666b": {
      "model_module": "@jupyter-widgets/base",
      "model_module_version": "1.2.0",
      "model_name": "LayoutModel",
      "state": {}
     },
     "2ad1ac30eb0e41778c17cc3e9adeb675": {
      "model_module": "@jupyter-widgets/controls",
      "model_module_version": "1.5.0",
      "model_name": "ProgressStyleModel",
      "state": {
       "description_width": "initial"
      }
     },
     "2ae86753ff8e41388759ca230129a465": {
      "model_module": "@jupyter-widgets/controls",
      "model_module_version": "1.5.0",
      "model_name": "FloatProgressModel",
      "state": {
       "bar_style": "success",
       "description": "Current iteration: 100%",
       "layout": "IPY_MODEL_c298e8ada2cb4bf88e89e205d8a1b724",
       "max": 47,
       "style": "IPY_MODEL_52a43cf79e134735a1b61247ba3ded5c",
       "value": 47
      }
     },
     "2b80119f9f6345d3b31301d5787d964d": {
      "model_module": "@jupyter-widgets/controls",
      "model_module_version": "1.5.0",
      "model_name": "DescriptionStyleModel",
      "state": {
       "description_width": ""
      }
     },
     "2ba4fe65734740de8c9ee03e388b649c": {
      "model_module": "@jupyter-widgets/controls",
      "model_module_version": "1.5.0",
      "model_name": "FloatProgressModel",
      "state": {
       "bar_style": "success",
       "description": "Current iteration: 100%",
       "layout": "IPY_MODEL_01250886f93f4acd9bb912eadaff9c32",
       "max": 47,
       "style": "IPY_MODEL_9552f5403d4b4402b94a2c24189be51a",
       "value": 47
      }
     },
     "2be14bb0cf8a4706a3c838c5d20df999": {
      "model_module": "@jupyter-widgets/base",
      "model_module_version": "1.2.0",
      "model_name": "LayoutModel",
      "state": {}
     },
     "2bf7e411e47b40e485eda6f9e820626d": {
      "model_module": "@jupyter-widgets/base",
      "model_module_version": "1.2.0",
      "model_name": "LayoutModel",
      "state": {}
     },
     "2c025227eb994d939b1bff20fcc5f898": {
      "model_module": "@jupyter-widgets/base",
      "model_module_version": "1.2.0",
      "model_name": "LayoutModel",
      "state": {}
     },
     "2c3a1c07a5ae4dd1a61b87b476dd1048": {
      "model_module": "@jupyter-widgets/base",
      "model_module_version": "1.2.0",
      "model_name": "LayoutModel",
      "state": {}
     },
     "2c619cf4500b47559ba5c10de475f339": {
      "model_module": "@jupyter-widgets/base",
      "model_module_version": "1.2.0",
      "model_name": "LayoutModel",
      "state": {}
     },
     "2c87523bf97b489d90323d03ae968e66": {
      "model_module": "@jupyter-widgets/base",
      "model_module_version": "1.2.0",
      "model_name": "LayoutModel",
      "state": {}
     },
     "2ca8035b216242fb952905b90ee8a2d3": {
      "model_module": "@jupyter-widgets/controls",
      "model_module_version": "1.5.0",
      "model_name": "ProgressStyleModel",
      "state": {
       "description_width": "initial"
      }
     },
     "2cc09fb54c724db5811e5ee124b8a3a9": {
      "model_module": "@jupyter-widgets/controls",
      "model_module_version": "1.5.0",
      "model_name": "HTMLModel",
      "state": {
       "layout": "IPY_MODEL_2461abc361c04af2910b9e949deeda52",
       "style": "IPY_MODEL_95abdb0253634879a1fe217c9f3e177b",
       "value": " 47/47 [00:31&lt;00:00,  1.51it/s]"
      }
     },
     "2cc93556ccbe46a68f06fb530d8ee968": {
      "model_module": "@jupyter-widgets/controls",
      "model_module_version": "1.5.0",
      "model_name": "ProgressStyleModel",
      "state": {
       "description_width": "initial"
      }
     },
     "2ccadd229cff4660adf377ff943eb97e": {
      "model_module": "@jupyter-widgets/base",
      "model_module_version": "1.2.0",
      "model_name": "LayoutModel",
      "state": {}
     },
     "2cd260659ed34483919b5c2d87354147": {
      "model_module": "@jupyter-widgets/controls",
      "model_module_version": "1.5.0",
      "model_name": "FloatProgressModel",
      "state": {
       "bar_style": "success",
       "description": "100%",
       "layout": "IPY_MODEL_546f9079ba0a444d91f9857ffcc24168",
       "max": 65,
       "style": "IPY_MODEL_4f404e8c298b48a684ab7dee329c410d",
       "value": 65
      }
     },
     "2cd68f7747f648e79a7e650bdcc5696e": {
      "model_module": "@jupyter-widgets/controls",
      "model_module_version": "1.5.0",
      "model_name": "ProgressStyleModel",
      "state": {
       "description_width": "initial"
      }
     },
     "2cdca4e4e916485998c7ad758caf9043": {
      "model_module": "@jupyter-widgets/controls",
      "model_module_version": "1.5.0",
      "model_name": "ProgressStyleModel",
      "state": {
       "description_width": "initial"
      }
     },
     "2cfb73bd6e3648d88fbdd9cb1d7761b4": {
      "model_module": "@jupyter-widgets/controls",
      "model_module_version": "1.5.0",
      "model_name": "DescriptionStyleModel",
      "state": {
       "description_width": ""
      }
     },
     "2d9fa4d0b7804d6ea412813bbb64ad27": {
      "model_module": "@jupyter-widgets/controls",
      "model_module_version": "1.5.0",
      "model_name": "FloatProgressModel",
      "state": {
       "bar_style": "success",
       "description": "100%",
       "layout": "IPY_MODEL_06800e9d90284f9699795b6f48a76322",
       "max": 516,
       "style": "IPY_MODEL_94fbfd378d074307b82f5c8c1b72a6b4",
       "value": 516
      }
     },
     "2e0dbfba5c184455891d255a480a526f": {
      "model_module": "@jupyter-widgets/controls",
      "model_module_version": "1.5.0",
      "model_name": "HTMLModel",
      "state": {
       "layout": "IPY_MODEL_fa55a35b894943e0a73037d632c51f3f",
       "style": "IPY_MODEL_aee4a11323044d00977eb00a588d1254",
       "value": " 47/47 [00:31&lt;00:00,  1.51it/s]"
      }
     },
     "2e719a3c321842ddb90a88829536a54f": {
      "model_module": "@jupyter-widgets/controls",
      "model_module_version": "1.5.0",
      "model_name": "ProgressStyleModel",
      "state": {
       "description_width": "initial"
      }
     },
     "2e883f1d5d5943aca53beabdb08d6d8c": {
      "model_module": "@jupyter-widgets/base",
      "model_module_version": "1.2.0",
      "model_name": "LayoutModel",
      "state": {}
     },
     "2f04ee1108ce408aac5e83fbe165797d": {
      "model_module": "@jupyter-widgets/base",
      "model_module_version": "1.2.0",
      "model_name": "LayoutModel",
      "state": {}
     },
     "2f07429ce570438d9346060c7a1723ac": {
      "model_module": "@jupyter-widgets/controls",
      "model_module_version": "1.5.0",
      "model_name": "FloatProgressModel",
      "state": {
       "bar_style": "success",
       "description": "100%",
       "layout": "IPY_MODEL_b2c364ea7a4940f9bf842ad1ba82b861",
       "max": 67,
       "style": "IPY_MODEL_4c1edf29c4614f01b6c9e1984e7a88dd",
       "value": 67
      }
     },
     "2f26ac9b448d4da990a5e5dfadbb5d35": {
      "model_module": "@jupyter-widgets/base",
      "model_module_version": "1.2.0",
      "model_name": "LayoutModel",
      "state": {}
     },
     "2f38e052ebfa4c48834ba0f7a96a94c8": {
      "model_module": "@jupyter-widgets/base",
      "model_module_version": "1.2.0",
      "model_name": "LayoutModel",
      "state": {}
     },
     "3003460338f74aa786b46def0433f193": {
      "model_module": "@jupyter-widgets/controls",
      "model_module_version": "1.5.0",
      "model_name": "DescriptionStyleModel",
      "state": {
       "description_width": ""
      }
     },
     "3027519b010d40cb961e60494ac4e192": {
      "model_module": "@jupyter-widgets/controls",
      "model_module_version": "1.5.0",
      "model_name": "HBoxModel",
      "state": {
       "children": [
        "IPY_MODEL_5aa75b1b38f8497aa32f9c086733d45a",
        "IPY_MODEL_d08af66400814c67a2e74c2b5a70364e"
       ],
       "layout": "IPY_MODEL_5e389772c2fb4deda1e83723d12b4284"
      }
     },
     "3042d3f6509545e0bcd0f0415c3156eb": {
      "model_module": "@jupyter-widgets/base",
      "model_module_version": "1.2.0",
      "model_name": "LayoutModel",
      "state": {}
     },
     "3060a9a91550420f9b2e6fb745872e8a": {
      "model_module": "@jupyter-widgets/controls",
      "model_module_version": "1.5.0",
      "model_name": "HTMLModel",
      "state": {
       "layout": "IPY_MODEL_781ca00bb4b048f5ae9629680cfdc865",
       "style": "IPY_MODEL_5f6dd752fdf24f9c9afc40a77ac166bb",
       "value": " 3/3 [01:49&lt;00:00, 36.34s/it]"
      }
     },
     "3065da847c254a919ffca7dfa2b3fd2d": {
      "model_module": "@jupyter-widgets/controls",
      "model_module_version": "1.5.0",
      "model_name": "DescriptionStyleModel",
      "state": {
       "description_width": ""
      }
     },
     "308034d19f39430ba1849bdf6171e8c0": {
      "model_module": "@jupyter-widgets/base",
      "model_module_version": "1.2.0",
      "model_name": "LayoutModel",
      "state": {}
     },
     "310ec42c3da0429c964ea3ffd0184c85": {
      "model_module": "@jupyter-widgets/base",
      "model_module_version": "1.2.0",
      "model_name": "LayoutModel",
      "state": {}
     },
     "3150398928d84845a0061ce32f96af69": {
      "model_module": "@jupyter-widgets/controls",
      "model_module_version": "1.5.0",
      "model_name": "HBoxModel",
      "state": {
       "children": [
        "IPY_MODEL_d7c6ef0dbf274ebb9b385f74450e6993",
        "IPY_MODEL_2a2d6d280e4248f6a24326b07bfe2296"
       ],
       "layout": "IPY_MODEL_c3c152ef78b4413a950c9b5a76da40be"
      }
     },
     "3150b9f5bac94d3ebb29f0df4c581d31": {
      "model_module": "@jupyter-widgets/controls",
      "model_module_version": "1.5.0",
      "model_name": "FloatProgressModel",
      "state": {
       "bar_style": "success",
       "description": "100%",
       "layout": "IPY_MODEL_7f86b23de5764993ab1410e12b2a0221",
       "max": 2081,
       "style": "IPY_MODEL_6d37a37f15934196b1f72ae5dbac5f69",
       "value": 2081
      }
     },
     "3152016dc9244624966da2a3da8412a8": {
      "model_module": "@jupyter-widgets/controls",
      "model_module_version": "1.5.0",
      "model_name": "HTMLModel",
      "state": {
       "layout": "IPY_MODEL_9338f6de1e3e4d19bed1951fc50cbb47",
       "style": "IPY_MODEL_4303310500ed4f578e181a9a06228ca8",
       "value": " 2068/2068 [01:51&lt;00:00, 18.60it/s]"
      }
     },
     "31967f0bcfc6479eb099e3a2a9472732": {
      "model_module": "@jupyter-widgets/controls",
      "model_module_version": "1.5.0",
      "model_name": "HBoxModel",
      "state": {
       "children": [
        "IPY_MODEL_b60abd8111f14308850442ea7d5e357c",
        "IPY_MODEL_c1af7e0ddd10425a87dab93d00e5ef78"
       ],
       "layout": "IPY_MODEL_00b716feba8b4d5b9f10e5a2a3993bd7"
      }
     },
     "31e6ccd679e442a29ff6bf97ca3ce68f": {
      "model_module": "@jupyter-widgets/controls",
      "model_module_version": "1.5.0",
      "model_name": "DescriptionStyleModel",
      "state": {
       "description_width": ""
      }
     },
     "32375e4388794a3b918c57dc50dadd3b": {
      "model_module": "@jupyter-widgets/base",
      "model_module_version": "1.2.0",
      "model_name": "LayoutModel",
      "state": {}
     },
     "3257d91ce36943fb947eb9192fc34254": {
      "model_module": "@jupyter-widgets/controls",
      "model_module_version": "1.5.0",
      "model_name": "HBoxModel",
      "state": {
       "children": [
        "IPY_MODEL_dc50b370ce6644d7aad965c515b2e5de",
        "IPY_MODEL_71eb1b0489ca4b40a3a9dc2a56dccb04"
       ],
       "layout": "IPY_MODEL_e437ba26b4c242c38d936d3bebe1c4e2"
      }
     },
     "3258de55d8444ac9a03369da1a126cd1": {
      "model_module": "@jupyter-widgets/controls",
      "model_module_version": "1.5.0",
      "model_name": "HBoxModel",
      "state": {
       "children": [
        "IPY_MODEL_a5b9264c975c4fe6950dc9dae03cfde4",
        "IPY_MODEL_5ca187821f554d87bc0b62b23e3d3b41"
       ],
       "layout": "IPY_MODEL_99beec7f025948ea96bfa83cfe441cfb"
      }
     },
     "327c6ab434154baa9820227a3cabec1e": {
      "model_module": "@jupyter-widgets/base",
      "model_module_version": "1.2.0",
      "model_name": "LayoutModel",
      "state": {}
     },
     "32859dd7cc0a402c922091067b57db78": {
      "model_module": "@jupyter-widgets/controls",
      "model_module_version": "1.5.0",
      "model_name": "FloatProgressModel",
      "state": {
       "bar_style": "success",
       "description": "100%",
       "layout": "IPY_MODEL_548c4dd422ba42ffab4c954af87456fc",
       "max": 2084,
       "style": "IPY_MODEL_b3f20586a33444589977f76f352f1c26",
       "value": 2084
      }
     },
     "32b6b1ea29284084a6e4c1e0703a6a84": {
      "model_module": "@jupyter-widgets/controls",
      "model_module_version": "1.5.0",
      "model_name": "HTMLModel",
      "state": {
       "layout": "IPY_MODEL_45f0c163f5fa4b9b9a6a10c36a7846da",
       "style": "IPY_MODEL_86fe630074544a2babd819123383aea2",
       "value": " 2082/2082 [01:50&lt;00:00, 18.76it/s]"
      }
     },
     "32e9596ab11f4af8b7e676541d2dfd41": {
      "model_module": "@jupyter-widgets/base",
      "model_module_version": "1.2.0",
      "model_name": "LayoutModel",
      "state": {}
     },
     "32eaacc1292d4ef7af85e4e64430ee8a": {
      "model_module": "@jupyter-widgets/controls",
      "model_module_version": "1.5.0",
      "model_name": "ProgressStyleModel",
      "state": {
       "description_width": "initial"
      }
     },
     "3313805cd90243489d7ef8ccc193a1fb": {
      "model_module": "@jupyter-widgets/controls",
      "model_module_version": "1.5.0",
      "model_name": "HTMLModel",
      "state": {
       "layout": "IPY_MODEL_f600d2389f5444a78e639f56b71c342f",
       "style": "IPY_MODEL_4d20002ddd3649ee841573bfcde2b343",
       "value": " 47/47 [01:48&lt;00:00,  2.30s/it]"
      }
     },
     "338c57f079d4462c9f60eb97a8df9340": {
      "model_module": "@jupyter-widgets/base",
      "model_module_version": "1.2.0",
      "model_name": "LayoutModel",
      "state": {}
     },
     "338f37f546264bad8825f43db8f9b339": {
      "model_module": "@jupyter-widgets/controls",
      "model_module_version": "1.5.0",
      "model_name": "HBoxModel",
      "state": {
       "children": [
        "IPY_MODEL_fd08b7bfe1834e87b2e18d4910e92474",
        "IPY_MODEL_0a666d78b9264b0fae3b665956a15a05"
       ],
       "layout": "IPY_MODEL_8989bb19e85a468fb800895c7e0871f1"
      }
     },
     "34178431165f4f71be1193f23fa96c63": {
      "model_module": "@jupyter-widgets/controls",
      "model_module_version": "1.5.0",
      "model_name": "DescriptionStyleModel",
      "state": {
       "description_width": ""
      }
     },
     "3430e0291c99427e9cbda31ad09f9d6f": {
      "model_module": "@jupyter-widgets/controls",
      "model_module_version": "1.5.0",
      "model_name": "ProgressStyleModel",
      "state": {
       "description_width": "initial"
      }
     },
     "34809c9846fa41c7b590892aaa5bcf00": {
      "model_module": "@jupyter-widgets/controls",
      "model_module_version": "1.5.0",
      "model_name": "ProgressStyleModel",
      "state": {
       "description_width": "initial"
      }
     },
     "3502f3952fa940c8b56df4fc6b2241b1": {
      "model_module": "@jupyter-widgets/base",
      "model_module_version": "1.2.0",
      "model_name": "LayoutModel",
      "state": {}
     },
     "355537dbe36d4aef83c1d6aa6420b38a": {
      "model_module": "@jupyter-widgets/base",
      "model_module_version": "1.2.0",
      "model_name": "LayoutModel",
      "state": {}
     },
     "35622947a5104413a372b79833af5f6f": {
      "model_module": "@jupyter-widgets/controls",
      "model_module_version": "1.5.0",
      "model_name": "ProgressStyleModel",
      "state": {
       "description_width": "initial"
      }
     },
     "3598d1275b80406986add94727614bbb": {
      "model_module": "@jupyter-widgets/controls",
      "model_module_version": "1.5.0",
      "model_name": "DescriptionStyleModel",
      "state": {
       "description_width": ""
      }
     },
     "35cf9f0a87204806a3a07d30d43a9c11": {
      "model_module": "@jupyter-widgets/base",
      "model_module_version": "1.2.0",
      "model_name": "LayoutModel",
      "state": {}
     },
     "35dd761a3ffc4f4b97240220a75c0dca": {
      "model_module": "@jupyter-widgets/base",
      "model_module_version": "1.2.0",
      "model_name": "LayoutModel",
      "state": {}
     },
     "366722d1e5ff48c8a89bee9908b86dd1": {
      "model_module": "@jupyter-widgets/base",
      "model_module_version": "1.2.0",
      "model_name": "LayoutModel",
      "state": {}
     },
     "36734fdf4ab74e0aa75c18668516f6bb": {
      "model_module": "@jupyter-widgets/controls",
      "model_module_version": "1.5.0",
      "model_name": "ProgressStyleModel",
      "state": {
       "description_width": "initial"
      }
     },
     "368e6fd7cea84603a3d4cbf019eaff09": {
      "model_module": "@jupyter-widgets/controls",
      "model_module_version": "1.5.0",
      "model_name": "HTMLModel",
      "state": {
       "layout": "IPY_MODEL_10dbee729f354571a593b1d2f17ded83",
       "style": "IPY_MODEL_9e140865f92a4a8bb0ea08e64f31b479",
       "value": " 47/47 [01:14&lt;00:00,  1.59s/it]"
      }
     },
     "36bfdb17369f49a08c00eb087ce813f7": {
      "model_module": "@jupyter-widgets/controls",
      "model_module_version": "1.5.0",
      "model_name": "DescriptionStyleModel",
      "state": {
       "description_width": ""
      }
     },
     "36d85418d5394efd926ab0f1e98e29d3": {
      "model_module": "@jupyter-widgets/controls",
      "model_module_version": "1.5.0",
      "model_name": "FloatProgressModel",
      "state": {
       "bar_style": "success",
       "description": "Current iteration: 100%",
       "layout": "IPY_MODEL_b683e310d0924906ba7f516117d375f8",
       "max": 47,
       "style": "IPY_MODEL_46a179e177c34718a1d412d2698576a9",
       "value": 47
      }
     },
     "36da36d4f72f40339be5be66db509648": {
      "model_module": "@jupyter-widgets/base",
      "model_module_version": "1.2.0",
      "model_name": "LayoutModel",
      "state": {}
     },
     "36e0b257fd1b4360bc6308811eb43086": {
      "model_module": "@jupyter-widgets/base",
      "model_module_version": "1.2.0",
      "model_name": "LayoutModel",
      "state": {}
     },
     "36f846acbf90488692a5cacc27952cc3": {
      "model_module": "@jupyter-widgets/base",
      "model_module_version": "1.2.0",
      "model_name": "LayoutModel",
      "state": {}
     },
     "370a80b059744f72b28868e3fbbec8ae": {
      "model_module": "@jupyter-widgets/base",
      "model_module_version": "1.2.0",
      "model_name": "LayoutModel",
      "state": {}
     },
     "37a76134073146418946bf43c2bb548d": {
      "model_module": "@jupyter-widgets/base",
      "model_module_version": "1.2.0",
      "model_name": "LayoutModel",
      "state": {}
     },
     "37dc03939549496a856e6aaa5b948507": {
      "model_module": "@jupyter-widgets/controls",
      "model_module_version": "1.5.0",
      "model_name": "ProgressStyleModel",
      "state": {
       "description_width": "initial"
      }
     },
     "37ee9a8694174f8a822662abb7f42b5c": {
      "model_module": "@jupyter-widgets/base",
      "model_module_version": "1.2.0",
      "model_name": "LayoutModel",
      "state": {}
     },
     "3837d389b4514a7aba80dfda1a2563e1": {
      "model_module": "@jupyter-widgets/controls",
      "model_module_version": "1.5.0",
      "model_name": "HBoxModel",
      "state": {
       "children": [
        "IPY_MODEL_5f9758edded2412eb31cecae5296c484",
        "IPY_MODEL_e389033854404623a545605b95d486fa"
       ],
       "layout": "IPY_MODEL_c289891c7a074115bf2851a01ed43efc"
      }
     },
     "38955b53da094755a691d48a932c9904": {
      "model_module": "@jupyter-widgets/controls",
      "model_module_version": "1.5.0",
      "model_name": "HTMLModel",
      "state": {
       "layout": "IPY_MODEL_ce1c9cba7b784bfaa41ef2c8493520bd",
       "style": "IPY_MODEL_6be761d87d8143ab8045a4b773c0a34f",
       "value": " 515/515 [00:05&lt;00:00, 101.35it/s]"
      }
     },
     "38d68a2d083c43d398e5c4c9a47da98b": {
      "model_module": "@jupyter-widgets/base",
      "model_module_version": "1.2.0",
      "model_name": "LayoutModel",
      "state": {}
     },
     "3921686cf55a47cc9f532818100c6eb2": {
      "model_module": "@jupyter-widgets/controls",
      "model_module_version": "1.5.0",
      "model_name": "HBoxModel",
      "state": {
       "children": [
        "IPY_MODEL_82efe113ae6b49809ff9aaa03c297834",
        "IPY_MODEL_a1872e5ac4014514903a7371fdb30241"
       ],
       "layout": "IPY_MODEL_2c619cf4500b47559ba5c10de475f339"
      }
     },
     "3968bca8bc1740b5a72da91d97d710d7": {
      "model_module": "@jupyter-widgets/base",
      "model_module_version": "1.2.0",
      "model_name": "LayoutModel",
      "state": {}
     },
     "39a920fd2bf44baaa143e11b50cd19c5": {
      "model_module": "@jupyter-widgets/base",
      "model_module_version": "1.2.0",
      "model_name": "LayoutModel",
      "state": {}
     },
     "39cf30ebba4140eaa18bbce7ac020f2f": {
      "model_module": "@jupyter-widgets/base",
      "model_module_version": "1.2.0",
      "model_name": "LayoutModel",
      "state": {}
     },
     "39e10484fba441aca3380d25a95084de": {
      "model_module": "@jupyter-widgets/base",
      "model_module_version": "1.2.0",
      "model_name": "LayoutModel",
      "state": {}
     },
     "39fdd24a94d34b52bcc54020d61ea53d": {
      "model_module": "@jupyter-widgets/controls",
      "model_module_version": "1.5.0",
      "model_name": "HBoxModel",
      "state": {
       "children": [
        "IPY_MODEL_7865b92cbec148f6aaa9a79093de29be",
        "IPY_MODEL_6899239dee91403ab3b5fabb7419743b"
       ],
       "layout": "IPY_MODEL_97c34f138f644f098c54f78c9c8889ba"
      }
     },
     "3a77242c8b934587b4db07f4b35f8955": {
      "model_module": "@jupyter-widgets/controls",
      "model_module_version": "1.5.0",
      "model_name": "FloatProgressModel",
      "state": {
       "bar_style": "success",
       "description": "100%",
       "layout": "IPY_MODEL_c15396a458dd476c823b3dea392f772d",
       "max": 2082,
       "style": "IPY_MODEL_ae673bb5f5ef45b5b9b9b3f2de113150",
       "value": 2082
      }
     },
     "3a8c8bb30c7046e883c5f770567c7b18": {
      "model_module": "@jupyter-widgets/base",
      "model_module_version": "1.2.0",
      "model_name": "LayoutModel",
      "state": {}
     },
     "3ab522d662d94a54ad5ca875ea0b44f7": {
      "model_module": "@jupyter-widgets/controls",
      "model_module_version": "1.5.0",
      "model_name": "HTMLModel",
      "state": {
       "layout": "IPY_MODEL_80a74d88271745ec90cbcefbb72ea652",
       "style": "IPY_MODEL_cf0ec0b5b38b487fa148a90f4bbbd4ca",
       "value": " 532/532 [00:05&lt;00:00, 101.44it/s]"
      }
     },
     "3ad197bf7dde4231bc65f53e97992337": {
      "model_module": "@jupyter-widgets/controls",
      "model_module_version": "1.5.0",
      "model_name": "DescriptionStyleModel",
      "state": {
       "description_width": ""
      }
     },
     "3ad430458b474c9b957401426c90af43": {
      "model_module": "@jupyter-widgets/controls",
      "model_module_version": "1.5.0",
      "model_name": "HBoxModel",
      "state": {
       "children": [
        "IPY_MODEL_478bead7f07b4fd5992d2c964474a10b",
        "IPY_MODEL_dacfe8fec4da4933bbdc904e84e9e787"
       ],
       "layout": "IPY_MODEL_f6e0704e8ddf4d20b3a2760224d5bb45"
      }
     },
     "3b81f325a5db4b798726475c8c4aa11d": {
      "model_module": "@jupyter-widgets/base",
      "model_module_version": "1.2.0",
      "model_name": "LayoutModel",
      "state": {}
     },
     "3bb425b943074512aca45de3efe516ae": {
      "model_module": "@jupyter-widgets/controls",
      "model_module_version": "1.5.0",
      "model_name": "ProgressStyleModel",
      "state": {
       "description_width": "initial"
      }
     },
     "3bbd6988387c4ba988b2cf7f12772742": {
      "model_module": "@jupyter-widgets/controls",
      "model_module_version": "1.5.0",
      "model_name": "FloatProgressModel",
      "state": {
       "bar_style": "success",
       "description": "Current iteration: 100%",
       "layout": "IPY_MODEL_4632d87ed1a841948a229625f5afeba4",
       "max": 47,
       "style": "IPY_MODEL_d4d332981e104da990786cd6bf92dca1",
       "value": 47
      }
     },
     "3c129b95f26042d3a8cca9cd4a49e208": {
      "model_module": "@jupyter-widgets/base",
      "model_module_version": "1.2.0",
      "model_name": "LayoutModel",
      "state": {}
     },
     "3c5fd59e01ad46e8aef9da4287269b4e": {
      "model_module": "@jupyter-widgets/base",
      "model_module_version": "1.2.0",
      "model_name": "LayoutModel",
      "state": {}
     },
     "3c7dd246bcf9442ba0d539975b2dc172": {
      "model_module": "@jupyter-widgets/controls",
      "model_module_version": "1.5.0",
      "model_name": "DescriptionStyleModel",
      "state": {
       "description_width": ""
      }
     },
     "3c9131bec7e04fa98d5aa7b8bd838d15": {
      "model_module": "@jupyter-widgets/base",
      "model_module_version": "1.2.0",
      "model_name": "LayoutModel",
      "state": {}
     },
     "3ccc9ce198754b328acad45ce15e6cf3": {
      "model_module": "@jupyter-widgets/controls",
      "model_module_version": "1.5.0",
      "model_name": "DescriptionStyleModel",
      "state": {
       "description_width": ""
      }
     },
     "3d01c78d476946d5a068242b3530877f": {
      "model_module": "@jupyter-widgets/base",
      "model_module_version": "1.2.0",
      "model_name": "LayoutModel",
      "state": {}
     },
     "3d1b470383624984b1c0bacbdc5c2142": {
      "model_module": "@jupyter-widgets/base",
      "model_module_version": "1.2.0",
      "model_name": "LayoutModel",
      "state": {}
     },
     "3d24d7a95c6d45d0aab12b7ff2054fe6": {
      "model_module": "@jupyter-widgets/controls",
      "model_module_version": "1.5.0",
      "model_name": "DescriptionStyleModel",
      "state": {
       "description_width": ""
      }
     },
     "3d40f9a8edc04420a0a6ce95ab7b493e": {
      "model_module": "@jupyter-widgets/base",
      "model_module_version": "1.2.0",
      "model_name": "LayoutModel",
      "state": {}
     },
     "3daf398636cc4717bdfc58bbe7ea1922": {
      "model_module": "@jupyter-widgets/controls",
      "model_module_version": "1.5.0",
      "model_name": "HTMLModel",
      "state": {
       "layout": "IPY_MODEL_3d01c78d476946d5a068242b3530877f",
       "style": "IPY_MODEL_b91e183ec9404b3a916845eafd5a592c",
       "value": " 67/67 [00:03&lt;00:00, 22.18it/s]"
      }
     },
     "3db8548db4a9424eb9f9ed5264e728f6": {
      "model_module": "@jupyter-widgets/controls",
      "model_module_version": "1.5.0",
      "model_name": "HBoxModel",
      "state": {
       "children": [
        "IPY_MODEL_279a4538b54a414b94f2a0662c4222ad",
        "IPY_MODEL_c637117d53894c0eab66c2fe7055031d"
       ],
       "layout": "IPY_MODEL_89d84731db3f4164bee8097ea4c4eb84"
      }
     },
     "3e2e425154154f2487da3136cbfcbd10": {
      "model_module": "@jupyter-widgets/controls",
      "model_module_version": "1.5.0",
      "model_name": "HBoxModel",
      "state": {
       "children": [
        "IPY_MODEL_78ff0362fa794cc3811c22d303503e84",
        "IPY_MODEL_cdd79b89984b4cf6a58906ace85166d8"
       ],
       "layout": "IPY_MODEL_a6c8ed5581d44ef8bb9f36c81278c078"
      }
     },
     "3e685ce956f04cd094773c8ec8660e7a": {
      "model_module": "@jupyter-widgets/controls",
      "model_module_version": "1.5.0",
      "model_name": "FloatProgressModel",
      "state": {
       "bar_style": "success",
       "description": "100%",
       "layout": "IPY_MODEL_506279ad57364b49ad5efb721955a1ed",
       "max": 65,
       "style": "IPY_MODEL_4b422714400347ed96cb977ad6e00160",
       "value": 65
      }
     },
     "3e702d5913c146a584d5a1fee6ee779c": {
      "model_module": "@jupyter-widgets/controls",
      "model_module_version": "1.5.0",
      "model_name": "DescriptionStyleModel",
      "state": {
       "description_width": ""
      }
     },
     "3ec74493626e4060ab717ee1908fa167": {
      "model_module": "@jupyter-widgets/base",
      "model_module_version": "1.2.0",
      "model_name": "LayoutModel",
      "state": {}
     },
     "3ef578c9978e440baf7e8b0babcb5b9d": {
      "model_module": "@jupyter-widgets/controls",
      "model_module_version": "1.5.0",
      "model_name": "ProgressStyleModel",
      "state": {
       "description_width": "initial"
      }
     },
     "3f39e4b936064a1bb457310047c5986a": {
      "model_module": "@jupyter-widgets/base",
      "model_module_version": "1.2.0",
      "model_name": "LayoutModel",
      "state": {}
     },
     "3f7600d3d4dc43b595e7aad949c92998": {
      "model_module": "@jupyter-widgets/controls",
      "model_module_version": "1.5.0",
      "model_name": "HTMLModel",
      "state": {
       "layout": "IPY_MODEL_5fc80801961d459a862857886bcc1949",
       "style": "IPY_MODEL_8275f22b491d41e6b5bc86b3e2290a11",
       "value": " 3/3 [01:48&lt;00:00, 36.08s/it]"
      }
     },
     "3f8a06d4534e49ac9e5174e5b742f749": {
      "model_module": "@jupyter-widgets/controls",
      "model_module_version": "1.5.0",
      "model_name": "FloatProgressModel",
      "state": {
       "bar_style": "success",
       "description": "Current iteration: 100%",
       "layout": "IPY_MODEL_a3e817e12a774400bda6ca66a4cc218e",
       "max": 47,
       "style": "IPY_MODEL_a937cdcf92884e36a04f3abe19e5d17e",
       "value": 47
      }
     },
     "3fca505bb1a14e56b259d879f7ded1a3": {
      "model_module": "@jupyter-widgets/controls",
      "model_module_version": "1.5.0",
      "model_name": "FloatProgressModel",
      "state": {
       "bar_style": "success",
       "description": "100%",
       "layout": "IPY_MODEL_39cf30ebba4140eaa18bbce7ac020f2f",
       "max": 518,
       "style": "IPY_MODEL_3bb425b943074512aca45de3efe516ae",
       "value": 518
      }
     },
     "3fd29946a5bb44f49f41e783e1fabe79": {
      "model_module": "@jupyter-widgets/controls",
      "model_module_version": "1.5.0",
      "model_name": "FloatProgressModel",
      "state": {
       "bar_style": "success",
       "description": "100%",
       "layout": "IPY_MODEL_657e19dcfc8f4d658f18b696162ddde5",
       "max": 65,
       "style": "IPY_MODEL_139b466e68434471b78fe30970f04213",
       "value": 65
      }
     },
     "403de367e1f344b0aab8d14da9980af8": {
      "model_module": "@jupyter-widgets/controls",
      "model_module_version": "1.5.0",
      "model_name": "HBoxModel",
      "state": {
       "children": [
        "IPY_MODEL_c65adfc48ab94c01b23259b8c85080fc",
        "IPY_MODEL_2cc09fb54c724db5811e5ee124b8a3a9"
       ],
       "layout": "IPY_MODEL_3f39e4b936064a1bb457310047c5986a"
      }
     },
     "4052d2ae146340a5a94dd061d0d54fbc": {
      "model_module": "@jupyter-widgets/base",
      "model_module_version": "1.2.0",
      "model_name": "LayoutModel",
      "state": {}
     },
     "408f3d3f41c7433aa4b46c81f751b11f": {
      "model_module": "@jupyter-widgets/controls",
      "model_module_version": "1.5.0",
      "model_name": "DescriptionStyleModel",
      "state": {
       "description_width": ""
      }
     },
     "409aecf2ff2248eb8adfa2834e7b487b": {
      "model_module": "@jupyter-widgets/controls",
      "model_module_version": "1.5.0",
      "model_name": "HBoxModel",
      "state": {
       "children": [
        "IPY_MODEL_6cce34e3f44c4dc3b6535917cbc90f7e",
        "IPY_MODEL_d13fd3d229a641f7ba454fb98e2e4414"
       ],
       "layout": "IPY_MODEL_9cced3ff90324995baa7e41679f3ec87"
      }
     },
     "40b188cf971c44439dd0fc06bb774722": {
      "model_module": "@jupyter-widgets/controls",
      "model_module_version": "1.5.0",
      "model_name": "FloatProgressModel",
      "state": {
       "bar_style": "success",
       "description": "100%",
       "layout": "IPY_MODEL_77c81ad796924c2e81a248640177f5f6",
       "max": 519,
       "style": "IPY_MODEL_20129d94c0d54c33be9e0bfc4d8aac3f",
       "value": 519
      }
     },
     "4157275881a84c32a7bf577812431863": {
      "model_module": "@jupyter-widgets/base",
      "model_module_version": "1.2.0",
      "model_name": "LayoutModel",
      "state": {}
     },
     "417a646871664acaa7dad21b50a91f51": {
      "model_module": "@jupyter-widgets/base",
      "model_module_version": "1.2.0",
      "model_name": "LayoutModel",
      "state": {}
     },
     "417da8b906f94520a3ed21dfa2f96cd1": {
      "model_module": "@jupyter-widgets/controls",
      "model_module_version": "1.5.0",
      "model_name": "DescriptionStyleModel",
      "state": {
       "description_width": ""
      }
     },
     "41b2df83d7014298a5c0202d42c1c539": {
      "model_module": "@jupyter-widgets/controls",
      "model_module_version": "1.5.0",
      "model_name": "ProgressStyleModel",
      "state": {
       "description_width": "initial"
      }
     },
     "41e6cbeac7c243d2afe5299e0f298582": {
      "model_module": "@jupyter-widgets/controls",
      "model_module_version": "1.5.0",
      "model_name": "DescriptionStyleModel",
      "state": {
       "description_width": ""
      }
     },
     "42403e1bc27142a89b0d2122001f2d62": {
      "model_module": "@jupyter-widgets/controls",
      "model_module_version": "1.5.0",
      "model_name": "FloatProgressModel",
      "state": {
       "bar_style": "success",
       "description": "Current iteration: 100%",
       "layout": "IPY_MODEL_5d1727d3024d47f49626b760795d7943",
       "max": 47,
       "style": "IPY_MODEL_9551826c8ccd4e3ea54c08d3cd6b57d0",
       "value": 47
      }
     },
     "4255795068514d70b1c37136909b5d2d": {
      "model_module": "@jupyter-widgets/base",
      "model_module_version": "1.2.0",
      "model_name": "LayoutModel",
      "state": {}
     },
     "425b49ac0b7d47da978be8d95c18e19e": {
      "model_module": "@jupyter-widgets/base",
      "model_module_version": "1.2.0",
      "model_name": "LayoutModel",
      "state": {}
     },
     "42a8a40319a54cd39c0253f129032004": {
      "model_module": "@jupyter-widgets/controls",
      "model_module_version": "1.5.0",
      "model_name": "DescriptionStyleModel",
      "state": {
       "description_width": ""
      }
     },
     "42e7152583be4229baa5731c8d0247ad": {
      "model_module": "@jupyter-widgets/base",
      "model_module_version": "1.2.0",
      "model_name": "LayoutModel",
      "state": {}
     },
     "4303310500ed4f578e181a9a06228ca8": {
      "model_module": "@jupyter-widgets/controls",
      "model_module_version": "1.5.0",
      "model_name": "DescriptionStyleModel",
      "state": {
       "description_width": ""
      }
     },
     "430fb78b7c6346efba8667e0edc9b1f6": {
      "model_module": "@jupyter-widgets/base",
      "model_module_version": "1.2.0",
      "model_name": "LayoutModel",
      "state": {}
     },
     "4584ca4e69664edaaf32813c7598a46e": {
      "model_module": "@jupyter-widgets/controls",
      "model_module_version": "1.5.0",
      "model_name": "ProgressStyleModel",
      "state": {
       "description_width": "initial"
      }
     },
     "459ab900e0864635b27735cf6724b807": {
      "model_module": "@jupyter-widgets/controls",
      "model_module_version": "1.5.0",
      "model_name": "FloatProgressModel",
      "state": {
       "bar_style": "success",
       "description": "Current iteration: 100%",
       "layout": "IPY_MODEL_c4e1a6117fd84838b514c3fc6f0bb69e",
       "max": 47,
       "style": "IPY_MODEL_cdf7046ef08c422785aae4402d1f7516",
       "value": 47
      }
     },
     "45ad12956692455aa7d2c0e35d47133d": {
      "model_module": "@jupyter-widgets/controls",
      "model_module_version": "1.5.0",
      "model_name": "HBoxModel",
      "state": {
       "children": [
        "IPY_MODEL_a94399539eee4b1fbfdeb807091313c3",
        "IPY_MODEL_f439eee6efe744bc87bdb24f17f1c2e0"
       ],
       "layout": "IPY_MODEL_484bcdb7e2e540438b2d100cfd9ec177"
      }
     },
     "45e234741af0437a967f08b412fa7597": {
      "model_module": "@jupyter-widgets/base",
      "model_module_version": "1.2.0",
      "model_name": "LayoutModel",
      "state": {}
     },
     "45f0c163f5fa4b9b9a6a10c36a7846da": {
      "model_module": "@jupyter-widgets/base",
      "model_module_version": "1.2.0",
      "model_name": "LayoutModel",
      "state": {}
     },
     "4632d87ed1a841948a229625f5afeba4": {
      "model_module": "@jupyter-widgets/base",
      "model_module_version": "1.2.0",
      "model_name": "LayoutModel",
      "state": {}
     },
     "46706e7211a546edb16d384b3b4df4b3": {
      "model_module": "@jupyter-widgets/base",
      "model_module_version": "1.2.0",
      "model_name": "LayoutModel",
      "state": {}
     },
     "46a026ad9d9e48d091500d768333da6f": {
      "model_module": "@jupyter-widgets/controls",
      "model_module_version": "1.5.0",
      "model_name": "ProgressStyleModel",
      "state": {
       "description_width": "initial"
      }
     },
     "46a179e177c34718a1d412d2698576a9": {
      "model_module": "@jupyter-widgets/controls",
      "model_module_version": "1.5.0",
      "model_name": "ProgressStyleModel",
      "state": {
       "description_width": "initial"
      }
     },
     "46a4d98f2351409f814f2e9f3bfd28ed": {
      "model_module": "@jupyter-widgets/controls",
      "model_module_version": "1.5.0",
      "model_name": "FloatProgressModel",
      "state": {
       "bar_style": "success",
       "description": "Current iteration: 100%",
       "layout": "IPY_MODEL_252ac79528ff45a7b729718fc6945f18",
       "max": 46,
       "style": "IPY_MODEL_64aa5e8142f94b7a8ab730edff13abea",
       "value": 46
      }
     },
     "46c2bc6fb47d4e15b6bd34e327d8432d": {
      "model_module": "@jupyter-widgets/controls",
      "model_module_version": "1.5.0",
      "model_name": "HTMLModel",
      "state": {
       "layout": "IPY_MODEL_05cb5fe073ae44049fe7e088f8bfc726",
       "style": "IPY_MODEL_acc597764a074362bf25dd69b90a102b",
       "value": " 2068/2068 [01:51&lt;00:00, 18.47it/s]"
      }
     },
     "475e2437ac074245b6cbad992c05d6ea": {
      "model_module": "@jupyter-widgets/controls",
      "model_module_version": "1.5.0",
      "model_name": "ProgressStyleModel",
      "state": {
       "description_width": "initial"
      }
     },
     "476e6541f8df4d549a36e4d10dd95595": {
      "model_module": "@jupyter-widgets/base",
      "model_module_version": "1.2.0",
      "model_name": "LayoutModel",
      "state": {}
     },
     "478bead7f07b4fd5992d2c964474a10b": {
      "model_module": "@jupyter-widgets/controls",
      "model_module_version": "1.5.0",
      "model_name": "FloatProgressModel",
      "state": {
       "bar_style": "success",
       "description": "Current iteration: 100%",
       "layout": "IPY_MODEL_16e4f895219c4c08ac5fd0f2e0aece47",
       "max": 47,
       "style": "IPY_MODEL_16edc14ce0664168b78a0c4a0c8c1cf9",
       "value": 47
      }
     },
     "479f8f7d96ea48de9d7e160c8d688e30": {
      "model_module": "@jupyter-widgets/controls",
      "model_module_version": "1.5.0",
      "model_name": "HTMLModel",
      "state": {
       "layout": "IPY_MODEL_83d1f8786bb04b6eaed54b1927b17734",
       "style": "IPY_MODEL_4dc2116f2cf44a9aadbc08b83f9bb812",
       "value": " 46/46 [00:30&lt;00:00,  1.49it/s]"
      }
     },
     "47a3156b82d348a38ce97f7b92725661": {
      "model_module": "@jupyter-widgets/base",
      "model_module_version": "1.2.0",
      "model_name": "LayoutModel",
      "state": {}
     },
     "47acf695e8c24fd4ae10d3b4ee33400c": {
      "model_module": "@jupyter-widgets/controls",
      "model_module_version": "1.5.0",
      "model_name": "HBoxModel",
      "state": {
       "children": [
        "IPY_MODEL_cd4bdc14bdaf4960adcf1a372852ca43",
        "IPY_MODEL_753af4f94a4b481fb00bd7a0449e9649"
       ],
       "layout": "IPY_MODEL_15eed675d1fb43058b9ff5e0025ca05d"
      }
     },
     "47c54f6ba0f9402ab898d8dd983bb423": {
      "model_module": "@jupyter-widgets/base",
      "model_module_version": "1.2.0",
      "model_name": "LayoutModel",
      "state": {}
     },
     "47d752c4ca764a9188f500302b31ff03": {
      "model_module": "@jupyter-widgets/controls",
      "model_module_version": "1.5.0",
      "model_name": "HTMLModel",
      "state": {
       "layout": "IPY_MODEL_f8b9913d8cb246e79ff56c91193451e3",
       "style": "IPY_MODEL_3065da847c254a919ffca7dfa2b3fd2d",
       "value": " 47/47 [01:14&lt;00:00,  1.59s/it]"
      }
     },
     "484bcdb7e2e540438b2d100cfd9ec177": {
      "model_module": "@jupyter-widgets/base",
      "model_module_version": "1.2.0",
      "model_name": "LayoutModel",
      "state": {}
     },
     "487d96285f0043f7ba17340ce081f510": {
      "model_module": "@jupyter-widgets/base",
      "model_module_version": "1.2.0",
      "model_name": "LayoutModel",
      "state": {}
     },
     "4890842f87e04f1badeca21aba65c601": {
      "model_module": "@jupyter-widgets/base",
      "model_module_version": "1.2.0",
      "model_name": "LayoutModel",
      "state": {}
     },
     "4893bc5a8f004007853f041c69a13e09": {
      "model_module": "@jupyter-widgets/base",
      "model_module_version": "1.2.0",
      "model_name": "LayoutModel",
      "state": {}
     },
     "49095c91876b4c47b3daafb007af0bc0": {
      "model_module": "@jupyter-widgets/base",
      "model_module_version": "1.2.0",
      "model_name": "LayoutModel",
      "state": {}
     },
     "49169b7a07cf47f7a4af7bcc5262f116": {
      "model_module": "@jupyter-widgets/controls",
      "model_module_version": "1.5.0",
      "model_name": "HBoxModel",
      "state": {
       "children": [
        "IPY_MODEL_fb88b8ae5b974e289058d7abcbce1252",
        "IPY_MODEL_f249d38359274c7f8e1178eee2ad8890"
       ],
       "layout": "IPY_MODEL_05161924cbc345c9855c6f0266424c29"
      }
     },
     "494430c50db24f27b133dc715b3a85d4": {
      "model_module": "@jupyter-widgets/base",
      "model_module_version": "1.2.0",
      "model_name": "LayoutModel",
      "state": {}
     },
     "49a05e059db64ff2ae291793af85384f": {
      "model_module": "@jupyter-widgets/controls",
      "model_module_version": "1.5.0",
      "model_name": "DescriptionStyleModel",
      "state": {
       "description_width": ""
      }
     },
     "49b3811ee30c4be09e358004d832d640": {
      "model_module": "@jupyter-widgets/controls",
      "model_module_version": "1.5.0",
      "model_name": "ProgressStyleModel",
      "state": {
       "description_width": "initial"
      }
     },
     "49deda3c5ae34dff92e2729f0412d0be": {
      "model_module": "@jupyter-widgets/controls",
      "model_module_version": "1.5.0",
      "model_name": "ProgressStyleModel",
      "state": {
       "description_width": "initial"
      }
     },
     "4a1c0432975945c7b030e92883f9e65a": {
      "model_module": "@jupyter-widgets/base",
      "model_module_version": "1.2.0",
      "model_name": "LayoutModel",
      "state": {}
     },
     "4a81c5a5f65540e5ad1975d0ec51902c": {
      "model_module": "@jupyter-widgets/base",
      "model_module_version": "1.2.0",
      "model_name": "LayoutModel",
      "state": {}
     },
     "4ab7c4f20ad54527b993b97902e1448f": {
      "model_module": "@jupyter-widgets/base",
      "model_module_version": "1.2.0",
      "model_name": "LayoutModel",
      "state": {}
     },
     "4ae6ca17d60948b9bce78aad7f376c07": {
      "model_module": "@jupyter-widgets/base",
      "model_module_version": "1.2.0",
      "model_name": "LayoutModel",
      "state": {}
     },
     "4b422714400347ed96cb977ad6e00160": {
      "model_module": "@jupyter-widgets/controls",
      "model_module_version": "1.5.0",
      "model_name": "ProgressStyleModel",
      "state": {
       "description_width": "initial"
      }
     },
     "4c1edf29c4614f01b6c9e1984e7a88dd": {
      "model_module": "@jupyter-widgets/controls",
      "model_module_version": "1.5.0",
      "model_name": "ProgressStyleModel",
      "state": {
       "description_width": "initial"
      }
     },
     "4c1fde05d01e42f2b9fa7f93cded27cd": {
      "model_module": "@jupyter-widgets/controls",
      "model_module_version": "1.5.0",
      "model_name": "HBoxModel",
      "state": {
       "children": [
        "IPY_MODEL_8bc34fdc7c75449299b67b33d8b1e47b",
        "IPY_MODEL_3313805cd90243489d7ef8ccc193a1fb"
       ],
       "layout": "IPY_MODEL_476e6541f8df4d549a36e4d10dd95595"
      }
     },
     "4c569dd811cc41fda61fc5f365344b3c": {
      "model_module": "@jupyter-widgets/controls",
      "model_module_version": "1.5.0",
      "model_name": "HBoxModel",
      "state": {
       "children": [
        "IPY_MODEL_29be6558b7434f758dfe58764feb229a",
        "IPY_MODEL_cb94ec21be554872b5d24aa29956b73c"
       ],
       "layout": "IPY_MODEL_da3d37bd8f234de38a92e09e17eef23c"
      }
     },
     "4c6aebd0ea454fd7b009860e4db195ea": {
      "model_module": "@jupyter-widgets/controls",
      "model_module_version": "1.5.0",
      "model_name": "HTMLModel",
      "state": {
       "layout": "IPY_MODEL_132a5d979aaa4e80b46f6e6143c5d13f",
       "style": "IPY_MODEL_9efd6f4c72ff467aa312aa33de71767e",
       "value": " 46/46 [01:40&lt;00:00,  2.18s/it]"
      }
     },
     "4c8477bdc46249059f8b08e2d3fa6a99": {
      "model_module": "@jupyter-widgets/base",
      "model_module_version": "1.2.0",
      "model_name": "LayoutModel",
      "state": {}
     },
     "4ce157e4f8dd42ae905789e2904479e0": {
      "model_module": "@jupyter-widgets/controls",
      "model_module_version": "1.5.0",
      "model_name": "HBoxModel",
      "state": {
       "children": [
        "IPY_MODEL_3e685ce956f04cd094773c8ec8660e7a",
        "IPY_MODEL_04d5645035334be09f2cc3eccde9b863"
       ],
       "layout": "IPY_MODEL_256594b9b72c42fcac887d4f00c79f70"
      }
     },
     "4cebd26db2f74066b9a01941a96b4df3": {
      "model_module": "@jupyter-widgets/base",
      "model_module_version": "1.2.0",
      "model_name": "LayoutModel",
      "state": {}
     },
     "4d05a3c05e574ffbbce5b041d29e027f": {
      "model_module": "@jupyter-widgets/base",
      "model_module_version": "1.2.0",
      "model_name": "LayoutModel",
      "state": {}
     },
     "4d20002ddd3649ee841573bfcde2b343": {
      "model_module": "@jupyter-widgets/controls",
      "model_module_version": "1.5.0",
      "model_name": "DescriptionStyleModel",
      "state": {
       "description_width": ""
      }
     },
     "4dc2116f2cf44a9aadbc08b83f9bb812": {
      "model_module": "@jupyter-widgets/controls",
      "model_module_version": "1.5.0",
      "model_name": "DescriptionStyleModel",
      "state": {
       "description_width": ""
      }
     },
     "4dda96800caf4e60957f1397f10a8019": {
      "model_module": "@jupyter-widgets/controls",
      "model_module_version": "1.5.0",
      "model_name": "DescriptionStyleModel",
      "state": {
       "description_width": ""
      }
     },
     "4df05b2edc444801bcea0fdc4f456c09": {
      "model_module": "@jupyter-widgets/controls",
      "model_module_version": "1.5.0",
      "model_name": "HTMLModel",
      "state": {
       "layout": "IPY_MODEL_84e27698f82949fd9b1a4ee4b4552820",
       "style": "IPY_MODEL_0e8e088ad55947ac92fce66465a5de0a",
       "value": " 67/67 [00:03&lt;00:00, 22.33it/s]"
      }
     },
     "4df13725ca244bcb8605bdec6c05111b": {
      "model_module": "@jupyter-widgets/base",
      "model_module_version": "1.2.0",
      "model_name": "LayoutModel",
      "state": {}
     },
     "4df143a40de545c0875ce75d15ffb89d": {
      "model_module": "@jupyter-widgets/controls",
      "model_module_version": "1.5.0",
      "model_name": "HBoxModel",
      "state": {
       "children": [
        "IPY_MODEL_459ab900e0864635b27735cf6724b807",
        "IPY_MODEL_281f304f8d5e4d5d8f009ace8e3d74fb"
       ],
       "layout": "IPY_MODEL_c02b3230bcc74f98bb852b4ac4dccec3"
      }
     },
     "4e37cdc2f5f14f2dae562a0ddde164c5": {
      "model_module": "@jupyter-widgets/controls",
      "model_module_version": "1.5.0",
      "model_name": "FloatProgressModel",
      "state": {
       "bar_style": "success",
       "description": "Current iteration: 100%",
       "layout": "IPY_MODEL_0c8f3d2f40394828b1eb9a540665f91a",
       "max": 47,
       "style": "IPY_MODEL_b53a498a62c448cba9595c6e6973abf3",
       "value": 47
      }
     },
     "4e88a874fcb84ed5959ed9663b92d13e": {
      "model_module": "@jupyter-widgets/controls",
      "model_module_version": "1.5.0",
      "model_name": "HBoxModel",
      "state": {
       "children": [
        "IPY_MODEL_a5fba477f70a4e47abe7e40393a12432",
        "IPY_MODEL_987f016f2bf84cfabf78d8a67f6418e6"
       ],
       "layout": "IPY_MODEL_c9f42f597c044098966b1647bf3b4742"
      }
     },
     "4e98571a3d464ce88eac0a2ac04af481": {
      "model_module": "@jupyter-widgets/base",
      "model_module_version": "1.2.0",
      "model_name": "LayoutModel",
      "state": {}
     },
     "4eae0556ad8c414f88477d39fae22f21": {
      "model_module": "@jupyter-widgets/controls",
      "model_module_version": "1.5.0",
      "model_name": "HBoxModel",
      "state": {
       "children": [
        "IPY_MODEL_2d9fa4d0b7804d6ea412813bbb64ad27",
        "IPY_MODEL_c8106ca7cddf4ffa94d3a9e7bbee8179"
       ],
       "layout": "IPY_MODEL_f3f6fdee1b294420856965eefe07a165"
      }
     },
     "4ec1ca4f6e114876a5008b77347c395e": {
      "model_module": "@jupyter-widgets/controls",
      "model_module_version": "1.5.0",
      "model_name": "FloatProgressModel",
      "state": {
       "bar_style": "success",
       "description": "Current iteration: 100%",
       "layout": "IPY_MODEL_9814dde58e7a4685beab8fc7c22e9cff",
       "max": 47,
       "style": "IPY_MODEL_49b3811ee30c4be09e358004d832d640",
       "value": 47
      }
     },
     "4f26e3967bbf4ce29f46677f67866af9": {
      "model_module": "@jupyter-widgets/controls",
      "model_module_version": "1.5.0",
      "model_name": "DescriptionStyleModel",
      "state": {
       "description_width": ""
      }
     },
     "4f2a8a54681543e5a732549e2bfbaa92": {
      "model_module": "@jupyter-widgets/controls",
      "model_module_version": "1.5.0",
      "model_name": "ProgressStyleModel",
      "state": {
       "description_width": "initial"
      }
     },
     "4f329490145f43a98c9548beb9a2a0d6": {
      "model_module": "@jupyter-widgets/base",
      "model_module_version": "1.2.0",
      "model_name": "LayoutModel",
      "state": {}
     },
     "4f404e8c298b48a684ab7dee329c410d": {
      "model_module": "@jupyter-widgets/controls",
      "model_module_version": "1.5.0",
      "model_name": "ProgressStyleModel",
      "state": {
       "description_width": "initial"
      }
     },
     "4f43b653445045608128e8c1ddf4148e": {
      "model_module": "@jupyter-widgets/controls",
      "model_module_version": "1.5.0",
      "model_name": "FloatProgressModel",
      "state": {
       "bar_style": "success",
       "description": "Epoch: 100%",
       "layout": "IPY_MODEL_71768a0c19294101bf24fe3582e8439e",
       "max": 3,
       "style": "IPY_MODEL_6eb52432284b40f2af626824fcea370b",
       "value": 3
      }
     },
     "4f442db076184c8898422ea5b255b1a3": {
      "model_module": "@jupyter-widgets/controls",
      "model_module_version": "1.5.0",
      "model_name": "ProgressStyleModel",
      "state": {
       "description_width": "initial"
      }
     },
     "4f6f487c10294fd4bc4590b36a1f8321": {
      "model_module": "@jupyter-widgets/controls",
      "model_module_version": "1.5.0",
      "model_name": "ProgressStyleModel",
      "state": {
       "description_width": "initial"
      }
     },
     "4fe63fccc058455191f5214c3a0c5c64": {
      "model_module": "@jupyter-widgets/base",
      "model_module_version": "1.2.0",
      "model_name": "LayoutModel",
      "state": {}
     },
     "50060f536d134f60ab26c8a2c51e2160": {
      "model_module": "@jupyter-widgets/base",
      "model_module_version": "1.2.0",
      "model_name": "LayoutModel",
      "state": {}
     },
     "506279ad57364b49ad5efb721955a1ed": {
      "model_module": "@jupyter-widgets/base",
      "model_module_version": "1.2.0",
      "model_name": "LayoutModel",
      "state": {}
     },
     "509d3a2f354744738526c610f297745c": {
      "model_module": "@jupyter-widgets/controls",
      "model_module_version": "1.5.0",
      "model_name": "HTMLModel",
      "state": {
       "layout": "IPY_MODEL_6fd0650fe6c6416fb1d77243af2a2987",
       "style": "IPY_MODEL_e1968bf27ae440028c54dfd7274feb83",
       "value": " 47/47 [00:30&lt;00:00,  1.52it/s]"
      }
     },
     "50ab3c21eb9844879fe7d18e9f3f4651": {
      "model_module": "@jupyter-widgets/controls",
      "model_module_version": "1.5.0",
      "model_name": "FloatProgressModel",
      "state": {
       "bar_style": "success",
       "description": "100%",
       "layout": "IPY_MODEL_2383b59d2d664de195de1036ddbb53f1",
       "max": 519,
       "style": "IPY_MODEL_7568e33bce1f49e1823e4699d2addf22",
       "value": 519
      }
     },
     "50b5d1831c8b41618f8083ce08476dad": {
      "model_module": "@jupyter-widgets/base",
      "model_module_version": "1.2.0",
      "model_name": "LayoutModel",
      "state": {}
     },
     "50e6596e87ce467fb31fa9e12dc815d6": {
      "model_module": "@jupyter-widgets/base",
      "model_module_version": "1.2.0",
      "model_name": "LayoutModel",
      "state": {}
     },
     "513870457967425f91c0d6c57f394438": {
      "model_module": "@jupyter-widgets/controls",
      "model_module_version": "1.5.0",
      "model_name": "FloatProgressModel",
      "state": {
       "bar_style": "success",
       "description": "Current iteration: 100%",
       "layout": "IPY_MODEL_6ee63c366ccd447cbb0070a35d4b9fc7",
       "max": 47,
       "style": "IPY_MODEL_de43696c74624798a14959360fd4e034",
       "value": 47
      }
     },
     "517cc4515a6d4dadb33a62ba0837d51b": {
      "model_module": "@jupyter-widgets/controls",
      "model_module_version": "1.5.0",
      "model_name": "DescriptionStyleModel",
      "state": {
       "description_width": ""
      }
     },
     "51bc545721ad44b69f2c3389b96b10c1": {
      "model_module": "@jupyter-widgets/base",
      "model_module_version": "1.2.0",
      "model_name": "LayoutModel",
      "state": {}
     },
     "51bd5c443f314184ab324209d2c708d6": {
      "model_module": "@jupyter-widgets/base",
      "model_module_version": "1.2.0",
      "model_name": "LayoutModel",
      "state": {}
     },
     "5253658112f34cbc9a01ab96972e745b": {
      "model_module": "@jupyter-widgets/controls",
      "model_module_version": "1.5.0",
      "model_name": "ProgressStyleModel",
      "state": {
       "description_width": "initial"
      }
     },
     "525f2d020d86497daec52f7df1e53668": {
      "model_module": "@jupyter-widgets/controls",
      "model_module_version": "1.5.0",
      "model_name": "HTMLModel",
      "state": {
       "layout": "IPY_MODEL_36e0b257fd1b4360bc6308811eb43086",
       "style": "IPY_MODEL_11a2e311131145b09b581f9cadb089fd",
       "value": " 519/519 [00:05&lt;00:00, 102.26it/s]"
      }
     },
     "5271aad5e98c4fa98b82fb309c71e10d": {
      "model_module": "@jupyter-widgets/controls",
      "model_module_version": "1.5.0",
      "model_name": "HBoxModel",
      "state": {
       "children": [
        "IPY_MODEL_0737f38191cc42b4a913062fb3bb6c84",
        "IPY_MODEL_1f277dc5e1b345c4866eee82b5d6bf3f"
       ],
       "layout": "IPY_MODEL_d5bf17b026314464aee0fe52f8281c5b"
      }
     },
     "52a43cf79e134735a1b61247ba3ded5c": {
      "model_module": "@jupyter-widgets/controls",
      "model_module_version": "1.5.0",
      "model_name": "ProgressStyleModel",
      "state": {
       "description_width": "initial"
      }
     },
     "52c274bd586043bc9452fb2f0ff063a0": {
      "model_module": "@jupyter-widgets/controls",
      "model_module_version": "1.5.0",
      "model_name": "ProgressStyleModel",
      "state": {
       "description_width": "initial"
      }
     },
     "52df47a4a0bd41eca47af07a51b0f1a5": {
      "model_module": "@jupyter-widgets/controls",
      "model_module_version": "1.5.0",
      "model_name": "FloatProgressModel",
      "state": {
       "bar_style": "success",
       "description": "Epoch: 100%",
       "layout": "IPY_MODEL_7f847fcfed324350bebfe1f1d18fa303",
       "max": 3,
       "style": "IPY_MODEL_4f2a8a54681543e5a732549e2bfbaa92",
       "value": 3
      }
     },
     "52f8c59989e8468b81c22ef8ac2fc30d": {
      "model_module": "@jupyter-widgets/base",
      "model_module_version": "1.2.0",
      "model_name": "LayoutModel",
      "state": {}
     },
     "530179f5a36d4020993a1c5abc8ba872": {
      "model_module": "@jupyter-widgets/base",
      "model_module_version": "1.2.0",
      "model_name": "LayoutModel",
      "state": {}
     },
     "546f9079ba0a444d91f9857ffcc24168": {
      "model_module": "@jupyter-widgets/base",
      "model_module_version": "1.2.0",
      "model_name": "LayoutModel",
      "state": {}
     },
     "548c4dd422ba42ffab4c954af87456fc": {
      "model_module": "@jupyter-widgets/base",
      "model_module_version": "1.2.0",
      "model_name": "LayoutModel",
      "state": {}
     },
     "5492da6521564766aeaadb089fb7fc5f": {
      "model_module": "@jupyter-widgets/base",
      "model_module_version": "1.2.0",
      "model_name": "LayoutModel",
      "state": {}
     },
     "54980a7c875243cbb90838d5a1f05fda": {
      "model_module": "@jupyter-widgets/controls",
      "model_module_version": "1.5.0",
      "model_name": "DescriptionStyleModel",
      "state": {
       "description_width": ""
      }
     },
     "54981245ba1b4a87a697bbd65e0b6bbf": {
      "model_module": "@jupyter-widgets/base",
      "model_module_version": "1.2.0",
      "model_name": "LayoutModel",
      "state": {}
     },
     "54aa013bd60649b3ab95bad58ecf8c07": {
      "model_module": "@jupyter-widgets/controls",
      "model_module_version": "1.5.0",
      "model_name": "DescriptionStyleModel",
      "state": {
       "description_width": ""
      }
     },
     "54b4aa7aa1ad4229896cbd8486eaee75": {
      "model_module": "@jupyter-widgets/controls",
      "model_module_version": "1.5.0",
      "model_name": "ProgressStyleModel",
      "state": {
       "description_width": "initial"
      }
     },
     "54ffcd9748424dce9625ecb026322075": {
      "model_module": "@jupyter-widgets/base",
      "model_module_version": "1.2.0",
      "model_name": "LayoutModel",
      "state": {}
     },
     "552b1d3ee90a4153b1af646cb82b95ad": {
      "model_module": "@jupyter-widgets/controls",
      "model_module_version": "1.5.0",
      "model_name": "FloatProgressModel",
      "state": {
       "bar_style": "success",
       "description": "Epoch: 100%",
       "layout": "IPY_MODEL_3968bca8bc1740b5a72da91d97d710d7",
       "max": 3,
       "style": "IPY_MODEL_f4d3756d31924e879853182337b944b1",
       "value": 3
      }
     },
     "555ecc5e2b174b518fef28345184f8cf": {
      "model_module": "@jupyter-widgets/base",
      "model_module_version": "1.2.0",
      "model_name": "LayoutModel",
      "state": {}
     },
     "56419e85db384d61b492d2bcfaf503b5": {
      "model_module": "@jupyter-widgets/controls",
      "model_module_version": "1.5.0",
      "model_name": "HTMLModel",
      "state": {
       "layout": "IPY_MODEL_5de731f2d97a42b08ff145f0a31a59a5",
       "style": "IPY_MODEL_5d12f983749b43379bbe6f00df0513ce",
       "value": " 47/47 [00:41&lt;00:00,  1.13it/s]"
      }
     },
     "56f418ebeb0c4584893b0777bab5a82e": {
      "model_module": "@jupyter-widgets/controls",
      "model_module_version": "1.5.0",
      "model_name": "FloatProgressModel",
      "state": {
       "bar_style": "success",
       "description": "100%",
       "layout": "IPY_MODEL_6bb54de033e24a5fa6b009cec4efe011",
       "max": 65,
       "style": "IPY_MODEL_54b4aa7aa1ad4229896cbd8486eaee75",
       "value": 65
      }
     },
     "57d7018c1ec740b4af83d8441ebbc9da": {
      "model_module": "@jupyter-widgets/controls",
      "model_module_version": "1.5.0",
      "model_name": "DescriptionStyleModel",
      "state": {
       "description_width": ""
      }
     },
     "57ecf52212704c768c9f0f1376f56918": {
      "model_module": "@jupyter-widgets/controls",
      "model_module_version": "1.5.0",
      "model_name": "HBoxModel",
      "state": {
       "children": [
        "IPY_MODEL_e9ce5ac4fe6144268d1c72922911544e",
        "IPY_MODEL_8e40b40a756e44aa92e9bfcfbaec6a8d"
       ],
       "layout": "IPY_MODEL_de9b6c56f781458287af0fee8a707a66"
      }
     },
     "580277cdfd3c488f94de8023dd831b7c": {
      "model_module": "@jupyter-widgets/controls",
      "model_module_version": "1.5.0",
      "model_name": "HTMLModel",
      "state": {
       "layout": "IPY_MODEL_72fb7637dd774feaa2e1edf7232ea7a6",
       "style": "IPY_MODEL_cfa3adcbedea425583106a2a2075d329",
       "value": " 3/3 [01:50&lt;00:00, 36.81s/it]"
      }
     },
     "5832e98ae69a4f68bbd265545d20847f": {
      "model_module": "@jupyter-widgets/controls",
      "model_module_version": "1.5.0",
      "model_name": "DescriptionStyleModel",
      "state": {
       "description_width": ""
      }
     },
     "58361805ccc544ea842cccef85565fbd": {
      "model_module": "@jupyter-widgets/base",
      "model_module_version": "1.2.0",
      "model_name": "LayoutModel",
      "state": {}
     },
     "58816126223f4acdaf3ee1cdba513f75": {
      "model_module": "@jupyter-widgets/controls",
      "model_module_version": "1.5.0",
      "model_name": "HBoxModel",
      "state": {
       "children": [
        "IPY_MODEL_25ab31e7ff4c46ac8745fee3193cfc98",
        "IPY_MODEL_6e2ee723c4374b259776618405c999d5"
       ],
       "layout": "IPY_MODEL_f6ed115eb81e4ab2b573e7bb2119a414"
      }
     },
     "58da2245bc3b46f4ba65c67e25f1e7d9": {
      "model_module": "@jupyter-widgets/base",
      "model_module_version": "1.2.0",
      "model_name": "LayoutModel",
      "state": {}
     },
     "590ee5a3d8d34d77ac85c35e918856f2": {
      "model_module": "@jupyter-widgets/controls",
      "model_module_version": "1.5.0",
      "model_name": "HTMLModel",
      "state": {
       "layout": "IPY_MODEL_6969dc3d9b3e44bd8450e93e41f763e4",
       "style": "IPY_MODEL_41e6cbeac7c243d2afe5299e0f298582",
       "value": " 3/3 [01:37&lt;00:00, 32.58s/it]"
      }
     },
     "592bdc2363c6463cbec922809ebdbe13": {
      "model_module": "@jupyter-widgets/base",
      "model_module_version": "1.2.0",
      "model_name": "LayoutModel",
      "state": {}
     },
     "596527eb08e84f42ae9a03eafc6b5834": {
      "model_module": "@jupyter-widgets/base",
      "model_module_version": "1.2.0",
      "model_name": "LayoutModel",
      "state": {}
     },
     "5a80a97d7b8541a1af073c202f6beafa": {
      "model_module": "@jupyter-widgets/base",
      "model_module_version": "1.2.0",
      "model_name": "LayoutModel",
      "state": {}
     },
     "5aa75b1b38f8497aa32f9c086733d45a": {
      "model_module": "@jupyter-widgets/controls",
      "model_module_version": "1.5.0",
      "model_name": "FloatProgressModel",
      "state": {
       "bar_style": "success",
       "description": "100%",
       "layout": "IPY_MODEL_f3c3844480a04c3095c8fa481421478f",
       "max": 2082,
       "style": "IPY_MODEL_b5617f041e884599af5b04d05e08b587",
       "value": 2082
      }
     },
     "5b4fff1ca27f479f9b1b524a8dfbf38f": {
      "model_module": "@jupyter-widgets/base",
      "model_module_version": "1.2.0",
      "model_name": "LayoutModel",
      "state": {}
     },
     "5bb52e34d5fb4122a4328ca5fd510a68": {
      "model_module": "@jupyter-widgets/controls",
      "model_module_version": "1.5.0",
      "model_name": "HTMLModel",
      "state": {
       "layout": "IPY_MODEL_964fa01299244feb8d21989da6696fc3",
       "style": "IPY_MODEL_9b85976176294add813df9ae87ffb528",
       "value": " 47/47 [00:40&lt;00:00,  1.16it/s]"
      }
     },
     "5bd309fc23b84e77aefe11098a159f67": {
      "model_module": "@jupyter-widgets/controls",
      "model_module_version": "1.5.0",
      "model_name": "DescriptionStyleModel",
      "state": {
       "description_width": ""
      }
     },
     "5c1dea426a6e4747b5c0bb0043b3764c": {
      "model_module": "@jupyter-widgets/base",
      "model_module_version": "1.2.0",
      "model_name": "LayoutModel",
      "state": {}
     },
     "5c2db48ecca94dd69f1dfb22f7112cc5": {
      "model_module": "@jupyter-widgets/controls",
      "model_module_version": "1.5.0",
      "model_name": "ProgressStyleModel",
      "state": {
       "description_width": "initial"
      }
     },
     "5ca187821f554d87bc0b62b23e3d3b41": {
      "model_module": "@jupyter-widgets/controls",
      "model_module_version": "1.5.0",
      "model_name": "HTMLModel",
      "state": {
       "layout": "IPY_MODEL_4d05a3c05e574ffbbce5b041d29e027f",
       "style": "IPY_MODEL_abb57827fb7d4d35acf21e33c86f1eb9",
       "value": " 46/46 [01:18&lt;00:00,  1.71s/it]"
      }
     },
     "5cd6326a2de2480fb47e9a0df50de7c5": {
      "model_module": "@jupyter-widgets/base",
      "model_module_version": "1.2.0",
      "model_name": "LayoutModel",
      "state": {}
     },
     "5cdee7ed1fff45169640f8d44f8a6e0f": {
      "model_module": "@jupyter-widgets/controls",
      "model_module_version": "1.5.0",
      "model_name": "FloatProgressModel",
      "state": {
       "bar_style": "success",
       "description": "Epoch: 100%",
       "layout": "IPY_MODEL_904f1998b0df466095e89e708d304e65",
       "max": 3,
       "style": "IPY_MODEL_013bf67c9ffd4992bc206caf71e50cf0",
       "value": 3
      }
     },
     "5d12f983749b43379bbe6f00df0513ce": {
      "model_module": "@jupyter-widgets/controls",
      "model_module_version": "1.5.0",
      "model_name": "DescriptionStyleModel",
      "state": {
       "description_width": ""
      }
     },
     "5d1727d3024d47f49626b760795d7943": {
      "model_module": "@jupyter-widgets/base",
      "model_module_version": "1.2.0",
      "model_name": "LayoutModel",
      "state": {}
     },
     "5d4cc0e87fb74f4989dc10a6fdb64cc6": {
      "model_module": "@jupyter-widgets/base",
      "model_module_version": "1.2.0",
      "model_name": "LayoutModel",
      "state": {}
     },
     "5d612ea11ebd4fa58048f5b86b7bc64d": {
      "model_module": "@jupyter-widgets/controls",
      "model_module_version": "1.5.0",
      "model_name": "HTMLModel",
      "state": {
       "layout": "IPY_MODEL_0e89267ed88b450bbcb67a57639f0402",
       "style": "IPY_MODEL_f8aadb4fe4e447c39a819afef6c50aaf",
       "value": " 47/47 [00:31&lt;00:00,  1.51it/s]"
      }
     },
     "5da458d075dc402794fa8031aad61ca5": {
      "model_module": "@jupyter-widgets/controls",
      "model_module_version": "1.5.0",
      "model_name": "DescriptionStyleModel",
      "state": {
       "description_width": ""
      }
     },
     "5db4be509917466cb3b7342d02a7661b": {
      "model_module": "@jupyter-widgets/base",
      "model_module_version": "1.2.0",
      "model_name": "LayoutModel",
      "state": {}
     },
     "5db840eeadca40529e2f503b9d64aebe": {
      "model_module": "@jupyter-widgets/base",
      "model_module_version": "1.2.0",
      "model_name": "LayoutModel",
      "state": {}
     },
     "5de731f2d97a42b08ff145f0a31a59a5": {
      "model_module": "@jupyter-widgets/base",
      "model_module_version": "1.2.0",
      "model_name": "LayoutModel",
      "state": {}
     },
     "5e385cf5f10844658898336b22ac3bed": {
      "model_module": "@jupyter-widgets/base",
      "model_module_version": "1.2.0",
      "model_name": "LayoutModel",
      "state": {}
     },
     "5e389772c2fb4deda1e83723d12b4284": {
      "model_module": "@jupyter-widgets/base",
      "model_module_version": "1.2.0",
      "model_name": "LayoutModel",
      "state": {}
     },
     "5e42be9fd7434a07a0c5b1c1a66b78de": {
      "model_module": "@jupyter-widgets/controls",
      "model_module_version": "1.5.0",
      "model_name": "FloatProgressModel",
      "state": {
       "bar_style": "success",
       "description": "Epoch: 100%",
       "layout": "IPY_MODEL_cf4506f36d884632a7b6c5e78d575f2a",
       "max": 3,
       "style": "IPY_MODEL_9190152f5f1848c68e835f2c555151d2",
       "value": 3
      }
     },
     "5e47c1b4216b482f9c90707db1e51384": {
      "model_module": "@jupyter-widgets/controls",
      "model_module_version": "1.5.0",
      "model_name": "ProgressStyleModel",
      "state": {
       "description_width": "initial"
      }
     },
     "5e7a7bcbb45c4d5cb26b2f94f34ff6e3": {
      "model_module": "@jupyter-widgets/base",
      "model_module_version": "1.2.0",
      "model_name": "LayoutModel",
      "state": {}
     },
     "5edab24cdb2144c0bbefb289690bc208": {
      "model_module": "@jupyter-widgets/base",
      "model_module_version": "1.2.0",
      "model_name": "LayoutModel",
      "state": {}
     },
     "5f1ad22fbe3845f2901be352e268acbd": {
      "model_module": "@jupyter-widgets/controls",
      "model_module_version": "1.5.0",
      "model_name": "HBoxModel",
      "state": {
       "children": [
        "IPY_MODEL_91914f59b9034d26b20cbcca7f19adaa",
        "IPY_MODEL_752f66cdd0164e0588b4e06a0fcd9907"
       ],
       "layout": "IPY_MODEL_ccafafd9c23d4279a4d1c1d06a1b93d3"
      }
     },
     "5f680b3fb1b4494991c3d83ad8b9cf53": {
      "model_module": "@jupyter-widgets/controls",
      "model_module_version": "1.5.0",
      "model_name": "HBoxModel",
      "state": {
       "children": [
        "IPY_MODEL_85fb63352dc34efa87e8827d633b9bd0",
        "IPY_MODEL_3ab522d662d94a54ad5ca875ea0b44f7"
       ],
       "layout": "IPY_MODEL_355537dbe36d4aef83c1d6aa6420b38a"
      }
     },
     "5f6dd752fdf24f9c9afc40a77ac166bb": {
      "model_module": "@jupyter-widgets/controls",
      "model_module_version": "1.5.0",
      "model_name": "DescriptionStyleModel",
      "state": {
       "description_width": ""
      }
     },
     "5f826e8ecf1941b6b65c0d0b1e28b2f0": {
      "model_module": "@jupyter-widgets/controls",
      "model_module_version": "1.5.0",
      "model_name": "ProgressStyleModel",
      "state": {
       "description_width": "initial"
      }
     },
     "5f9758edded2412eb31cecae5296c484": {
      "model_module": "@jupyter-widgets/controls",
      "model_module_version": "1.5.0",
      "model_name": "FloatProgressModel",
      "state": {
       "bar_style": "success",
       "description": "100%",
       "layout": "IPY_MODEL_f963cb50a00d4731928d6c67f90067e8",
       "max": 2084,
       "style": "IPY_MODEL_76f90b710702482f9ee2deef684ba996",
       "value": 2084
      }
     },
     "5fbf5e1541ef4dc68f261bc7e654f9b7": {
      "model_module": "@jupyter-widgets/controls",
      "model_module_version": "1.5.0",
      "model_name": "ProgressStyleModel",
      "state": {
       "description_width": "initial"
      }
     },
     "5fc7cb51529140cda7eb798333b900aa": {
      "model_module": "@jupyter-widgets/controls",
      "model_module_version": "1.5.0",
      "model_name": "HBoxModel",
      "state": {
       "children": [
        "IPY_MODEL_1db9bd39c6254eda86d5d83286f5a60a",
        "IPY_MODEL_6df1c59762ab405c9e91424dbbd18019"
       ],
       "layout": "IPY_MODEL_f26ed276ffde40b2bfe32cf5686a1203"
      }
     },
     "5fc80801961d459a862857886bcc1949": {
      "model_module": "@jupyter-widgets/base",
      "model_module_version": "1.2.0",
      "model_name": "LayoutModel",
      "state": {}
     },
     "604600249294446bb401c97c8f455a65": {
      "model_module": "@jupyter-widgets/controls",
      "model_module_version": "1.5.0",
      "model_name": "HBoxModel",
      "state": {
       "children": [
        "IPY_MODEL_5cdee7ed1fff45169640f8d44f8a6e0f",
        "IPY_MODEL_af1d2954b2d940608f44e9be71969559"
       ],
       "layout": "IPY_MODEL_d811c3ebdd164bc2b3f513af2be5f95d"
      }
     },
     "6072c9101dd447eaab806a8fd1a26463": {
      "model_module": "@jupyter-widgets/controls",
      "model_module_version": "1.5.0",
      "model_name": "FloatProgressModel",
      "state": {
       "bar_style": "success",
       "description": "Current iteration: 100%",
       "layout": "IPY_MODEL_87631bcb14634086ab6ce6fc4743c845",
       "max": 47,
       "style": "IPY_MODEL_8ac041aab9e04581a97a1ccac6bb4b84",
       "value": 47
      }
     },
     "6077a0d47bf74f48b0f1d519e854a0e7": {
      "model_module": "@jupyter-widgets/controls",
      "model_module_version": "1.5.0",
      "model_name": "FloatProgressModel",
      "state": {
       "bar_style": "success",
       "description": "100%",
       "layout": "IPY_MODEL_19902aebdc9e4ca19d3253cd1956be50",
       "max": 2085,
       "style": "IPY_MODEL_5f826e8ecf1941b6b65c0d0b1e28b2f0",
       "value": 2085
      }
     },
     "60793d1ccc724653918114e920c86f19": {
      "model_module": "@jupyter-widgets/base",
      "model_module_version": "1.2.0",
      "model_name": "LayoutModel",
      "state": {}
     },
     "60cafb338b234f68953e42cd8b8663e9": {
      "model_module": "@jupyter-widgets/controls",
      "model_module_version": "1.5.0",
      "model_name": "DescriptionStyleModel",
      "state": {
       "description_width": ""
      }
     },
     "60ffe97ac2984b55936c7c8c3d326d14": {
      "model_module": "@jupyter-widgets/controls",
      "model_module_version": "1.5.0",
      "model_name": "HBoxModel",
      "state": {
       "children": [
        "IPY_MODEL_552b1d3ee90a4153b1af646cb82b95ad",
        "IPY_MODEL_0f6d8f25f6784bdf80b39381d1776214"
       ],
       "layout": "IPY_MODEL_54ffcd9748424dce9625ecb026322075"
      }
     },
     "611547c07cd540ef881f1d04bb153811": {
      "model_module": "@jupyter-widgets/controls",
      "model_module_version": "1.5.0",
      "model_name": "HTMLModel",
      "state": {
       "layout": "IPY_MODEL_db8045e5ba314139a5d1f95aed0f2b23",
       "style": "IPY_MODEL_1ee0a405013a44caa554c2862e3e6436",
       "value": " 516/516 [00:05&lt;00:00, 101.97it/s]"
      }
     },
     "6149c93c1a1c41039e7381578c88f6d6": {
      "model_module": "@jupyter-widgets/controls",
      "model_module_version": "1.5.0",
      "model_name": "FloatProgressModel",
      "state": {
       "bar_style": "success",
       "description": "100%",
       "layout": "IPY_MODEL_54981245ba1b4a87a697bbd65e0b6bbf",
       "max": 515,
       "style": "IPY_MODEL_eee5f928620b41b28f4fbb1ff85e28ea",
       "value": 515
      }
     },
     "617b26a6514647029e502d8a92b5dec4": {
      "model_module": "@jupyter-widgets/controls",
      "model_module_version": "1.5.0",
      "model_name": "ProgressStyleModel",
      "state": {
       "description_width": "initial"
      }
     },
     "618e255b6c1c44a4b4d1e92148d80cec": {
      "model_module": "@jupyter-widgets/controls",
      "model_module_version": "1.5.0",
      "model_name": "HBoxModel",
      "state": {
       "children": [
        "IPY_MODEL_2a6b0ed125c24f28839a2fff3b91ad94",
        "IPY_MODEL_479f8f7d96ea48de9d7e160c8d688e30"
       ],
       "layout": "IPY_MODEL_930332537a4e48a397ac6e7107f3b189"
      }
     },
     "61a74446d9404c508036dec88e486936": {
      "model_module": "@jupyter-widgets/controls",
      "model_module_version": "1.5.0",
      "model_name": "HTMLModel",
      "state": {
       "layout": "IPY_MODEL_4052d2ae146340a5a94dd061d0d54fbc",
       "style": "IPY_MODEL_2b80119f9f6345d3b31301d5787d964d",
       "value": " 65/65 [00:02&lt;00:00, 22.16it/s]"
      }
     },
     "623a9b97ad694a1c8a77144a5236cc51": {
      "model_module": "@jupyter-widgets/controls",
      "model_module_version": "1.5.0",
      "model_name": "FloatProgressModel",
      "state": {
       "bar_style": "success",
       "description": "100%",
       "layout": "IPY_MODEL_8e5ae6aa04c74a8fb3c705d175abaa18",
       "max": 2085,
       "style": "IPY_MODEL_adca89646ce048b3ab932a787e039cc8",
       "value": 2085
      }
     },
     "626230d459a444d4a9dbc1d81d784a2f": {
      "model_module": "@jupyter-widgets/controls",
      "model_module_version": "1.5.0",
      "model_name": "HTMLModel",
      "state": {
       "layout": "IPY_MODEL_82ff493e9a0a4c0f8f9f31f74739de0e",
       "style": "IPY_MODEL_02d800a27bcd49258a8982b710e32b2c",
       "value": " 47/47 [00:40&lt;00:00,  1.17it/s]"
      }
     },
     "63331ee797f54317ae138e89670da534": {
      "model_module": "@jupyter-widgets/controls",
      "model_module_version": "1.5.0",
      "model_name": "HTMLModel",
      "state": {
       "layout": "IPY_MODEL_32375e4388794a3b918c57dc50dadd3b",
       "style": "IPY_MODEL_31e6ccd679e442a29ff6bf97ca3ce68f",
       "value": " 65/65 [00:02&lt;00:00, 22.06it/s]"
      }
     },
     "63514970c0cc453495bc40373a7609da": {
      "model_module": "@jupyter-widgets/base",
      "model_module_version": "1.2.0",
      "model_name": "LayoutModel",
      "state": {}
     },
     "636fa5adef194f5b82ec4f272cb47523": {
      "model_module": "@jupyter-widgets/base",
      "model_module_version": "1.2.0",
      "model_name": "LayoutModel",
      "state": {}
     },
     "63b90eaf1ee248c182603406b239ea75": {
      "model_module": "@jupyter-widgets/controls",
      "model_module_version": "1.5.0",
      "model_name": "HBoxModel",
      "state": {
       "children": [
        "IPY_MODEL_28c16e24150744d3a6937911e4da89fc",
        "IPY_MODEL_fc7bb2c3920945de87f06806567e5986"
       ],
       "layout": "IPY_MODEL_f3809b7cb557498a8729130678963bb1"
      }
     },
     "63fe413491fa40eabd52e166827d1455": {
      "model_module": "@jupyter-widgets/controls",
      "model_module_version": "1.5.0",
      "model_name": "ProgressStyleModel",
      "state": {
       "description_width": "initial"
      }
     },
     "64006e808b8c4778ab7f4076897fd1c9": {
      "model_module": "@jupyter-widgets/controls",
      "model_module_version": "1.5.0",
      "model_name": "FloatProgressModel",
      "state": {
       "bar_style": "success",
       "description": "Current iteration: 100%",
       "layout": "IPY_MODEL_dcbef25a1e984c6b91ee33dfa324f5e1",
       "max": 46,
       "style": "IPY_MODEL_0cec8cf35f114ad38fcd3c3c01df760f",
       "value": 46
      }
     },
     "64aa5e8142f94b7a8ab730edff13abea": {
      "model_module": "@jupyter-widgets/controls",
      "model_module_version": "1.5.0",
      "model_name": "ProgressStyleModel",
      "state": {
       "description_width": "initial"
      }
     },
     "654bf6afdb594f1496e3cdb3b3878864": {
      "model_module": "@jupyter-widgets/controls",
      "model_module_version": "1.5.0",
      "model_name": "HTMLModel",
      "state": {
       "layout": "IPY_MODEL_49095c91876b4c47b3daafb007af0bc0",
       "style": "IPY_MODEL_a40dcc0dd91f49f88b64ebb7bb90df18",
       "value": " 67/67 [00:02&lt;00:00, 22.38it/s]"
      }
     },
     "657e19dcfc8f4d658f18b696162ddde5": {
      "model_module": "@jupyter-widgets/base",
      "model_module_version": "1.2.0",
      "model_name": "LayoutModel",
      "state": {}
     },
     "65ce05e27cb94326b5234f0014129b5f": {
      "model_module": "@jupyter-widgets/controls",
      "model_module_version": "1.5.0",
      "model_name": "DescriptionStyleModel",
      "state": {
       "description_width": ""
      }
     },
     "65d4e59485384271bae59648333eb5c1": {
      "model_module": "@jupyter-widgets/controls",
      "model_module_version": "1.5.0",
      "model_name": "ProgressStyleModel",
      "state": {
       "description_width": "initial"
      }
     },
     "65ddeaf5da36431e8f4a31630629de5e": {
      "model_module": "@jupyter-widgets/base",
      "model_module_version": "1.2.0",
      "model_name": "LayoutModel",
      "state": {}
     },
     "6614ec599af641dfbe3911592c63b6b8": {
      "model_module": "@jupyter-widgets/base",
      "model_module_version": "1.2.0",
      "model_name": "LayoutModel",
      "state": {}
     },
     "66433c0e5d964bbd98fa958921692ae2": {
      "model_module": "@jupyter-widgets/controls",
      "model_module_version": "1.5.0",
      "model_name": "HBoxModel",
      "state": {
       "children": [
        "IPY_MODEL_eff36fd663304908a3568ca4d5fba3d7",
        "IPY_MODEL_e140da1caaad483d831c2e0d8377d719"
       ],
       "layout": "IPY_MODEL_4893bc5a8f004007853f041c69a13e09"
      }
     },
     "66b30bafaa084284a2f8da0558fb4a37": {
      "model_module": "@jupyter-widgets/base",
      "model_module_version": "1.2.0",
      "model_name": "LayoutModel",
      "state": {}
     },
     "66b40eb0ac074a4e87d05b271d61ddeb": {
      "model_module": "@jupyter-widgets/base",
      "model_module_version": "1.2.0",
      "model_name": "LayoutModel",
      "state": {}
     },
     "66e0a1c2a35f4050bcbdc9687872b0e3": {
      "model_module": "@jupyter-widgets/controls",
      "model_module_version": "1.5.0",
      "model_name": "FloatProgressModel",
      "state": {
       "bar_style": "success",
       "description": "100%",
       "layout": "IPY_MODEL_bfb56fa1795d4d08ba7175c37fa6f1b1",
       "max": 519,
       "style": "IPY_MODEL_63fe413491fa40eabd52e166827d1455",
       "value": 519
      }
     },
     "66e47a2d195647978289257854d5e093": {
      "model_module": "@jupyter-widgets/controls",
      "model_module_version": "1.5.0",
      "model_name": "ProgressStyleModel",
      "state": {
       "description_width": "initial"
      }
     },
     "66e8914cde3b4a5ab60bbb8a81e46c88": {
      "model_module": "@jupyter-widgets/controls",
      "model_module_version": "1.5.0",
      "model_name": "DescriptionStyleModel",
      "state": {
       "description_width": ""
      }
     },
     "66ed62e842344b368126f997ab11bafc": {
      "model_module": "@jupyter-widgets/base",
      "model_module_version": "1.2.0",
      "model_name": "LayoutModel",
      "state": {}
     },
     "671dba0569f7445f8a8d744b3494cd5e": {
      "model_module": "@jupyter-widgets/controls",
      "model_module_version": "1.5.0",
      "model_name": "HBoxModel",
      "state": {
       "children": [
        "IPY_MODEL_16f3071a14b54427998982fe9c17bb66",
        "IPY_MODEL_961ffe928325493bb9b92f70ca6ea455"
       ],
       "layout": "IPY_MODEL_a0d11035973c4fff9860569843f5068f"
      }
     },
     "682becafd1b8402888ed4039eead00fe": {
      "model_module": "@jupyter-widgets/controls",
      "model_module_version": "1.5.0",
      "model_name": "HTMLModel",
      "state": {
       "layout": "IPY_MODEL_c63f40e37d8b4cfb8af00883e1993aab",
       "style": "IPY_MODEL_4f26e3967bbf4ce29f46677f67866af9",
       "value": " 2084/2084 [01:49&lt;00:00, 18.95it/s]"
      }
     },
     "685c2603e3044cb3905955a6fd774f08": {
      "model_module": "@jupyter-widgets/base",
      "model_module_version": "1.2.0",
      "model_name": "LayoutModel",
      "state": {}
     },
     "6865928b142a4339b05fe652d1899e50": {
      "model_module": "@jupyter-widgets/controls",
      "model_module_version": "1.5.0",
      "model_name": "FloatProgressModel",
      "state": {
       "bar_style": "success",
       "description": "Current iteration: 100%",
       "layout": "IPY_MODEL_1ac2f1601d114314a65f9579c2f5e08e",
       "max": 47,
       "style": "IPY_MODEL_2e719a3c321842ddb90a88829536a54f",
       "value": 47
      }
     },
     "687416c3eafd49acaf9c1cbb652eff7c": {
      "model_module": "@jupyter-widgets/base",
      "model_module_version": "1.2.0",
      "model_name": "LayoutModel",
      "state": {}
     },
     "688f7b309049441d8a6b09f0333d4187": {
      "model_module": "@jupyter-widgets/base",
      "model_module_version": "1.2.0",
      "model_name": "LayoutModel",
      "state": {}
     },
     "6899239dee91403ab3b5fabb7419743b": {
      "model_module": "@jupyter-widgets/controls",
      "model_module_version": "1.5.0",
      "model_name": "HTMLModel",
      "state": {
       "layout": "IPY_MODEL_36da36d4f72f40339be5be66db509648",
       "style": "IPY_MODEL_e3c76c9ea1d0402cbe23215297ea2770",
       "value": " 3/3 [01:48&lt;00:00, 36.16s/it]"
      }
     },
     "68e3528450b94c74a6010292189a2a22": {
      "model_module": "@jupyter-widgets/base",
      "model_module_version": "1.2.0",
      "model_name": "LayoutModel",
      "state": {}
     },
     "68f59123dd0143669bdf11420491e50c": {
      "model_module": "@jupyter-widgets/controls",
      "model_module_version": "1.5.0",
      "model_name": "FloatProgressModel",
      "state": {
       "bar_style": "success",
       "description": "Current iteration: 100%",
       "layout": "IPY_MODEL_2c025227eb994d939b1bff20fcc5f898",
       "max": 47,
       "style": "IPY_MODEL_791ae982eba54e0aaa3993ee4e228fae",
       "value": 47
      }
     },
     "6944eebd8c97401a885f0412e8b3f1af": {
      "model_module": "@jupyter-widgets/controls",
      "model_module_version": "1.5.0",
      "model_name": "HBoxModel",
      "state": {
       "children": [
        "IPY_MODEL_2f07429ce570438d9346060c7a1723ac",
        "IPY_MODEL_654bf6afdb594f1496e3cdb3b3878864"
       ],
       "layout": "IPY_MODEL_f927a630b6974af6845f09599c02a791"
      }
     },
     "6969dc3d9b3e44bd8450e93e41f763e4": {
      "model_module": "@jupyter-widgets/base",
      "model_module_version": "1.2.0",
      "model_name": "LayoutModel",
      "state": {}
     },
     "69726256cb704c2092687b9ddd17fdee": {
      "model_module": "@jupyter-widgets/controls",
      "model_module_version": "1.5.0",
      "model_name": "ProgressStyleModel",
      "state": {
       "description_width": "initial"
      }
     },
     "697f107b7b8f497a98a2175bacaa8c16": {
      "model_module": "@jupyter-widgets/controls",
      "model_module_version": "1.5.0",
      "model_name": "HTMLModel",
      "state": {
       "layout": "IPY_MODEL_36f846acbf90488692a5cacc27952cc3",
       "style": "IPY_MODEL_f208a7a83a644ed8a982fdebc37cae3e",
       "value": " 2085/2085 [01:51&lt;00:00, 18.63it/s]"
      }
     },
     "6a3759ad5137463f875d81149e552680": {
      "model_module": "@jupyter-widgets/base",
      "model_module_version": "1.2.0",
      "model_name": "LayoutModel",
      "state": {}
     },
     "6a700ed54abe4dfc898e1f427cf2dbcb": {
      "model_module": "@jupyter-widgets/controls",
      "model_module_version": "1.5.0",
      "model_name": "DescriptionStyleModel",
      "state": {
       "description_width": ""
      }
     },
     "6b0e11117c124b2aaaaf60232eeb9155": {
      "model_module": "@jupyter-widgets/controls",
      "model_module_version": "1.5.0",
      "model_name": "HBoxModel",
      "state": {
       "children": [
        "IPY_MODEL_eaabbf4df8494c038c10e52ed510ff5e",
        "IPY_MODEL_f6b500a2d1564b34bb0a2fa3ac33a4da"
       ],
       "layout": "IPY_MODEL_60793d1ccc724653918114e920c86f19"
      }
     },
     "6b1598b9baea4dfa9461a811b5192f92": {
      "model_module": "@jupyter-widgets/controls",
      "model_module_version": "1.5.0",
      "model_name": "HBoxModel",
      "state": {
       "children": [
        "IPY_MODEL_3fd29946a5bb44f49f41e783e1fabe79",
        "IPY_MODEL_aae1d21342b34c45b68e197f5bade5a3"
       ],
       "layout": "IPY_MODEL_9bcd10c5f041427080e88410d9660e8c"
      }
     },
     "6b9574c1712b423d89c6378363626760": {
      "model_module": "@jupyter-widgets/base",
      "model_module_version": "1.2.0",
      "model_name": "LayoutModel",
      "state": {}
     },
     "6bb54de033e24a5fa6b009cec4efe011": {
      "model_module": "@jupyter-widgets/base",
      "model_module_version": "1.2.0",
      "model_name": "LayoutModel",
      "state": {}
     },
     "6bc8f9411fee44d08260a9adb2925ffc": {
      "model_module": "@jupyter-widgets/controls",
      "model_module_version": "1.5.0",
      "model_name": "FloatProgressModel",
      "state": {
       "bar_style": "success",
       "description": "100%",
       "layout": "IPY_MODEL_38d68a2d083c43d398e5c4c9a47da98b",
       "max": 518,
       "style": "IPY_MODEL_e2c234725dc04feba08ac697ab9d2ed0",
       "value": 518
      }
     },
     "6be761d87d8143ab8045a4b773c0a34f": {
      "model_module": "@jupyter-widgets/controls",
      "model_module_version": "1.5.0",
      "model_name": "DescriptionStyleModel",
      "state": {
       "description_width": ""
      }
     },
     "6c60e7ec8043496788228ca820c7ceaa": {
      "model_module": "@jupyter-widgets/controls",
      "model_module_version": "1.5.0",
      "model_name": "HTMLModel",
      "state": {
       "layout": "IPY_MODEL_ffd333270d93486d85e30fb4acc00b1c",
       "style": "IPY_MODEL_1b04426626c841c9b4c807c7bf6ba921",
       "value": " 2081/2081 [01:50&lt;00:00, 18.75it/s]"
      }
     },
     "6cce34e3f44c4dc3b6535917cbc90f7e": {
      "model_module": "@jupyter-widgets/controls",
      "model_module_version": "1.5.0",
      "model_name": "FloatProgressModel",
      "state": {
       "bar_style": "success",
       "description": "Current iteration: 100%",
       "layout": "IPY_MODEL_faf29f85a2394da98415bf264a4cb2ab",
       "max": 47,
       "style": "IPY_MODEL_93c54de26c264e9ea66262e63d58ab94",
       "value": 47
      }
     },
     "6ccf5d8bee7c4fe0bc6bdc9191b82585": {
      "model_module": "@jupyter-widgets/base",
      "model_module_version": "1.2.0",
      "model_name": "LayoutModel",
      "state": {}
     },
     "6d37a37f15934196b1f72ae5dbac5f69": {
      "model_module": "@jupyter-widgets/controls",
      "model_module_version": "1.5.0",
      "model_name": "ProgressStyleModel",
      "state": {
       "description_width": "initial"
      }
     },
     "6d4bc28e4d914320857af78619eab7b3": {
      "model_module": "@jupyter-widgets/controls",
      "model_module_version": "1.5.0",
      "model_name": "HBoxModel",
      "state": {
       "children": [
        "IPY_MODEL_7ec2206e731a45599f009b9aeb4c2d1b",
        "IPY_MODEL_6c60e7ec8043496788228ca820c7ceaa"
       ],
       "layout": "IPY_MODEL_c26d81c138154a9b989b6288f33c663c"
      }
     },
     "6d55b6cf83a14836831663aef50daed8": {
      "model_module": "@jupyter-widgets/base",
      "model_module_version": "1.2.0",
      "model_name": "LayoutModel",
      "state": {}
     },
     "6d7d6b2e3944411092fb7cea7390be6f": {
      "model_module": "@jupyter-widgets/controls",
      "model_module_version": "1.5.0",
      "model_name": "HTMLModel",
      "state": {
       "layout": "IPY_MODEL_688f7b309049441d8a6b09f0333d4187",
       "style": "IPY_MODEL_ceb8a82685454262b1b315b7c0bb4c5e",
       "value": " 47/47 [00:40&lt;00:00,  1.16it/s]"
      }
     },
     "6da23b576ae34f9fa3479752b96739b6": {
      "model_module": "@jupyter-widgets/base",
      "model_module_version": "1.2.0",
      "model_name": "LayoutModel",
      "state": {}
     },
     "6db83773545d401891889c1f6d12fe7c": {
      "model_module": "@jupyter-widgets/base",
      "model_module_version": "1.2.0",
      "model_name": "LayoutModel",
      "state": {}
     },
     "6dca78a8436d47b8a8f2c5ff95a52bc8": {
      "model_module": "@jupyter-widgets/controls",
      "model_module_version": "1.5.0",
      "model_name": "ProgressStyleModel",
      "state": {
       "description_width": "initial"
      }
     },
     "6df1c59762ab405c9e91424dbbd18019": {
      "model_module": "@jupyter-widgets/controls",
      "model_module_version": "1.5.0",
      "model_name": "HTMLModel",
      "state": {
       "layout": "IPY_MODEL_66b40eb0ac074a4e87d05b271d61ddeb",
       "style": "IPY_MODEL_83a22745237147fe9a51474786b1acd1",
       "value": " 65/65 [00:02&lt;00:00, 22.14it/s]"
      }
     },
     "6e2ee723c4374b259776618405c999d5": {
      "model_module": "@jupyter-widgets/controls",
      "model_module_version": "1.5.0",
      "model_name": "HTMLModel",
      "state": {
       "layout": "IPY_MODEL_8c13c15190c4492a96188796a2c14997",
       "style": "IPY_MODEL_417da8b906f94520a3ed21dfa2f96cd1",
       "value": " 47/47 [00:36&lt;00:00,  1.28it/s]"
      }
     },
     "6e49683c69b84d56b41d9e0fc12a120a": {
      "model_module": "@jupyter-widgets/controls",
      "model_module_version": "1.5.0",
      "model_name": "HBoxModel",
      "state": {
       "children": [
        "IPY_MODEL_3fca505bb1a14e56b259d879f7ded1a3",
        "IPY_MODEL_20366e3c7e524206ae480cb69bf82f69"
       ],
       "layout": "IPY_MODEL_b5bbd42abf844e7a80c65e86e1441791"
      }
     },
     "6eb52432284b40f2af626824fcea370b": {
      "model_module": "@jupyter-widgets/controls",
      "model_module_version": "1.5.0",
      "model_name": "ProgressStyleModel",
      "state": {
       "description_width": "initial"
      }
     },
     "6ee63c366ccd447cbb0070a35d4b9fc7": {
      "model_module": "@jupyter-widgets/base",
      "model_module_version": "1.2.0",
      "model_name": "LayoutModel",
      "state": {}
     },
     "6f06b8c13c644494a9be97bf1b6dc3cd": {
      "model_module": "@jupyter-widgets/base",
      "model_module_version": "1.2.0",
      "model_name": "LayoutModel",
      "state": {}
     },
     "6f2c27fdd95a4b15a3df46017ede9854": {
      "model_module": "@jupyter-widgets/base",
      "model_module_version": "1.2.0",
      "model_name": "LayoutModel",
      "state": {}
     },
     "6f49e1afa03846d6a94fcd2a13a695a3": {
      "model_module": "@jupyter-widgets/controls",
      "model_module_version": "1.5.0",
      "model_name": "HBoxModel",
      "state": {
       "children": [
        "IPY_MODEL_7a1b0ada75ec4a84aef70998b51245ad",
        "IPY_MODEL_21569788824b49aab72058ee08459d96"
       ],
       "layout": "IPY_MODEL_94b18fd6fa454f59b9c2db068d79a18d"
      }
     },
     "6f6b843a94e14801a35c782202cc5092": {
      "model_module": "@jupyter-widgets/base",
      "model_module_version": "1.2.0",
      "model_name": "LayoutModel",
      "state": {}
     },
     "6fd0650fe6c6416fb1d77243af2a2987": {
      "model_module": "@jupyter-widgets/base",
      "model_module_version": "1.2.0",
      "model_name": "LayoutModel",
      "state": {}
     },
     "6fe6d5a271d34a69a85514f3eeb732f2": {
      "model_module": "@jupyter-widgets/controls",
      "model_module_version": "1.5.0",
      "model_name": "FloatProgressModel",
      "state": {
       "bar_style": "success",
       "description": "100%",
       "layout": "IPY_MODEL_8c8f4484c4ce468db45d9393acbd7d61",
       "max": 67,
       "style": "IPY_MODEL_8139e625b3824fd4b45a9fddbefb6987",
       "value": 67
      }
     },
     "6ff283a18cce46708ccbcc21617ab01f": {
      "model_module": "@jupyter-widgets/controls",
      "model_module_version": "1.5.0",
      "model_name": "HBoxModel",
      "state": {
       "children": [
        "IPY_MODEL_75e0b7d9bf5b4c3ea2ffa542e803336a",
        "IPY_MODEL_590ee5a3d8d34d77ac85c35e918856f2"
       ],
       "layout": "IPY_MODEL_d835285747994d11bcca08ea8cd9a604"
      }
     },
     "7017993a6ac94c83b8e809fc1e63bd7d": {
      "model_module": "@jupyter-widgets/controls",
      "model_module_version": "1.5.0",
      "model_name": "HBoxModel",
      "state": {
       "children": [
        "IPY_MODEL_56f418ebeb0c4584893b0777bab5a82e",
        "IPY_MODEL_61a74446d9404c508036dec88e486936"
       ],
       "layout": "IPY_MODEL_5cd6326a2de2480fb47e9a0df50de7c5"
      }
     },
     "70a2ccf2f85e43a488374d69b3098bcd": {
      "model_module": "@jupyter-widgets/controls",
      "model_module_version": "1.5.0",
      "model_name": "HTMLModel",
      "state": {
       "layout": "IPY_MODEL_fa7f42e65cc1488f85028729e0022f4d",
       "style": "IPY_MODEL_23ff5ce663204d709798f23494c5bf02",
       "value": " 65/65 [00:02&lt;00:00, 22.30it/s]"
      }
     },
     "70f340669b8448fa911886391dc8d674": {
      "model_module": "@jupyter-widgets/controls",
      "model_module_version": "1.5.0",
      "model_name": "FloatProgressModel",
      "state": {
       "bar_style": "success",
       "description": "Epoch: 100%",
       "layout": "IPY_MODEL_258cec3df3364da2bf10c3f25d293b3a",
       "max": 3,
       "style": "IPY_MODEL_b68218d15b124b59ba8fd7cbb3726615",
       "value": 3
      }
     },
     "7141f67d07724d8ea22657532723611a": {
      "model_module": "@jupyter-widgets/controls",
      "model_module_version": "1.5.0",
      "model_name": "HTMLModel",
      "state": {
       "layout": "IPY_MODEL_1967563cc7884fab8dcad9251674bad5",
       "style": "IPY_MODEL_54aa013bd60649b3ab95bad58ecf8c07",
       "value": " 518/518 [00:05&lt;00:00, 102.85it/s]"
      }
     },
     "71768a0c19294101bf24fe3582e8439e": {
      "model_module": "@jupyter-widgets/base",
      "model_module_version": "1.2.0",
      "model_name": "LayoutModel",
      "state": {}
     },
     "71eb1b0489ca4b40a3a9dc2a56dccb04": {
      "model_module": "@jupyter-widgets/controls",
      "model_module_version": "1.5.0",
      "model_name": "HTMLModel",
      "state": {
       "layout": "IPY_MODEL_37a76134073146418946bf43c2bb548d",
       "style": "IPY_MODEL_75ae0d450aac4242ab09b80f9bdb3224",
       "value": " 2082/2082 [01:50&lt;00:00, 18.90it/s]"
      }
     },
     "72a3d5e3f2094e3e9e46182e982f8c4a": {
      "model_module": "@jupyter-widgets/controls",
      "model_module_version": "1.5.0",
      "model_name": "ProgressStyleModel",
      "state": {
       "description_width": "initial"
      }
     },
     "72fb7637dd774feaa2e1edf7232ea7a6": {
      "model_module": "@jupyter-widgets/base",
      "model_module_version": "1.2.0",
      "model_name": "LayoutModel",
      "state": {}
     },
     "73025cd7f9ca4fab995d2bd4fed2dcf2": {
      "model_module": "@jupyter-widgets/controls",
      "model_module_version": "1.5.0",
      "model_name": "FloatProgressModel",
      "state": {
       "bar_style": "success",
       "description": "Current iteration: 100%",
       "layout": "IPY_MODEL_9f74875458b04b2bbfb8ebd02daae8d5",
       "max": 47,
       "style": "IPY_MODEL_66e47a2d195647978289257854d5e093",
       "value": 47
      }
     },
     "7370828183f044fd9414310059a5f3e6": {
      "model_module": "@jupyter-widgets/base",
      "model_module_version": "1.2.0",
      "model_name": "LayoutModel",
      "state": {}
     },
     "73c3dcb6b50144b7b5409d5539fe4044": {
      "model_module": "@jupyter-widgets/base",
      "model_module_version": "1.2.0",
      "model_name": "LayoutModel",
      "state": {}
     },
     "73e9ebae0c614222a7814ca30759f7f7": {
      "model_module": "@jupyter-widgets/controls",
      "model_module_version": "1.5.0",
      "model_name": "FloatProgressModel",
      "state": {
       "bar_style": "success",
       "description": "100%",
       "layout": "IPY_MODEL_c9ca12fa5095499ca2ad8c8aaddc30af",
       "max": 532,
       "style": "IPY_MODEL_4f442db076184c8898422ea5b255b1a3",
       "value": 532
      }
     },
     "74ce257cf5354c639d28abb94371d75d": {
      "model_module": "@jupyter-widgets/controls",
      "model_module_version": "1.5.0",
      "model_name": "HTMLModel",
      "state": {
       "layout": "IPY_MODEL_b4eac3287e0c4ee6ac12ed7ac4063472",
       "style": "IPY_MODEL_3ccc9ce198754b328acad45ce15e6cf3",
       "value": " 47/47 [01:15&lt;00:00,  1.60s/it]"
      }
     },
     "74f179d12cbe4d58a795de0c4d4b3271": {
      "model_module": "@jupyter-widgets/base",
      "model_module_version": "1.2.0",
      "model_name": "LayoutModel",
      "state": {}
     },
     "752f66cdd0164e0588b4e06a0fcd9907": {
      "model_module": "@jupyter-widgets/controls",
      "model_module_version": "1.5.0",
      "model_name": "HTMLModel",
      "state": {
       "layout": "IPY_MODEL_d23a7451575445218556a4b90448e71c",
       "style": "IPY_MODEL_3c7dd246bcf9442ba0d539975b2dc172",
       "value": " 515/515 [00:05&lt;00:00, 101.20it/s]"
      }
     },
     "753af4f94a4b481fb00bd7a0449e9649": {
      "model_module": "@jupyter-widgets/controls",
      "model_module_version": "1.5.0",
      "model_name": "HTMLModel",
      "state": {
       "layout": "IPY_MODEL_1160f7ead2734b6fb2f650e4444e67a8",
       "style": "IPY_MODEL_b60b4a59f87c42d0b302e058e5d0b3c2",
       "value": " 2068/2068 [01:43&lt;00:00, 20.05it/s]"
      }
     },
     "7568e33bce1f49e1823e4699d2addf22": {
      "model_module": "@jupyter-widgets/controls",
      "model_module_version": "1.5.0",
      "model_name": "ProgressStyleModel",
      "state": {
       "description_width": "initial"
      }
     },
     "75ae0d450aac4242ab09b80f9bdb3224": {
      "model_module": "@jupyter-widgets/controls",
      "model_module_version": "1.5.0",
      "model_name": "DescriptionStyleModel",
      "state": {
       "description_width": ""
      }
     },
     "75e0b7d9bf5b4c3ea2ffa542e803336a": {
      "model_module": "@jupyter-widgets/controls",
      "model_module_version": "1.5.0",
      "model_name": "FloatProgressModel",
      "state": {
       "bar_style": "success",
       "description": "Epoch: 100%",
       "layout": "IPY_MODEL_ed8c9502f0de435fa6a417b1c4279e80",
       "max": 3,
       "style": "IPY_MODEL_d4bfa9329cdf497889194efcc89349a0",
       "value": 3
      }
     },
     "76053c19dbdf4a44b4c3e1bc084b0784": {
      "model_module": "@jupyter-widgets/base",
      "model_module_version": "1.2.0",
      "model_name": "LayoutModel",
      "state": {}
     },
     "762663f314a04cafbf529c1224b22193": {
      "model_module": "@jupyter-widgets/base",
      "model_module_version": "1.2.0",
      "model_name": "LayoutModel",
      "state": {}
     },
     "76570c6502e943aebaddb4bc58c7e2b2": {
      "model_module": "@jupyter-widgets/base",
      "model_module_version": "1.2.0",
      "model_name": "LayoutModel",
      "state": {}
     },
     "7660c75d39184bfa984bd53ecea93d66": {
      "model_module": "@jupyter-widgets/controls",
      "model_module_version": "1.5.0",
      "model_name": "DescriptionStyleModel",
      "state": {
       "description_width": ""
      }
     },
     "76a615ae89504c4caf065ee2b248be9c": {
      "model_module": "@jupyter-widgets/controls",
      "model_module_version": "1.5.0",
      "model_name": "HBoxModel",
      "state": {
       "children": [
        "IPY_MODEL_e79fa76ad9bb4f2a90edf48acb9770a9",
        "IPY_MODEL_eae7d8f730374f8997eb104c4de077d2"
       ],
       "layout": "IPY_MODEL_197c76723aa244b2a2a302599dcbd977"
      }
     },
     "76f90b710702482f9ee2deef684ba996": {
      "model_module": "@jupyter-widgets/controls",
      "model_module_version": "1.5.0",
      "model_name": "ProgressStyleModel",
      "state": {
       "description_width": "initial"
      }
     },
     "7727ca8576f9481995f8d89a0326bddb": {
      "model_module": "@jupyter-widgets/controls",
      "model_module_version": "1.5.0",
      "model_name": "ProgressStyleModel",
      "state": {
       "description_width": "initial"
      }
     },
     "77c81ad796924c2e81a248640177f5f6": {
      "model_module": "@jupyter-widgets/base",
      "model_module_version": "1.2.0",
      "model_name": "LayoutModel",
      "state": {}
     },
     "781ca00bb4b048f5ae9629680cfdc865": {
      "model_module": "@jupyter-widgets/base",
      "model_module_version": "1.2.0",
      "model_name": "LayoutModel",
      "state": {}
     },
     "7865b92cbec148f6aaa9a79093de29be": {
      "model_module": "@jupyter-widgets/controls",
      "model_module_version": "1.5.0",
      "model_name": "FloatProgressModel",
      "state": {
       "bar_style": "success",
       "description": "Epoch: 100%",
       "layout": "IPY_MODEL_27ed2085b3f349cb830f437fcade23ee",
       "max": 3,
       "style": "IPY_MODEL_4584ca4e69664edaaf32813c7598a46e",
       "value": 3
      }
     },
     "7873459db6ca4873aa486478127ff7c7": {
      "model_module": "@jupyter-widgets/controls",
      "model_module_version": "1.5.0",
      "model_name": "HBoxModel",
      "state": {
       "children": [
        "IPY_MODEL_68f59123dd0143669bdf11420491e50c",
        "IPY_MODEL_ff4354acea654bada44ae300c009a0f1"
       ],
       "layout": "IPY_MODEL_d31cff18e759425a9e6341e51152a0a1"
      }
     },
     "789c5664a1a54ce1baed20d7e462667b": {
      "model_module": "@jupyter-widgets/controls",
      "model_module_version": "1.5.0",
      "model_name": "ProgressStyleModel",
      "state": {
       "description_width": "initial"
      }
     },
     "78ff0362fa794cc3811c22d303503e84": {
      "model_module": "@jupyter-widgets/controls",
      "model_module_version": "1.5.0",
      "model_name": "FloatProgressModel",
      "state": {
       "bar_style": "success",
       "description": "Current iteration: 100%",
       "layout": "IPY_MODEL_e9c39c92f969422cb2d8bdcd6cb74be5",
       "max": 47,
       "style": "IPY_MODEL_9c5f2892a49f4d24a1e0d2ea625de69f",
       "value": 47
      }
     },
     "7915b06c552646959c6388e893fa287d": {
      "model_module": "@jupyter-widgets/controls",
      "model_module_version": "1.5.0",
      "model_name": "HTMLModel",
      "state": {
       "layout": "IPY_MODEL_9c1e6e2970c74f75baf4f3d2cf8b6012",
       "style": "IPY_MODEL_fddbf4a032ed42c29dbc54d6fe718225",
       "value": " 3/3 [01:47&lt;00:00, 35.68s/it]"
      }
     },
     "791ae982eba54e0aaa3993ee4e228fae": {
      "model_module": "@jupyter-widgets/controls",
      "model_module_version": "1.5.0",
      "model_name": "ProgressStyleModel",
      "state": {
       "description_width": "initial"
      }
     },
     "793d910509c644d59ea9a4f6883fbfc3": {
      "model_module": "@jupyter-widgets/controls",
      "model_module_version": "1.5.0",
      "model_name": "HTMLModel",
      "state": {
       "layout": "IPY_MODEL_7b4e92595b7d48789034c2467dd009b3",
       "style": "IPY_MODEL_fbb9732a4e4d47a9ae932f9b92951129",
       "value": " 2084/2084 [01:51&lt;00:00, 18.74it/s]"
      }
     },
     "7955d50a4a584b8e823f92e38db83884": {
      "model_module": "@jupyter-widgets/controls",
      "model_module_version": "1.5.0",
      "model_name": "HTMLModel",
      "state": {
       "layout": "IPY_MODEL_45e234741af0437a967f08b412fa7597",
       "style": "IPY_MODEL_996ad616640d48919f1ba0a03ff219bc",
       "value": " 47/47 [01:13&lt;00:00,  1.57s/it]"
      }
     },
     "795d5329285b4f17bd7b6422df51075e": {
      "model_module": "@jupyter-widgets/controls",
      "model_module_version": "1.5.0",
      "model_name": "FloatProgressModel",
      "state": {
       "bar_style": "success",
       "description": "Current iteration: 100%",
       "layout": "IPY_MODEL_51bc545721ad44b69f2c3389b96b10c1",
       "max": 47,
       "style": "IPY_MODEL_7c3a0f3a712d4be9a290b411ff02c97a",
       "value": 47
      }
     },
     "79cabaa5c69e4cf0bfa18336c7ea0583": {
      "model_module": "@jupyter-widgets/controls",
      "model_module_version": "1.5.0",
      "model_name": "ProgressStyleModel",
      "state": {
       "description_width": "initial"
      }
     },
     "79f40489dc1a4188b743838bf22412e1": {
      "model_module": "@jupyter-widgets/controls",
      "model_module_version": "1.5.0",
      "model_name": "HBoxModel",
      "state": {
       "children": [
        "IPY_MODEL_ff0cf2feaacb49078d254cc6f7b304c0",
        "IPY_MODEL_bf25b374b5454bb1ad62b358f74a161e"
       ],
       "layout": "IPY_MODEL_e721aab52c2b4297b71415ad4548842b"
      }
     },
     "7a1a2c1632ed40a78280cb0919697662": {
      "model_module": "@jupyter-widgets/controls",
      "model_module_version": "1.5.0",
      "model_name": "FloatProgressModel",
      "state": {
       "bar_style": "success",
       "description": "100%",
       "layout": "IPY_MODEL_962cad807e364e679bfac091c67122d6",
       "max": 65,
       "style": "IPY_MODEL_84ff6d1ee7bf411e9d70bd7237fa0d67",
       "value": 65
      }
     },
     "7a1b0ada75ec4a84aef70998b51245ad": {
      "model_module": "@jupyter-widgets/controls",
      "model_module_version": "1.5.0",
      "model_name": "FloatProgressModel",
      "state": {
       "bar_style": "success",
       "description": "Epoch: 100%",
       "layout": "IPY_MODEL_83c240b8dcc24af6b9afe7ad7a45a043",
       "max": 3,
       "style": "IPY_MODEL_1fc47fea5c3f4710b5be069e461e21af",
       "value": 3
      }
     },
     "7a2e1efb05a044c29676a33ace6d83e4": {
      "model_module": "@jupyter-widgets/controls",
      "model_module_version": "1.5.0",
      "model_name": "DescriptionStyleModel",
      "state": {
       "description_width": ""
      }
     },
     "7a32778b696b4fbe8fd2934601d6518b": {
      "model_module": "@jupyter-widgets/controls",
      "model_module_version": "1.5.0",
      "model_name": "HBoxModel",
      "state": {
       "children": [
        "IPY_MODEL_109f59ba45b04b038ff48c1fa0ee43d5",
        "IPY_MODEL_8c901481dbaa4a598359c86c8f1f84c2"
       ],
       "layout": "IPY_MODEL_f18a6d3874f045eb82dfe797504dd08b"
      }
     },
     "7a3b874a1935451faa94c5708cb95964": {
      "model_module": "@jupyter-widgets/controls",
      "model_module_version": "1.5.0",
      "model_name": "HBoxModel",
      "state": {
       "children": [
        "IPY_MODEL_9b349e1a757b4498ab0d1b340ae64f7f",
        "IPY_MODEL_e39e0a4bf0ab4e9f87a23e6dab8546e3"
       ],
       "layout": "IPY_MODEL_4890842f87e04f1badeca21aba65c601"
      }
     },
     "7a5b8a14a5e844278a4319d014b67541": {
      "model_module": "@jupyter-widgets/base",
      "model_module_version": "1.2.0",
      "model_name": "LayoutModel",
      "state": {}
     },
     "7b41f42f020344f2aaf987ca81d39f3e": {
      "model_module": "@jupyter-widgets/controls",
      "model_module_version": "1.5.0",
      "model_name": "HBoxModel",
      "state": {
       "children": [
        "IPY_MODEL_4e37cdc2f5f14f2dae562a0ddde164c5",
        "IPY_MODEL_7d6e3d012f1c4df3945329fa2b831353"
       ],
       "layout": "IPY_MODEL_1b8af807e55f4d4d9cb66e5692ee7e81"
      }
     },
     "7b49ee07c137444abebb99788f100484": {
      "model_module": "@jupyter-widgets/controls",
      "model_module_version": "1.5.0",
      "model_name": "FloatProgressModel",
      "state": {
       "bar_style": "success",
       "description": "100%",
       "layout": "IPY_MODEL_86bf6b366faa46739b43b7fb841a448b",
       "max": 2085,
       "style": "IPY_MODEL_41b2df83d7014298a5c0202d42c1c539",
       "value": 2085
      }
     },
     "7b4e92595b7d48789034c2467dd009b3": {
      "model_module": "@jupyter-widgets/base",
      "model_module_version": "1.2.0",
      "model_name": "LayoutModel",
      "state": {}
     },
     "7be1cab4559a4963809f4b745bc4ee9e": {
      "model_module": "@jupyter-widgets/controls",
      "model_module_version": "1.5.0",
      "model_name": "DescriptionStyleModel",
      "state": {
       "description_width": ""
      }
     },
     "7c3a0f3a712d4be9a290b411ff02c97a": {
      "model_module": "@jupyter-widgets/controls",
      "model_module_version": "1.5.0",
      "model_name": "ProgressStyleModel",
      "state": {
       "description_width": "initial"
      }
     },
     "7c4837f1a2564aeebe3ea8cc84e8c8a8": {
      "model_module": "@jupyter-widgets/controls",
      "model_module_version": "1.5.0",
      "model_name": "HBoxModel",
      "state": {
       "children": [
        "IPY_MODEL_97bbe9f0a4284d5492bc4d44959ba550",
        "IPY_MODEL_3f7600d3d4dc43b595e7aad949c92998"
       ],
       "layout": "IPY_MODEL_cd965a5ef7b24945874a6631d71cf881"
      }
     },
     "7cc117c2659c4e75b4f974050d4785b7": {
      "model_module": "@jupyter-widgets/controls",
      "model_module_version": "1.5.0",
      "model_name": "ProgressStyleModel",
      "state": {
       "description_width": "initial"
      }
     },
     "7d1136bf46124b7ebf839ddcf25a8a71": {
      "model_module": "@jupyter-widgets/controls",
      "model_module_version": "1.5.0",
      "model_name": "HBoxModel",
      "state": {
       "children": [
        "IPY_MODEL_795d5329285b4f17bd7b6422df51075e",
        "IPY_MODEL_cfb2d7bf54b940aea40897f45a4f1a35"
       ],
       "layout": "IPY_MODEL_eb39ee964b5e4ea4937e3c0f6f1323c0"
      }
     },
     "7d6e3d012f1c4df3945329fa2b831353": {
      "model_module": "@jupyter-widgets/controls",
      "model_module_version": "1.5.0",
      "model_name": "HTMLModel",
      "state": {
       "layout": "IPY_MODEL_93cc5ffa355542618976ccb482a13807",
       "style": "IPY_MODEL_05473c64e632473b9d20a2f292165e50",
       "value": " 47/47 [00:40&lt;00:00,  1.17it/s]"
      }
     },
     "7dc9971a7bde44f8a2ea26934da3d4f3": {
      "model_module": "@jupyter-widgets/controls",
      "model_module_version": "1.5.0",
      "model_name": "HTMLModel",
      "state": {
       "layout": "IPY_MODEL_74f179d12cbe4d58a795de0c4d4b3271",
       "style": "IPY_MODEL_0a57465373a740c086e0159fceb07ec6",
       "value": " 3/3 [01:48&lt;00:00, 36.33s/it]"
      }
     },
     "7df9560740c14f20b2751a8042aaca20": {
      "model_module": "@jupyter-widgets/controls",
      "model_module_version": "1.5.0",
      "model_name": "HTMLModel",
      "state": {
       "layout": "IPY_MODEL_3a8c8bb30c7046e883c5f770567c7b18",
       "style": "IPY_MODEL_3598d1275b80406986add94727614bbb",
       "value": " 65/65 [00:02&lt;00:00, 22.25it/s]"
      }
     },
     "7e3b609efc7f42cdbe49a2e51cf15b9b": {
      "model_module": "@jupyter-widgets/controls",
      "model_module_version": "1.5.0",
      "model_name": "HBoxModel",
      "state": {
       "children": [
        "IPY_MODEL_ca2413e043c14dec9c90a5d949f9ce1e",
        "IPY_MODEL_5d612ea11ebd4fa58048f5b86b7bc64d"
       ],
       "layout": "IPY_MODEL_65ddeaf5da36431e8f4a31630629de5e"
      }
     },
     "7e542022c0f34880bbc2a99c0ab17f87": {
      "model_module": "@jupyter-widgets/controls",
      "model_module_version": "1.5.0",
      "model_name": "DescriptionStyleModel",
      "state": {
       "description_width": ""
      }
     },
     "7e6071b288754e0c9b9d48efe6ec9035": {
      "model_module": "@jupyter-widgets/base",
      "model_module_version": "1.2.0",
      "model_name": "LayoutModel",
      "state": {}
     },
     "7eba7b32546241eb8eb26004dbcbbdaf": {
      "model_module": "@jupyter-widgets/controls",
      "model_module_version": "1.5.0",
      "model_name": "ProgressStyleModel",
      "state": {
       "description_width": "initial"
      }
     },
     "7ec2206e731a45599f009b9aeb4c2d1b": {
      "model_module": "@jupyter-widgets/controls",
      "model_module_version": "1.5.0",
      "model_name": "FloatProgressModel",
      "state": {
       "bar_style": "success",
       "description": "100%",
       "layout": "IPY_MODEL_b2f6039fdfbb438a9c478b9cd7bb1a65",
       "max": 2081,
       "style": "IPY_MODEL_2cc93556ccbe46a68f06fb530d8ee968",
       "value": 2081
      }
     },
     "7f75fcc8e0fa4eb08a90e11c3d1cbe64": {
      "model_module": "@jupyter-widgets/controls",
      "model_module_version": "1.5.0",
      "model_name": "DescriptionStyleModel",
      "state": {
       "description_width": ""
      }
     },
     "7f847fcfed324350bebfe1f1d18fa303": {
      "model_module": "@jupyter-widgets/base",
      "model_module_version": "1.2.0",
      "model_name": "LayoutModel",
      "state": {}
     },
     "7f86b23de5764993ab1410e12b2a0221": {
      "model_module": "@jupyter-widgets/base",
      "model_module_version": "1.2.0",
      "model_name": "LayoutModel",
      "state": {}
     },
     "7f94ef8afefc43519d261d511fd40857": {
      "model_module": "@jupyter-widgets/controls",
      "model_module_version": "1.5.0",
      "model_name": "HBoxModel",
      "state": {
       "children": [
        "IPY_MODEL_8cb7bb5dbd6642f1a5de5c3d4133db1b",
        "IPY_MODEL_cab10843cdcc4ab0a4c77664e57da8f4"
       ],
       "layout": "IPY_MODEL_5492da6521564766aeaadb089fb7fc5f"
      }
     },
     "8015c226d83b49fe8f49600d9f62f05b": {
      "model_module": "@jupyter-widgets/base",
      "model_module_version": "1.2.0",
      "model_name": "LayoutModel",
      "state": {}
     },
     "802f5e5226554187b1959afd0758630b": {
      "model_module": "@jupyter-widgets/controls",
      "model_module_version": "1.5.0",
      "model_name": "FloatProgressModel",
      "state": {
       "bar_style": "success",
       "description": "100%",
       "layout": "IPY_MODEL_135ec289ed324b26986823e21b6b7f76",
       "max": 516,
       "style": "IPY_MODEL_c355fe9476fa44bb81650db374b3be30",
       "value": 516
      }
     },
     "804a6fea0acf41d1a8bf4f5f3f598289": {
      "model_module": "@jupyter-widgets/controls",
      "model_module_version": "1.5.0",
      "model_name": "DescriptionStyleModel",
      "state": {
       "description_width": ""
      }
     },
     "807f09ade9c04bd2b8dba3f4053b7ca4": {
      "model_module": "@jupyter-widgets/base",
      "model_module_version": "1.2.0",
      "model_name": "LayoutModel",
      "state": {}
     },
     "80a74d88271745ec90cbcefbb72ea652": {
      "model_module": "@jupyter-widgets/base",
      "model_module_version": "1.2.0",
      "model_name": "LayoutModel",
      "state": {}
     },
     "80adf3a00b6a43ddba989a1a227e59a6": {
      "model_module": "@jupyter-widgets/controls",
      "model_module_version": "1.5.0",
      "model_name": "DescriptionStyleModel",
      "state": {
       "description_width": ""
      }
     },
     "8123288408664355bb6f1575f16fca83": {
      "model_module": "@jupyter-widgets/controls",
      "model_module_version": "1.5.0",
      "model_name": "HBoxModel",
      "state": {
       "children": [
        "IPY_MODEL_f2421de92d5844e9a13fce0de3052594",
        "IPY_MODEL_a09507b075c34f08bcd5ccc344a44674"
       ],
       "layout": "IPY_MODEL_e278a6f4cf2949d6a9da8965c8a77cfb"
      }
     },
     "8139e625b3824fd4b45a9fddbefb6987": {
      "model_module": "@jupyter-widgets/controls",
      "model_module_version": "1.5.0",
      "model_name": "ProgressStyleModel",
      "state": {
       "description_width": "initial"
      }
     },
     "81c98be4d34d41989dfec112d15696ba": {
      "model_module": "@jupyter-widgets/controls",
      "model_module_version": "1.5.0",
      "model_name": "DescriptionStyleModel",
      "state": {
       "description_width": ""
      }
     },
     "82298077684e45c1a371e9bb361ffea2": {
      "model_module": "@jupyter-widgets/controls",
      "model_module_version": "1.5.0",
      "model_name": "ProgressStyleModel",
      "state": {
       "description_width": "initial"
      }
     },
     "8275f22b491d41e6b5bc86b3e2290a11": {
      "model_module": "@jupyter-widgets/controls",
      "model_module_version": "1.5.0",
      "model_name": "DescriptionStyleModel",
      "state": {
       "description_width": ""
      }
     },
     "82efe113ae6b49809ff9aaa03c297834": {
      "model_module": "@jupyter-widgets/controls",
      "model_module_version": "1.5.0",
      "model_name": "FloatProgressModel",
      "state": {
       "bar_style": "success",
       "description": "Epoch: 100%",
       "layout": "IPY_MODEL_592bdc2363c6463cbec922809ebdbe13",
       "max": 3,
       "style": "IPY_MODEL_b94086e4843f41978c70b04ce4be0a21",
       "value": 3
      }
     },
     "82ff493e9a0a4c0f8f9f31f74739de0e": {
      "model_module": "@jupyter-widgets/base",
      "model_module_version": "1.2.0",
      "model_name": "LayoutModel",
      "state": {}
     },
     "8335a3a4fbef428d8edd9df1a3835b92": {
      "model_module": "@jupyter-widgets/controls",
      "model_module_version": "1.5.0",
      "model_name": "ProgressStyleModel",
      "state": {
       "description_width": "initial"
      }
     },
     "83a22745237147fe9a51474786b1acd1": {
      "model_module": "@jupyter-widgets/controls",
      "model_module_version": "1.5.0",
      "model_name": "DescriptionStyleModel",
      "state": {
       "description_width": ""
      }
     },
     "83c240b8dcc24af6b9afe7ad7a45a043": {
      "model_module": "@jupyter-widgets/base",
      "model_module_version": "1.2.0",
      "model_name": "LayoutModel",
      "state": {}
     },
     "83d1f8786bb04b6eaed54b1927b17734": {
      "model_module": "@jupyter-widgets/base",
      "model_module_version": "1.2.0",
      "model_name": "LayoutModel",
      "state": {}
     },
     "84365cf6a0d14bd6b5205af54778cb9b": {
      "model_module": "@jupyter-widgets/controls",
      "model_module_version": "1.5.0",
      "model_name": "HBoxModel",
      "state": {
       "children": [
        "IPY_MODEL_36d85418d5394efd926ab0f1e98e29d3",
        "IPY_MODEL_17ed2e6029bd48d0a1cac26bb1cce85d"
       ],
       "layout": "IPY_MODEL_37ee9a8694174f8a822662abb7f42b5c"
      }
     },
     "844a052fe05a412e830b8b33b83a7a0f": {
      "model_module": "@jupyter-widgets/controls",
      "model_module_version": "1.5.0",
      "model_name": "DescriptionStyleModel",
      "state": {
       "description_width": ""
      }
     },
     "8474b5d43d574961a4f929069b44a553": {
      "model_module": "@jupyter-widgets/controls",
      "model_module_version": "1.5.0",
      "model_name": "HTMLModel",
      "state": {
       "layout": "IPY_MODEL_cfb05f5d9b194990a984f3780a12ebdd",
       "style": "IPY_MODEL_875831fcd8ad4616afd7cfa6beadd69a",
       "value": " 47/47 [01:48&lt;00:00,  2.30s/it]"
      }
     },
     "847c580b76244994b30550de9b554ea0": {
      "model_module": "@jupyter-widgets/base",
      "model_module_version": "1.2.0",
      "model_name": "LayoutModel",
      "state": {}
     },
     "84dfd3f958a04bd0b20f793b6c88749f": {
      "model_module": "@jupyter-widgets/base",
      "model_module_version": "1.2.0",
      "model_name": "LayoutModel",
      "state": {}
     },
     "84e27698f82949fd9b1a4ee4b4552820": {
      "model_module": "@jupyter-widgets/base",
      "model_module_version": "1.2.0",
      "model_name": "LayoutModel",
      "state": {}
     },
     "84ff34909a364c8bbcf1c5b8e2560026": {
      "model_module": "@jupyter-widgets/base",
      "model_module_version": "1.2.0",
      "model_name": "LayoutModel",
      "state": {}
     },
     "84ff6d1ee7bf411e9d70bd7237fa0d67": {
      "model_module": "@jupyter-widgets/controls",
      "model_module_version": "1.5.0",
      "model_name": "ProgressStyleModel",
      "state": {
       "description_width": "initial"
      }
     },
     "85129b01e8344474982f59ed6875afb3": {
      "model_module": "@jupyter-widgets/controls",
      "model_module_version": "1.5.0",
      "model_name": "HBoxModel",
      "state": {
       "children": [
        "IPY_MODEL_3bbd6988387c4ba988b2cf7f12772742",
        "IPY_MODEL_005160659d3d46a49dddfc1fbb3900e4"
       ],
       "layout": "IPY_MODEL_58361805ccc544ea842cccef85565fbd"
      }
     },
     "856c1c7b3ac2469f859dddb78fb1f522": {
      "model_module": "@jupyter-widgets/controls",
      "model_module_version": "1.5.0",
      "model_name": "DescriptionStyleModel",
      "state": {
       "description_width": ""
      }
     },
     "85d81af5a0a8418cabc0f2c1f847c28c": {
      "model_module": "@jupyter-widgets/controls",
      "model_module_version": "1.5.0",
      "model_name": "DescriptionStyleModel",
      "state": {
       "description_width": ""
      }
     },
     "85ed59c3a028442f924017a7c126b1a5": {
      "model_module": "@jupyter-widgets/controls",
      "model_module_version": "1.5.0",
      "model_name": "HBoxModel",
      "state": {
       "children": [
        "IPY_MODEL_f317fcc7fbb84dd38d7d17d6669e2433",
        "IPY_MODEL_626230d459a444d4a9dbc1d81d784a2f"
       ],
       "layout": "IPY_MODEL_4157275881a84c32a7bf577812431863"
      }
     },
     "85fb63352dc34efa87e8827d633b9bd0": {
      "model_module": "@jupyter-widgets/controls",
      "model_module_version": "1.5.0",
      "model_name": "FloatProgressModel",
      "state": {
       "bar_style": "success",
       "description": "100%",
       "layout": "IPY_MODEL_907a0a67a5ce41579dcfd9a4097e3c05",
       "max": 532,
       "style": "IPY_MODEL_f0148059cf3f40a48d59dfda4344b64b",
       "value": 532
      }
     },
     "860b258c010043c1ae5fd2270fb10328": {
      "model_module": "@jupyter-widgets/base",
      "model_module_version": "1.2.0",
      "model_name": "LayoutModel",
      "state": {}
     },
     "868351f4755040f5bb81a3576f914f81": {
      "model_module": "@jupyter-widgets/controls",
      "model_module_version": "1.5.0",
      "model_name": "ProgressStyleModel",
      "state": {
       "description_width": "initial"
      }
     },
     "86bf6b366faa46739b43b7fb841a448b": {
      "model_module": "@jupyter-widgets/base",
      "model_module_version": "1.2.0",
      "model_name": "LayoutModel",
      "state": {}
     },
     "86fe630074544a2babd819123383aea2": {
      "model_module": "@jupyter-widgets/controls",
      "model_module_version": "1.5.0",
      "model_name": "DescriptionStyleModel",
      "state": {
       "description_width": ""
      }
     },
     "873c23f9a4e54d449a906ed96d48abb9": {
      "model_module": "@jupyter-widgets/controls",
      "model_module_version": "1.5.0",
      "model_name": "ProgressStyleModel",
      "state": {
       "description_width": "initial"
      }
     },
     "874dda48e8594b27a1b2c49b639c7def": {
      "model_module": "@jupyter-widgets/base",
      "model_module_version": "1.2.0",
      "model_name": "LayoutModel",
      "state": {}
     },
     "875831fcd8ad4616afd7cfa6beadd69a": {
      "model_module": "@jupyter-widgets/controls",
      "model_module_version": "1.5.0",
      "model_name": "DescriptionStyleModel",
      "state": {
       "description_width": ""
      }
     },
     "87631bcb14634086ab6ce6fc4743c845": {
      "model_module": "@jupyter-widgets/base",
      "model_module_version": "1.2.0",
      "model_name": "LayoutModel",
      "state": {}
     },
     "87ce58071c354dc0b0847f095d8881db": {
      "model_module": "@jupyter-widgets/base",
      "model_module_version": "1.2.0",
      "model_name": "LayoutModel",
      "state": {}
     },
     "87eb1ad062924309a68175de2e22a347": {
      "model_module": "@jupyter-widgets/controls",
      "model_module_version": "1.5.0",
      "model_name": "HBoxModel",
      "state": {
       "children": [
        "IPY_MODEL_70f340669b8448fa911886391dc8d674",
        "IPY_MODEL_580277cdfd3c488f94de8023dd831b7c"
       ],
       "layout": "IPY_MODEL_ab86476d5a3449cbbdcdc6845f6acd64"
      }
     },
     "8827e95f469e46dfbca92527784731ee": {
      "model_module": "@jupyter-widgets/base",
      "model_module_version": "1.2.0",
      "model_name": "LayoutModel",
      "state": {}
     },
     "886abbcb1a8443c2a9ed68d6fde7d9fe": {
      "model_module": "@jupyter-widgets/controls",
      "model_module_version": "1.5.0",
      "model_name": "ProgressStyleModel",
      "state": {
       "description_width": "initial"
      }
     },
     "887e1002cae24b60b342d1c384b3e8cd": {
      "model_module": "@jupyter-widgets/base",
      "model_module_version": "1.2.0",
      "model_name": "LayoutModel",
      "state": {}
     },
     "88c2b67ef15c43e2af45bc80a79fbff5": {
      "model_module": "@jupyter-widgets/controls",
      "model_module_version": "1.5.0",
      "model_name": "FloatProgressModel",
      "state": {
       "bar_style": "success",
       "description": "Current iteration: 100%",
       "layout": "IPY_MODEL_66b30bafaa084284a2f8da0558fb4a37",
       "max": 47,
       "style": "IPY_MODEL_11cb570bfeff470b998377fac1e2034a",
       "value": 47
      }
     },
     "89403a2984d24d99be23dafdc46f8878": {
      "model_module": "@jupyter-widgets/controls",
      "model_module_version": "1.5.0",
      "model_name": "HBoxModel",
      "state": {
       "children": [
        "IPY_MODEL_66e0a1c2a35f4050bcbdc9687872b0e3",
        "IPY_MODEL_af374116aee540558333ce1dfcc11015"
       ],
       "layout": "IPY_MODEL_8aa251d81581473ebe93f647bafd5dee"
      }
     },
     "8989bb19e85a468fb800895c7e0871f1": {
      "model_module": "@jupyter-widgets/base",
      "model_module_version": "1.2.0",
      "model_name": "LayoutModel",
      "state": {}
     },
     "89d84731db3f4164bee8097ea4c4eb84": {
      "model_module": "@jupyter-widgets/base",
      "model_module_version": "1.2.0",
      "model_name": "LayoutModel",
      "state": {}
     },
     "8a5a8eeb494d4d2d808dee2b85eed843": {
      "model_module": "@jupyter-widgets/controls",
      "model_module_version": "1.5.0",
      "model_name": "DescriptionStyleModel",
      "state": {
       "description_width": ""
      }
     },
     "8a69a57e481149b2a01b3b6aec77bbe5": {
      "model_module": "@jupyter-widgets/controls",
      "model_module_version": "1.5.0",
      "model_name": "HBoxModel",
      "state": {
       "children": [
        "IPY_MODEL_a4c790e6740a44e789204f68871c7541",
        "IPY_MODEL_5bb52e34d5fb4122a4328ca5fd510a68"
       ],
       "layout": "IPY_MODEL_3b81f325a5db4b798726475c8c4aa11d"
      }
     },
     "8aa251d81581473ebe93f647bafd5dee": {
      "model_module": "@jupyter-widgets/base",
      "model_module_version": "1.2.0",
      "model_name": "LayoutModel",
      "state": {}
     },
     "8aa3915c71c448908aaf5b766c669f41": {
      "model_module": "@jupyter-widgets/base",
      "model_module_version": "1.2.0",
      "model_name": "LayoutModel",
      "state": {}
     },
     "8ac041aab9e04581a97a1ccac6bb4b84": {
      "model_module": "@jupyter-widgets/controls",
      "model_module_version": "1.5.0",
      "model_name": "ProgressStyleModel",
      "state": {
       "description_width": "initial"
      }
     },
     "8aff9d38ab144d42a76aa7c2f5685966": {
      "model_module": "@jupyter-widgets/controls",
      "model_module_version": "1.5.0",
      "model_name": "DescriptionStyleModel",
      "state": {
       "description_width": ""
      }
     },
     "8b5ceb7923a84936ae7b598334ae8282": {
      "model_module": "@jupyter-widgets/base",
      "model_module_version": "1.2.0",
      "model_name": "LayoutModel",
      "state": {}
     },
     "8bc34fdc7c75449299b67b33d8b1e47b": {
      "model_module": "@jupyter-widgets/controls",
      "model_module_version": "1.5.0",
      "model_name": "FloatProgressModel",
      "state": {
       "bar_style": "success",
       "description": "Current iteration: 100%",
       "layout": "IPY_MODEL_1942efdb7dcd4ef49eef64706d81a1b7",
       "max": 47,
       "style": "IPY_MODEL_26d03e92550348078d36dc04f4121d59",
       "value": 47
      }
     },
     "8c13c15190c4492a96188796a2c14997": {
      "model_module": "@jupyter-widgets/base",
      "model_module_version": "1.2.0",
      "model_name": "LayoutModel",
      "state": {}
     },
     "8c47430be5954d8aaea517a14bdc5425": {
      "model_module": "@jupyter-widgets/controls",
      "model_module_version": "1.5.0",
      "model_name": "DescriptionStyleModel",
      "state": {
       "description_width": ""
      }
     },
     "8c47720e9882483a81059b77d406801d": {
      "model_module": "@jupyter-widgets/controls",
      "model_module_version": "1.5.0",
      "model_name": "HTMLModel",
      "state": {
       "layout": "IPY_MODEL_3c9131bec7e04fa98d5aa7b8bd838d15",
       "style": "IPY_MODEL_49a05e059db64ff2ae291793af85384f",
       "value": " 532/532 [00:05&lt;00:00, 99.44it/s]"
      }
     },
     "8c8f4484c4ce468db45d9393acbd7d61": {
      "model_module": "@jupyter-widgets/base",
      "model_module_version": "1.2.0",
      "model_name": "LayoutModel",
      "state": {}
     },
     "8c901481dbaa4a598359c86c8f1f84c2": {
      "model_module": "@jupyter-widgets/controls",
      "model_module_version": "1.5.0",
      "model_name": "HTMLModel",
      "state": {
       "layout": "IPY_MODEL_ec28956bec134be89e491b4b76789d52",
       "style": "IPY_MODEL_d7fe141937344f9d80f305ef524d78cb",
       "value": " 46/46 [01:15&lt;00:00,  1.63s/it]"
      }
     },
     "8cb7bb5dbd6642f1a5de5c3d4133db1b": {
      "model_module": "@jupyter-widgets/controls",
      "model_module_version": "1.5.0",
      "model_name": "FloatProgressModel",
      "state": {
       "bar_style": "success",
       "description": "Current iteration: 100%",
       "layout": "IPY_MODEL_a76aa8391f9b43c093672af01d00271b",
       "max": 46,
       "style": "IPY_MODEL_29f58494fdd8455e84b05fd0340d6a35",
       "value": 46
      }
     },
     "8cb9d7a73d9e4ef48b1daaaaf1092b39": {
      "model_module": "@jupyter-widgets/controls",
      "model_module_version": "1.5.0",
      "model_name": "HTMLModel",
      "state": {
       "layout": "IPY_MODEL_c5cb7bb7adb14914a01641cef1e0cf8c",
       "style": "IPY_MODEL_ae3157f351474b3591228f1903b9a2ac",
       "value": " 519/519 [00:05&lt;00:00, 101.56it/s]"
      }
     },
     "8d855e2c79184e0e92e9951a9962b729": {
      "model_module": "@jupyter-widgets/controls",
      "model_module_version": "1.5.0",
      "model_name": "ProgressStyleModel",
      "state": {
       "description_width": "initial"
      }
     },
     "8d8aee5e7b424eadaa369e29e7df1e5a": {
      "model_module": "@jupyter-widgets/base",
      "model_module_version": "1.2.0",
      "model_name": "LayoutModel",
      "state": {}
     },
     "8d9a78ec5ef045bc9fdbc2cb6e60e855": {
      "model_module": "@jupyter-widgets/controls",
      "model_module_version": "1.5.0",
      "model_name": "HTMLModel",
      "state": {
       "layout": "IPY_MODEL_4df13725ca244bcb8605bdec6c05111b",
       "style": "IPY_MODEL_36bfdb17369f49a08c00eb087ce813f7",
       "value": " 47/47 [00:40&lt;00:00,  1.16it/s]"
      }
     },
     "8daa89e6eb9f452aa913c93bc59b8a7d": {
      "model_module": "@jupyter-widgets/controls",
      "model_module_version": "1.5.0",
      "model_name": "FloatProgressModel",
      "state": {
       "bar_style": "success",
       "description": "Current iteration: 100%",
       "layout": "IPY_MODEL_c23675d25b154d2a94e0ead297818ae4",
       "max": 47,
       "style": "IPY_MODEL_789c5664a1a54ce1baed20d7e462667b",
       "value": 47
      }
     },
     "8e119797be864b039bc612df2c4b5b7a": {
      "model_module": "@jupyter-widgets/controls",
      "model_module_version": "1.5.0",
      "model_name": "DescriptionStyleModel",
      "state": {
       "description_width": ""
      }
     },
     "8e40b40a756e44aa92e9bfcfbaec6a8d": {
      "model_module": "@jupyter-widgets/controls",
      "model_module_version": "1.5.0",
      "model_name": "HTMLModel",
      "state": {
       "layout": "IPY_MODEL_807f09ade9c04bd2b8dba3f4053b7ca4",
       "style": "IPY_MODEL_cdf78505643a485aa2a77482e19296e0",
       "value": " 47/47 [00:40&lt;00:00,  1.17it/s]"
      }
     },
     "8e5ae6aa04c74a8fb3c705d175abaa18": {
      "model_module": "@jupyter-widgets/base",
      "model_module_version": "1.2.0",
      "model_name": "LayoutModel",
      "state": {}
     },
     "8fd240faed7b45f8b744c0346f606c65": {
      "model_module": "@jupyter-widgets/controls",
      "model_module_version": "1.5.0",
      "model_name": "DescriptionStyleModel",
      "state": {
       "description_width": ""
      }
     },
     "901240615f254319b986372f4182e621": {
      "model_module": "@jupyter-widgets/controls",
      "model_module_version": "1.5.0",
      "model_name": "DescriptionStyleModel",
      "state": {
       "description_width": ""
      }
     },
     "9046c14b7355492f9bd42dc445768faf": {
      "model_module": "@jupyter-widgets/controls",
      "model_module_version": "1.5.0",
      "model_name": "HTMLModel",
      "state": {
       "layout": "IPY_MODEL_943a46d3b6bc47cd8328058e0bf24499",
       "style": "IPY_MODEL_81c98be4d34d41989dfec112d15696ba",
       "value": " 46/46 [00:40&lt;00:00,  1.14it/s]"
      }
     },
     "904f1998b0df466095e89e708d304e65": {
      "model_module": "@jupyter-widgets/base",
      "model_module_version": "1.2.0",
      "model_name": "LayoutModel",
      "state": {}
     },
     "907a0a67a5ce41579dcfd9a4097e3c05": {
      "model_module": "@jupyter-widgets/base",
      "model_module_version": "1.2.0",
      "model_name": "LayoutModel",
      "state": {}
     },
     "90a59c2f2f7845cda00f69f6a5e2ab45": {
      "model_module": "@jupyter-widgets/controls",
      "model_module_version": "1.5.0",
      "model_name": "DescriptionStyleModel",
      "state": {
       "description_width": ""
      }
     },
     "91041137cb404f2cbb5a4cf3acde7996": {
      "model_module": "@jupyter-widgets/controls",
      "model_module_version": "1.5.0",
      "model_name": "ProgressStyleModel",
      "state": {
       "description_width": "initial"
      }
     },
     "9190152f5f1848c68e835f2c555151d2": {
      "model_module": "@jupyter-widgets/controls",
      "model_module_version": "1.5.0",
      "model_name": "ProgressStyleModel",
      "state": {
       "description_width": "initial"
      }
     },
     "91914f59b9034d26b20cbcca7f19adaa": {
      "model_module": "@jupyter-widgets/controls",
      "model_module_version": "1.5.0",
      "model_name": "FloatProgressModel",
      "state": {
       "bar_style": "success",
       "description": "100%",
       "layout": "IPY_MODEL_122e4bd7621b438b9c3d02ec16c08f57",
       "max": 515,
       "style": "IPY_MODEL_69726256cb704c2092687b9ddd17fdee",
       "value": 515
      }
     },
     "91a0d38d95e04f58a8fceefc5a9c2135": {
      "model_module": "@jupyter-widgets/controls",
      "model_module_version": "1.5.0",
      "model_name": "HBoxModel",
      "state": {
       "children": [
        "IPY_MODEL_802f5e5226554187b1959afd0758630b",
        "IPY_MODEL_611547c07cd540ef881f1d04bb153811"
       ],
       "layout": "IPY_MODEL_f92a525d5f854c1198ea222384c5939d"
      }
     },
     "9260e62ba2724791919f40b585a843da": {
      "model_module": "@jupyter-widgets/controls",
      "model_module_version": "1.5.0",
      "model_name": "FloatProgressModel",
      "state": {
       "bar_style": "success",
       "description": "Current iteration: 100%",
       "layout": "IPY_MODEL_52f8c59989e8468b81c22ef8ac2fc30d",
       "max": 47,
       "style": "IPY_MODEL_adae7958568e470f90c324b21109152b",
       "value": 47
      }
     },
     "926418d6f26d4348bb1a366a54ca8c58": {
      "model_module": "@jupyter-widgets/controls",
      "model_module_version": "1.5.0",
      "model_name": "FloatProgressModel",
      "state": {
       "bar_style": "success",
       "description": "Current iteration: 100%",
       "layout": "IPY_MODEL_3ec74493626e4060ab717ee1908fa167",
       "max": 46,
       "style": "IPY_MODEL_34809c9846fa41c7b590892aaa5bcf00",
       "value": 46
      }
     },
     "930332537a4e48a397ac6e7107f3b189": {
      "model_module": "@jupyter-widgets/base",
      "model_module_version": "1.2.0",
      "model_name": "LayoutModel",
      "state": {}
     },
     "9338f6de1e3e4d19bed1951fc50cbb47": {
      "model_module": "@jupyter-widgets/base",
      "model_module_version": "1.2.0",
      "model_name": "LayoutModel",
      "state": {}
     },
     "93976c8c5adb4899bc4a5dfd55ac9b0a": {
      "model_module": "@jupyter-widgets/controls",
      "model_module_version": "1.5.0",
      "model_name": "ProgressStyleModel",
      "state": {
       "description_width": "initial"
      }
     },
     "93c54de26c264e9ea66262e63d58ab94": {
      "model_module": "@jupyter-widgets/controls",
      "model_module_version": "1.5.0",
      "model_name": "ProgressStyleModel",
      "state": {
       "description_width": "initial"
      }
     },
     "93cc5ffa355542618976ccb482a13807": {
      "model_module": "@jupyter-widgets/base",
      "model_module_version": "1.2.0",
      "model_name": "LayoutModel",
      "state": {}
     },
     "93f0a14a14124d61ac9211edf23a079c": {
      "model_module": "@jupyter-widgets/controls",
      "model_module_version": "1.5.0",
      "model_name": "HTMLModel",
      "state": {
       "layout": "IPY_MODEL_176a1f5a3f554e8e952219ab4b88454b",
       "style": "IPY_MODEL_804a6fea0acf41d1a8bf4f5f3f598289",
       "value": " 47/47 [01:48&lt;00:00,  2.30s/it]"
      }
     },
     "93f5e305c27c49a08c1b99791aeccac9": {
      "model_module": "@jupyter-widgets/controls",
      "model_module_version": "1.5.0",
      "model_name": "HBoxModel",
      "state": {
       "children": [
        "IPY_MODEL_cde32549b4ed47bb8bd425ce31e037e2",
        "IPY_MODEL_aeab6bbc53f74e7290ecc83608efc591"
       ],
       "layout": "IPY_MODEL_263f8d2c2af4403e934c96b7a3cc84b8"
      }
     },
     "943a46d3b6bc47cd8328058e0bf24499": {
      "model_module": "@jupyter-widgets/base",
      "model_module_version": "1.2.0",
      "model_name": "LayoutModel",
      "state": {}
     },
     "94549bdabbd047fdb029b94980f1c565": {
      "model_module": "@jupyter-widgets/controls",
      "model_module_version": "1.5.0",
      "model_name": "FloatProgressModel",
      "state": {
       "bar_style": "success",
       "description": "100%",
       "layout": "IPY_MODEL_47a3156b82d348a38ce97f7b92725661",
       "max": 515,
       "style": "IPY_MODEL_873c23f9a4e54d449a906ed96d48abb9",
       "value": 515
      }
     },
     "946e60c8bb0b4bfaa44be36a5500e26f": {
      "model_module": "@jupyter-widgets/base",
      "model_module_version": "1.2.0",
      "model_name": "LayoutModel",
      "state": {}
     },
     "94b18fd6fa454f59b9c2db068d79a18d": {
      "model_module": "@jupyter-widgets/base",
      "model_module_version": "1.2.0",
      "model_name": "LayoutModel",
      "state": {}
     },
     "94fbfd378d074307b82f5c8c1b72a6b4": {
      "model_module": "@jupyter-widgets/controls",
      "model_module_version": "1.5.0",
      "model_name": "ProgressStyleModel",
      "state": {
       "description_width": "initial"
      }
     },
     "95327fc6485147a88d28d012a200244e": {
      "model_module": "@jupyter-widgets/controls",
      "model_module_version": "1.5.0",
      "model_name": "HBoxModel",
      "state": {
       "children": [
        "IPY_MODEL_feaa8bdae47c4db39b6d43954f4073a7",
        "IPY_MODEL_7915b06c552646959c6388e893fa287d"
       ],
       "layout": "IPY_MODEL_a1f0c025aebc409eb47ec45da46fbee9"
      }
     },
     "9551826c8ccd4e3ea54c08d3cd6b57d0": {
      "model_module": "@jupyter-widgets/controls",
      "model_module_version": "1.5.0",
      "model_name": "ProgressStyleModel",
      "state": {
       "description_width": "initial"
      }
     },
     "9552f5403d4b4402b94a2c24189be51a": {
      "model_module": "@jupyter-widgets/controls",
      "model_module_version": "1.5.0",
      "model_name": "ProgressStyleModel",
      "state": {
       "description_width": "initial"
      }
     },
     "95976c86d574405da25838d88854640f": {
      "model_module": "@jupyter-widgets/controls",
      "model_module_version": "1.5.0",
      "model_name": "DescriptionStyleModel",
      "state": {
       "description_width": ""
      }
     },
     "959ddfbb24244f91a95c819937335b32": {
      "model_module": "@jupyter-widgets/base",
      "model_module_version": "1.2.0",
      "model_name": "LayoutModel",
      "state": {}
     },
     "95abdb0253634879a1fe217c9f3e177b": {
      "model_module": "@jupyter-widgets/controls",
      "model_module_version": "1.5.0",
      "model_name": "DescriptionStyleModel",
      "state": {
       "description_width": ""
      }
     },
     "961ffe928325493bb9b92f70ca6ea455": {
      "model_module": "@jupyter-widgets/controls",
      "model_module_version": "1.5.0",
      "model_name": "HTMLModel",
      "state": {
       "layout": "IPY_MODEL_12a95313c002486894dd7353b2614d1a",
       "style": "IPY_MODEL_fda04a07d8024e61ba39151d5e55feed",
       "value": " 3/3 [01:48&lt;00:00, 36.01s/it]"
      }
     },
     "962cad807e364e679bfac091c67122d6": {
      "model_module": "@jupyter-widgets/base",
      "model_module_version": "1.2.0",
      "model_name": "LayoutModel",
      "state": {}
     },
     "964fa01299244feb8d21989da6696fc3": {
      "model_module": "@jupyter-widgets/base",
      "model_module_version": "1.2.0",
      "model_name": "LayoutModel",
      "state": {}
     },
     "965a0a2edaf1410694836b32329367e0": {
      "model_module": "@jupyter-widgets/controls",
      "model_module_version": "1.5.0",
      "model_name": "ProgressStyleModel",
      "state": {
       "description_width": "initial"
      }
     },
     "9692f6e7a9a34205a4bc8f65aa791be2": {
      "model_module": "@jupyter-widgets/base",
      "model_module_version": "1.2.0",
      "model_name": "LayoutModel",
      "state": {}
     },
     "96ee35995b7c4d198673cbb881124eec": {
      "model_module": "@jupyter-widgets/controls",
      "model_module_version": "1.5.0",
      "model_name": "FloatProgressModel",
      "state": {
       "bar_style": "success",
       "description": "100%",
       "layout": "IPY_MODEL_310ec42c3da0429c964ea3ffd0184c85",
       "max": 65,
       "style": "IPY_MODEL_eee7a1bb13ae48bc9398931f24984b5c",
       "value": 65
      }
     },
     "96f2c059aa8f4ebc8f33fe237845f2fb": {
      "model_module": "@jupyter-widgets/controls",
      "model_module_version": "1.5.0",
      "model_name": "FloatProgressModel",
      "state": {
       "bar_style": "success",
       "description": "100%",
       "layout": "IPY_MODEL_d341bc91d0f440f0b83e811652662015",
       "max": 532,
       "style": "IPY_MODEL_e63afd9341b340fc80e20ad0e6827083",
       "value": 532
      }
     },
     "974ee7fb90dc4c908ffd7759a3edc9cf": {
      "model_module": "@jupyter-widgets/controls",
      "model_module_version": "1.5.0",
      "model_name": "HBoxModel",
      "state": {
       "children": [
        "IPY_MODEL_4ec1ca4f6e114876a5008b77347c395e",
        "IPY_MODEL_e7801af503aa4a7aa79bebd544d4f2a0"
       ],
       "layout": "IPY_MODEL_cefe81cf1a064d2aa5025e0c91726067"
      }
     },
     "976ef056c69f40b28b88fecaa4be8325": {
      "model_module": "@jupyter-widgets/controls",
      "model_module_version": "1.5.0",
      "model_name": "ProgressStyleModel",
      "state": {
       "description_width": "initial"
      }
     },
     "977e30a1ddf24ba3bb9bd0d6b590d7a8": {
      "model_module": "@jupyter-widgets/controls",
      "model_module_version": "1.5.0",
      "model_name": "DescriptionStyleModel",
      "state": {
       "description_width": ""
      }
     },
     "97a27df08af449f3957d54b2c08d4a0f": {
      "model_module": "@jupyter-widgets/base",
      "model_module_version": "1.2.0",
      "model_name": "LayoutModel",
      "state": {}
     },
     "97b1a9392e1a4061a9ec0d2165432fe3": {
      "model_module": "@jupyter-widgets/controls",
      "model_module_version": "1.5.0",
      "model_name": "FloatProgressModel",
      "state": {
       "bar_style": "success",
       "description": "100%",
       "layout": "IPY_MODEL_66ed62e842344b368126f997ab11bafc",
       "max": 516,
       "style": "IPY_MODEL_7cc117c2659c4e75b4f974050d4785b7",
       "value": 516
      }
     },
     "97b6fe9c30914081b86b5d08875099d5": {
      "model_module": "@jupyter-widgets/controls",
      "model_module_version": "1.5.0",
      "model_name": "FloatProgressModel",
      "state": {
       "bar_style": "success",
       "description": "100%",
       "layout": "IPY_MODEL_e7e882ca5b4b4c85b9d43d1c6afb422d",
       "max": 65,
       "style": "IPY_MODEL_65d4e59485384271bae59648333eb5c1",
       "value": 65
      }
     },
     "97bbe9f0a4284d5492bc4d44959ba550": {
      "model_module": "@jupyter-widgets/controls",
      "model_module_version": "1.5.0",
      "model_name": "FloatProgressModel",
      "state": {
       "bar_style": "success",
       "description": "Epoch: 100%",
       "layout": "IPY_MODEL_15467a0a35aa4b62b951e08d415811ef",
       "max": 3,
       "style": "IPY_MODEL_e5b257e3ed5149a59ecb190bf482dc5b",
       "value": 3
      }
     },
     "97c34f138f644f098c54f78c9c8889ba": {
      "model_module": "@jupyter-widgets/base",
      "model_module_version": "1.2.0",
      "model_name": "LayoutModel",
      "state": {}
     },
     "97d08289afc94234b65f3eacfac53192": {
      "model_module": "@jupyter-widgets/base",
      "model_module_version": "1.2.0",
      "model_name": "LayoutModel",
      "state": {}
     },
     "97d6d27646704ddeb5107e73e90194a5": {
      "model_module": "@jupyter-widgets/base",
      "model_module_version": "1.2.0",
      "model_name": "LayoutModel",
      "state": {}
     },
     "9802814b488b411f8dd748dc833039f2": {
      "model_module": "@jupyter-widgets/controls",
      "model_module_version": "1.5.0",
      "model_name": "HTMLModel",
      "state": {
       "layout": "IPY_MODEL_636fa5adef194f5b82ec4f272cb47523",
       "style": "IPY_MODEL_54980a7c875243cbb90838d5a1f05fda",
       "value": " 46/46 [00:30&lt;00:00,  1.49it/s]"
      }
     },
     "9814dde58e7a4685beab8fc7c22e9cff": {
      "model_module": "@jupyter-widgets/base",
      "model_module_version": "1.2.0",
      "model_name": "LayoutModel",
      "state": {}
     },
     "987f016f2bf84cfabf78d8a67f6418e6": {
      "model_module": "@jupyter-widgets/controls",
      "model_module_version": "1.5.0",
      "model_name": "HTMLModel",
      "state": {
       "layout": "IPY_MODEL_eb8fb161ba3840b49932a3cd21e7dba7",
       "style": "IPY_MODEL_57d7018c1ec740b4af83d8441ebbc9da",
       "value": " 46/46 [00:30&lt;00:00,  1.49it/s]"
      }
     },
     "988bcb488f6b40bdb2f125cb265087a3": {
      "model_module": "@jupyter-widgets/controls",
      "model_module_version": "1.5.0",
      "model_name": "FloatProgressModel",
      "state": {
       "bar_style": "success",
       "description": "Current iteration: 100%",
       "layout": "IPY_MODEL_ef66cdcad5a74a06a854e579809cea16",
       "max": 47,
       "style": "IPY_MODEL_e8b47d474f9c47d4a5a152f918819d95",
       "value": 47
      }
     },
     "988ec9beefbf43d881d366e3d421f4a1": {
      "model_module": "@jupyter-widgets/base",
      "model_module_version": "1.2.0",
      "model_name": "LayoutModel",
      "state": {}
     },
     "989bc537891f470e95e53d7a064190fc": {
      "model_module": "@jupyter-widgets/controls",
      "model_module_version": "1.5.0",
      "model_name": "ProgressStyleModel",
      "state": {
       "description_width": "initial"
      }
     },
     "98f8fb7eb0ff4f5b97f981bc8030cecc": {
      "model_module": "@jupyter-widgets/base",
      "model_module_version": "1.2.0",
      "model_name": "LayoutModel",
      "state": {}
     },
     "991a85065cfc435fb593f2c453dcb7ae": {
      "model_module": "@jupyter-widgets/base",
      "model_module_version": "1.2.0",
      "model_name": "LayoutModel",
      "state": {}
     },
     "996ad616640d48919f1ba0a03ff219bc": {
      "model_module": "@jupyter-widgets/controls",
      "model_module_version": "1.5.0",
      "model_name": "DescriptionStyleModel",
      "state": {
       "description_width": ""
      }
     },
     "99beec7f025948ea96bfa83cfe441cfb": {
      "model_module": "@jupyter-widgets/base",
      "model_module_version": "1.2.0",
      "model_name": "LayoutModel",
      "state": {}
     },
     "9a154d7f20904fc9b4a64a983cff9d1c": {
      "model_module": "@jupyter-widgets/controls",
      "model_module_version": "1.5.0",
      "model_name": "ProgressStyleModel",
      "state": {
       "description_width": "initial"
      }
     },
     "9a1cec5b1d2748beab0253c22951abd6": {
      "model_module": "@jupyter-widgets/controls",
      "model_module_version": "1.5.0",
      "model_name": "DescriptionStyleModel",
      "state": {
       "description_width": ""
      }
     },
     "9a79525a2d1647728be07f6cc718ce42": {
      "model_module": "@jupyter-widgets/controls",
      "model_module_version": "1.5.0",
      "model_name": "ProgressStyleModel",
      "state": {
       "description_width": "initial"
      }
     },
     "9a94a6156ebc4fd893ace6b1491c66ab": {
      "model_module": "@jupyter-widgets/base",
      "model_module_version": "1.2.0",
      "model_name": "LayoutModel",
      "state": {}
     },
     "9b349e1a757b4498ab0d1b340ae64f7f": {
      "model_module": "@jupyter-widgets/controls",
      "model_module_version": "1.5.0",
      "model_name": "FloatProgressModel",
      "state": {
       "bar_style": "success",
       "description": "Current iteration: 100%",
       "layout": "IPY_MODEL_b294cd6ea96e491d93256cd4c96b3bd8",
       "max": 47,
       "style": "IPY_MODEL_7eba7b32546241eb8eb26004dbcbbdaf",
       "value": 47
      }
     },
     "9b3e392b9f6e4c18b33b0d970630fe4b": {
      "model_module": "@jupyter-widgets/controls",
      "model_module_version": "1.5.0",
      "model_name": "HBoxModel",
      "state": {
       "children": [
        "IPY_MODEL_6077a0d47bf74f48b0f1d519e854a0e7",
        "IPY_MODEL_0ce72b7af22c43e3994371d2ebf7b082"
       ],
       "layout": "IPY_MODEL_8015c226d83b49fe8f49600d9f62f05b"
      }
     },
     "9b63dd890b3f4fb881d4fd3e75d05d5c": {
      "model_module": "@jupyter-widgets/base",
      "model_module_version": "1.2.0",
      "model_name": "LayoutModel",
      "state": {}
     },
     "9b85976176294add813df9ae87ffb528": {
      "model_module": "@jupyter-widgets/controls",
      "model_module_version": "1.5.0",
      "model_name": "DescriptionStyleModel",
      "state": {
       "description_width": ""
      }
     },
     "9bcd10c5f041427080e88410d9660e8c": {
      "model_module": "@jupyter-widgets/base",
      "model_module_version": "1.2.0",
      "model_name": "LayoutModel",
      "state": {}
     },
     "9bdcafb2df5e4328bb8edddcc0587311": {
      "model_module": "@jupyter-widgets/base",
      "model_module_version": "1.2.0",
      "model_name": "LayoutModel",
      "state": {}
     },
     "9c1e6e2970c74f75baf4f3d2cf8b6012": {
      "model_module": "@jupyter-widgets/base",
      "model_module_version": "1.2.0",
      "model_name": "LayoutModel",
      "state": {}
     },
     "9c5f2892a49f4d24a1e0d2ea625de69f": {
      "model_module": "@jupyter-widgets/controls",
      "model_module_version": "1.5.0",
      "model_name": "ProgressStyleModel",
      "state": {
       "description_width": "initial"
      }
     },
     "9c73c40b73334bf8b5157e6be6688517": {
      "model_module": "@jupyter-widgets/controls",
      "model_module_version": "1.5.0",
      "model_name": "HTMLModel",
      "state": {
       "layout": "IPY_MODEL_dfd1e5eb0d084e05818a3c0c5e3b6294",
       "style": "IPY_MODEL_24dea89742db4d54a9d1abad1687b37b",
       "value": " 65/65 [00:02&lt;00:00, 22.19it/s]"
      }
     },
     "9c8cbdd921794e359bd642f898995466": {
      "model_module": "@jupyter-widgets/controls",
      "model_module_version": "1.5.0",
      "model_name": "HBoxModel",
      "state": {
       "children": [
        "IPY_MODEL_2ba4fe65734740de8c9ee03e388b649c",
        "IPY_MODEL_74ce257cf5354c639d28abb94371d75d"
       ],
       "layout": "IPY_MODEL_5b4fff1ca27f479f9b1b524a8dfbf38f"
      }
     },
     "9cced3ff90324995baa7e41679f3ec87": {
      "model_module": "@jupyter-widgets/base",
      "model_module_version": "1.2.0",
      "model_name": "LayoutModel",
      "state": {}
     },
     "9cd7fc87a5244f32b8390c2d1cda68bb": {
      "model_module": "@jupyter-widgets/controls",
      "model_module_version": "1.5.0",
      "model_name": "HBoxModel",
      "state": {
       "children": [
        "IPY_MODEL_926418d6f26d4348bb1a366a54ca8c58",
        "IPY_MODEL_f876445f981447d1acabf625a53ddf57"
       ],
       "layout": "IPY_MODEL_98f8fb7eb0ff4f5b97f981bc8030cecc"
      }
     },
     "9ce9483c987b4a81abd14d80c72c318d": {
      "model_module": "@jupyter-widgets/controls",
      "model_module_version": "1.5.0",
      "model_name": "HTMLModel",
      "state": {
       "layout": "IPY_MODEL_a50b54a9d5ea48fa9d231586b4edd8b0",
       "style": "IPY_MODEL_2cfb73bd6e3648d88fbdd9cb1d7761b4",
       "value": " 532/532 [00:05&lt;00:00, 101.55it/s]"
      }
     },
     "9d12a79ca25540f2baf218ac267e0c9c": {
      "model_module": "@jupyter-widgets/controls",
      "model_module_version": "1.5.0",
      "model_name": "HBoxModel",
      "state": {
       "children": [
        "IPY_MODEL_d6b23daaaaa54b8b9d9061e1c45793e8",
        "IPY_MODEL_4c6aebd0ea454fd7b009860e4db195ea"
       ],
       "layout": "IPY_MODEL_c2e92d7f568a4e5dbec9d53506c5e361"
      }
     },
     "9d395579e68d4e48b27c5d7c97b8603f": {
      "model_module": "@jupyter-widgets/controls",
      "model_module_version": "1.5.0",
      "model_name": "DescriptionStyleModel",
      "state": {
       "description_width": ""
      }
     },
     "9df38f85d8584e999778cff09c3474f3": {
      "model_module": "@jupyter-widgets/controls",
      "model_module_version": "1.5.0",
      "model_name": "ProgressStyleModel",
      "state": {
       "description_width": "initial"
      }
     },
     "9e140865f92a4a8bb0ea08e64f31b479": {
      "model_module": "@jupyter-widgets/controls",
      "model_module_version": "1.5.0",
      "model_name": "DescriptionStyleModel",
      "state": {
       "description_width": ""
      }
     },
     "9e729012f32e4dab81440a82387deebe": {
      "model_module": "@jupyter-widgets/controls",
      "model_module_version": "1.5.0",
      "model_name": "FloatProgressModel",
      "state": {
       "bar_style": "success",
       "description": "Current iteration: 100%",
       "layout": "IPY_MODEL_d9a828b97e894cd08983a99bae98a103",
       "max": 47,
       "style": "IPY_MODEL_2cd68f7747f648e79a7e650bdcc5696e",
       "value": 47
      }
     },
     "9ed6ac416ed1448fbca24637e3c911bf": {
      "model_module": "@jupyter-widgets/controls",
      "model_module_version": "1.5.0",
      "model_name": "FloatProgressModel",
      "state": {
       "bar_style": "success",
       "description": "100%",
       "layout": "IPY_MODEL_555ecc5e2b174b518fef28345184f8cf",
       "max": 515,
       "style": "IPY_MODEL_b9c9194a3ea04e7090f31a6c97eed88c",
       "value": 515
      }
     },
     "9efc29651f56430aa3117fffc4b7cd23": {
      "model_module": "@jupyter-widgets/controls",
      "model_module_version": "1.5.0",
      "model_name": "HBoxModel",
      "state": {
       "children": [
        "IPY_MODEL_2cd260659ed34483919b5c2d87354147",
        "IPY_MODEL_faaf7983e75c4085b81988e79d6aca36"
       ],
       "layout": "IPY_MODEL_03b259fe3fa04c8599b246905121d646"
      }
     },
     "9efd6f4c72ff467aa312aa33de71767e": {
      "model_module": "@jupyter-widgets/controls",
      "model_module_version": "1.5.0",
      "model_name": "DescriptionStyleModel",
      "state": {
       "description_width": ""
      }
     },
     "9f145727422a4ec5824b088fb97c12b6": {
      "model_module": "@jupyter-widgets/controls",
      "model_module_version": "1.5.0",
      "model_name": "HBoxModel",
      "state": {
       "children": [
        "IPY_MODEL_b30f41d2c88740f5beff17ba321c6963",
        "IPY_MODEL_3060a9a91550420f9b2e6fb745872e8a"
       ],
       "layout": "IPY_MODEL_58da2245bc3b46f4ba65c67e25f1e7d9"
      }
     },
     "9f2b0df0ea764d5c89ed2cb4c44d19ec": {
      "model_module": "@jupyter-widgets/controls",
      "model_module_version": "1.5.0",
      "model_name": "HBoxModel",
      "state": {
       "children": [
        "IPY_MODEL_9ed6ac416ed1448fbca24637e3c911bf",
        "IPY_MODEL_126ba5815ca74d90b94367a01c9e14bd"
       ],
       "layout": "IPY_MODEL_3d40f9a8edc04420a0a6ce95ab7b493e"
      }
     },
     "9f74875458b04b2bbfb8ebd02daae8d5": {
      "model_module": "@jupyter-widgets/base",
      "model_module_version": "1.2.0",
      "model_name": "LayoutModel",
      "state": {}
     },
     "a09507b075c34f08bcd5ccc344a44674": {
      "model_module": "@jupyter-widgets/controls",
      "model_module_version": "1.5.0",
      "model_name": "HTMLModel",
      "state": {
       "layout": "IPY_MODEL_e352fd345e134ea59b7baaaccf5c9155",
       "style": "IPY_MODEL_138706d923114301bfbb18ffe473b368",
       "value": " 3/3 [01:48&lt;00:00, 36.02s/it]"
      }
     },
     "a0bd426a39134bedba36607e571b374a": {
      "model_module": "@jupyter-widgets/controls",
      "model_module_version": "1.5.0",
      "model_name": "HTMLModel",
      "state": {
       "layout": "IPY_MODEL_08dd204f89534e65b5c5658577ca30fb",
       "style": "IPY_MODEL_1fa100b16970451abf689ba9ce9eb0a1",
       "value": " 519/519 [00:05&lt;00:00, 101.76it/s]"
      }
     },
     "a0d11035973c4fff9860569843f5068f": {
      "model_module": "@jupyter-widgets/base",
      "model_module_version": "1.2.0",
      "model_name": "LayoutModel",
      "state": {}
     },
     "a1493981ff034f6391bab88b998ae014": {
      "model_module": "@jupyter-widgets/controls",
      "model_module_version": "1.5.0",
      "model_name": "HBoxModel",
      "state": {
       "children": [
        "IPY_MODEL_ff5ff289d0304e6cb8ef60240f4ce8c9",
        "IPY_MODEL_1be6ec3f4d1c4e2db624f6d238361b4e"
       ],
       "layout": "IPY_MODEL_e3c566431f2f443b9c552725d01fd466"
      }
     },
     "a16d02ada731460cb9e07d8d163f71c3": {
      "model_module": "@jupyter-widgets/controls",
      "model_module_version": "1.5.0",
      "model_name": "HTMLModel",
      "state": {
       "layout": "IPY_MODEL_f2829881f30c4ffbaab5a1f142470e68",
       "style": "IPY_MODEL_ad83021e1393462a9e14cbfc33fb0529",
       "value": " 47/47 [00:31&lt;00:00,  1.51it/s]"
      }
     },
     "a1872e5ac4014514903a7371fdb30241": {
      "model_module": "@jupyter-widgets/controls",
      "model_module_version": "1.5.0",
      "model_name": "HTMLModel",
      "state": {
       "layout": "IPY_MODEL_cdc839b2488549249a855c176e874855",
       "style": "IPY_MODEL_cd6d9fd79270442cbe1a86d1904152f4",
       "value": " 3/3 [01:48&lt;00:00, 36.01s/it]"
      }
     },
     "a1f0c025aebc409eb47ec45da46fbee9": {
      "model_module": "@jupyter-widgets/base",
      "model_module_version": "1.2.0",
      "model_name": "LayoutModel",
      "state": {}
     },
     "a20278b847534fef900408ff07be7fee": {
      "model_module": "@jupyter-widgets/controls",
      "model_module_version": "1.5.0",
      "model_name": "HBoxModel",
      "state": {
       "children": [
        "IPY_MODEL_513870457967425f91c0d6c57f394438",
        "IPY_MODEL_eb79d769ad674a5db85884bf54f01ed8"
       ],
       "layout": "IPY_MODEL_9692f6e7a9a34205a4bc8f65aa791be2"
      }
     },
     "a208a0679150464383bccd0464e64099": {
      "model_module": "@jupyter-widgets/base",
      "model_module_version": "1.2.0",
      "model_name": "LayoutModel",
      "state": {}
     },
     "a23adc73079248548f73ffb07d3e404e": {
      "model_module": "@jupyter-widgets/base",
      "model_module_version": "1.2.0",
      "model_name": "LayoutModel",
      "state": {}
     },
     "a305c7a8f0614d2ca62eb37633140a4f": {
      "model_module": "@jupyter-widgets/controls",
      "model_module_version": "1.5.0",
      "model_name": "FloatProgressModel",
      "state": {
       "bar_style": "success",
       "description": "100%",
       "layout": "IPY_MODEL_1e2bbbe7726646468f57a95f1969e01b",
       "max": 2084,
       "style": "IPY_MODEL_1db84dacfa30419b8b41e35badf97dad",
       "value": 2084
      }
     },
     "a3213977965446ca9e5de38858adfac2": {
      "model_module": "@jupyter-widgets/base",
      "model_module_version": "1.2.0",
      "model_name": "LayoutModel",
      "state": {}
     },
     "a3e817e12a774400bda6ca66a4cc218e": {
      "model_module": "@jupyter-widgets/base",
      "model_module_version": "1.2.0",
      "model_name": "LayoutModel",
      "state": {}
     },
     "a40dcc0dd91f49f88b64ebb7bb90df18": {
      "model_module": "@jupyter-widgets/controls",
      "model_module_version": "1.5.0",
      "model_name": "DescriptionStyleModel",
      "state": {
       "description_width": ""
      }
     },
     "a4c1ec67e99a49e18ca5a0a271d632a5": {
      "model_module": "@jupyter-widgets/controls",
      "model_module_version": "1.5.0",
      "model_name": "HBoxModel",
      "state": {
       "children": [
        "IPY_MODEL_73e9ebae0c614222a7814ca30759f7f7",
        "IPY_MODEL_9ce9483c987b4a81abd14d80c72c318d"
       ],
       "layout": "IPY_MODEL_16f28f32a42f41bea92a1c9396eb6975"
      }
     },
     "a4c790e6740a44e789204f68871c7541": {
      "model_module": "@jupyter-widgets/controls",
      "model_module_version": "1.5.0",
      "model_name": "FloatProgressModel",
      "state": {
       "bar_style": "success",
       "description": "Current iteration: 100%",
       "layout": "IPY_MODEL_2bf7e411e47b40e485eda6f9e820626d",
       "max": 47,
       "style": "IPY_MODEL_0f57df800d9849279068235449351392",
       "value": 47
      }
     },
     "a4e309b1337c4f55a713a3f0e05903e2": {
      "model_module": "@jupyter-widgets/controls",
      "model_module_version": "1.5.0",
      "model_name": "DescriptionStyleModel",
      "state": {
       "description_width": ""
      }
     },
     "a50b54a9d5ea48fa9d231586b4edd8b0": {
      "model_module": "@jupyter-widgets/base",
      "model_module_version": "1.2.0",
      "model_name": "LayoutModel",
      "state": {}
     },
     "a5b9264c975c4fe6950dc9dae03cfde4": {
      "model_module": "@jupyter-widgets/controls",
      "model_module_version": "1.5.0",
      "model_name": "FloatProgressModel",
      "state": {
       "bar_style": "success",
       "description": "Current iteration: 100%",
       "layout": "IPY_MODEL_01d5e641ed87410eaf5b2cf0f6a4f6a6",
       "max": 46,
       "style": "IPY_MODEL_9a154d7f20904fc9b4a64a983cff9d1c",
       "value": 46
      }
     },
     "a5d55b7fcceb49eb8b6b27047e98fddf": {
      "model_module": "@jupyter-widgets/base",
      "model_module_version": "1.2.0",
      "model_name": "LayoutModel",
      "state": {}
     },
     "a5fba477f70a4e47abe7e40393a12432": {
      "model_module": "@jupyter-widgets/controls",
      "model_module_version": "1.5.0",
      "model_name": "FloatProgressModel",
      "state": {
       "bar_style": "success",
       "description": "Current iteration: 100%",
       "layout": "IPY_MODEL_762663f314a04cafbf529c1224b22193",
       "max": 46,
       "style": "IPY_MODEL_153a3bd479d5480eb7de63e8808aa764",
       "value": 46
      }
     },
     "a614a6bceecf47368a50a8da796b8e95": {
      "model_module": "@jupyter-widgets/base",
      "model_module_version": "1.2.0",
      "model_name": "LayoutModel",
      "state": {}
     },
     "a677493a3a8c4344a4f7e7eaa665dac6": {
      "model_module": "@jupyter-widgets/controls",
      "model_module_version": "1.5.0",
      "model_name": "FloatProgressModel",
      "state": {
       "bar_style": "success",
       "description": "Current iteration: 100%",
       "layout": "IPY_MODEL_29fea125fc334098a88cff9747c70a2c",
       "max": 47,
       "style": "IPY_MODEL_49deda3c5ae34dff92e2729f0412d0be",
       "value": 47
      }
     },
     "a6c0f1848bd748e2a5e0b8d32f4025f9": {
      "model_module": "@jupyter-widgets/controls",
      "model_module_version": "1.5.0",
      "model_name": "HBoxModel",
      "state": {
       "children": [
        "IPY_MODEL_cad76793f06f404a8445de3afe50daa6",
        "IPY_MODEL_fe745f58dd054eecb02bc478b33b90c8"
       ],
       "layout": "IPY_MODEL_35cf9f0a87204806a3a07d30d43a9c11"
      }
     },
     "a6c8ed5581d44ef8bb9f36c81278c078": {
      "model_module": "@jupyter-widgets/base",
      "model_module_version": "1.2.0",
      "model_name": "LayoutModel",
      "state": {}
     },
     "a6ec85c957f64ba19e05d96db43df217": {
      "model_module": "@jupyter-widgets/base",
      "model_module_version": "1.2.0",
      "model_name": "LayoutModel",
      "state": {}
     },
     "a76aa8391f9b43c093672af01d00271b": {
      "model_module": "@jupyter-widgets/base",
      "model_module_version": "1.2.0",
      "model_name": "LayoutModel",
      "state": {}
     },
     "a86fc52717a2450b900ba677927ebe47": {
      "model_module": "@jupyter-widgets/controls",
      "model_module_version": "1.5.0",
      "model_name": "HBoxModel",
      "state": {
       "children": [
        "IPY_MODEL_0fc75d96ea51468c91f19a7a5a607c42",
        "IPY_MODEL_c4833c0631f34c358558d2c1c545c94a"
       ],
       "layout": "IPY_MODEL_1f944c3018634b44874a3a56f5eb1b3c"
      }
     },
     "a9270a51ee114d10913a79cea8720e6b": {
      "model_module": "@jupyter-widgets/base",
      "model_module_version": "1.2.0",
      "model_name": "LayoutModel",
      "state": {}
     },
     "a937cdcf92884e36a04f3abe19e5d17e": {
      "model_module": "@jupyter-widgets/controls",
      "model_module_version": "1.5.0",
      "model_name": "ProgressStyleModel",
      "state": {
       "description_width": "initial"
      }
     },
     "a94399539eee4b1fbfdeb807091313c3": {
      "model_module": "@jupyter-widgets/controls",
      "model_module_version": "1.5.0",
      "model_name": "FloatProgressModel",
      "state": {
       "bar_style": "success",
       "description": "Current iteration: 100%",
       "layout": "IPY_MODEL_0b784e0ecb8f4c0aa0a90b8029c7c14b",
       "max": 47,
       "style": "IPY_MODEL_3ef578c9978e440baf7e8b0babcb5b9d",
       "value": 47
      }
     },
     "a94440dc236d4217a7295bd8cdbda924": {
      "model_module": "@jupyter-widgets/base",
      "model_module_version": "1.2.0",
      "model_name": "LayoutModel",
      "state": {}
     },
     "a9a0809ec17245e58ce356ccda92d5af": {
      "model_module": "@jupyter-widgets/controls",
      "model_module_version": "1.5.0",
      "model_name": "HBoxModel",
      "state": {
       "children": [
        "IPY_MODEL_40b188cf971c44439dd0fc06bb774722",
        "IPY_MODEL_525f2d020d86497daec52f7df1e53668"
       ],
       "layout": "IPY_MODEL_14db1c2e26154c938a716e00a7a4d6af"
      }
     },
     "aa0d9d36fc064affb8f559b1aca80b1c": {
      "model_module": "@jupyter-widgets/base",
      "model_module_version": "1.2.0",
      "model_name": "LayoutModel",
      "state": {}
     },
     "aa59fb382f38474dad86676535291a1b": {
      "model_module": "@jupyter-widgets/base",
      "model_module_version": "1.2.0",
      "model_name": "LayoutModel",
      "state": {}
     },
     "aa73e79588c04020981bfa8d6ea4541b": {
      "model_module": "@jupyter-widgets/controls",
      "model_module_version": "1.5.0",
      "model_name": "HTMLModel",
      "state": {
       "layout": "IPY_MODEL_2f26ac9b448d4da990a5e5dfadbb5d35",
       "style": "IPY_MODEL_517cc4515a6d4dadb33a62ba0837d51b",
       "value": " 3/3 [01:40&lt;00:00, 33.43s/it]"
      }
     },
     "aaba0336580f4ed3b150c19181906f92": {
      "model_module": "@jupyter-widgets/controls",
      "model_module_version": "1.5.0",
      "model_name": "HBoxModel",
      "state": {
       "children": [
        "IPY_MODEL_28f45b7282cd4e2fa07999412fe349fa",
        "IPY_MODEL_3daf398636cc4717bdfc58bbe7ea1922"
       ],
       "layout": "IPY_MODEL_4255795068514d70b1c37136909b5d2d"
      }
     },
     "aac711240ba1471a8e176db056eb8e3c": {
      "model_module": "@jupyter-widgets/controls",
      "model_module_version": "1.5.0",
      "model_name": "HBoxModel",
      "state": {
       "children": [
        "IPY_MODEL_22069f477fbc4f6f908831493f6b679c",
        "IPY_MODEL_7955d50a4a584b8e823f92e38db83884"
       ],
       "layout": "IPY_MODEL_3502f3952fa940c8b56df4fc6b2241b1"
      }
     },
     "aae1d21342b34c45b68e197f5bade5a3": {
      "model_module": "@jupyter-widgets/controls",
      "model_module_version": "1.5.0",
      "model_name": "HTMLModel",
      "state": {
       "layout": "IPY_MODEL_c2b9e7a572f947fa8d01ebd4f99f833a",
       "style": "IPY_MODEL_cca6fe1efb2745b8ad2e0ec74f40dbd2",
       "value": " 65/65 [00:02&lt;00:00, 22.35it/s]"
      }
     },
     "aaf92373e322438b93b7b80f60603c90": {
      "model_module": "@jupyter-widgets/base",
      "model_module_version": "1.2.0",
      "model_name": "LayoutModel",
      "state": {}
     },
     "ab86476d5a3449cbbdcdc6845f6acd64": {
      "model_module": "@jupyter-widgets/base",
      "model_module_version": "1.2.0",
      "model_name": "LayoutModel",
      "state": {}
     },
     "abb57827fb7d4d35acf21e33c86f1eb9": {
      "model_module": "@jupyter-widgets/controls",
      "model_module_version": "1.5.0",
      "model_name": "DescriptionStyleModel",
      "state": {
       "description_width": ""
      }
     },
     "abd0d947f3544a7e8dc6b1cca4797777": {
      "model_module": "@jupyter-widgets/controls",
      "model_module_version": "1.5.0",
      "model_name": "FloatProgressModel",
      "state": {
       "bar_style": "success",
       "description": "Current iteration: 100%",
       "layout": "IPY_MODEL_5e7a7bcbb45c4d5cb26b2f94f34ff6e3",
       "max": 47,
       "style": "IPY_MODEL_6dca78a8436d47b8a8f2c5ff95a52bc8",
       "value": 47
      }
     },
     "ac9c495940fc44b28ef927b143347473": {
      "model_module": "@jupyter-widgets/controls",
      "model_module_version": "1.5.0",
      "model_name": "HTMLModel",
      "state": {
       "layout": "IPY_MODEL_68e3528450b94c74a6010292189a2a22",
       "style": "IPY_MODEL_036f207c45a047b2abed901124c2499e",
       "value": " 47/47 [00:40&lt;00:00,  1.17it/s]"
      }
     },
     "acad6bac3ce546d7b42d5e2f56d4c77f": {
      "model_module": "@jupyter-widgets/base",
      "model_module_version": "1.2.0",
      "model_name": "LayoutModel",
      "state": {}
     },
     "acc1b85b3f1f48eb8cc00beb3e3f196b": {
      "model_module": "@jupyter-widgets/controls",
      "model_module_version": "1.5.0",
      "model_name": "HBoxModel",
      "state": {
       "children": [
        "IPY_MODEL_32859dd7cc0a402c922091067b57db78",
        "IPY_MODEL_682becafd1b8402888ed4039eead00fe"
       ],
       "layout": "IPY_MODEL_b0aee2daa5884da08519bd5a647297dc"
      }
     },
     "acc597764a074362bf25dd69b90a102b": {
      "model_module": "@jupyter-widgets/controls",
      "model_module_version": "1.5.0",
      "model_name": "DescriptionStyleModel",
      "state": {
       "description_width": ""
      }
     },
     "ad1151e1faf94ae5a4588281c592ba79": {
      "model_module": "@jupyter-widgets/base",
      "model_module_version": "1.2.0",
      "model_name": "LayoutModel",
      "state": {}
     },
     "ad2dbf2dd984496ba2f3852ed53ffdc9": {
      "model_module": "@jupyter-widgets/base",
      "model_module_version": "1.2.0",
      "model_name": "LayoutModel",
      "state": {}
     },
     "ad5e335ba2e64da4ad9adc9eda8ab51d": {
      "model_module": "@jupyter-widgets/base",
      "model_module_version": "1.2.0",
      "model_name": "LayoutModel",
      "state": {}
     },
     "ad60326f371b4d4b86368188a90c3c77": {
      "model_module": "@jupyter-widgets/controls",
      "model_module_version": "1.5.0",
      "model_name": "ProgressStyleModel",
      "state": {
       "description_width": "initial"
      }
     },
     "ad83021e1393462a9e14cbfc33fb0529": {
      "model_module": "@jupyter-widgets/controls",
      "model_module_version": "1.5.0",
      "model_name": "DescriptionStyleModel",
      "state": {
       "description_width": ""
      }
     },
     "adae7958568e470f90c324b21109152b": {
      "model_module": "@jupyter-widgets/controls",
      "model_module_version": "1.5.0",
      "model_name": "ProgressStyleModel",
      "state": {
       "description_width": "initial"
      }
     },
     "adbec9ae98ef4e419ae00bb9336c2816": {
      "model_module": "@jupyter-widgets/controls",
      "model_module_version": "1.5.0",
      "model_name": "HBoxModel",
      "state": {
       "children": [
        "IPY_MODEL_73025cd7f9ca4fab995d2bd4fed2dcf2",
        "IPY_MODEL_fb822ad099884e539475208a2f7ce5b7"
       ],
       "layout": "IPY_MODEL_b65f6de0ec12417988f6a82c10ea4d43"
      }
     },
     "adca89646ce048b3ab932a787e039cc8": {
      "model_module": "@jupyter-widgets/controls",
      "model_module_version": "1.5.0",
      "model_name": "ProgressStyleModel",
      "state": {
       "description_width": "initial"
      }
     },
     "ae3157f351474b3591228f1903b9a2ac": {
      "model_module": "@jupyter-widgets/controls",
      "model_module_version": "1.5.0",
      "model_name": "DescriptionStyleModel",
      "state": {
       "description_width": ""
      }
     },
     "ae673bb5f5ef45b5b9b9b3f2de113150": {
      "model_module": "@jupyter-widgets/controls",
      "model_module_version": "1.5.0",
      "model_name": "ProgressStyleModel",
      "state": {
       "description_width": "initial"
      }
     },
     "aeab6bbc53f74e7290ecc83608efc591": {
      "model_module": "@jupyter-widgets/controls",
      "model_module_version": "1.5.0",
      "model_name": "HTMLModel",
      "state": {
       "layout": "IPY_MODEL_430fb78b7c6346efba8667e0edc9b1f6",
       "style": "IPY_MODEL_34178431165f4f71be1193f23fa96c63",
       "value": " 46/46 [01:09&lt;00:00,  1.52s/it]"
      }
     },
     "aee4a11323044d00977eb00a588d1254": {
      "model_module": "@jupyter-widgets/controls",
      "model_module_version": "1.5.0",
      "model_name": "DescriptionStyleModel",
      "state": {
       "description_width": ""
      }
     },
     "af1d2954b2d940608f44e9be71969559": {
      "model_module": "@jupyter-widgets/controls",
      "model_module_version": "1.5.0",
      "model_name": "HTMLModel",
      "state": {
       "layout": "IPY_MODEL_dc3cdf23170f4940b125ab4a5b9c1b34",
       "style": "IPY_MODEL_3e702d5913c146a584d5a1fee6ee779c",
       "value": " 3/3 [01:49&lt;00:00, 36.40s/it]"
      }
     },
     "af374116aee540558333ce1dfcc11015": {
      "model_module": "@jupyter-widgets/controls",
      "model_module_version": "1.5.0",
      "model_name": "HTMLModel",
      "state": {
       "layout": "IPY_MODEL_a5d55b7fcceb49eb8b6b27047e98fddf",
       "style": "IPY_MODEL_3003460338f74aa786b46def0433f193",
       "value": " 519/519 [00:05&lt;00:00, 101.52it/s]"
      }
     },
     "b04f6c72b96347739894dcf748cefdf3": {
      "model_module": "@jupyter-widgets/controls",
      "model_module_version": "1.5.0",
      "model_name": "ProgressStyleModel",
      "state": {
       "description_width": "initial"
      }
     },
     "b064c1b0fc0f49daa3f9404a8dc407f1": {
      "model_module": "@jupyter-widgets/controls",
      "model_module_version": "1.5.0",
      "model_name": "HBoxModel",
      "state": {
       "children": [
        "IPY_MODEL_6865928b142a4339b05fe652d1899e50",
        "IPY_MODEL_8474b5d43d574961a4f929069b44a553"
       ],
       "layout": "IPY_MODEL_aa59fb382f38474dad86676535291a1b"
      }
     },
     "b0aee2daa5884da08519bd5a647297dc": {
      "model_module": "@jupyter-widgets/base",
      "model_module_version": "1.2.0",
      "model_name": "LayoutModel",
      "state": {}
     },
     "b0ba4dc1f0a9401581b935ced9e8bccb": {
      "model_module": "@jupyter-widgets/base",
      "model_module_version": "1.2.0",
      "model_name": "LayoutModel",
      "state": {}
     },
     "b2149cd4e6e340cf9e914a00f8090002": {
      "model_module": "@jupyter-widgets/controls",
      "model_module_version": "1.5.0",
      "model_name": "HTMLModel",
      "state": {
       "layout": "IPY_MODEL_c8ad56bb663b44c894e21d378c2bb428",
       "style": "IPY_MODEL_408f3d3f41c7433aa4b46c81f751b11f",
       "value": " 3/3 [01:47&lt;00:00, 35.77s/it]"
      }
     },
     "b230a971100442b582a16903fdd01850": {
      "model_module": "@jupyter-widgets/base",
      "model_module_version": "1.2.0",
      "model_name": "LayoutModel",
      "state": {}
     },
     "b2507b0208f64200b3bc8f045cd9a50c": {
      "model_module": "@jupyter-widgets/controls",
      "model_module_version": "1.5.0",
      "model_name": "HBoxModel",
      "state": {
       "children": [
        "IPY_MODEL_7b49ee07c137444abebb99788f100484",
        "IPY_MODEL_697f107b7b8f497a98a2175bacaa8c16"
       ],
       "layout": "IPY_MODEL_ebef408641694a089fbd83037ce603eb"
      }
     },
     "b294cd6ea96e491d93256cd4c96b3bd8": {
      "model_module": "@jupyter-widgets/base",
      "model_module_version": "1.2.0",
      "model_name": "LayoutModel",
      "state": {}
     },
     "b2a8da44d39649e7adc2b40dd6add9da": {
      "model_module": "@jupyter-widgets/controls",
      "model_module_version": "1.5.0",
      "model_name": "HTMLModel",
      "state": {
       "layout": "IPY_MODEL_9bdcafb2df5e4328bb8edddcc0587311",
       "style": "IPY_MODEL_5832e98ae69a4f68bbd265545d20847f",
       "value": " 2068/2068 [01:55&lt;00:00, 17.98it/s]"
      }
     },
     "b2c17d45b5d44d2098b6c6445fe30e9d": {
      "model_module": "@jupyter-widgets/controls",
      "model_module_version": "1.5.0",
      "model_name": "DescriptionStyleModel",
      "state": {
       "description_width": ""
      }
     },
     "b2c364ea7a4940f9bf842ad1ba82b861": {
      "model_module": "@jupyter-widgets/base",
      "model_module_version": "1.2.0",
      "model_name": "LayoutModel",
      "state": {}
     },
     "b2f6039fdfbb438a9c478b9cd7bb1a65": {
      "model_module": "@jupyter-widgets/base",
      "model_module_version": "1.2.0",
      "model_name": "LayoutModel",
      "state": {}
     },
     "b30f41d2c88740f5beff17ba321c6963": {
      "model_module": "@jupyter-widgets/controls",
      "model_module_version": "1.5.0",
      "model_name": "FloatProgressModel",
      "state": {
       "bar_style": "success",
       "description": "Epoch: 100%",
       "layout": "IPY_MODEL_c0612ed8ea1a4f8fa9e00488fd0b6152",
       "max": 3,
       "style": "IPY_MODEL_989bc537891f470e95e53d7a064190fc",
       "value": 3
      }
     },
     "b358162366d343e6a8fee671d057896e": {
      "model_module": "@jupyter-widgets/controls",
      "model_module_version": "1.5.0",
      "model_name": "HBoxModel",
      "state": {
       "children": [
        "IPY_MODEL_3150b9f5bac94d3ebb29f0df4c581d31",
        "IPY_MODEL_ea7d1324833c485db33ef9207c0ca590"
       ],
       "layout": "IPY_MODEL_2f38e052ebfa4c48834ba0f7a96a94c8"
      }
     },
     "b3f20586a33444589977f76f352f1c26": {
      "model_module": "@jupyter-widgets/controls",
      "model_module_version": "1.5.0",
      "model_name": "ProgressStyleModel",
      "state": {
       "description_width": "initial"
      }
     },
     "b4eac3287e0c4ee6ac12ed7ac4063472": {
      "model_module": "@jupyter-widgets/base",
      "model_module_version": "1.2.0",
      "model_name": "LayoutModel",
      "state": {}
     },
     "b53a498a62c448cba9595c6e6973abf3": {
      "model_module": "@jupyter-widgets/controls",
      "model_module_version": "1.5.0",
      "model_name": "ProgressStyleModel",
      "state": {
       "description_width": "initial"
      }
     },
     "b5617f041e884599af5b04d05e08b587": {
      "model_module": "@jupyter-widgets/controls",
      "model_module_version": "1.5.0",
      "model_name": "ProgressStyleModel",
      "state": {
       "description_width": "initial"
      }
     },
     "b5bbd42abf844e7a80c65e86e1441791": {
      "model_module": "@jupyter-widgets/base",
      "model_module_version": "1.2.0",
      "model_name": "LayoutModel",
      "state": {}
     },
     "b5eafe8efb47423c91ea7659b3a67ade": {
      "model_module": "@jupyter-widgets/controls",
      "model_module_version": "1.5.0",
      "model_name": "HTMLModel",
      "state": {
       "layout": "IPY_MODEL_e449d38b929b4883ba3abea5959446b0",
       "style": "IPY_MODEL_020c2e6d82894ad087804d8411e532a3",
       "value": " 47/47 [01:14&lt;00:00,  1.59s/it]"
      }
     },
     "b60abd8111f14308850442ea7d5e357c": {
      "model_module": "@jupyter-widgets/controls",
      "model_module_version": "1.5.0",
      "model_name": "FloatProgressModel",
      "state": {
       "bar_style": "success",
       "description": "100%",
       "layout": "IPY_MODEL_1d837745231644e6a2d1e4b9f859d15f",
       "max": 65,
       "style": "IPY_MODEL_9df38f85d8584e999778cff09c3474f3",
       "value": 65
      }
     },
     "b60b4a59f87c42d0b302e058e5d0b3c2": {
      "model_module": "@jupyter-widgets/controls",
      "model_module_version": "1.5.0",
      "model_name": "DescriptionStyleModel",
      "state": {
       "description_width": ""
      }
     },
     "b65f6de0ec12417988f6a82c10ea4d43": {
      "model_module": "@jupyter-widgets/base",
      "model_module_version": "1.2.0",
      "model_name": "LayoutModel",
      "state": {}
     },
     "b68218d15b124b59ba8fd7cbb3726615": {
      "model_module": "@jupyter-widgets/controls",
      "model_module_version": "1.5.0",
      "model_name": "ProgressStyleModel",
      "state": {
       "description_width": "initial"
      }
     },
     "b683e310d0924906ba7f516117d375f8": {
      "model_module": "@jupyter-widgets/base",
      "model_module_version": "1.2.0",
      "model_name": "LayoutModel",
      "state": {}
     },
     "b78e803044ba4333a3f69501450c1013": {
      "model_module": "@jupyter-widgets/controls",
      "model_module_version": "1.5.0",
      "model_name": "HTMLModel",
      "state": {
       "layout": "IPY_MODEL_530179f5a36d4020993a1c5abc8ba872",
       "style": "IPY_MODEL_b85fcfba08b144f38fa0735254bc48a1",
       "value": " 65/65 [00:02&lt;00:00, 22.23it/s]"
      }
     },
     "b7f5f312cd9f4d7dba773740bcc5a236": {
      "model_module": "@jupyter-widgets/base",
      "model_module_version": "1.2.0",
      "model_name": "LayoutModel",
      "state": {}
     },
     "b7f7418ddb854e7c8ec0dff344daf8d1": {
      "model_module": "@jupyter-widgets/controls",
      "model_module_version": "1.5.0",
      "model_name": "FloatProgressModel",
      "state": {
       "bar_style": "success",
       "description": "Current iteration: 100%",
       "layout": "IPY_MODEL_e22de913f00e4e58a4b9047e34427e8a",
       "max": 47,
       "style": "IPY_MODEL_5e47c1b4216b482f9c90707db1e51384",
       "value": 47
      }
     },
     "b85fcfba08b144f38fa0735254bc48a1": {
      "model_module": "@jupyter-widgets/controls",
      "model_module_version": "1.5.0",
      "model_name": "DescriptionStyleModel",
      "state": {
       "description_width": ""
      }
     },
     "b8c3271b0b81473296172ba6c7c1ee40": {
      "model_module": "@jupyter-widgets/controls",
      "model_module_version": "1.5.0",
      "model_name": "HTMLModel",
      "state": {
       "layout": "IPY_MODEL_0ad98a65ae414aa3b8669e324b29cbf0",
       "style": "IPY_MODEL_8c47430be5954d8aaea517a14bdc5425",
       "value": " 516/516 [00:05&lt;00:00, 101.45it/s]"
      }
     },
     "b900c02207344be9b2e426be81a70d0b": {
      "model_module": "@jupyter-widgets/controls",
      "model_module_version": "1.5.0",
      "model_name": "ProgressStyleModel",
      "state": {
       "description_width": "initial"
      }
     },
     "b90524fbd5e84460a44471ca15ea3bdb": {
      "model_module": "@jupyter-widgets/controls",
      "model_module_version": "1.5.0",
      "model_name": "FloatProgressModel",
      "state": {
       "bar_style": "success",
       "description": "100%",
       "layout": "IPY_MODEL_51bd5c443f314184ab324209d2c708d6",
       "max": 65,
       "style": "IPY_MODEL_976ef056c69f40b28b88fecaa4be8325",
       "value": 65
      }
     },
     "b91e183ec9404b3a916845eafd5a592c": {
      "model_module": "@jupyter-widgets/controls",
      "model_module_version": "1.5.0",
      "model_name": "DescriptionStyleModel",
      "state": {
       "description_width": ""
      }
     },
     "b94086e4843f41978c70b04ce4be0a21": {
      "model_module": "@jupyter-widgets/controls",
      "model_module_version": "1.5.0",
      "model_name": "ProgressStyleModel",
      "state": {
       "description_width": "initial"
      }
     },
     "b9c9194a3ea04e7090f31a6c97eed88c": {
      "model_module": "@jupyter-widgets/controls",
      "model_module_version": "1.5.0",
      "model_name": "ProgressStyleModel",
      "state": {
       "description_width": "initial"
      }
     },
     "b9d03e763ac94fc58ba7fbe730a48f82": {
      "model_module": "@jupyter-widgets/base",
      "model_module_version": "1.2.0",
      "model_name": "LayoutModel",
      "state": {}
     },
     "ba2097c0efea4da590ecbdaf0a31e349": {
      "model_module": "@jupyter-widgets/controls",
      "model_module_version": "1.5.0",
      "model_name": "DescriptionStyleModel",
      "state": {
       "description_width": ""
      }
     },
     "ba9914d9e4b343b5a50865ccf1346934": {
      "model_module": "@jupyter-widgets/base",
      "model_module_version": "1.2.0",
      "model_name": "LayoutModel",
      "state": {}
     },
     "bb5db5a8c6be4d0185da28e3dd20a70a": {
      "model_module": "@jupyter-widgets/base",
      "model_module_version": "1.2.0",
      "model_name": "LayoutModel",
      "state": {}
     },
     "bc0cd8a94f9c4340b3732957e1a2ddef": {
      "model_module": "@jupyter-widgets/base",
      "model_module_version": "1.2.0",
      "model_name": "LayoutModel",
      "state": {}
     },
     "bc565f0c26d64f338c6947b7a7ca1a5f": {
      "model_module": "@jupyter-widgets/base",
      "model_module_version": "1.2.0",
      "model_name": "LayoutModel",
      "state": {}
     },
     "bc6ffcf26721459cac449536e8c6c5b0": {
      "model_module": "@jupyter-widgets/base",
      "model_module_version": "1.2.0",
      "model_name": "LayoutModel",
      "state": {}
     },
     "bc96d90c4b344d40a140e42e77e15a23": {
      "model_module": "@jupyter-widgets/controls",
      "model_module_version": "1.5.0",
      "model_name": "HBoxModel",
      "state": {
       "children": [
        "IPY_MODEL_97b6fe9c30914081b86b5d08875099d5",
        "IPY_MODEL_7df9560740c14f20b2751a8042aaca20"
       ],
       "layout": "IPY_MODEL_4a1c0432975945c7b030e92883f9e65a"
      }
     },
     "bdacdfe8eef14f5db73695959fd7c389": {
      "model_module": "@jupyter-widgets/controls",
      "model_module_version": "1.5.0",
      "model_name": "FloatProgressModel",
      "state": {
       "bar_style": "success",
       "description": "100%",
       "layout": "IPY_MODEL_04f69c6a5ead4e93b2fef08a7255c227",
       "max": 516,
       "style": "IPY_MODEL_e94e1170fd2a4a878d1131c79e658f1e",
       "value": 516
      }
     },
     "bdc7fd05ab3446dab5659997946a5c9c": {
      "model_module": "@jupyter-widgets/controls",
      "model_module_version": "1.5.0",
      "model_name": "HBoxModel",
      "state": {
       "children": [
        "IPY_MODEL_52df47a4a0bd41eca47af07a51b0f1a5",
        "IPY_MODEL_aa73e79588c04020981bfa8d6ea4541b"
       ],
       "layout": "IPY_MODEL_235a3a27dcee4c50bc9b404cc2c6ed87"
      }
     },
     "bded8d62ce294f58802af62dc93e3122": {
      "model_module": "@jupyter-widgets/base",
      "model_module_version": "1.2.0",
      "model_name": "LayoutModel",
      "state": {}
     },
     "be26e7a6dc2945b2a00f1a0a3359becb": {
      "model_module": "@jupyter-widgets/controls",
      "model_module_version": "1.5.0",
      "model_name": "ProgressStyleModel",
      "state": {
       "description_width": "initial"
      }
     },
     "be39a75f1a5743b4ad3a2740d982567c": {
      "model_module": "@jupyter-widgets/controls",
      "model_module_version": "1.5.0",
      "model_name": "HBoxModel",
      "state": {
       "children": [
        "IPY_MODEL_0a3f8bf8d66641b9aa7ba8e65efc3791",
        "IPY_MODEL_8cb9d7a73d9e4ef48b1daaaaf1092b39"
       ],
       "layout": "IPY_MODEL_bc565f0c26d64f338c6947b7a7ca1a5f"
      }
     },
     "bea2390869d54306a12f6f299a47ad35": {
      "model_module": "@jupyter-widgets/controls",
      "model_module_version": "1.5.0",
      "model_name": "FloatProgressModel",
      "state": {
       "bar_style": "success",
       "description": "Epoch: 100%",
       "layout": "IPY_MODEL_a614a6bceecf47368a50a8da796b8e95",
       "max": 3,
       "style": "IPY_MODEL_06f62d3f2912415cbb0f15854a8386be",
       "value": 3
      }
     },
     "bf25b374b5454bb1ad62b358f74a161e": {
      "model_module": "@jupyter-widgets/controls",
      "model_module_version": "1.5.0",
      "model_name": "HTMLModel",
      "state": {
       "layout": "IPY_MODEL_a208a0679150464383bccd0464e64099",
       "style": "IPY_MODEL_eb733711f8054eddb4ab91e64a112661",
       "value": " 47/47 [01:48&lt;00:00,  2.31s/it]"
      }
     },
     "bf4c1a1fb1304470a8a117c53fced8d3": {
      "model_module": "@jupyter-widgets/controls",
      "model_module_version": "1.5.0",
      "model_name": "FloatProgressModel",
      "state": {
       "bar_style": "success",
       "description": "Epoch: 100%",
       "layout": "IPY_MODEL_35dd761a3ffc4f4b97240220a75c0dca",
       "max": 3,
       "style": "IPY_MODEL_5c2db48ecca94dd69f1dfb22f7112cc5",
       "value": 3
      }
     },
     "bfb56fa1795d4d08ba7175c37fa6f1b1": {
      "model_module": "@jupyter-widgets/base",
      "model_module_version": "1.2.0",
      "model_name": "LayoutModel",
      "state": {}
     },
     "c02b3230bcc74f98bb852b4ac4dccec3": {
      "model_module": "@jupyter-widgets/base",
      "model_module_version": "1.2.0",
      "model_name": "LayoutModel",
      "state": {}
     },
     "c054a9ab28ef4e65bb0cc8f9f2bed3de": {
      "model_module": "@jupyter-widgets/base",
      "model_module_version": "1.2.0",
      "model_name": "LayoutModel",
      "state": {}
     },
     "c0612ed8ea1a4f8fa9e00488fd0b6152": {
      "model_module": "@jupyter-widgets/base",
      "model_module_version": "1.2.0",
      "model_name": "LayoutModel",
      "state": {}
     },
     "c130931a9ac442338ebb8bfdbbc0dffc": {
      "model_module": "@jupyter-widgets/controls",
      "model_module_version": "1.5.0",
      "model_name": "DescriptionStyleModel",
      "state": {
       "description_width": ""
      }
     },
     "c15396a458dd476c823b3dea392f772d": {
      "model_module": "@jupyter-widgets/base",
      "model_module_version": "1.2.0",
      "model_name": "LayoutModel",
      "state": {}
     },
     "c1af7e0ddd10425a87dab93d00e5ef78": {
      "model_module": "@jupyter-widgets/controls",
      "model_module_version": "1.5.0",
      "model_name": "HTMLModel",
      "state": {
       "layout": "IPY_MODEL_42e7152583be4229baa5731c8d0247ad",
       "style": "IPY_MODEL_8aff9d38ab144d42a76aa7c2f5685966",
       "value": " 65/65 [00:02&lt;00:00, 22.14it/s]"
      }
     },
     "c23675d25b154d2a94e0ead297818ae4": {
      "model_module": "@jupyter-widgets/base",
      "model_module_version": "1.2.0",
      "model_name": "LayoutModel",
      "state": {}
     },
     "c26d81c138154a9b989b6288f33c663c": {
      "model_module": "@jupyter-widgets/base",
      "model_module_version": "1.2.0",
      "model_name": "LayoutModel",
      "state": {}
     },
     "c289891c7a074115bf2851a01ed43efc": {
      "model_module": "@jupyter-widgets/base",
      "model_module_version": "1.2.0",
      "model_name": "LayoutModel",
      "state": {}
     },
     "c298e8ada2cb4bf88e89e205d8a1b724": {
      "model_module": "@jupyter-widgets/base",
      "model_module_version": "1.2.0",
      "model_name": "LayoutModel",
      "state": {}
     },
     "c2b9e7a572f947fa8d01ebd4f99f833a": {
      "model_module": "@jupyter-widgets/base",
      "model_module_version": "1.2.0",
      "model_name": "LayoutModel",
      "state": {}
     },
     "c2e92d7f568a4e5dbec9d53506c5e361": {
      "model_module": "@jupyter-widgets/base",
      "model_module_version": "1.2.0",
      "model_name": "LayoutModel",
      "state": {}
     },
     "c3440818cc564ccda049ad32a8838594": {
      "model_module": "@jupyter-widgets/controls",
      "model_module_version": "1.5.0",
      "model_name": "HBoxModel",
      "state": {
       "children": [
        "IPY_MODEL_7a1a2c1632ed40a78280cb0919697662",
        "IPY_MODEL_70a2ccf2f85e43a488374d69b3098bcd"
       ],
       "layout": "IPY_MODEL_6614ec599af641dfbe3911592c63b6b8"
      }
     },
     "c355fe9476fa44bb81650db374b3be30": {
      "model_module": "@jupyter-widgets/controls",
      "model_module_version": "1.5.0",
      "model_name": "ProgressStyleModel",
      "state": {
       "description_width": "initial"
      }
     },
     "c3c152ef78b4413a950c9b5a76da40be": {
      "model_module": "@jupyter-widgets/base",
      "model_module_version": "1.2.0",
      "model_name": "LayoutModel",
      "state": {}
     },
     "c3f791616c4c40288f37e550d7bf717b": {
      "model_module": "@jupyter-widgets/controls",
      "model_module_version": "1.5.0",
      "model_name": "FloatProgressModel",
      "state": {
       "bar_style": "success",
       "description": "Current iteration: 100%",
       "layout": "IPY_MODEL_847c580b76244994b30550de9b554ea0",
       "max": 47,
       "style": "IPY_MODEL_c74c8585bf1e47a69c2cee38a584c2ea",
       "value": 47
      }
     },
     "c42349c585e5449a9986e78d8f17d7d2": {
      "model_module": "@jupyter-widgets/base",
      "model_module_version": "1.2.0",
      "model_name": "LayoutModel",
      "state": {}
     },
     "c4833c0631f34c358558d2c1c545c94a": {
      "model_module": "@jupyter-widgets/controls",
      "model_module_version": "1.5.0",
      "model_name": "HTMLModel",
      "state": {
       "layout": "IPY_MODEL_1d6dac52efda46ef8a6d5d251167015a",
       "style": "IPY_MODEL_195fb4776ca34435a3b7502672b7b0bf",
       "value": " 47/47 [01:13&lt;00:00,  1.57s/it]"
      }
     },
     "c4e1a6117fd84838b514c3fc6f0bb69e": {
      "model_module": "@jupyter-widgets/base",
      "model_module_version": "1.2.0",
      "model_name": "LayoutModel",
      "state": {}
     },
     "c516f3ee80a3440d97c9f4b6e1999322": {
      "model_module": "@jupyter-widgets/controls",
      "model_module_version": "1.5.0",
      "model_name": "HBoxModel",
      "state": {
       "children": [
        "IPY_MODEL_d5c476eb2ad14972bc1ea47823f4d38e",
        "IPY_MODEL_3152016dc9244624966da2a3da8412a8"
       ],
       "layout": "IPY_MODEL_687416c3eafd49acaf9c1cbb652eff7c"
      }
     },
     "c564ebf6c73c457e8c1c4aa07ddc7ccc": {
      "model_module": "@jupyter-widgets/controls",
      "model_module_version": "1.5.0",
      "model_name": "HBoxModel",
      "state": {
       "children": [
        "IPY_MODEL_1ba794225c8f4fb1bc68f7ba5e16d120",
        "IPY_MODEL_096f00f459db4538a9e36587b04a1bc6"
       ],
       "layout": "IPY_MODEL_87ce58071c354dc0b0847f095d8881db"
      }
     },
     "c5677bcefb0b48fc99068155350c4bca": {
      "model_module": "@jupyter-widgets/controls",
      "model_module_version": "1.5.0",
      "model_name": "HBoxModel",
      "state": {
       "children": [
        "IPY_MODEL_0238c0b16eac477ab9a696f1947c70c1",
        "IPY_MODEL_46c2bc6fb47d4e15b6bd34e327d8432d"
       ],
       "layout": "IPY_MODEL_4e98571a3d464ce88eac0a2ac04af481"
      }
     },
     "c5cb7bb7adb14914a01641cef1e0cf8c": {
      "model_module": "@jupyter-widgets/base",
      "model_module_version": "1.2.0",
      "model_name": "LayoutModel",
      "state": {}
     },
     "c60f440d794b4267bcf01c559b1596cf": {
      "model_module": "@jupyter-widgets/base",
      "model_module_version": "1.2.0",
      "model_name": "LayoutModel",
      "state": {}
     },
     "c637117d53894c0eab66c2fe7055031d": {
      "model_module": "@jupyter-widgets/controls",
      "model_module_version": "1.5.0",
      "model_name": "HTMLModel",
      "state": {
       "layout": "IPY_MODEL_308034d19f39430ba1849bdf6171e8c0",
       "style": "IPY_MODEL_901240615f254319b986372f4182e621",
       "value": " 67/67 [00:03&lt;00:00, 22.19it/s]"
      }
     },
     "c63ccadd2075481791d42e3d40c3df65": {
      "model_module": "@jupyter-widgets/controls",
      "model_module_version": "1.5.0",
      "model_name": "HBoxModel",
      "state": {
       "children": [
        "IPY_MODEL_8daa89e6eb9f452aa913c93bc59b8a7d",
        "IPY_MODEL_a16d02ada731460cb9e07d8d163f71c3"
       ],
       "layout": "IPY_MODEL_2854f186782e4a8eb9681d4babc536f7"
      }
     },
     "c63f40e37d8b4cfb8af00883e1993aab": {
      "model_module": "@jupyter-widgets/base",
      "model_module_version": "1.2.0",
      "model_name": "LayoutModel",
      "state": {}
     },
     "c65adfc48ab94c01b23259b8c85080fc": {
      "model_module": "@jupyter-widgets/controls",
      "model_module_version": "1.5.0",
      "model_name": "FloatProgressModel",
      "state": {
       "bar_style": "success",
       "description": "Current iteration: 100%",
       "layout": "IPY_MODEL_5db4be509917466cb3b7342d02a7661b",
       "max": 47,
       "style": "IPY_MODEL_965a0a2edaf1410694836b32329367e0",
       "value": 47
      }
     },
     "c74c8585bf1e47a69c2cee38a584c2ea": {
      "model_module": "@jupyter-widgets/controls",
      "model_module_version": "1.5.0",
      "model_name": "ProgressStyleModel",
      "state": {
       "description_width": "initial"
      }
     },
     "c7cccbc465404ef0b612a9d538226630": {
      "model_module": "@jupyter-widgets/controls",
      "model_module_version": "1.5.0",
      "model_name": "FloatProgressModel",
      "state": {
       "bar_style": "success",
       "description": "100%",
       "layout": "IPY_MODEL_e6f25da8c65e44a4ae35c172995bf1ed",
       "max": 2068,
       "style": "IPY_MODEL_e1a41002c1fa4194bf90f5cf97ac4356",
       "value": 2068
      }
     },
     "c7f492d786c94887a9209924c4abc1f3": {
      "model_module": "@jupyter-widgets/controls",
      "model_module_version": "1.5.0",
      "model_name": "HBoxModel",
      "state": {
       "children": [
        "IPY_MODEL_988bcb488f6b40bdb2f125cb265087a3",
        "IPY_MODEL_ac9c495940fc44b28ef927b143347473"
       ],
       "layout": "IPY_MODEL_d91005ca54ff4d51bd2a2e78947d32f4"
      }
     },
     "c8106ca7cddf4ffa94d3a9e7bbee8179": {
      "model_module": "@jupyter-widgets/controls",
      "model_module_version": "1.5.0",
      "model_name": "HTMLModel",
      "state": {
       "layout": "IPY_MODEL_4ae6ca17d60948b9bce78aad7f376c07",
       "style": "IPY_MODEL_19a51d2ac601465e9f1678626674a081",
       "value": " 516/516 [00:05&lt;00:00, 100.95it/s]"
      }
     },
     "c8ad56bb663b44c894e21d378c2bb428": {
      "model_module": "@jupyter-widgets/base",
      "model_module_version": "1.2.0",
      "model_name": "LayoutModel",
      "state": {}
     },
     "c8d26e537c20420ba1cfa982083ce79c": {
      "model_module": "@jupyter-widgets/controls",
      "model_module_version": "1.5.0",
      "model_name": "DescriptionStyleModel",
      "state": {
       "description_width": ""
      }
     },
     "c9019238391a4c82bda0706d2df0f44d": {
      "model_module": "@jupyter-widgets/controls",
      "model_module_version": "1.5.0",
      "model_name": "HTMLModel",
      "state": {
       "layout": "IPY_MODEL_0225bac250b44d20a4ae19ec507bd9c9",
       "style": "IPY_MODEL_01e82fbe0a1843b39ea209cdfd6ec7a5",
       "value": " 47/47 [00:40&lt;00:00,  1.16it/s]"
      }
     },
     "c93adfe9d82f43a2bff9caba20db4297": {
      "model_module": "@jupyter-widgets/controls",
      "model_module_version": "1.5.0",
      "model_name": "HBoxModel",
      "state": {
       "children": [
        "IPY_MODEL_46a4d98f2351409f814f2e9f3bfd28ed",
        "IPY_MODEL_e0a04f6646824da584d6b15f230ff4a8"
       ],
       "layout": "IPY_MODEL_b7f5f312cd9f4d7dba773740bcc5a236"
      }
     },
     "c96c15a0850c40159cf18f322f61ff2e": {
      "model_module": "@jupyter-widgets/base",
      "model_module_version": "1.2.0",
      "model_name": "LayoutModel",
      "state": {}
     },
     "c97d9a76669548df8260ad65dc5127cc": {
      "model_module": "@jupyter-widgets/controls",
      "model_module_version": "1.5.0",
      "model_name": "HBoxModel",
      "state": {
       "children": [
        "IPY_MODEL_03be4cfb020c44ed968146a77c6cf692",
        "IPY_MODEL_8d9a78ec5ef045bc9fdbc2cb6e60e855"
       ],
       "layout": "IPY_MODEL_5edab24cdb2144c0bbefb289690bc208"
      }
     },
     "c9ca12fa5095499ca2ad8c8aaddc30af": {
      "model_module": "@jupyter-widgets/base",
      "model_module_version": "1.2.0",
      "model_name": "LayoutModel",
      "state": {}
     },
     "c9d5566e97e84b9b8fcfef1693c2bbfb": {
      "model_module": "@jupyter-widgets/controls",
      "model_module_version": "1.5.0",
      "model_name": "HTMLModel",
      "state": {
       "layout": "IPY_MODEL_4ab7c4f20ad54527b993b97902e1448f",
       "style": "IPY_MODEL_1b75051713ed4103a8aa28be3ae3177c",
       "value": " 518/518 [00:05&lt;00:00, 103.01it/s]"
      }
     },
     "c9f42f597c044098966b1647bf3b4742": {
      "model_module": "@jupyter-widgets/base",
      "model_module_version": "1.2.0",
      "model_name": "LayoutModel",
      "state": {}
     },
     "ca2413e043c14dec9c90a5d949f9ce1e": {
      "model_module": "@jupyter-widgets/controls",
      "model_module_version": "1.5.0",
      "model_name": "FloatProgressModel",
      "state": {
       "bar_style": "success",
       "description": "Current iteration: 100%",
       "layout": "IPY_MODEL_988ec9beefbf43d881d366e3d421f4a1",
       "max": 47,
       "style": "IPY_MODEL_82298077684e45c1a371e9bb361ffea2",
       "value": 47
      }
     },
     "cab10843cdcc4ab0a4c77664e57da8f4": {
      "model_module": "@jupyter-widgets/controls",
      "model_module_version": "1.5.0",
      "model_name": "HTMLModel",
      "state": {
       "layout": "IPY_MODEL_50060f536d134f60ab26c8a2c51e2160",
       "style": "IPY_MODEL_6a700ed54abe4dfc898e1f427cf2dbcb",
       "value": " 46/46 [00:40&lt;00:00,  1.14it/s]"
      }
     },
     "cad76793f06f404a8445de3afe50daa6": {
      "model_module": "@jupyter-widgets/controls",
      "model_module_version": "1.5.0",
      "model_name": "FloatProgressModel",
      "state": {
       "bar_style": "success",
       "description": "100%",
       "layout": "IPY_MODEL_e85178d3d13e46298b385283124ff4a3",
       "max": 2081,
       "style": "IPY_MODEL_07cdc27f2c064fca9e9a9fc76960b737",
       "value": 2081
      }
     },
     "cb94ec21be554872b5d24aa29956b73c": {
      "model_module": "@jupyter-widgets/controls",
      "model_module_version": "1.5.0",
      "model_name": "HTMLModel",
      "state": {
       "layout": "IPY_MODEL_32e9596ab11f4af8b7e676541d2dfd41",
       "style": "IPY_MODEL_8a5a8eeb494d4d2d808dee2b85eed843",
       "value": " 65/65 [00:02&lt;00:00, 22.29it/s]"
      }
     },
     "cbd5afc6798f4dac9d4213c7bec5d2a1": {
      "model_module": "@jupyter-widgets/controls",
      "model_module_version": "1.5.0",
      "model_name": "HBoxModel",
      "state": {
       "children": [
        "IPY_MODEL_12406fe68de64a12808f9c7a00335267",
        "IPY_MODEL_dadc9f368a4a4d26a764e0c45c8cec63"
       ],
       "layout": "IPY_MODEL_2be14bb0cf8a4706a3c838c5d20df999"
      }
     },
     "cc43e225fc9a4c5480711b568fdec6aa": {
      "model_module": "@jupyter-widgets/base",
      "model_module_version": "1.2.0",
      "model_name": "LayoutModel",
      "state": {}
     },
     "cc5b2e8f991541928169ca4c165472ab": {
      "model_module": "@jupyter-widgets/controls",
      "model_module_version": "1.5.0",
      "model_name": "HBoxModel",
      "state": {
       "children": [
        "IPY_MODEL_ebdba14eb5fe413b8f96c0f500a25daf",
        "IPY_MODEL_13f68d2bd89744a8b7209397cf00d1f4"
       ],
       "layout": "IPY_MODEL_dd2c296ad24b49f6afd452d0967057e0"
      }
     },
     "cc8c9b71b0d34c3296164aa7ebdda218": {
      "model_module": "@jupyter-widgets/controls",
      "model_module_version": "1.5.0",
      "model_name": "HBoxModel",
      "state": {
       "children": [
        "IPY_MODEL_0a969d8ad1504d71b580aa977a45f7b7",
        "IPY_MODEL_b78e803044ba4333a3f69501450c1013"
       ],
       "layout": "IPY_MODEL_1065ac9633ae407e81eadfee17e17ad2"
      }
     },
     "cca6fe1efb2745b8ad2e0ec74f40dbd2": {
      "model_module": "@jupyter-widgets/controls",
      "model_module_version": "1.5.0",
      "model_name": "DescriptionStyleModel",
      "state": {
       "description_width": ""
      }
     },
     "ccafae3686e84ebba492ada9ee03b18b": {
      "model_module": "@jupyter-widgets/base",
      "model_module_version": "1.2.0",
      "model_name": "LayoutModel",
      "state": {}
     },
     "ccafafd9c23d4279a4d1c1d06a1b93d3": {
      "model_module": "@jupyter-widgets/base",
      "model_module_version": "1.2.0",
      "model_name": "LayoutModel",
      "state": {}
     },
     "ccf3adbf175640c99d7b2ebb613f6209": {
      "model_module": "@jupyter-widgets/controls",
      "model_module_version": "1.5.0",
      "model_name": "ProgressStyleModel",
      "state": {
       "description_width": "initial"
      }
     },
     "ccf9de155b0042a7a43342f5b1c0a75a": {
      "model_module": "@jupyter-widgets/base",
      "model_module_version": "1.2.0",
      "model_name": "LayoutModel",
      "state": {}
     },
     "cd23a45cc82f45dd8fe1679613c39cce": {
      "model_module": "@jupyter-widgets/controls",
      "model_module_version": "1.5.0",
      "model_name": "HBoxModel",
      "state": {
       "children": [
        "IPY_MODEL_00771124463140c5af94f11851e72d0e",
        "IPY_MODEL_47d752c4ca764a9188f500302b31ff03"
       ],
       "layout": "IPY_MODEL_a23adc73079248548f73ffb07d3e404e"
      }
     },
     "cd4bdc14bdaf4960adcf1a372852ca43": {
      "model_module": "@jupyter-widgets/controls",
      "model_module_version": "1.5.0",
      "model_name": "FloatProgressModel",
      "state": {
       "bar_style": "success",
       "description": "100%",
       "layout": "IPY_MODEL_8b5ceb7923a84936ae7b598334ae8282",
       "max": 2068,
       "style": "IPY_MODEL_ccf3adbf175640c99d7b2ebb613f6209",
       "value": 2068
      }
     },
     "cd6d9fd79270442cbe1a86d1904152f4": {
      "model_module": "@jupyter-widgets/controls",
      "model_module_version": "1.5.0",
      "model_name": "DescriptionStyleModel",
      "state": {
       "description_width": ""
      }
     },
     "cd965a5ef7b24945874a6631d71cf881": {
      "model_module": "@jupyter-widgets/base",
      "model_module_version": "1.2.0",
      "model_name": "LayoutModel",
      "state": {}
     },
     "cdc839b2488549249a855c176e874855": {
      "model_module": "@jupyter-widgets/base",
      "model_module_version": "1.2.0",
      "model_name": "LayoutModel",
      "state": {}
     },
     "cdd79b89984b4cf6a58906ace85166d8": {
      "model_module": "@jupyter-widgets/controls",
      "model_module_version": "1.5.0",
      "model_name": "HTMLModel",
      "state": {
       "layout": "IPY_MODEL_f6ebbac758654766a5fa990314c32687",
       "style": "IPY_MODEL_240356eb6d0147998312becc6b0da9ef",
       "value": " 47/47 [00:40&lt;00:00,  1.17it/s]"
      }
     },
     "cde32549b4ed47bb8bd425ce31e037e2": {
      "model_module": "@jupyter-widgets/controls",
      "model_module_version": "1.5.0",
      "model_name": "FloatProgressModel",
      "state": {
       "bar_style": "success",
       "description": "Current iteration: 100%",
       "layout": "IPY_MODEL_84ff34909a364c8bbcf1c5b8e2560026",
       "max": 46,
       "style": "IPY_MODEL_8d855e2c79184e0e92e9951a9962b729",
       "value": 46
      }
     },
     "cdf7046ef08c422785aae4402d1f7516": {
      "model_module": "@jupyter-widgets/controls",
      "model_module_version": "1.5.0",
      "model_name": "ProgressStyleModel",
      "state": {
       "description_width": "initial"
      }
     },
     "cdf78505643a485aa2a77482e19296e0": {
      "model_module": "@jupyter-widgets/controls",
      "model_module_version": "1.5.0",
      "model_name": "DescriptionStyleModel",
      "state": {
       "description_width": ""
      }
     },
     "ce1c9cba7b784bfaa41ef2c8493520bd": {
      "model_module": "@jupyter-widgets/base",
      "model_module_version": "1.2.0",
      "model_name": "LayoutModel",
      "state": {}
     },
     "ce2804dd71fa4b3eb116a578679dcda8": {
      "model_module": "@jupyter-widgets/base",
      "model_module_version": "1.2.0",
      "model_name": "LayoutModel",
      "state": {}
     },
     "ceb8a82685454262b1b315b7c0bb4c5e": {
      "model_module": "@jupyter-widgets/controls",
      "model_module_version": "1.5.0",
      "model_name": "DescriptionStyleModel",
      "state": {
       "description_width": ""
      }
     },
     "cec0e57b869b4e94b71c236363117cb0": {
      "model_module": "@jupyter-widgets/base",
      "model_module_version": "1.2.0",
      "model_name": "LayoutModel",
      "state": {}
     },
     "cee3f68204e24a45b94c66354f2797c4": {
      "model_module": "@jupyter-widgets/controls",
      "model_module_version": "1.5.0",
      "model_name": "FloatProgressModel",
      "state": {
       "bar_style": "success",
       "description": "100%",
       "layout": "IPY_MODEL_d9ffc981ebc54a5686c79590ac97b75b",
       "max": 65,
       "style": "IPY_MODEL_e638bebbc328443e911aaf4dd8d74b52",
       "value": 65
      }
     },
     "cef49f8b49aa4f6db85a36181661f66a": {
      "model_module": "@jupyter-widgets/base",
      "model_module_version": "1.2.0",
      "model_name": "LayoutModel",
      "state": {}
     },
     "cefe81cf1a064d2aa5025e0c91726067": {
      "model_module": "@jupyter-widgets/base",
      "model_module_version": "1.2.0",
      "model_name": "LayoutModel",
      "state": {}
     },
     "cf0ec0b5b38b487fa148a90f4bbbd4ca": {
      "model_module": "@jupyter-widgets/controls",
      "model_module_version": "1.5.0",
      "model_name": "DescriptionStyleModel",
      "state": {
       "description_width": ""
      }
     },
     "cf4506f36d884632a7b6c5e78d575f2a": {
      "model_module": "@jupyter-widgets/base",
      "model_module_version": "1.2.0",
      "model_name": "LayoutModel",
      "state": {}
     },
     "cf563a9db6264547b9b9698c26084f41": {
      "model_module": "@jupyter-widgets/base",
      "model_module_version": "1.2.0",
      "model_name": "LayoutModel",
      "state": {}
     },
     "cf56b64f7d7445759760245b90db927b": {
      "model_module": "@jupyter-widgets/controls",
      "model_module_version": "1.5.0",
      "model_name": "HBoxModel",
      "state": {
       "children": [
        "IPY_MODEL_bea2390869d54306a12f6f299a47ad35",
        "IPY_MODEL_0a72c66faf9a45a9b6cbe19ee754f5b3"
       ],
       "layout": "IPY_MODEL_46706e7211a546edb16d384b3b4df4b3"
      }
     },
     "cf78dd0e9e1e480d9e6a9385fe21a3bd": {
      "model_module": "@jupyter-widgets/controls",
      "model_module_version": "1.5.0",
      "model_name": "DescriptionStyleModel",
      "state": {
       "description_width": ""
      }
     },
     "cfa3adcbedea425583106a2a2075d329": {
      "model_module": "@jupyter-widgets/controls",
      "model_module_version": "1.5.0",
      "model_name": "DescriptionStyleModel",
      "state": {
       "description_width": ""
      }
     },
     "cfb05f5d9b194990a984f3780a12ebdd": {
      "model_module": "@jupyter-widgets/base",
      "model_module_version": "1.2.0",
      "model_name": "LayoutModel",
      "state": {}
     },
     "cfb2d7bf54b940aea40897f45a4f1a35": {
      "model_module": "@jupyter-widgets/controls",
      "model_module_version": "1.5.0",
      "model_name": "HTMLModel",
      "state": {
       "layout": "IPY_MODEL_1ec887c27884489d9b8d5c79d2d9adf5",
       "style": "IPY_MODEL_db0704603f6e4d7ea90ac11a4ddf699a",
       "value": " 47/47 [00:40&lt;00:00,  1.15it/s]"
      }
     },
     "d04caa359b634faea2cf855ca34aae95": {
      "model_module": "@jupyter-widgets/base",
      "model_module_version": "1.2.0",
      "model_name": "LayoutModel",
      "state": {}
     },
     "d08af66400814c67a2e74c2b5a70364e": {
      "model_module": "@jupyter-widgets/controls",
      "model_module_version": "1.5.0",
      "model_name": "HTMLModel",
      "state": {
       "layout": "IPY_MODEL_de9c64dd135549898186a53a572df683",
       "style": "IPY_MODEL_1ae22ba8ba6a4f9f8623fbb707f9436d",
       "value": " 2082/2082 [01:53&lt;00:00, 18.37it/s]"
      }
     },
     "d13fd3d229a641f7ba454fb98e2e4414": {
      "model_module": "@jupyter-widgets/controls",
      "model_module_version": "1.5.0",
      "model_name": "HTMLModel",
      "state": {
       "layout": "IPY_MODEL_5e385cf5f10844658898336b22ac3bed",
       "style": "IPY_MODEL_102ac5ce37e241fabed45ff83605cd80",
       "value": " 47/47 [00:31&lt;00:00,  1.52it/s]"
      }
     },
     "d18f1405c800433c9fe8f181cf100268": {
      "model_module": "@jupyter-widgets/controls",
      "model_module_version": "1.5.0",
      "model_name": "HBoxModel",
      "state": {
       "children": [
        "IPY_MODEL_246774c7de514fe4819045e698b85f39",
        "IPY_MODEL_16c8de92c44843ee91bd551b3d9ff137"
       ],
       "layout": "IPY_MODEL_860b258c010043c1ae5fd2270fb10328"
      }
     },
     "d22b966fe1f64f398fa7a80fc47a64c7": {
      "model_module": "@jupyter-widgets/controls",
      "model_module_version": "1.5.0",
      "model_name": "DescriptionStyleModel",
      "state": {
       "description_width": ""
      }
     },
     "d23a7451575445218556a4b90448e71c": {
      "model_module": "@jupyter-widgets/base",
      "model_module_version": "1.2.0",
      "model_name": "LayoutModel",
      "state": {}
     },
     "d2f39743c1dd497eaa64a7014ceddaae": {
      "model_module": "@jupyter-widgets/controls",
      "model_module_version": "1.5.0",
      "model_name": "DescriptionStyleModel",
      "state": {
       "description_width": ""
      }
     },
     "d31cff18e759425a9e6341e51152a0a1": {
      "model_module": "@jupyter-widgets/base",
      "model_module_version": "1.2.0",
      "model_name": "LayoutModel",
      "state": {}
     },
     "d341bc91d0f440f0b83e811652662015": {
      "model_module": "@jupyter-widgets/base",
      "model_module_version": "1.2.0",
      "model_name": "LayoutModel",
      "state": {}
     },
     "d435d8e4049c4c2987b38ba86ec12569": {
      "model_module": "@jupyter-widgets/base",
      "model_module_version": "1.2.0",
      "model_name": "LayoutModel",
      "state": {}
     },
     "d4bfa9329cdf497889194efcc89349a0": {
      "model_module": "@jupyter-widgets/controls",
      "model_module_version": "1.5.0",
      "model_name": "ProgressStyleModel",
      "state": {
       "description_width": "initial"
      }
     },
     "d4c096744fe04701bce7be4f77f67ab4": {
      "model_module": "@jupyter-widgets/controls",
      "model_module_version": "1.5.0",
      "model_name": "HBoxModel",
      "state": {
       "children": [
        "IPY_MODEL_623a9b97ad694a1c8a77144a5236cc51",
        "IPY_MODEL_04cba744a9374b3dbcc966d09897b41a"
       ],
       "layout": "IPY_MODEL_ad5e335ba2e64da4ad9adc9eda8ab51d"
      }
     },
     "d4d332981e104da990786cd6bf92dca1": {
      "model_module": "@jupyter-widgets/controls",
      "model_module_version": "1.5.0",
      "model_name": "ProgressStyleModel",
      "state": {
       "description_width": "initial"
      }
     },
     "d5189173b02a4ccab814b459a0bd644f": {
      "model_module": "@jupyter-widgets/controls",
      "model_module_version": "1.5.0",
      "model_name": "FloatProgressModel",
      "state": {
       "bar_style": "success",
       "description": "100%",
       "layout": "IPY_MODEL_9a94a6156ebc4fd893ace6b1491c66ab",
       "max": 518,
       "style": "IPY_MODEL_0834925384e54616bdf79623d09d56a6",
       "value": 518
      }
     },
     "d5bf17b026314464aee0fe52f8281c5b": {
      "model_module": "@jupyter-widgets/base",
      "model_module_version": "1.2.0",
      "model_name": "LayoutModel",
      "state": {}
     },
     "d5c1e44a43de4d01857287c15446af90": {
      "model_module": "@jupyter-widgets/base",
      "model_module_version": "1.2.0",
      "model_name": "LayoutModel",
      "state": {}
     },
     "d5c476eb2ad14972bc1ea47823f4d38e": {
      "model_module": "@jupyter-widgets/controls",
      "model_module_version": "1.5.0",
      "model_name": "FloatProgressModel",
      "state": {
       "bar_style": "success",
       "description": "100%",
       "layout": "IPY_MODEL_cec0e57b869b4e94b71c236363117cb0",
       "max": 2068,
       "style": "IPY_MODEL_042534e3fc474d4caf4d2548297f32dd",
       "value": 2068
      }
     },
     "d6066e795a824cc1b61e013e64c7f8c2": {
      "model_module": "@jupyter-widgets/controls",
      "model_module_version": "1.5.0",
      "model_name": "HBoxModel",
      "state": {
       "children": [
        "IPY_MODEL_6149c93c1a1c41039e7381578c88f6d6",
        "IPY_MODEL_08fb524d235846c9bc66ca71fc03469e"
       ],
       "layout": "IPY_MODEL_6b9574c1712b423d89c6378363626760"
      }
     },
     "d6b23daaaaa54b8b9d9061e1c45793e8": {
      "model_module": "@jupyter-widgets/controls",
      "model_module_version": "1.5.0",
      "model_name": "FloatProgressModel",
      "state": {
       "bar_style": "success",
       "description": "Current iteration: 100%",
       "layout": "IPY_MODEL_6a3759ad5137463f875d81149e552680",
       "max": 46,
       "style": "IPY_MODEL_79cabaa5c69e4cf0bfa18336c7ea0583",
       "value": 46
      }
     },
     "d7c6ef0dbf274ebb9b385f74450e6993": {
      "model_module": "@jupyter-widgets/controls",
      "model_module_version": "1.5.0",
      "model_name": "FloatProgressModel",
      "state": {
       "bar_style": "success",
       "description": "100%",
       "layout": "IPY_MODEL_aa0d9d36fc064affb8f559b1aca80b1c",
       "max": 65,
       "style": "IPY_MODEL_35622947a5104413a372b79833af5f6f",
       "value": 65
      }
     },
     "d7fe141937344f9d80f305ef524d78cb": {
      "model_module": "@jupyter-widgets/controls",
      "model_module_version": "1.5.0",
      "model_name": "DescriptionStyleModel",
      "state": {
       "description_width": ""
      }
     },
     "d811c3ebdd164bc2b3f513af2be5f95d": {
      "model_module": "@jupyter-widgets/base",
      "model_module_version": "1.2.0",
      "model_name": "LayoutModel",
      "state": {}
     },
     "d835285747994d11bcca08ea8cd9a604": {
      "model_module": "@jupyter-widgets/base",
      "model_module_version": "1.2.0",
      "model_name": "LayoutModel",
      "state": {}
     },
     "d8b930dbb00647099efdef8e78d39e97": {
      "model_module": "@jupyter-widgets/controls",
      "model_module_version": "1.5.0",
      "model_name": "HTMLModel",
      "state": {
       "layout": "IPY_MODEL_deb33c2b1926481981317e1622a6cd72",
       "style": "IPY_MODEL_7e542022c0f34880bbc2a99c0ab17f87",
       "value": " 65/65 [00:03&lt;00:00, 21.24it/s]"
      }
     },
     "d9046316f32b4202a11538d436f23501": {
      "model_module": "@jupyter-widgets/controls",
      "model_module_version": "1.5.0",
      "model_name": "DescriptionStyleModel",
      "state": {
       "description_width": ""
      }
     },
     "d91005ca54ff4d51bd2a2e78947d32f4": {
      "model_module": "@jupyter-widgets/base",
      "model_module_version": "1.2.0",
      "model_name": "LayoutModel",
      "state": {}
     },
     "d963ddfd2c7445ddb013b2b25b498b6b": {
      "model_module": "@jupyter-widgets/controls",
      "model_module_version": "1.5.0",
      "model_name": "HBoxModel",
      "state": {
       "children": [
        "IPY_MODEL_c7cccbc465404ef0b612a9d538226630",
        "IPY_MODEL_b2a8da44d39649e7adc2b40dd6add9da"
       ],
       "layout": "IPY_MODEL_7e6071b288754e0c9b9d48efe6ec9035"
      }
     },
     "d9976ea65e38461cabe52166b4e7e803": {
      "model_module": "@jupyter-widgets/controls",
      "model_module_version": "1.5.0",
      "model_name": "HBoxModel",
      "state": {
       "children": [
        "IPY_MODEL_b7f7418ddb854e7c8ec0dff344daf8d1",
        "IPY_MODEL_509d3a2f354744738526c610f297745c"
       ],
       "layout": "IPY_MODEL_338c57f079d4462c9f60eb97a8df9340"
      }
     },
     "d9a828b97e894cd08983a99bae98a103": {
      "model_module": "@jupyter-widgets/base",
      "model_module_version": "1.2.0",
      "model_name": "LayoutModel",
      "state": {}
     },
     "d9ffc981ebc54a5686c79590ac97b75b": {
      "model_module": "@jupyter-widgets/base",
      "model_module_version": "1.2.0",
      "model_name": "LayoutModel",
      "state": {}
     },
     "da3d37bd8f234de38a92e09e17eef23c": {
      "model_module": "@jupyter-widgets/base",
      "model_module_version": "1.2.0",
      "model_name": "LayoutModel",
      "state": {}
     },
     "dacfe8fec4da4933bbdc904e84e9e787": {
      "model_module": "@jupyter-widgets/controls",
      "model_module_version": "1.5.0",
      "model_name": "HTMLModel",
      "state": {
       "layout": "IPY_MODEL_ba9914d9e4b343b5a50865ccf1346934",
       "style": "IPY_MODEL_01f95abbe67045298da04d483f8c6933",
       "value": " 47/47 [00:31&lt;00:00,  1.51it/s]"
      }
     },
     "dad3d030fe9a454c98c87cfe0a5a6aa4": {
      "model_module": "@jupyter-widgets/controls",
      "model_module_version": "1.5.0",
      "model_name": "FloatProgressModel",
      "state": {
       "bar_style": "success",
       "description": "Current iteration: 100%",
       "layout": "IPY_MODEL_f998fdef942a47f0a5c422bf890b36bb",
       "max": 47,
       "style": "IPY_MODEL_91041137cb404f2cbb5a4cf3acde7996",
       "value": 47
      }
     },
     "dadc9f368a4a4d26a764e0c45c8cec63": {
      "model_module": "@jupyter-widgets/controls",
      "model_module_version": "1.5.0",
      "model_name": "HTMLModel",
      "state": {
       "layout": "IPY_MODEL_12f1cf00a43f41ee9bd0dd6821120487",
       "style": "IPY_MODEL_8fd240faed7b45f8b744c0346f606c65",
       "value": " 47/47 [01:13&lt;00:00,  1.57s/it]"
      }
     },
     "db0704603f6e4d7ea90ac11a4ddf699a": {
      "model_module": "@jupyter-widgets/controls",
      "model_module_version": "1.5.0",
      "model_name": "DescriptionStyleModel",
      "state": {
       "description_width": ""
      }
     },
     "db8045e5ba314139a5d1f95aed0f2b23": {
      "model_module": "@jupyter-widgets/base",
      "model_module_version": "1.2.0",
      "model_name": "LayoutModel",
      "state": {}
     },
     "dc3cdf23170f4940b125ab4a5b9c1b34": {
      "model_module": "@jupyter-widgets/base",
      "model_module_version": "1.2.0",
      "model_name": "LayoutModel",
      "state": {}
     },
     "dc50b370ce6644d7aad965c515b2e5de": {
      "model_module": "@jupyter-widgets/controls",
      "model_module_version": "1.5.0",
      "model_name": "FloatProgressModel",
      "state": {
       "bar_style": "success",
       "description": "100%",
       "layout": "IPY_MODEL_c42349c585e5449a9986e78d8f17d7d2",
       "max": 2082,
       "style": "IPY_MODEL_36734fdf4ab74e0aa75c18668516f6bb",
       "value": 2082
      }
     },
     "dcacd52ce3a1413990151900805342aa": {
      "model_module": "@jupyter-widgets/base",
      "model_module_version": "1.2.0",
      "model_name": "LayoutModel",
      "state": {}
     },
     "dcbef25a1e984c6b91ee33dfa324f5e1": {
      "model_module": "@jupyter-widgets/base",
      "model_module_version": "1.2.0",
      "model_name": "LayoutModel",
      "state": {}
     },
     "dd2c296ad24b49f6afd452d0967057e0": {
      "model_module": "@jupyter-widgets/base",
      "model_module_version": "1.2.0",
      "model_name": "LayoutModel",
      "state": {}
     },
     "de43696c74624798a14959360fd4e034": {
      "model_module": "@jupyter-widgets/controls",
      "model_module_version": "1.5.0",
      "model_name": "ProgressStyleModel",
      "state": {
       "description_width": "initial"
      }
     },
     "de8e875c6ab84c2caa02af69ed664751": {
      "model_module": "@jupyter-widgets/controls",
      "model_module_version": "1.5.0",
      "model_name": "FloatProgressModel",
      "state": {
       "bar_style": "success",
       "description": "100%",
       "layout": "IPY_MODEL_417a646871664acaa7dad21b50a91f51",
       "max": 65,
       "style": "IPY_MODEL_5253658112f34cbc9a01ab96972e745b",
       "value": 65
      }
     },
     "de9b6c56f781458287af0fee8a707a66": {
      "model_module": "@jupyter-widgets/base",
      "model_module_version": "1.2.0",
      "model_name": "LayoutModel",
      "state": {}
     },
     "de9c64dd135549898186a53a572df683": {
      "model_module": "@jupyter-widgets/base",
      "model_module_version": "1.2.0",
      "model_name": "LayoutModel",
      "state": {}
     },
     "deb33c2b1926481981317e1622a6cd72": {
      "model_module": "@jupyter-widgets/base",
      "model_module_version": "1.2.0",
      "model_name": "LayoutModel",
      "state": {}
     },
     "debf34c70cfd41fd810e32c9e9fa187e": {
      "model_module": "@jupyter-widgets/controls",
      "model_module_version": "1.5.0",
      "model_name": "ProgressStyleModel",
      "state": {
       "description_width": "initial"
      }
     },
     "df8e5800913b4c248c65c07c6366abb7": {
      "model_module": "@jupyter-widgets/controls",
      "model_module_version": "1.5.0",
      "model_name": "FloatProgressModel",
      "state": {
       "bar_style": "success",
       "description": "Current iteration: 100%",
       "layout": "IPY_MODEL_f96d981511524925bfcfb488edb7d7ad",
       "max": 47,
       "style": "IPY_MODEL_eede0ead7fa34e3bb6bd7d8f42e23c30",
       "value": 47
      }
     },
     "dfd1e5eb0d084e05818a3c0c5e3b6294": {
      "model_module": "@jupyter-widgets/base",
      "model_module_version": "1.2.0",
      "model_name": "LayoutModel",
      "state": {}
     },
     "e0a04f6646824da584d6b15f230ff4a8": {
      "model_module": "@jupyter-widgets/controls",
      "model_module_version": "1.5.0",
      "model_name": "HTMLModel",
      "state": {
       "layout": "IPY_MODEL_685c2603e3044cb3905955a6fd774f08",
       "style": "IPY_MODEL_844a052fe05a412e830b8b33b83a7a0f",
       "value": " 46/46 [01:15&lt;00:00,  1.64s/it]"
      }
     },
     "e0d8162f037c43c4ad6df12d1682dfd1": {
      "model_module": "@jupyter-widgets/controls",
      "model_module_version": "1.5.0",
      "model_name": "HBoxModel",
      "state": {
       "children": [
        "IPY_MODEL_df8e5800913b4c248c65c07c6366abb7",
        "IPY_MODEL_f7f9211fa6f94b23b4485e221d8f6729"
       ],
       "layout": "IPY_MODEL_2f04ee1108ce408aac5e83fbe165797d"
      }
     },
     "e140da1caaad483d831c2e0d8377d719": {
      "model_module": "@jupyter-widgets/controls",
      "model_module_version": "1.5.0",
      "model_name": "HTMLModel",
      "state": {
       "layout": "IPY_MODEL_b9d03e763ac94fc58ba7fbe730a48f82",
       "style": "IPY_MODEL_7f75fcc8e0fa4eb08a90e11c3d1cbe64",
       "value": " 2082/2082 [01:40&lt;00:00, 20.68it/s]"
      }
     },
     "e1968bf27ae440028c54dfd7274feb83": {
      "model_module": "@jupyter-widgets/controls",
      "model_module_version": "1.5.0",
      "model_name": "DescriptionStyleModel",
      "state": {
       "description_width": ""
      }
     },
     "e1a41002c1fa4194bf90f5cf97ac4356": {
      "model_module": "@jupyter-widgets/controls",
      "model_module_version": "1.5.0",
      "model_name": "ProgressStyleModel",
      "state": {
       "description_width": "initial"
      }
     },
     "e1bfcd6deec743b884dfb2f4071cc276": {
      "model_module": "@jupyter-widgets/controls",
      "model_module_version": "1.5.0",
      "model_name": "HBoxModel",
      "state": {
       "children": [
        "IPY_MODEL_a305c7a8f0614d2ca62eb37633140a4f",
        "IPY_MODEL_793d910509c644d59ea9a4f6883fbfc3"
       ],
       "layout": "IPY_MODEL_aaf92373e322438b93b7b80f60603c90"
      }
     },
     "e1dfb9cfe6024189bfd6e2bc9afb97e2": {
      "model_module": "@jupyter-widgets/base",
      "model_module_version": "1.2.0",
      "model_name": "LayoutModel",
      "state": {}
     },
     "e22de913f00e4e58a4b9047e34427e8a": {
      "model_module": "@jupyter-widgets/base",
      "model_module_version": "1.2.0",
      "model_name": "LayoutModel",
      "state": {}
     },
     "e278a6f4cf2949d6a9da8965c8a77cfb": {
      "model_module": "@jupyter-widgets/base",
      "model_module_version": "1.2.0",
      "model_name": "LayoutModel",
      "state": {}
     },
     "e28368047f4b4b7193825fc5ce97798a": {
      "model_module": "@jupyter-widgets/base",
      "model_module_version": "1.2.0",
      "model_name": "LayoutModel",
      "state": {}
     },
     "e28b5bba641a409587bfee573dc18d07": {
      "model_module": "@jupyter-widgets/controls",
      "model_module_version": "1.5.0",
      "model_name": "HBoxModel",
      "state": {
       "children": [
        "IPY_MODEL_cee3f68204e24a45b94c66354f2797c4",
        "IPY_MODEL_e2f8b0e5e2d04cdcb8332e74d729dcf0"
       ],
       "layout": "IPY_MODEL_50b5d1831c8b41618f8083ce08476dad"
      }
     },
     "e2c234725dc04feba08ac697ab9d2ed0": {
      "model_module": "@jupyter-widgets/controls",
      "model_module_version": "1.5.0",
      "model_name": "ProgressStyleModel",
      "state": {
       "description_width": "initial"
      }
     },
     "e2dbee18b5b549598c121af1bf8ab7c6": {
      "model_module": "@jupyter-widgets/controls",
      "model_module_version": "1.5.0",
      "model_name": "DescriptionStyleModel",
      "state": {
       "description_width": ""
      }
     },
     "e2f8b0e5e2d04cdcb8332e74d729dcf0": {
      "model_module": "@jupyter-widgets/controls",
      "model_module_version": "1.5.0",
      "model_name": "HTMLModel",
      "state": {
       "layout": "IPY_MODEL_dcacd52ce3a1413990151900805342aa",
       "style": "IPY_MODEL_0f9ef507098442799e6f6726663aa688",
       "value": " 65/65 [00:02&lt;00:00, 22.63it/s]"
      }
     },
     "e352fd345e134ea59b7baaaccf5c9155": {
      "model_module": "@jupyter-widgets/base",
      "model_module_version": "1.2.0",
      "model_name": "LayoutModel",
      "state": {}
     },
     "e35bd65e269740c781c2589be2e10608": {
      "model_module": "@jupyter-widgets/controls",
      "model_module_version": "1.5.0",
      "model_name": "HBoxModel",
      "state": {
       "children": [
        "IPY_MODEL_4f43b653445045608128e8c1ddf4148e",
        "IPY_MODEL_b2149cd4e6e340cf9e914a00f8090002"
       ],
       "layout": "IPY_MODEL_ce2804dd71fa4b3eb116a578679dcda8"
      }
     },
     "e389033854404623a545605b95d486fa": {
      "model_module": "@jupyter-widgets/controls",
      "model_module_version": "1.5.0",
      "model_name": "HTMLModel",
      "state": {
       "layout": "IPY_MODEL_ea549f46a5114a5e8c907ac02e691ea3",
       "style": "IPY_MODEL_66e8914cde3b4a5ab60bbb8a81e46c88",
       "value": " 2084/2084 [01:50&lt;00:00, 18.81it/s]"
      }
     },
     "e39e0a4bf0ab4e9f87a23e6dab8546e3": {
      "model_module": "@jupyter-widgets/controls",
      "model_module_version": "1.5.0",
      "model_name": "HTMLModel",
      "state": {
       "layout": "IPY_MODEL_6db83773545d401891889c1f6d12fe7c",
       "style": "IPY_MODEL_8e119797be864b039bc612df2c4b5b7a",
       "value": " 47/47 [01:37&lt;00:00,  2.08s/it]"
      }
     },
     "e3a55151d87e4b57a31d88b5ba5a4e3e": {
      "model_module": "@jupyter-widgets/base",
      "model_module_version": "1.2.0",
      "model_name": "LayoutModel",
      "state": {}
     },
     "e3c566431f2f443b9c552725d01fd466": {
      "model_module": "@jupyter-widgets/base",
      "model_module_version": "1.2.0",
      "model_name": "LayoutModel",
      "state": {}
     },
     "e3c76c9ea1d0402cbe23215297ea2770": {
      "model_module": "@jupyter-widgets/controls",
      "model_module_version": "1.5.0",
      "model_name": "DescriptionStyleModel",
      "state": {
       "description_width": ""
      }
     },
     "e437ba26b4c242c38d936d3bebe1c4e2": {
      "model_module": "@jupyter-widgets/base",
      "model_module_version": "1.2.0",
      "model_name": "LayoutModel",
      "state": {}
     },
     "e449d38b929b4883ba3abea5959446b0": {
      "model_module": "@jupyter-widgets/base",
      "model_module_version": "1.2.0",
      "model_name": "LayoutModel",
      "state": {}
     },
     "e4e23914889547ab9bb7334757211d9e": {
      "model_module": "@jupyter-widgets/base",
      "model_module_version": "1.2.0",
      "model_name": "LayoutModel",
      "state": {}
     },
     "e5b257e3ed5149a59ecb190bf482dc5b": {
      "model_module": "@jupyter-widgets/controls",
      "model_module_version": "1.5.0",
      "model_name": "ProgressStyleModel",
      "state": {
       "description_width": "initial"
      }
     },
     "e5bad6e7ce424191966d843f35ce26ce": {
      "model_module": "@jupyter-widgets/controls",
      "model_module_version": "1.5.0",
      "model_name": "HBoxModel",
      "state": {
       "children": [
        "IPY_MODEL_2ae86753ff8e41388759ca230129a465",
        "IPY_MODEL_6d7d6b2e3944411092fb7cea7390be6f"
       ],
       "layout": "IPY_MODEL_73c3dcb6b50144b7b5409d5539fe4044"
      }
     },
     "e615f6d9992e4caeb1d137aef0ea484d": {
      "model_module": "@jupyter-widgets/controls",
      "model_module_version": "1.5.0",
      "model_name": "HTMLModel",
      "state": {
       "layout": "IPY_MODEL_6d55b6cf83a14836831663aef50daed8",
       "style": "IPY_MODEL_1fc7dac89cdf434aba8b44e391d80d46",
       "value": " 3/3 [01:47&lt;00:00, 35.75s/it]"
      }
     },
     "e638bebbc328443e911aaf4dd8d74b52": {
      "model_module": "@jupyter-widgets/controls",
      "model_module_version": "1.5.0",
      "model_name": "ProgressStyleModel",
      "state": {
       "description_width": "initial"
      }
     },
     "e63afd9341b340fc80e20ad0e6827083": {
      "model_module": "@jupyter-widgets/controls",
      "model_module_version": "1.5.0",
      "model_name": "ProgressStyleModel",
      "state": {
       "description_width": "initial"
      }
     },
     "e63eb4dc87d9491c9bfbc9fc701aa1ba": {
      "model_module": "@jupyter-widgets/base",
      "model_module_version": "1.2.0",
      "model_name": "LayoutModel",
      "state": {}
     },
     "e67060f341a34206b300319f18589873": {
      "model_module": "@jupyter-widgets/controls",
      "model_module_version": "1.5.0",
      "model_name": "HBoxModel",
      "state": {
       "children": [
        "IPY_MODEL_97b1a9392e1a4061a9ec0d2165432fe3",
        "IPY_MODEL_1ff3eab03922419b970262ffcf8692f5"
       ],
       "layout": "IPY_MODEL_e3a55151d87e4b57a31d88b5ba5a4e3e"
      }
     },
     "e6af6bd7a9fd4967bdf83e100d880073": {
      "model_module": "@jupyter-widgets/controls",
      "model_module_version": "1.5.0",
      "model_name": "HBoxModel",
      "state": {
       "children": [
        "IPY_MODEL_dad3d030fe9a454c98c87cfe0a5a6aa4",
        "IPY_MODEL_c9019238391a4c82bda0706d2df0f44d"
       ],
       "layout": "IPY_MODEL_a3213977965446ca9e5de38858adfac2"
      }
     },
     "e6c9e1e61b3f44309864b46cf6c05784": {
      "model_module": "@jupyter-widgets/controls",
      "model_module_version": "1.5.0",
      "model_name": "HBoxModel",
      "state": {
       "children": [
        "IPY_MODEL_0b29b8559ffb4478b300b7ef4be54c6a",
        "IPY_MODEL_0c1d2c50779a45cfa08ba1907fa62570"
       ],
       "layout": "IPY_MODEL_1dc5487b6c9b4508b8487d8adb5f35ec"
      }
     },
     "e6dfb53260c14b67b5ec3f0ffb0be6ac": {
      "model_module": "@jupyter-widgets/base",
      "model_module_version": "1.2.0",
      "model_name": "LayoutModel",
      "state": {}
     },
     "e6f25da8c65e44a4ae35c172995bf1ed": {
      "model_module": "@jupyter-widgets/base",
      "model_module_version": "1.2.0",
      "model_name": "LayoutModel",
      "state": {}
     },
     "e721aab52c2b4297b71415ad4548842b": {
      "model_module": "@jupyter-widgets/base",
      "model_module_version": "1.2.0",
      "model_name": "LayoutModel",
      "state": {}
     },
     "e7801af503aa4a7aa79bebd544d4f2a0": {
      "model_module": "@jupyter-widgets/controls",
      "model_module_version": "1.5.0",
      "model_name": "HTMLModel",
      "state": {
       "layout": "IPY_MODEL_ad2dbf2dd984496ba2f3852ed53ffdc9",
       "style": "IPY_MODEL_05cd71e8372047e598ef962e3454ad50",
       "value": " 47/47 [01:14&lt;00:00,  1.58s/it]"
      }
     },
     "e79fa76ad9bb4f2a90edf48acb9770a9": {
      "model_module": "@jupyter-widgets/controls",
      "model_module_version": "1.5.0",
      "model_name": "FloatProgressModel",
      "state": {
       "bar_style": "success",
       "description": "Epoch: 100%",
       "layout": "IPY_MODEL_3c5fd59e01ad46e8aef9da4287269b4e",
       "max": 3,
       "style": "IPY_MODEL_03f76276f237487cbf6534ee6c10fee9",
       "value": 3
      }
     },
     "e7e882ca5b4b4c85b9d43d1c6afb422d": {
      "model_module": "@jupyter-widgets/base",
      "model_module_version": "1.2.0",
      "model_name": "LayoutModel",
      "state": {}
     },
     "e85178d3d13e46298b385283124ff4a3": {
      "model_module": "@jupyter-widgets/base",
      "model_module_version": "1.2.0",
      "model_name": "LayoutModel",
      "state": {}
     },
     "e879bae07201484bb71cd09fd482db39": {
      "model_module": "@jupyter-widgets/controls",
      "model_module_version": "1.5.0",
      "model_name": "ProgressStyleModel",
      "state": {
       "description_width": "initial"
      }
     },
     "e87b685dc0dc467d88d8bc8b005c7f67": {
      "model_module": "@jupyter-widgets/base",
      "model_module_version": "1.2.0",
      "model_name": "LayoutModel",
      "state": {}
     },
     "e8b47d474f9c47d4a5a152f918819d95": {
      "model_module": "@jupyter-widgets/controls",
      "model_module_version": "1.5.0",
      "model_name": "ProgressStyleModel",
      "state": {
       "description_width": "initial"
      }
     },
     "e8e5569a59b24916979d5cc8c4d0e9a8": {
      "model_module": "@jupyter-widgets/controls",
      "model_module_version": "1.5.0",
      "model_name": "ProgressStyleModel",
      "state": {
       "description_width": "initial"
      }
     },
     "e94e1170fd2a4a878d1131c79e658f1e": {
      "model_module": "@jupyter-widgets/controls",
      "model_module_version": "1.5.0",
      "model_name": "ProgressStyleModel",
      "state": {
       "description_width": "initial"
      }
     },
     "e9c39c92f969422cb2d8bdcd6cb74be5": {
      "model_module": "@jupyter-widgets/base",
      "model_module_version": "1.2.0",
      "model_name": "LayoutModel",
      "state": {}
     },
     "e9ce5ac4fe6144268d1c72922911544e": {
      "model_module": "@jupyter-widgets/controls",
      "model_module_version": "1.5.0",
      "model_name": "FloatProgressModel",
      "state": {
       "bar_style": "success",
       "description": "Current iteration: 100%",
       "layout": "IPY_MODEL_a94440dc236d4217a7295bd8cdbda924",
       "max": 47,
       "style": "IPY_MODEL_201738b062ba4bd792ccd0ff4efd9636",
       "value": 47
      }
     },
     "e9dda950817b484b81d03c9945b2f06d": {
      "model_module": "@jupyter-widgets/controls",
      "model_module_version": "1.5.0",
      "model_name": "ProgressStyleModel",
      "state": {
       "description_width": "initial"
      }
     },
     "ea549f46a5114a5e8c907ac02e691ea3": {
      "model_module": "@jupyter-widgets/base",
      "model_module_version": "1.2.0",
      "model_name": "LayoutModel",
      "state": {}
     },
     "ea7d1324833c485db33ef9207c0ca590": {
      "model_module": "@jupyter-widgets/controls",
      "model_module_version": "1.5.0",
      "model_name": "HTMLModel",
      "state": {
       "layout": "IPY_MODEL_fecadd8102184ec895d91a2e04426e5a",
       "style": "IPY_MODEL_7660c75d39184bfa984bd53ecea93d66",
       "value": " 2081/2081 [01:50&lt;00:00, 18.76it/s]"
      }
     },
     "eaabbf4df8494c038c10e52ed510ff5e": {
      "model_module": "@jupyter-widgets/controls",
      "model_module_version": "1.5.0",
      "model_name": "FloatProgressModel",
      "state": {
       "bar_style": "success",
       "description": "Current iteration: 100%",
       "layout": "IPY_MODEL_2a886b76473f4ea49233ab7339de666b",
       "max": 47,
       "style": "IPY_MODEL_00b7b197892c45be929322c66c7b884e",
       "value": 47
      }
     },
     "eae7d8f730374f8997eb104c4de077d2": {
      "model_module": "@jupyter-widgets/controls",
      "model_module_version": "1.5.0",
      "model_name": "HTMLModel",
      "state": {
       "layout": "IPY_MODEL_2089d049d952439ebd30f02433f3f0e3",
       "style": "IPY_MODEL_d22b966fe1f64f398fa7a80fc47a64c7",
       "value": " 3/3 [01:48&lt;00:00, 36.16s/it]"
      }
     },
     "eb09178cec40467bbadf21e7d5bbf648": {
      "model_module": "@jupyter-widgets/base",
      "model_module_version": "1.2.0",
      "model_name": "LayoutModel",
      "state": {}
     },
     "eb39ee964b5e4ea4937e3c0f6f1323c0": {
      "model_module": "@jupyter-widgets/base",
      "model_module_version": "1.2.0",
      "model_name": "LayoutModel",
      "state": {}
     },
     "eb733711f8054eddb4ab91e64a112661": {
      "model_module": "@jupyter-widgets/controls",
      "model_module_version": "1.5.0",
      "model_name": "DescriptionStyleModel",
      "state": {
       "description_width": ""
      }
     },
     "eb79d769ad674a5db85884bf54f01ed8": {
      "model_module": "@jupyter-widgets/controls",
      "model_module_version": "1.5.0",
      "model_name": "HTMLModel",
      "state": {
       "layout": "IPY_MODEL_e1dfb9cfe6024189bfd6e2bc9afb97e2",
       "style": "IPY_MODEL_e2dbee18b5b549598c121af1bf8ab7c6",
       "value": " 47/47 [01:13&lt;00:00,  1.57s/it]"
      }
     },
     "eb8fb161ba3840b49932a3cd21e7dba7": {
      "model_module": "@jupyter-widgets/base",
      "model_module_version": "1.2.0",
      "model_name": "LayoutModel",
      "state": {}
     },
     "ebdba14eb5fe413b8f96c0f500a25daf": {
      "model_module": "@jupyter-widgets/controls",
      "model_module_version": "1.5.0",
      "model_name": "FloatProgressModel",
      "state": {
       "bar_style": "success",
       "description": "100%",
       "layout": "IPY_MODEL_cf563a9db6264547b9b9698c26084f41",
       "max": 2081,
       "style": "IPY_MODEL_2cdca4e4e916485998c7ad758caf9043",
       "value": 2081
      }
     },
     "ebef408641694a089fbd83037ce603eb": {
      "model_module": "@jupyter-widgets/base",
      "model_module_version": "1.2.0",
      "model_name": "LayoutModel",
      "state": {}
     },
     "ec28956bec134be89e491b4b76789d52": {
      "model_module": "@jupyter-widgets/base",
      "model_module_version": "1.2.0",
      "model_name": "LayoutModel",
      "state": {}
     },
     "eca2593d99ff481594dac3bffc19aa66": {
      "model_module": "@jupyter-widgets/controls",
      "model_module_version": "1.5.0",
      "model_name": "DescriptionStyleModel",
      "state": {
       "description_width": ""
      }
     },
     "ed8c9502f0de435fa6a417b1c4279e80": {
      "model_module": "@jupyter-widgets/base",
      "model_module_version": "1.2.0",
      "model_name": "LayoutModel",
      "state": {}
     },
     "eede0ead7fa34e3bb6bd7d8f42e23c30": {
      "model_module": "@jupyter-widgets/controls",
      "model_module_version": "1.5.0",
      "model_name": "ProgressStyleModel",
      "state": {
       "description_width": "initial"
      }
     },
     "eee5f928620b41b28f4fbb1ff85e28ea": {
      "model_module": "@jupyter-widgets/controls",
      "model_module_version": "1.5.0",
      "model_name": "ProgressStyleModel",
      "state": {
       "description_width": "initial"
      }
     },
     "eee7a1bb13ae48bc9398931f24984b5c": {
      "model_module": "@jupyter-widgets/controls",
      "model_module_version": "1.5.0",
      "model_name": "ProgressStyleModel",
      "state": {
       "description_width": "initial"
      }
     },
     "ef66cdcad5a74a06a854e579809cea16": {
      "model_module": "@jupyter-widgets/base",
      "model_module_version": "1.2.0",
      "model_name": "LayoutModel",
      "state": {}
     },
     "eff36fd663304908a3568ca4d5fba3d7": {
      "model_module": "@jupyter-widgets/controls",
      "model_module_version": "1.5.0",
      "model_name": "FloatProgressModel",
      "state": {
       "bar_style": "success",
       "description": "100%",
       "layout": "IPY_MODEL_47c54f6ba0f9402ab898d8dd983bb423",
       "max": 2082,
       "style": "IPY_MODEL_2ad1ac30eb0e41778c17cc3e9adeb675",
       "value": 2082
      }
     },
     "f0148059cf3f40a48d59dfda4344b64b": {
      "model_module": "@jupyter-widgets/controls",
      "model_module_version": "1.5.0",
      "model_name": "ProgressStyleModel",
      "state": {
       "description_width": "initial"
      }
     },
     "f07a1867dae841f89ba4c38128359c7a": {
      "model_module": "@jupyter-widgets/base",
      "model_module_version": "1.2.0",
      "model_name": "LayoutModel",
      "state": {}
     },
     "f07ee15459144e069ba1bf5b13bd8990": {
      "model_module": "@jupyter-widgets/controls",
      "model_module_version": "1.5.0",
      "model_name": "HBoxModel",
      "state": {
       "children": [
        "IPY_MODEL_6fe6d5a271d34a69a85514f3eeb732f2",
        "IPY_MODEL_4df05b2edc444801bcea0fdc4f456c09"
       ],
       "layout": "IPY_MODEL_c96c15a0850c40159cf18f322f61ff2e"
      }
     },
     "f0fe34ecfa5a45cb8fea6f92b6b56d0a": {
      "model_module": "@jupyter-widgets/controls",
      "model_module_version": "1.5.0",
      "model_name": "DescriptionStyleModel",
      "state": {
       "description_width": ""
      }
     },
     "f18a6d3874f045eb82dfe797504dd08b": {
      "model_module": "@jupyter-widgets/base",
      "model_module_version": "1.2.0",
      "model_name": "LayoutModel",
      "state": {}
     },
     "f208a7a83a644ed8a982fdebc37cae3e": {
      "model_module": "@jupyter-widgets/controls",
      "model_module_version": "1.5.0",
      "model_name": "DescriptionStyleModel",
      "state": {
       "description_width": ""
      }
     },
     "f2421de92d5844e9a13fce0de3052594": {
      "model_module": "@jupyter-widgets/controls",
      "model_module_version": "1.5.0",
      "model_name": "FloatProgressModel",
      "state": {
       "bar_style": "success",
       "description": "Epoch: 100%",
       "layout": "IPY_MODEL_09a507a7cdcd4d6a8c8b2885a2c76d78",
       "max": 3,
       "style": "IPY_MODEL_72a3d5e3f2094e3e9e46182e982f8c4a",
       "value": 3
      }
     },
     "f249d38359274c7f8e1178eee2ad8890": {
      "model_module": "@jupyter-widgets/controls",
      "model_module_version": "1.5.0",
      "model_name": "HTMLModel",
      "state": {
       "layout": "IPY_MODEL_6f6b843a94e14801a35c782202cc5092",
       "style": "IPY_MODEL_7be1cab4559a4963809f4b745bc4ee9e",
       "value": " 518/518 [00:05&lt;00:00, 102.92it/s]"
      }
     },
     "f26ed276ffde40b2bfe32cf5686a1203": {
      "model_module": "@jupyter-widgets/base",
      "model_module_version": "1.2.0",
      "model_name": "LayoutModel",
      "state": {}
     },
     "f2829881f30c4ffbaab5a1f142470e68": {
      "model_module": "@jupyter-widgets/base",
      "model_module_version": "1.2.0",
      "model_name": "LayoutModel",
      "state": {}
     },
     "f3083173ac6a4dd7b200d8ce6ded38fd": {
      "model_module": "@jupyter-widgets/controls",
      "model_module_version": "1.5.0",
      "model_name": "FloatProgressModel",
      "state": {
       "bar_style": "success",
       "description": "100%",
       "layout": "IPY_MODEL_ad1151e1faf94ae5a4588281c592ba79",
       "max": 65,
       "style": "IPY_MODEL_1c6e3edcafdd412083f5d436ed0d2c7a",
       "value": 65
      }
     },
     "f317fcc7fbb84dd38d7d17d6669e2433": {
      "model_module": "@jupyter-widgets/controls",
      "model_module_version": "1.5.0",
      "model_name": "FloatProgressModel",
      "state": {
       "bar_style": "success",
       "description": "Current iteration: 100%",
       "layout": "IPY_MODEL_76053c19dbdf4a44b4c3e1bc084b0784",
       "max": 47,
       "style": "IPY_MODEL_1b09ef85677f41cfa20d5035e41a36d7",
       "value": 47
      }
     },
     "f3809b7cb557498a8729130678963bb1": {
      "model_module": "@jupyter-widgets/base",
      "model_module_version": "1.2.0",
      "model_name": "LayoutModel",
      "state": {}
     },
     "f3c3844480a04c3095c8fa481421478f": {
      "model_module": "@jupyter-widgets/base",
      "model_module_version": "1.2.0",
      "model_name": "LayoutModel",
      "state": {}
     },
     "f3c570fcbcbf47189a5ce6caa9f4c2a3": {
      "model_module": "@jupyter-widgets/controls",
      "model_module_version": "1.5.0",
      "model_name": "HTMLModel",
      "state": {
       "layout": "IPY_MODEL_f62384f4e4314078aa9143a4f3d64bdd",
       "style": "IPY_MODEL_60cafb338b234f68953e42cd8b8663e9",
       "value": " 47/47 [01:14&lt;00:00,  1.58s/it]"
      }
     },
     "f3da6b58ab84491baf7267f056363862": {
      "model_module": "@jupyter-widgets/base",
      "model_module_version": "1.2.0",
      "model_name": "LayoutModel",
      "state": {}
     },
     "f3f6fdee1b294420856965eefe07a165": {
      "model_module": "@jupyter-widgets/base",
      "model_module_version": "1.2.0",
      "model_name": "LayoutModel",
      "state": {}
     },
     "f42cdd326e2b40b2b84d87b162b047c4": {
      "model_module": "@jupyter-widgets/base",
      "model_module_version": "1.2.0",
      "model_name": "LayoutModel",
      "state": {}
     },
     "f439eee6efe744bc87bdb24f17f1c2e0": {
      "model_module": "@jupyter-widgets/controls",
      "model_module_version": "1.5.0",
      "model_name": "HTMLModel",
      "state": {
       "layout": "IPY_MODEL_f8c11bbde77a46288d65be0ca938a45e",
       "style": "IPY_MODEL_d9046316f32b4202a11538d436f23501",
       "value": " 47/47 [00:42&lt;00:00,  1.10it/s]"
      }
     },
     "f4d3756d31924e879853182337b944b1": {
      "model_module": "@jupyter-widgets/controls",
      "model_module_version": "1.5.0",
      "model_name": "ProgressStyleModel",
      "state": {
       "description_width": "initial"
      }
     },
     "f55a35a6ef564e5c80d3d6adaf32ebaf": {
      "model_module": "@jupyter-widgets/controls",
      "model_module_version": "1.5.0",
      "model_name": "HBoxModel",
      "state": {
       "children": [
        "IPY_MODEL_246a0041f445425a8a1e47824b993783",
        "IPY_MODEL_12419b83b4114f8188e1ebcccde07fcd"
       ],
       "layout": "IPY_MODEL_d5c1e44a43de4d01857287c15446af90"
      }
     },
     "f600d2389f5444a78e639f56b71c342f": {
      "model_module": "@jupyter-widgets/base",
      "model_module_version": "1.2.0",
      "model_name": "LayoutModel",
      "state": {}
     },
     "f607eb789e10448cb0cda497dacc1094": {
      "model_module": "@jupyter-widgets/controls",
      "model_module_version": "1.5.0",
      "model_name": "DescriptionStyleModel",
      "state": {
       "description_width": ""
      }
     },
     "f62384f4e4314078aa9143a4f3d64bdd": {
      "model_module": "@jupyter-widgets/base",
      "model_module_version": "1.2.0",
      "model_name": "LayoutModel",
      "state": {}
     },
     "f6b500a2d1564b34bb0a2fa3ac33a4da": {
      "model_module": "@jupyter-widgets/controls",
      "model_module_version": "1.5.0",
      "model_name": "HTMLModel",
      "state": {
       "layout": "IPY_MODEL_5c1dea426a6e4747b5c0bb0043b3764c",
       "style": "IPY_MODEL_4dda96800caf4e60957f1397f10a8019",
       "value": " 47/47 [01:49&lt;00:00,  2.32s/it]"
      }
     },
     "f6e0704e8ddf4d20b3a2760224d5bb45": {
      "model_module": "@jupyter-widgets/base",
      "model_module_version": "1.2.0",
      "model_name": "LayoutModel",
      "state": {}
     },
     "f6ebbac758654766a5fa990314c32687": {
      "model_module": "@jupyter-widgets/base",
      "model_module_version": "1.2.0",
      "model_name": "LayoutModel",
      "state": {}
     },
     "f6ed115eb81e4ab2b573e7bb2119a414": {
      "model_module": "@jupyter-widgets/base",
      "model_module_version": "1.2.0",
      "model_name": "LayoutModel",
      "state": {}
     },
     "f76e37b36972455ca5f1b0346d738520": {
      "model_module": "@jupyter-widgets/controls",
      "model_module_version": "1.5.0",
      "model_name": "HTMLModel",
      "state": {
       "layout": "IPY_MODEL_494430c50db24f27b133dc715b3a85d4",
       "style": "IPY_MODEL_ba2097c0efea4da590ecbdaf0a31e349",
       "value": " 47/47 [00:40&lt;00:00,  1.16it/s]"
      }
     },
     "f7aca04e50204a2d8385d56ed4542c6d": {
      "model_module": "@jupyter-widgets/base",
      "model_module_version": "1.2.0",
      "model_name": "LayoutModel",
      "state": {}
     },
     "f7f9211fa6f94b23b4485e221d8f6729": {
      "model_module": "@jupyter-widgets/controls",
      "model_module_version": "1.5.0",
      "model_name": "HTMLModel",
      "state": {
       "layout": "IPY_MODEL_a6ec85c957f64ba19e05d96db43df217",
       "style": "IPY_MODEL_a4e309b1337c4f55a713a3f0e05903e2",
       "value": " 47/47 [01:14&lt;00:00,  1.58s/it]"
      }
     },
     "f81837c608114182be1762f7b5f96eee": {
      "model_module": "@jupyter-widgets/controls",
      "model_module_version": "1.5.0",
      "model_name": "HTMLModel",
      "state": {
       "layout": "IPY_MODEL_e87b685dc0dc467d88d8bc8b005c7f67",
       "style": "IPY_MODEL_3d24d7a95c6d45d0aab12b7ff2054fe6",
       "value": " 47/47 [00:40&lt;00:00,  1.16it/s]"
      }
     },
     "f876445f981447d1acabf625a53ddf57": {
      "model_module": "@jupyter-widgets/controls",
      "model_module_version": "1.5.0",
      "model_name": "HTMLModel",
      "state": {
       "layout": "IPY_MODEL_a9270a51ee114d10913a79cea8720e6b",
       "style": "IPY_MODEL_0309cbd04e034c169ba036c0ca7b30b5",
       "value": " 46/46 [00:39&lt;00:00,  1.17it/s]"
      }
     },
     "f8aadb4fe4e447c39a819afef6c50aaf": {
      "model_module": "@jupyter-widgets/controls",
      "model_module_version": "1.5.0",
      "model_name": "DescriptionStyleModel",
      "state": {
       "description_width": ""
      }
     },
     "f8b9913d8cb246e79ff56c91193451e3": {
      "model_module": "@jupyter-widgets/base",
      "model_module_version": "1.2.0",
      "model_name": "LayoutModel",
      "state": {}
     },
     "f8c11bbde77a46288d65be0ca938a45e": {
      "model_module": "@jupyter-widgets/base",
      "model_module_version": "1.2.0",
      "model_name": "LayoutModel",
      "state": {}
     },
     "f900fe14193c4914842966d90c7fd66b": {
      "model_module": "@jupyter-widgets/base",
      "model_module_version": "1.2.0",
      "model_name": "LayoutModel",
      "state": {}
     },
     "f90c5980c25a4646b5f30cbdf8f44c7a": {
      "model_module": "@jupyter-widgets/controls",
      "model_module_version": "1.5.0",
      "model_name": "HBoxModel",
      "state": {
       "children": [
        "IPY_MODEL_96ee35995b7c4d198673cbb881124eec",
        "IPY_MODEL_63331ee797f54317ae138e89670da534"
       ],
       "layout": "IPY_MODEL_eb09178cec40467bbadf21e7d5bbf648"
      }
     },
     "f927a630b6974af6845f09599c02a791": {
      "model_module": "@jupyter-widgets/base",
      "model_module_version": "1.2.0",
      "model_name": "LayoutModel",
      "state": {}
     },
     "f92a525d5f854c1198ea222384c5939d": {
      "model_module": "@jupyter-widgets/base",
      "model_module_version": "1.2.0",
      "model_name": "LayoutModel",
      "state": {}
     },
     "f9537638fd7948b9a75cf175bb29f03e": {
      "model_module": "@jupyter-widgets/controls",
      "model_module_version": "1.5.0",
      "model_name": "HBoxModel",
      "state": {
       "children": [
        "IPY_MODEL_50ab3c21eb9844879fe7d18e9f3f4651",
        "IPY_MODEL_a0bd426a39134bedba36607e571b374a"
       ],
       "layout": "IPY_MODEL_6ccf5d8bee7c4fe0bc6bdc9191b82585"
      }
     },
     "f963cb50a00d4731928d6c67f90067e8": {
      "model_module": "@jupyter-widgets/base",
      "model_module_version": "1.2.0",
      "model_name": "LayoutModel",
      "state": {}
     },
     "f96d981511524925bfcfb488edb7d7ad": {
      "model_module": "@jupyter-widgets/base",
      "model_module_version": "1.2.0",
      "model_name": "LayoutModel",
      "state": {}
     },
     "f998fdef942a47f0a5c422bf890b36bb": {
      "model_module": "@jupyter-widgets/base",
      "model_module_version": "1.2.0",
      "model_name": "LayoutModel",
      "state": {}
     },
     "fa55a35b894943e0a73037d632c51f3f": {
      "model_module": "@jupyter-widgets/base",
      "model_module_version": "1.2.0",
      "model_name": "LayoutModel",
      "state": {}
     },
     "fa7f42e65cc1488f85028729e0022f4d": {
      "model_module": "@jupyter-widgets/base",
      "model_module_version": "1.2.0",
      "model_name": "LayoutModel",
      "state": {}
     },
     "fa9f0e9b69434617a4c7f7f7fe1a8139": {
      "model_module": "@jupyter-widgets/controls",
      "model_module_version": "1.5.0",
      "model_name": "HBoxModel",
      "state": {
       "children": [
        "IPY_MODEL_f3083173ac6a4dd7b200d8ce6ded38fd",
        "IPY_MODEL_9c73c40b73334bf8b5157e6be6688517"
       ],
       "layout": "IPY_MODEL_2e883f1d5d5943aca53beabdb08d6d8c"
      }
     },
     "faaf7983e75c4085b81988e79d6aca36": {
      "model_module": "@jupyter-widgets/controls",
      "model_module_version": "1.5.0",
      "model_name": "HTMLModel",
      "state": {
       "layout": "IPY_MODEL_425b49ac0b7d47da978be8d95c18e19e",
       "style": "IPY_MODEL_856c1c7b3ac2469f859dddb78fb1f522",
       "value": " 65/65 [00:02&lt;00:00, 22.23it/s]"
      }
     },
     "faf29f85a2394da98415bf264a4cb2ab": {
      "model_module": "@jupyter-widgets/base",
      "model_module_version": "1.2.0",
      "model_name": "LayoutModel",
      "state": {}
     },
     "fb822ad099884e539475208a2f7ce5b7": {
      "model_module": "@jupyter-widgets/controls",
      "model_module_version": "1.5.0",
      "model_name": "HTMLModel",
      "state": {
       "layout": "IPY_MODEL_1924d8898b0d4a079bf439d0b754e537",
       "style": "IPY_MODEL_3ad197bf7dde4231bc65f53e97992337",
       "value": " 47/47 [01:48&lt;00:00,  2.32s/it]"
      }
     },
     "fb88b8ae5b974e289058d7abcbce1252": {
      "model_module": "@jupyter-widgets/controls",
      "model_module_version": "1.5.0",
      "model_name": "FloatProgressModel",
      "state": {
       "bar_style": "success",
       "description": "100%",
       "layout": "IPY_MODEL_e4e23914889547ab9bb7334757211d9e",
       "max": 518,
       "style": "IPY_MODEL_2ca8035b216242fb952905b90ee8a2d3",
       "value": 518
      }
     },
     "fbb9732a4e4d47a9ae932f9b92951129": {
      "model_module": "@jupyter-widgets/controls",
      "model_module_version": "1.5.0",
      "model_name": "DescriptionStyleModel",
      "state": {
       "description_width": ""
      }
     },
     "fc399076afab4a8abb49fe67a4527e57": {
      "model_module": "@jupyter-widgets/controls",
      "model_module_version": "1.5.0",
      "model_name": "HBoxModel",
      "state": {
       "children": [
        "IPY_MODEL_d5189173b02a4ccab814b459a0bd644f",
        "IPY_MODEL_7141f67d07724d8ea22657532723611a"
       ],
       "layout": "IPY_MODEL_84dfd3f958a04bd0b20f793b6c88749f"
      }
     },
     "fc6aaa69d8564e0682084139fd77b0c7": {
      "model_module": "@jupyter-widgets/base",
      "model_module_version": "1.2.0",
      "model_name": "LayoutModel",
      "state": {}
     },
     "fc7bb2c3920945de87f06806567e5986": {
      "model_module": "@jupyter-widgets/controls",
      "model_module_version": "1.5.0",
      "model_name": "HTMLModel",
      "state": {
       "layout": "IPY_MODEL_3d1b470383624984b1c0bacbdc5c2142",
       "style": "IPY_MODEL_c130931a9ac442338ebb8bfdbbc0dffc",
       "value": " 3/3 [01:47&lt;00:00, 35.85s/it]"
      }
     },
     "fd08b7bfe1834e87b2e18d4910e92474": {
      "model_module": "@jupyter-widgets/controls",
      "model_module_version": "1.5.0",
      "model_name": "FloatProgressModel",
      "state": {
       "bar_style": "success",
       "description": "100%",
       "layout": "IPY_MODEL_39e10484fba441aca3380d25a95084de",
       "max": 532,
       "style": "IPY_MODEL_475e2437ac074245b6cbad992c05d6ea",
       "value": 532
      }
     },
     "fda04a07d8024e61ba39151d5e55feed": {
      "model_module": "@jupyter-widgets/controls",
      "model_module_version": "1.5.0",
      "model_name": "DescriptionStyleModel",
      "state": {
       "description_width": ""
      }
     },
     "fddbf4a032ed42c29dbc54d6fe718225": {
      "model_module": "@jupyter-widgets/controls",
      "model_module_version": "1.5.0",
      "model_name": "DescriptionStyleModel",
      "state": {
       "description_width": ""
      }
     },
     "fe62ba89d6004e4482ea1b030f113300": {
      "model_module": "@jupyter-widgets/controls",
      "model_module_version": "1.5.0",
      "model_name": "HBoxModel",
      "state": {
       "children": [
        "IPY_MODEL_a677493a3a8c4344a4f7e7eaa665dac6",
        "IPY_MODEL_93f0a14a14124d61ac9211edf23a079c"
       ],
       "layout": "IPY_MODEL_946e60c8bb0b4bfaa44be36a5500e26f"
      }
     },
     "fe745f58dd054eecb02bc478b33b90c8": {
      "model_module": "@jupyter-widgets/controls",
      "model_module_version": "1.5.0",
      "model_name": "HTMLModel",
      "state": {
       "layout": "IPY_MODEL_5d4cc0e87fb74f4989dc10a6fdb64cc6",
       "style": "IPY_MODEL_138e9c686cc14f58acf13e5f9d661597",
       "value": " 2081/2081 [01:50&lt;00:00, 18.92it/s]"
      }
     },
     "feaa8bdae47c4db39b6d43954f4073a7": {
      "model_module": "@jupyter-widgets/controls",
      "model_module_version": "1.5.0",
      "model_name": "FloatProgressModel",
      "state": {
       "bar_style": "success",
       "description": "Epoch: 100%",
       "layout": "IPY_MODEL_8d8aee5e7b424eadaa369e29e7df1e5a",
       "max": 3,
       "style": "IPY_MODEL_32eaacc1292d4ef7af85e4e64430ee8a",
       "value": 3
      }
     },
     "fec5f7d0cde841e1a2c3f280d80a341b": {
      "model_module": "@jupyter-widgets/controls",
      "model_module_version": "1.5.0",
      "model_name": "HBoxModel",
      "state": {
       "children": [
        "IPY_MODEL_9260e62ba2724791919f40b585a843da",
        "IPY_MODEL_b5eafe8efb47423c91ea7659b3a67ade"
       ],
       "layout": "IPY_MODEL_bc0cd8a94f9c4340b3732957e1a2ddef"
      }
     },
     "fecadd8102184ec895d91a2e04426e5a": {
      "model_module": "@jupyter-widgets/base",
      "model_module_version": "1.2.0",
      "model_name": "LayoutModel",
      "state": {}
     },
     "ff0cf2feaacb49078d254cc6f7b304c0": {
      "model_module": "@jupyter-widgets/controls",
      "model_module_version": "1.5.0",
      "model_name": "FloatProgressModel",
      "state": {
       "bar_style": "success",
       "description": "Current iteration: 100%",
       "layout": "IPY_MODEL_e6dfb53260c14b67b5ec3f0ffb0be6ac",
       "max": 47,
       "style": "IPY_MODEL_8335a3a4fbef428d8edd9df1a3835b92",
       "value": 47
      }
     },
     "ff4354acea654bada44ae300c009a0f1": {
      "model_module": "@jupyter-widgets/controls",
      "model_module_version": "1.5.0",
      "model_name": "HTMLModel",
      "state": {
       "layout": "IPY_MODEL_b230a971100442b582a16903fdd01850",
       "style": "IPY_MODEL_95976c86d574405da25838d88854640f",
       "value": " 47/47 [00:31&lt;00:00,  1.51it/s]"
      }
     },
     "ff5a315d11aa44c185dfacf08b20bccf": {
      "model_module": "@jupyter-widgets/controls",
      "model_module_version": "1.5.0",
      "model_name": "HBoxModel",
      "state": {
       "children": [
        "IPY_MODEL_de8e875c6ab84c2caa02af69ed664751",
        "IPY_MODEL_d8b930dbb00647099efdef8e78d39e97"
       ],
       "layout": "IPY_MODEL_959ddfbb24244f91a95c819937335b32"
      }
     },
     "ff5ff289d0304e6cb8ef60240f4ce8c9": {
      "model_module": "@jupyter-widgets/controls",
      "model_module_version": "1.5.0",
      "model_name": "FloatProgressModel",
      "state": {
       "bar_style": "success",
       "description": "100%",
       "layout": "IPY_MODEL_76570c6502e943aebaddb4bc58c7e2b2",
       "max": 2085,
       "style": "IPY_MODEL_e8e5569a59b24916979d5cc8c4d0e9a8",
       "value": 2085
      }
     },
     "ff8663e6de884b6aaf2e5b14133a3301": {
      "model_module": "@jupyter-widgets/controls",
      "model_module_version": "1.5.0",
      "model_name": "DescriptionStyleModel",
      "state": {
       "description_width": ""
      }
     },
     "ffd333270d93486d85e30fb4acc00b1c": {
      "model_module": "@jupyter-widgets/base",
      "model_module_version": "1.2.0",
      "model_name": "LayoutModel",
      "state": {}
     }
    },
    "version_major": 2,
    "version_minor": 0
   }
  }
 },
 "nbformat": 4,
 "nbformat_minor": 4
}
