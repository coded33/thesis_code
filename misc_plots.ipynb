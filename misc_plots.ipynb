{
 "cells": [
  {
   "cell_type": "markdown",
   "metadata": {},
   "source": [
    "# Metrics Calculation\n",
    "\n",
    "We first calculate the metrics without the notebook containing randomly generated data, and then with."
   ]
  },
  {
   "cell_type": "markdown",
   "metadata": {},
   "source": [
    "## Metrics without random data"
   ]
  },
  {
   "cell_type": "code",
   "execution_count": 1,
   "metadata": {
    "scrolled": true
   },
   "outputs": [],
   "source": [
    "#We load the metrics csv\n",
    "import pandas as pd \n",
    "metrics = pd.read_csv('results/all_metrics.csv', index_col=0)"
   ]
  },
  {
   "cell_type": "code",
   "execution_count": 2,
   "metadata": {},
   "outputs": [
    {
     "data": {
      "text/html": [
       "<div>\n",
       "<style scoped>\n",
       "    .dataframe tbody tr th:only-of-type {\n",
       "        vertical-align: middle;\n",
       "    }\n",
       "\n",
       "    .dataframe tbody tr th {\n",
       "        vertical-align: top;\n",
       "    }\n",
       "\n",
       "    .dataframe thead th {\n",
       "        text-align: right;\n",
       "    }\n",
       "</style>\n",
       "<table border=\"1\" class=\"dataframe\">\n",
       "  <thead>\n",
       "    <tr style=\"text-align: right;\">\n",
       "      <th></th>\n",
       "      <th>BERT</th>\n",
       "      <th>BERT (Norm.)</th>\n",
       "      <th>Feed Forward Embeddings</th>\n",
       "      <th>Feed Forward Embeddings (Norm.)</th>\n",
       "      <th>Feed Forward Token Counts</th>\n",
       "      <th>Feed Forward Token Counts (Norm.)</th>\n",
       "      <th>Linear Regression Embeddings</th>\n",
       "      <th>Linear Regression Embeddings (Norm.)</th>\n",
       "      <th>Linear Regression Token Counts</th>\n",
       "      <th>Linear Regression Token Counts (Norm.)</th>\n",
       "      <th>SemScale (ONLY Norm.)</th>\n",
       "      <th>Wordfish (ONLY Norm.)</th>\n",
       "      <th>Wordscores</th>\n",
       "      <th>Wordscores (Norm.)</th>\n",
       "    </tr>\n",
       "  </thead>\n",
       "  <tbody>\n",
       "    <tr>\n",
       "      <th>MSE (Avg) EuroParl 6th Legislation</th>\n",
       "      <td>0.157790</td>\n",
       "      <td>0.283489</td>\n",
       "      <td>0.257542</td>\n",
       "      <td>0.198855</td>\n",
       "      <td>0.409639</td>\n",
       "      <td>0.322003</td>\n",
       "      <td>0.129101</td>\n",
       "      <td>0.173257</td>\n",
       "      <td>0.710654</td>\n",
       "      <td>0.283489</td>\n",
       "      <td>0.162246</td>\n",
       "      <td>0.280839</td>\n",
       "      <td>0.126645</td>\n",
       "      <td>0.155367</td>\n",
       "    </tr>\n",
       "    <tr>\n",
       "      <th>MSE (Std) EuroParl 6th Legislation</th>\n",
       "      <td>0.011385</td>\n",
       "      <td>0.013460</td>\n",
       "      <td>0.091657</td>\n",
       "      <td>0.041112</td>\n",
       "      <td>0.010742</td>\n",
       "      <td>0.011599</td>\n",
       "      <td>0.000862</td>\n",
       "      <td>0.011791</td>\n",
       "      <td>0.500882</td>\n",
       "      <td>0.013460</td>\n",
       "      <td>0.052948</td>\n",
       "      <td>0.007554</td>\n",
       "      <td>0.001206</td>\n",
       "      <td>0.045521</td>\n",
       "    </tr>\n",
       "    <tr>\n",
       "      <th>Pearson Corr. (Avg) EuroParl 6th Legislation</th>\n",
       "      <td>0.125845</td>\n",
       "      <td>0.125845</td>\n",
       "      <td>0.392656</td>\n",
       "      <td>0.391941</td>\n",
       "      <td>0.307374</td>\n",
       "      <td>0.307374</td>\n",
       "      <td>0.361924</td>\n",
       "      <td>0.361924</td>\n",
       "      <td>0.441395</td>\n",
       "      <td>0.441395</td>\n",
       "      <td>0.293404</td>\n",
       "      <td>-0.169065</td>\n",
       "      <td>0.423704</td>\n",
       "      <td>0.423704</td>\n",
       "    </tr>\n",
       "    <tr>\n",
       "      <th>Pearson Corr. (Std) EuroParl 6th Legislation</th>\n",
       "      <td>0.389720</td>\n",
       "      <td>0.389720</td>\n",
       "      <td>0.354046</td>\n",
       "      <td>0.358741</td>\n",
       "      <td>0.085350</td>\n",
       "      <td>0.085350</td>\n",
       "      <td>0.227485</td>\n",
       "      <td>0.227485</td>\n",
       "      <td>0.476476</td>\n",
       "      <td>0.476476</td>\n",
       "      <td>0.149991</td>\n",
       "      <td>0.012244</td>\n",
       "      <td>0.050418</td>\n",
       "      <td>0.050418</td>\n",
       "    </tr>\n",
       "    <tr>\n",
       "      <th>Spearman Corr. (Avg) EuroParl 6th Legislation</th>\n",
       "      <td>0.263808</td>\n",
       "      <td>0.263808</td>\n",
       "      <td>0.393336</td>\n",
       "      <td>0.393336</td>\n",
       "      <td>0.306502</td>\n",
       "      <td>0.306502</td>\n",
       "      <td>0.265638</td>\n",
       "      <td>0.265638</td>\n",
       "      <td>0.377844</td>\n",
       "      <td>0.377844</td>\n",
       "      <td>0.493854</td>\n",
       "      <td>-0.107257</td>\n",
       "      <td>0.236763</td>\n",
       "      <td>0.236763</td>\n",
       "    </tr>\n",
       "    <tr>\n",
       "      <th>Spearman Corr. (Std) EuroParl 6th Legislation</th>\n",
       "      <td>0.442531</td>\n",
       "      <td>0.442531</td>\n",
       "      <td>0.365112</td>\n",
       "      <td>0.365112</td>\n",
       "      <td>0.130658</td>\n",
       "      <td>0.130658</td>\n",
       "      <td>0.293699</td>\n",
       "      <td>0.293699</td>\n",
       "      <td>0.370614</td>\n",
       "      <td>0.370614</td>\n",
       "      <td>0.063651</td>\n",
       "      <td>0.043621</td>\n",
       "      <td>0.008691</td>\n",
       "      <td>0.008691</td>\n",
       "    </tr>\n",
       "    <tr>\n",
       "      <th>MSE (Avg) EuroParl 5th Legislation</th>\n",
       "      <td>0.157885</td>\n",
       "      <td>0.223669</td>\n",
       "      <td>0.280112</td>\n",
       "      <td>0.207686</td>\n",
       "      <td>0.368147</td>\n",
       "      <td>0.329447</td>\n",
       "      <td>0.101294</td>\n",
       "      <td>0.151181</td>\n",
       "      <td>0.325128</td>\n",
       "      <td>0.223669</td>\n",
       "      <td>0.198854</td>\n",
       "      <td>0.207949</td>\n",
       "      <td>0.101389</td>\n",
       "      <td>0.149485</td>\n",
       "    </tr>\n",
       "    <tr>\n",
       "      <th>MSE (Std) EuroParl 5th Legislation</th>\n",
       "      <td>0.026409</td>\n",
       "      <td>0.062699</td>\n",
       "      <td>0.114474</td>\n",
       "      <td>0.027645</td>\n",
       "      <td>0.002865</td>\n",
       "      <td>0.035861</td>\n",
       "      <td>0.003349</td>\n",
       "      <td>0.027215</td>\n",
       "      <td>0.192835</td>\n",
       "      <td>0.062699</td>\n",
       "      <td>0.094703</td>\n",
       "      <td>0.076501</td>\n",
       "      <td>0.003577</td>\n",
       "      <td>0.016303</td>\n",
       "    </tr>\n",
       "    <tr>\n",
       "      <th>Pearson Corr. (Avg) EuroParl 5th Legislation</th>\n",
       "      <td>0.157159</td>\n",
       "      <td>0.157159</td>\n",
       "      <td>0.305486</td>\n",
       "      <td>0.305486</td>\n",
       "      <td>0.113674</td>\n",
       "      <td>0.113674</td>\n",
       "      <td>0.377332</td>\n",
       "      <td>0.377332</td>\n",
       "      <td>0.303843</td>\n",
       "      <td>0.303843</td>\n",
       "      <td>-0.058150</td>\n",
       "      <td>-0.050712</td>\n",
       "      <td>0.171931</td>\n",
       "      <td>0.171931</td>\n",
       "    </tr>\n",
       "    <tr>\n",
       "      <th>Pearson Corr. (Std) EuroParl 5th Legislation</th>\n",
       "      <td>0.390678</td>\n",
       "      <td>0.390678</td>\n",
       "      <td>0.379150</td>\n",
       "      <td>0.379150</td>\n",
       "      <td>0.277246</td>\n",
       "      <td>0.277246</td>\n",
       "      <td>0.354612</td>\n",
       "      <td>0.354613</td>\n",
       "      <td>0.334877</td>\n",
       "      <td>0.334877</td>\n",
       "      <td>0.414691</td>\n",
       "      <td>0.370078</td>\n",
       "      <td>0.065332</td>\n",
       "      <td>0.065332</td>\n",
       "    </tr>\n",
       "    <tr>\n",
       "      <th>Spearman Corr. (Avg) EuroParl 5th Legislation</th>\n",
       "      <td>0.100505</td>\n",
       "      <td>0.100505</td>\n",
       "      <td>0.405444</td>\n",
       "      <td>0.405444</td>\n",
       "      <td>0.179161</td>\n",
       "      <td>0.179161</td>\n",
       "      <td>0.351183</td>\n",
       "      <td>0.351183</td>\n",
       "      <td>0.333536</td>\n",
       "      <td>0.333536</td>\n",
       "      <td>-0.059890</td>\n",
       "      <td>-0.147541</td>\n",
       "      <td>0.198315</td>\n",
       "      <td>0.198315</td>\n",
       "    </tr>\n",
       "    <tr>\n",
       "      <th>Spearman Corr. (Std) EuroParl 5th Legislation</th>\n",
       "      <td>0.532367</td>\n",
       "      <td>0.532367</td>\n",
       "      <td>0.389228</td>\n",
       "      <td>0.389228</td>\n",
       "      <td>0.440309</td>\n",
       "      <td>0.440309</td>\n",
       "      <td>0.282686</td>\n",
       "      <td>0.282686</td>\n",
       "      <td>0.244220</td>\n",
       "      <td>0.244220</td>\n",
       "      <td>0.417033</td>\n",
       "      <td>0.343970</td>\n",
       "      <td>0.026886</td>\n",
       "      <td>0.026886</td>\n",
       "    </tr>\n",
       "    <tr>\n",
       "      <th>MSE (Avg) EuroParl 5th &amp; 6th Legislation</th>\n",
       "      <td>0.097562</td>\n",
       "      <td>0.150077</td>\n",
       "      <td>0.298676</td>\n",
       "      <td>0.192084</td>\n",
       "      <td>0.324016</td>\n",
       "      <td>0.284671</td>\n",
       "      <td>0.087471</td>\n",
       "      <td>0.121729</td>\n",
       "      <td>0.218101</td>\n",
       "      <td>0.150077</td>\n",
       "      <td>0.107976</td>\n",
       "      <td>0.165600</td>\n",
       "      <td>0.086626</td>\n",
       "      <td>0.098308</td>\n",
       "    </tr>\n",
       "    <tr>\n",
       "      <th>MSE (Std) EuroParl 5th &amp; 6th Legislation</th>\n",
       "      <td>0.015162</td>\n",
       "      <td>0.000868</td>\n",
       "      <td>0.009534</td>\n",
       "      <td>0.013132</td>\n",
       "      <td>0.036814</td>\n",
       "      <td>0.054512</td>\n",
       "      <td>0.006829</td>\n",
       "      <td>0.009879</td>\n",
       "      <td>0.056892</td>\n",
       "      <td>0.000868</td>\n",
       "      <td>0.014554</td>\n",
       "      <td>0.037844</td>\n",
       "      <td>0.007452</td>\n",
       "      <td>0.021664</td>\n",
       "    </tr>\n",
       "    <tr>\n",
       "      <th>Pearson Corr. (Avg) EuroParl 5th &amp; 6th Legislation</th>\n",
       "      <td>0.391464</td>\n",
       "      <td>0.391464</td>\n",
       "      <td>0.342890</td>\n",
       "      <td>0.342890</td>\n",
       "      <td>0.249207</td>\n",
       "      <td>0.249207</td>\n",
       "      <td>0.315735</td>\n",
       "      <td>0.315735</td>\n",
       "      <td>0.268925</td>\n",
       "      <td>0.268925</td>\n",
       "      <td>-0.045562</td>\n",
       "      <td>0.051520</td>\n",
       "      <td>0.543320</td>\n",
       "      <td>0.543320</td>\n",
       "    </tr>\n",
       "    <tr>\n",
       "      <th>Pearson Corr. (Std) EuroParl 5th &amp; 6th Legislation</th>\n",
       "      <td>0.446789</td>\n",
       "      <td>0.446789</td>\n",
       "      <td>0.319505</td>\n",
       "      <td>0.319505</td>\n",
       "      <td>0.133194</td>\n",
       "      <td>0.133194</td>\n",
       "      <td>0.284937</td>\n",
       "      <td>0.284937</td>\n",
       "      <td>0.265124</td>\n",
       "      <td>0.265124</td>\n",
       "      <td>0.352043</td>\n",
       "      <td>0.124763</td>\n",
       "      <td>0.049064</td>\n",
       "      <td>0.049064</td>\n",
       "    </tr>\n",
       "    <tr>\n",
       "      <th>Spearman Corr. (Avg) EuroParl 5th &amp; 6th Legislation</th>\n",
       "      <td>0.344115</td>\n",
       "      <td>0.344115</td>\n",
       "      <td>0.285179</td>\n",
       "      <td>0.285179</td>\n",
       "      <td>0.258268</td>\n",
       "      <td>0.258268</td>\n",
       "      <td>0.334989</td>\n",
       "      <td>0.334989</td>\n",
       "      <td>0.110436</td>\n",
       "      <td>0.110436</td>\n",
       "      <td>-0.035302</td>\n",
       "      <td>-0.013956</td>\n",
       "      <td>0.547375</td>\n",
       "      <td>0.547375</td>\n",
       "    </tr>\n",
       "    <tr>\n",
       "      <th>Spearman Corr. (Std) EuroParl 5th &amp; 6th Legislation</th>\n",
       "      <td>0.439015</td>\n",
       "      <td>0.439015</td>\n",
       "      <td>0.170594</td>\n",
       "      <td>0.170594</td>\n",
       "      <td>0.149818</td>\n",
       "      <td>0.149818</td>\n",
       "      <td>0.322739</td>\n",
       "      <td>0.322739</td>\n",
       "      <td>0.205507</td>\n",
       "      <td>0.205507</td>\n",
       "      <td>0.383469</td>\n",
       "      <td>0.155153</td>\n",
       "      <td>0.066300</td>\n",
       "      <td>0.066300</td>\n",
       "    </tr>\n",
       "    <tr>\n",
       "      <th>MSE (Avg) NELA-GT-2018 Left-Right</th>\n",
       "      <td>0.247044</td>\n",
       "      <td>0.250048</td>\n",
       "      <td>0.407357</td>\n",
       "      <td>0.401538</td>\n",
       "      <td>0.094242</td>\n",
       "      <td>0.094267</td>\n",
       "      <td>0.238675</td>\n",
       "      <td>0.237842</td>\n",
       "      <td>0.130716</td>\n",
       "      <td>0.250048</td>\n",
       "      <td>0.303978</td>\n",
       "      <td>0.283616</td>\n",
       "      <td>0.227902</td>\n",
       "      <td>0.181469</td>\n",
       "    </tr>\n",
       "    <tr>\n",
       "      <th>MSE (Std) NELA-GT-2018 Left-Right</th>\n",
       "      <td>0.017840</td>\n",
       "      <td>0.012725</td>\n",
       "      <td>0.135887</td>\n",
       "      <td>0.132244</td>\n",
       "      <td>0.013422</td>\n",
       "      <td>0.013420</td>\n",
       "      <td>0.009087</td>\n",
       "      <td>0.015841</td>\n",
       "      <td>0.012665</td>\n",
       "      <td>0.012725</td>\n",
       "      <td>0.035620</td>\n",
       "      <td>0.023245</td>\n",
       "      <td>0.001172</td>\n",
       "      <td>0.011735</td>\n",
       "    </tr>\n",
       "    <tr>\n",
       "      <th>Pearson Corr. (Avg) NELA-GT-2018 Left-Right</th>\n",
       "      <td>0.130643</td>\n",
       "      <td>0.130643</td>\n",
       "      <td>NaN</td>\n",
       "      <td>NaN</td>\n",
       "      <td>0.394956</td>\n",
       "      <td>0.394956</td>\n",
       "      <td>0.145083</td>\n",
       "      <td>0.145083</td>\n",
       "      <td>0.348703</td>\n",
       "      <td>0.348703</td>\n",
       "      <td>-0.001692</td>\n",
       "      <td>0.120569</td>\n",
       "      <td>0.689396</td>\n",
       "      <td>0.689396</td>\n",
       "    </tr>\n",
       "    <tr>\n",
       "      <th>Pearson Corr. (Std) NELA-GT-2018 Left-Right</th>\n",
       "      <td>0.132133</td>\n",
       "      <td>0.132133</td>\n",
       "      <td>NaN</td>\n",
       "      <td>NaN</td>\n",
       "      <td>0.395750</td>\n",
       "      <td>0.395750</td>\n",
       "      <td>0.147986</td>\n",
       "      <td>0.147986</td>\n",
       "      <td>0.349717</td>\n",
       "      <td>0.349717</td>\n",
       "      <td>0.137851</td>\n",
       "      <td>0.094860</td>\n",
       "      <td>0.028962</td>\n",
       "      <td>0.028962</td>\n",
       "    </tr>\n",
       "    <tr>\n",
       "      <th>Spearman Corr. (Avg) NELA-GT-2018 Left-Right</th>\n",
       "      <td>0.129613</td>\n",
       "      <td>0.129613</td>\n",
       "      <td>NaN</td>\n",
       "      <td>NaN</td>\n",
       "      <td>0.382193</td>\n",
       "      <td>0.382193</td>\n",
       "      <td>0.143094</td>\n",
       "      <td>0.143094</td>\n",
       "      <td>0.358315</td>\n",
       "      <td>0.358315</td>\n",
       "      <td>-0.031204</td>\n",
       "      <td>0.123885</td>\n",
       "      <td>0.728865</td>\n",
       "      <td>0.728865</td>\n",
       "    </tr>\n",
       "    <tr>\n",
       "      <th>Spearman Corr. (Std) NELA-GT-2018 Left-Right</th>\n",
       "      <td>0.131738</td>\n",
       "      <td>0.131738</td>\n",
       "      <td>NaN</td>\n",
       "      <td>NaN</td>\n",
       "      <td>0.382763</td>\n",
       "      <td>0.382763</td>\n",
       "      <td>0.141647</td>\n",
       "      <td>0.141647</td>\n",
       "      <td>0.359367</td>\n",
       "      <td>0.359367</td>\n",
       "      <td>0.156411</td>\n",
       "      <td>0.087349</td>\n",
       "      <td>0.024503</td>\n",
       "      <td>0.024503</td>\n",
       "    </tr>\n",
       "    <tr>\n",
       "      <th>MSE (Avg) NELA-GT-2018 Left-Center-Right</th>\n",
       "      <td>0.171611</td>\n",
       "      <td>0.192989</td>\n",
       "      <td>0.216798</td>\n",
       "      <td>0.200209</td>\n",
       "      <td>0.085404</td>\n",
       "      <td>0.086175</td>\n",
       "      <td>0.160290</td>\n",
       "      <td>0.169354</td>\n",
       "      <td>0.110094</td>\n",
       "      <td>0.192989</td>\n",
       "      <td>0.200501</td>\n",
       "      <td>0.212624</td>\n",
       "      <td>0.154300</td>\n",
       "      <td>0.142841</td>\n",
       "    </tr>\n",
       "    <tr>\n",
       "      <th>MSE (Std) NELA-GT-2018 Left-Center-Right</th>\n",
       "      <td>0.020303</td>\n",
       "      <td>0.016748</td>\n",
       "      <td>0.113488</td>\n",
       "      <td>0.064824</td>\n",
       "      <td>0.006490</td>\n",
       "      <td>0.007076</td>\n",
       "      <td>0.012574</td>\n",
       "      <td>0.006925</td>\n",
       "      <td>0.006090</td>\n",
       "      <td>0.016748</td>\n",
       "      <td>0.027058</td>\n",
       "      <td>0.023629</td>\n",
       "      <td>0.013253</td>\n",
       "      <td>0.020334</td>\n",
       "    </tr>\n",
       "    <tr>\n",
       "      <th>Pearson Corr. (Avg) NELA-GT-2018 Left-Center-Right</th>\n",
       "      <td>0.103104</td>\n",
       "      <td>0.103104</td>\n",
       "      <td>0.153003</td>\n",
       "      <td>0.153003</td>\n",
       "      <td>0.350874</td>\n",
       "      <td>0.350874</td>\n",
       "      <td>0.118587</td>\n",
       "      <td>0.118587</td>\n",
       "      <td>0.302847</td>\n",
       "      <td>0.302847</td>\n",
       "      <td>0.041802</td>\n",
       "      <td>0.094594</td>\n",
       "      <td>0.612616</td>\n",
       "      <td>0.612616</td>\n",
       "    </tr>\n",
       "    <tr>\n",
       "      <th>Pearson Corr. (Std) NELA-GT-2018 Left-Center-Right</th>\n",
       "      <td>0.063873</td>\n",
       "      <td>0.063873</td>\n",
       "      <td>0.174458</td>\n",
       "      <td>0.174458</td>\n",
       "      <td>0.351553</td>\n",
       "      <td>0.351553</td>\n",
       "      <td>0.116156</td>\n",
       "      <td>0.116156</td>\n",
       "      <td>0.303299</td>\n",
       "      <td>0.303299</td>\n",
       "      <td>0.083095</td>\n",
       "      <td>0.103774</td>\n",
       "      <td>0.025674</td>\n",
       "      <td>0.025674</td>\n",
       "    </tr>\n",
       "    <tr>\n",
       "      <th>Spearman Corr. (Avg) NELA-GT-2018 Left-Center-Right</th>\n",
       "      <td>0.096651</td>\n",
       "      <td>0.096651</td>\n",
       "      <td>0.110509</td>\n",
       "      <td>0.110509</td>\n",
       "      <td>0.350666</td>\n",
       "      <td>0.350666</td>\n",
       "      <td>0.113726</td>\n",
       "      <td>0.113726</td>\n",
       "      <td>0.306367</td>\n",
       "      <td>0.306367</td>\n",
       "      <td>0.043861</td>\n",
       "      <td>0.090843</td>\n",
       "      <td>0.656143</td>\n",
       "      <td>0.656143</td>\n",
       "    </tr>\n",
       "    <tr>\n",
       "      <th>Spearman Corr. (Std) NELA-GT-2018 Left-Center-Right</th>\n",
       "      <td>0.052998</td>\n",
       "      <td>0.052998</td>\n",
       "      <td>0.094872</td>\n",
       "      <td>0.094872</td>\n",
       "      <td>0.351427</td>\n",
       "      <td>0.351427</td>\n",
       "      <td>0.112086</td>\n",
       "      <td>0.112086</td>\n",
       "      <td>0.306836</td>\n",
       "      <td>0.306836</td>\n",
       "      <td>0.080819</td>\n",
       "      <td>0.092010</td>\n",
       "      <td>0.031580</td>\n",
       "      <td>0.031580</td>\n",
       "    </tr>\n",
       "    <tr>\n",
       "      <th>MSE (Avg) NELA-GT-2018 Random</th>\n",
       "      <td>0.252802</td>\n",
       "      <td>0.289037</td>\n",
       "      <td>0.422988</td>\n",
       "      <td>0.369321</td>\n",
       "      <td>0.317524</td>\n",
       "      <td>0.328731</td>\n",
       "      <td>0.253553</td>\n",
       "      <td>0.289404</td>\n",
       "      <td>0.350050</td>\n",
       "      <td>0.289037</td>\n",
       "      <td>0.281406</td>\n",
       "      <td>0.355752</td>\n",
       "      <td>0.250257</td>\n",
       "      <td>0.294814</td>\n",
       "    </tr>\n",
       "    <tr>\n",
       "      <th>MSE (Std) NELA-GT-2018 Random</th>\n",
       "      <td>0.003810</td>\n",
       "      <td>0.006571</td>\n",
       "      <td>0.085983</td>\n",
       "      <td>0.087085</td>\n",
       "      <td>0.011211</td>\n",
       "      <td>0.013158</td>\n",
       "      <td>0.002308</td>\n",
       "      <td>0.006968</td>\n",
       "      <td>0.015798</td>\n",
       "      <td>0.006571</td>\n",
       "      <td>0.004994</td>\n",
       "      <td>0.025972</td>\n",
       "      <td>0.000195</td>\n",
       "      <td>0.008708</td>\n",
       "    </tr>\n",
       "    <tr>\n",
       "      <th>Pearson Corr. (Avg) NELA-GT-2018 Random</th>\n",
       "      <td>0.274232</td>\n",
       "      <td>0.274232</td>\n",
       "      <td>NaN</td>\n",
       "      <td>NaN</td>\n",
       "      <td>0.192928</td>\n",
       "      <td>0.192928</td>\n",
       "      <td>0.293508</td>\n",
       "      <td>0.293508</td>\n",
       "      <td>0.252318</td>\n",
       "      <td>0.252318</td>\n",
       "      <td>-0.031709</td>\n",
       "      <td>-0.036331</td>\n",
       "      <td>-0.023452</td>\n",
       "      <td>-0.023452</td>\n",
       "    </tr>\n",
       "    <tr>\n",
       "      <th>Pearson Corr. (Std) NELA-GT-2018 Random</th>\n",
       "      <td>0.377058</td>\n",
       "      <td>0.377058</td>\n",
       "      <td>NaN</td>\n",
       "      <td>NaN</td>\n",
       "      <td>0.325727</td>\n",
       "      <td>0.325727</td>\n",
       "      <td>0.385040</td>\n",
       "      <td>0.385040</td>\n",
       "      <td>0.359990</td>\n",
       "      <td>0.359990</td>\n",
       "      <td>0.045820</td>\n",
       "      <td>0.078630</td>\n",
       "      <td>0.026881</td>\n",
       "      <td>0.026881</td>\n",
       "    </tr>\n",
       "    <tr>\n",
       "      <th>Spearman Corr. (Avg) NELA-GT-2018 Random</th>\n",
       "      <td>0.237155</td>\n",
       "      <td>0.237155</td>\n",
       "      <td>NaN</td>\n",
       "      <td>NaN</td>\n",
       "      <td>0.183335</td>\n",
       "      <td>0.183335</td>\n",
       "      <td>0.274847</td>\n",
       "      <td>0.274847</td>\n",
       "      <td>0.210087</td>\n",
       "      <td>0.210087</td>\n",
       "      <td>-0.030817</td>\n",
       "      <td>-0.034224</td>\n",
       "      <td>-0.026238</td>\n",
       "      <td>-0.026238</td>\n",
       "    </tr>\n",
       "    <tr>\n",
       "      <th>Spearman Corr. (Std) NELA-GT-2018 Random</th>\n",
       "      <td>0.319167</td>\n",
       "      <td>0.319167</td>\n",
       "      <td>NaN</td>\n",
       "      <td>NaN</td>\n",
       "      <td>0.315678</td>\n",
       "      <td>0.315678</td>\n",
       "      <td>0.386924</td>\n",
       "      <td>0.386924</td>\n",
       "      <td>0.322854</td>\n",
       "      <td>0.322854</td>\n",
       "      <td>0.039533</td>\n",
       "      <td>0.083158</td>\n",
       "      <td>0.029957</td>\n",
       "      <td>0.029957</td>\n",
       "    </tr>\n",
       "    <tr>\n",
       "      <th>MSE (Avg) NELA-GT-2018 Continuous</th>\n",
       "      <td>0.123553</td>\n",
       "      <td>0.143450</td>\n",
       "      <td>0.198169</td>\n",
       "      <td>0.176894</td>\n",
       "      <td>0.077287</td>\n",
       "      <td>0.078579</td>\n",
       "      <td>0.123979</td>\n",
       "      <td>0.146337</td>\n",
       "      <td>0.089681</td>\n",
       "      <td>0.143450</td>\n",
       "      <td>0.177693</td>\n",
       "      <td>0.212595</td>\n",
       "      <td>0.118501</td>\n",
       "      <td>0.114567</td>\n",
       "    </tr>\n",
       "    <tr>\n",
       "      <th>MSE (Std) NELA-GT-2018 Continuous</th>\n",
       "      <td>0.005227</td>\n",
       "      <td>0.008976</td>\n",
       "      <td>0.096550</td>\n",
       "      <td>0.034982</td>\n",
       "      <td>0.006841</td>\n",
       "      <td>0.007356</td>\n",
       "      <td>0.008586</td>\n",
       "      <td>0.018834</td>\n",
       "      <td>0.005742</td>\n",
       "      <td>0.008976</td>\n",
       "      <td>0.033999</td>\n",
       "      <td>0.023973</td>\n",
       "      <td>0.007508</td>\n",
       "      <td>0.011067</td>\n",
       "    </tr>\n",
       "    <tr>\n",
       "      <th>Pearson Corr. (Avg) NELA-GT-2018 Continuous</th>\n",
       "      <td>0.118588</td>\n",
       "      <td>0.118588</td>\n",
       "      <td>0.203790</td>\n",
       "      <td>0.203790</td>\n",
       "      <td>0.311171</td>\n",
       "      <td>0.311171</td>\n",
       "      <td>0.175977</td>\n",
       "      <td>0.175977</td>\n",
       "      <td>0.280593</td>\n",
       "      <td>0.280593</td>\n",
       "      <td>-0.021106</td>\n",
       "      <td>-0.078678</td>\n",
       "      <td>0.584502</td>\n",
       "      <td>0.584502</td>\n",
       "    </tr>\n",
       "    <tr>\n",
       "      <th>Pearson Corr. (Std) NELA-GT-2018 Continuous</th>\n",
       "      <td>0.096744</td>\n",
       "      <td>0.096744</td>\n",
       "      <td>0.258881</td>\n",
       "      <td>0.258877</td>\n",
       "      <td>0.314120</td>\n",
       "      <td>0.314120</td>\n",
       "      <td>0.223720</td>\n",
       "      <td>0.223720</td>\n",
       "      <td>0.282258</td>\n",
       "      <td>0.282258</td>\n",
       "      <td>0.072324</td>\n",
       "      <td>0.112333</td>\n",
       "      <td>0.009125</td>\n",
       "      <td>0.009125</td>\n",
       "    </tr>\n",
       "    <tr>\n",
       "      <th>Spearman Corr. (Avg) NELA-GT-2018 Continuous</th>\n",
       "      <td>0.115086</td>\n",
       "      <td>0.115086</td>\n",
       "      <td>0.202784</td>\n",
       "      <td>0.202784</td>\n",
       "      <td>0.308539</td>\n",
       "      <td>0.308539</td>\n",
       "      <td>0.203056</td>\n",
       "      <td>0.203056</td>\n",
       "      <td>0.284883</td>\n",
       "      <td>0.284883</td>\n",
       "      <td>-0.023670</td>\n",
       "      <td>-0.081043</td>\n",
       "      <td>0.618951</td>\n",
       "      <td>0.618951</td>\n",
       "    </tr>\n",
       "    <tr>\n",
       "      <th>Spearman Corr. (Std) NELA-GT-2018 Continuous</th>\n",
       "      <td>0.096695</td>\n",
       "      <td>0.096695</td>\n",
       "      <td>0.257741</td>\n",
       "      <td>0.257741</td>\n",
       "      <td>0.311739</td>\n",
       "      <td>0.311739</td>\n",
       "      <td>0.273183</td>\n",
       "      <td>0.273183</td>\n",
       "      <td>0.286467</td>\n",
       "      <td>0.286467</td>\n",
       "      <td>0.080775</td>\n",
       "      <td>0.112009</td>\n",
       "      <td>0.021789</td>\n",
       "      <td>0.021789</td>\n",
       "    </tr>\n",
       "  </tbody>\n",
       "</table>\n",
       "</div>"
      ],
      "text/plain": [
       "                                                        BERT  BERT (Norm.)  \\\n",
       "MSE (Avg) EuroParl 6th Legislation                  0.157790      0.283489   \n",
       "MSE (Std) EuroParl 6th Legislation                  0.011385      0.013460   \n",
       "Pearson Corr. (Avg) EuroParl 6th Legislation        0.125845      0.125845   \n",
       "Pearson Corr. (Std) EuroParl 6th Legislation        0.389720      0.389720   \n",
       "Spearman Corr. (Avg) EuroParl 6th Legislation       0.263808      0.263808   \n",
       "Spearman Corr. (Std) EuroParl 6th Legislation       0.442531      0.442531   \n",
       "MSE (Avg) EuroParl 5th Legislation                  0.157885      0.223669   \n",
       "MSE (Std) EuroParl 5th Legislation                  0.026409      0.062699   \n",
       "Pearson Corr. (Avg) EuroParl 5th Legislation        0.157159      0.157159   \n",
       "Pearson Corr. (Std) EuroParl 5th Legislation        0.390678      0.390678   \n",
       "Spearman Corr. (Avg) EuroParl 5th Legislation       0.100505      0.100505   \n",
       "Spearman Corr. (Std) EuroParl 5th Legislation       0.532367      0.532367   \n",
       "MSE (Avg) EuroParl 5th & 6th Legislation            0.097562      0.150077   \n",
       "MSE (Std) EuroParl 5th & 6th Legislation            0.015162      0.000868   \n",
       "Pearson Corr. (Avg) EuroParl 5th & 6th Legislation  0.391464      0.391464   \n",
       "Pearson Corr. (Std) EuroParl 5th & 6th Legislation  0.446789      0.446789   \n",
       "Spearman Corr. (Avg) EuroParl 5th & 6th Legisla...  0.344115      0.344115   \n",
       "Spearman Corr. (Std) EuroParl 5th & 6th Legisla...  0.439015      0.439015   \n",
       "MSE (Avg) NELA-GT-2018 Left-Right                   0.247044      0.250048   \n",
       "MSE (Std) NELA-GT-2018 Left-Right                   0.017840      0.012725   \n",
       "Pearson Corr. (Avg) NELA-GT-2018 Left-Right         0.130643      0.130643   \n",
       "Pearson Corr. (Std) NELA-GT-2018 Left-Right         0.132133      0.132133   \n",
       "Spearman Corr. (Avg) NELA-GT-2018 Left-Right        0.129613      0.129613   \n",
       "Spearman Corr. (Std) NELA-GT-2018 Left-Right        0.131738      0.131738   \n",
       "MSE (Avg) NELA-GT-2018 Left-Center-Right            0.171611      0.192989   \n",
       "MSE (Std) NELA-GT-2018 Left-Center-Right            0.020303      0.016748   \n",
       "Pearson Corr. (Avg) NELA-GT-2018 Left-Center-Right  0.103104      0.103104   \n",
       "Pearson Corr. (Std) NELA-GT-2018 Left-Center-Right  0.063873      0.063873   \n",
       "Spearman Corr. (Avg) NELA-GT-2018 Left-Center-R...  0.096651      0.096651   \n",
       "Spearman Corr. (Std) NELA-GT-2018 Left-Center-R...  0.052998      0.052998   \n",
       "MSE (Avg) NELA-GT-2018 Random                       0.252802      0.289037   \n",
       "MSE (Std) NELA-GT-2018 Random                       0.003810      0.006571   \n",
       "Pearson Corr. (Avg) NELA-GT-2018 Random             0.274232      0.274232   \n",
       "Pearson Corr. (Std) NELA-GT-2018 Random             0.377058      0.377058   \n",
       "Spearman Corr. (Avg) NELA-GT-2018 Random            0.237155      0.237155   \n",
       "Spearman Corr. (Std) NELA-GT-2018 Random            0.319167      0.319167   \n",
       "MSE (Avg) NELA-GT-2018 Continuous                   0.123553      0.143450   \n",
       "MSE (Std) NELA-GT-2018 Continuous                   0.005227      0.008976   \n",
       "Pearson Corr. (Avg) NELA-GT-2018 Continuous         0.118588      0.118588   \n",
       "Pearson Corr. (Std) NELA-GT-2018 Continuous         0.096744      0.096744   \n",
       "Spearman Corr. (Avg) NELA-GT-2018 Continuous        0.115086      0.115086   \n",
       "Spearman Corr. (Std) NELA-GT-2018 Continuous        0.096695      0.096695   \n",
       "\n",
       "                                                    Feed Forward Embeddings  \\\n",
       "MSE (Avg) EuroParl 6th Legislation                                 0.257542   \n",
       "MSE (Std) EuroParl 6th Legislation                                 0.091657   \n",
       "Pearson Corr. (Avg) EuroParl 6th Legislation                       0.392656   \n",
       "Pearson Corr. (Std) EuroParl 6th Legislation                       0.354046   \n",
       "Spearman Corr. (Avg) EuroParl 6th Legislation                      0.393336   \n",
       "Spearman Corr. (Std) EuroParl 6th Legislation                      0.365112   \n",
       "MSE (Avg) EuroParl 5th Legislation                                 0.280112   \n",
       "MSE (Std) EuroParl 5th Legislation                                 0.114474   \n",
       "Pearson Corr. (Avg) EuroParl 5th Legislation                       0.305486   \n",
       "Pearson Corr. (Std) EuroParl 5th Legislation                       0.379150   \n",
       "Spearman Corr. (Avg) EuroParl 5th Legislation                      0.405444   \n",
       "Spearman Corr. (Std) EuroParl 5th Legislation                      0.389228   \n",
       "MSE (Avg) EuroParl 5th & 6th Legislation                           0.298676   \n",
       "MSE (Std) EuroParl 5th & 6th Legislation                           0.009534   \n",
       "Pearson Corr. (Avg) EuroParl 5th & 6th Legislation                 0.342890   \n",
       "Pearson Corr. (Std) EuroParl 5th & 6th Legislation                 0.319505   \n",
       "Spearman Corr. (Avg) EuroParl 5th & 6th Legisla...                 0.285179   \n",
       "Spearman Corr. (Std) EuroParl 5th & 6th Legisla...                 0.170594   \n",
       "MSE (Avg) NELA-GT-2018 Left-Right                                  0.407357   \n",
       "MSE (Std) NELA-GT-2018 Left-Right                                  0.135887   \n",
       "Pearson Corr. (Avg) NELA-GT-2018 Left-Right                             NaN   \n",
       "Pearson Corr. (Std) NELA-GT-2018 Left-Right                             NaN   \n",
       "Spearman Corr. (Avg) NELA-GT-2018 Left-Right                            NaN   \n",
       "Spearman Corr. (Std) NELA-GT-2018 Left-Right                            NaN   \n",
       "MSE (Avg) NELA-GT-2018 Left-Center-Right                           0.216798   \n",
       "MSE (Std) NELA-GT-2018 Left-Center-Right                           0.113488   \n",
       "Pearson Corr. (Avg) NELA-GT-2018 Left-Center-Right                 0.153003   \n",
       "Pearson Corr. (Std) NELA-GT-2018 Left-Center-Right                 0.174458   \n",
       "Spearman Corr. (Avg) NELA-GT-2018 Left-Center-R...                 0.110509   \n",
       "Spearman Corr. (Std) NELA-GT-2018 Left-Center-R...                 0.094872   \n",
       "MSE (Avg) NELA-GT-2018 Random                                      0.422988   \n",
       "MSE (Std) NELA-GT-2018 Random                                      0.085983   \n",
       "Pearson Corr. (Avg) NELA-GT-2018 Random                                 NaN   \n",
       "Pearson Corr. (Std) NELA-GT-2018 Random                                 NaN   \n",
       "Spearman Corr. (Avg) NELA-GT-2018 Random                                NaN   \n",
       "Spearman Corr. (Std) NELA-GT-2018 Random                                NaN   \n",
       "MSE (Avg) NELA-GT-2018 Continuous                                  0.198169   \n",
       "MSE (Std) NELA-GT-2018 Continuous                                  0.096550   \n",
       "Pearson Corr. (Avg) NELA-GT-2018 Continuous                        0.203790   \n",
       "Pearson Corr. (Std) NELA-GT-2018 Continuous                        0.258881   \n",
       "Spearman Corr. (Avg) NELA-GT-2018 Continuous                       0.202784   \n",
       "Spearman Corr. (Std) NELA-GT-2018 Continuous                       0.257741   \n",
       "\n",
       "                                                    Feed Forward Embeddings (Norm.)  \\\n",
       "MSE (Avg) EuroParl 6th Legislation                                         0.198855   \n",
       "MSE (Std) EuroParl 6th Legislation                                         0.041112   \n",
       "Pearson Corr. (Avg) EuroParl 6th Legislation                               0.391941   \n",
       "Pearson Corr. (Std) EuroParl 6th Legislation                               0.358741   \n",
       "Spearman Corr. (Avg) EuroParl 6th Legislation                              0.393336   \n",
       "Spearman Corr. (Std) EuroParl 6th Legislation                              0.365112   \n",
       "MSE (Avg) EuroParl 5th Legislation                                         0.207686   \n",
       "MSE (Std) EuroParl 5th Legislation                                         0.027645   \n",
       "Pearson Corr. (Avg) EuroParl 5th Legislation                               0.305486   \n",
       "Pearson Corr. (Std) EuroParl 5th Legislation                               0.379150   \n",
       "Spearman Corr. (Avg) EuroParl 5th Legislation                              0.405444   \n",
       "Spearman Corr. (Std) EuroParl 5th Legislation                              0.389228   \n",
       "MSE (Avg) EuroParl 5th & 6th Legislation                                   0.192084   \n",
       "MSE (Std) EuroParl 5th & 6th Legislation                                   0.013132   \n",
       "Pearson Corr. (Avg) EuroParl 5th & 6th Legislation                         0.342890   \n",
       "Pearson Corr. (Std) EuroParl 5th & 6th Legislation                         0.319505   \n",
       "Spearman Corr. (Avg) EuroParl 5th & 6th Legisla...                         0.285179   \n",
       "Spearman Corr. (Std) EuroParl 5th & 6th Legisla...                         0.170594   \n",
       "MSE (Avg) NELA-GT-2018 Left-Right                                          0.401538   \n",
       "MSE (Std) NELA-GT-2018 Left-Right                                          0.132244   \n",
       "Pearson Corr. (Avg) NELA-GT-2018 Left-Right                                     NaN   \n",
       "Pearson Corr. (Std) NELA-GT-2018 Left-Right                                     NaN   \n",
       "Spearman Corr. (Avg) NELA-GT-2018 Left-Right                                    NaN   \n",
       "Spearman Corr. (Std) NELA-GT-2018 Left-Right                                    NaN   \n",
       "MSE (Avg) NELA-GT-2018 Left-Center-Right                                   0.200209   \n",
       "MSE (Std) NELA-GT-2018 Left-Center-Right                                   0.064824   \n",
       "Pearson Corr. (Avg) NELA-GT-2018 Left-Center-Right                         0.153003   \n",
       "Pearson Corr. (Std) NELA-GT-2018 Left-Center-Right                         0.174458   \n",
       "Spearman Corr. (Avg) NELA-GT-2018 Left-Center-R...                         0.110509   \n",
       "Spearman Corr. (Std) NELA-GT-2018 Left-Center-R...                         0.094872   \n",
       "MSE (Avg) NELA-GT-2018 Random                                              0.369321   \n",
       "MSE (Std) NELA-GT-2018 Random                                              0.087085   \n",
       "Pearson Corr. (Avg) NELA-GT-2018 Random                                         NaN   \n",
       "Pearson Corr. (Std) NELA-GT-2018 Random                                         NaN   \n",
       "Spearman Corr. (Avg) NELA-GT-2018 Random                                        NaN   \n",
       "Spearman Corr. (Std) NELA-GT-2018 Random                                        NaN   \n",
       "MSE (Avg) NELA-GT-2018 Continuous                                          0.176894   \n",
       "MSE (Std) NELA-GT-2018 Continuous                                          0.034982   \n",
       "Pearson Corr. (Avg) NELA-GT-2018 Continuous                                0.203790   \n",
       "Pearson Corr. (Std) NELA-GT-2018 Continuous                                0.258877   \n",
       "Spearman Corr. (Avg) NELA-GT-2018 Continuous                               0.202784   \n",
       "Spearman Corr. (Std) NELA-GT-2018 Continuous                               0.257741   \n",
       "\n",
       "                                                    Feed Forward Token Counts  \\\n",
       "MSE (Avg) EuroParl 6th Legislation                                   0.409639   \n",
       "MSE (Std) EuroParl 6th Legislation                                   0.010742   \n",
       "Pearson Corr. (Avg) EuroParl 6th Legislation                         0.307374   \n",
       "Pearson Corr. (Std) EuroParl 6th Legislation                         0.085350   \n",
       "Spearman Corr. (Avg) EuroParl 6th Legislation                        0.306502   \n",
       "Spearman Corr. (Std) EuroParl 6th Legislation                        0.130658   \n",
       "MSE (Avg) EuroParl 5th Legislation                                   0.368147   \n",
       "MSE (Std) EuroParl 5th Legislation                                   0.002865   \n",
       "Pearson Corr. (Avg) EuroParl 5th Legislation                         0.113674   \n",
       "Pearson Corr. (Std) EuroParl 5th Legislation                         0.277246   \n",
       "Spearman Corr. (Avg) EuroParl 5th Legislation                        0.179161   \n",
       "Spearman Corr. (Std) EuroParl 5th Legislation                        0.440309   \n",
       "MSE (Avg) EuroParl 5th & 6th Legislation                             0.324016   \n",
       "MSE (Std) EuroParl 5th & 6th Legislation                             0.036814   \n",
       "Pearson Corr. (Avg) EuroParl 5th & 6th Legislation                   0.249207   \n",
       "Pearson Corr. (Std) EuroParl 5th & 6th Legislation                   0.133194   \n",
       "Spearman Corr. (Avg) EuroParl 5th & 6th Legisla...                   0.258268   \n",
       "Spearman Corr. (Std) EuroParl 5th & 6th Legisla...                   0.149818   \n",
       "MSE (Avg) NELA-GT-2018 Left-Right                                    0.094242   \n",
       "MSE (Std) NELA-GT-2018 Left-Right                                    0.013422   \n",
       "Pearson Corr. (Avg) NELA-GT-2018 Left-Right                          0.394956   \n",
       "Pearson Corr. (Std) NELA-GT-2018 Left-Right                          0.395750   \n",
       "Spearman Corr. (Avg) NELA-GT-2018 Left-Right                         0.382193   \n",
       "Spearman Corr. (Std) NELA-GT-2018 Left-Right                         0.382763   \n",
       "MSE (Avg) NELA-GT-2018 Left-Center-Right                             0.085404   \n",
       "MSE (Std) NELA-GT-2018 Left-Center-Right                             0.006490   \n",
       "Pearson Corr. (Avg) NELA-GT-2018 Left-Center-Right                   0.350874   \n",
       "Pearson Corr. (Std) NELA-GT-2018 Left-Center-Right                   0.351553   \n",
       "Spearman Corr. (Avg) NELA-GT-2018 Left-Center-R...                   0.350666   \n",
       "Spearman Corr. (Std) NELA-GT-2018 Left-Center-R...                   0.351427   \n",
       "MSE (Avg) NELA-GT-2018 Random                                        0.317524   \n",
       "MSE (Std) NELA-GT-2018 Random                                        0.011211   \n",
       "Pearson Corr. (Avg) NELA-GT-2018 Random                              0.192928   \n",
       "Pearson Corr. (Std) NELA-GT-2018 Random                              0.325727   \n",
       "Spearman Corr. (Avg) NELA-GT-2018 Random                             0.183335   \n",
       "Spearman Corr. (Std) NELA-GT-2018 Random                             0.315678   \n",
       "MSE (Avg) NELA-GT-2018 Continuous                                    0.077287   \n",
       "MSE (Std) NELA-GT-2018 Continuous                                    0.006841   \n",
       "Pearson Corr. (Avg) NELA-GT-2018 Continuous                          0.311171   \n",
       "Pearson Corr. (Std) NELA-GT-2018 Continuous                          0.314120   \n",
       "Spearman Corr. (Avg) NELA-GT-2018 Continuous                         0.308539   \n",
       "Spearman Corr. (Std) NELA-GT-2018 Continuous                         0.311739   \n",
       "\n",
       "                                                    Feed Forward Token Counts (Norm.)  \\\n",
       "MSE (Avg) EuroParl 6th Legislation                                           0.322003   \n",
       "MSE (Std) EuroParl 6th Legislation                                           0.011599   \n",
       "Pearson Corr. (Avg) EuroParl 6th Legislation                                 0.307374   \n",
       "Pearson Corr. (Std) EuroParl 6th Legislation                                 0.085350   \n",
       "Spearman Corr. (Avg) EuroParl 6th Legislation                                0.306502   \n",
       "Spearman Corr. (Std) EuroParl 6th Legislation                                0.130658   \n",
       "MSE (Avg) EuroParl 5th Legislation                                           0.329447   \n",
       "MSE (Std) EuroParl 5th Legislation                                           0.035861   \n",
       "Pearson Corr. (Avg) EuroParl 5th Legislation                                 0.113674   \n",
       "Pearson Corr. (Std) EuroParl 5th Legislation                                 0.277246   \n",
       "Spearman Corr. (Avg) EuroParl 5th Legislation                                0.179161   \n",
       "Spearman Corr. (Std) EuroParl 5th Legislation                                0.440309   \n",
       "MSE (Avg) EuroParl 5th & 6th Legislation                                     0.284671   \n",
       "MSE (Std) EuroParl 5th & 6th Legislation                                     0.054512   \n",
       "Pearson Corr. (Avg) EuroParl 5th & 6th Legislation                           0.249207   \n",
       "Pearson Corr. (Std) EuroParl 5th & 6th Legislation                           0.133194   \n",
       "Spearman Corr. (Avg) EuroParl 5th & 6th Legisla...                           0.258268   \n",
       "Spearman Corr. (Std) EuroParl 5th & 6th Legisla...                           0.149818   \n",
       "MSE (Avg) NELA-GT-2018 Left-Right                                            0.094267   \n",
       "MSE (Std) NELA-GT-2018 Left-Right                                            0.013420   \n",
       "Pearson Corr. (Avg) NELA-GT-2018 Left-Right                                  0.394956   \n",
       "Pearson Corr. (Std) NELA-GT-2018 Left-Right                                  0.395750   \n",
       "Spearman Corr. (Avg) NELA-GT-2018 Left-Right                                 0.382193   \n",
       "Spearman Corr. (Std) NELA-GT-2018 Left-Right                                 0.382763   \n",
       "MSE (Avg) NELA-GT-2018 Left-Center-Right                                     0.086175   \n",
       "MSE (Std) NELA-GT-2018 Left-Center-Right                                     0.007076   \n",
       "Pearson Corr. (Avg) NELA-GT-2018 Left-Center-Right                           0.350874   \n",
       "Pearson Corr. (Std) NELA-GT-2018 Left-Center-Right                           0.351553   \n",
       "Spearman Corr. (Avg) NELA-GT-2018 Left-Center-R...                           0.350666   \n",
       "Spearman Corr. (Std) NELA-GT-2018 Left-Center-R...                           0.351427   \n",
       "MSE (Avg) NELA-GT-2018 Random                                                0.328731   \n",
       "MSE (Std) NELA-GT-2018 Random                                                0.013158   \n",
       "Pearson Corr. (Avg) NELA-GT-2018 Random                                      0.192928   \n",
       "Pearson Corr. (Std) NELA-GT-2018 Random                                      0.325727   \n",
       "Spearman Corr. (Avg) NELA-GT-2018 Random                                     0.183335   \n",
       "Spearman Corr. (Std) NELA-GT-2018 Random                                     0.315678   \n",
       "MSE (Avg) NELA-GT-2018 Continuous                                            0.078579   \n",
       "MSE (Std) NELA-GT-2018 Continuous                                            0.007356   \n",
       "Pearson Corr. (Avg) NELA-GT-2018 Continuous                                  0.311171   \n",
       "Pearson Corr. (Std) NELA-GT-2018 Continuous                                  0.314120   \n",
       "Spearman Corr. (Avg) NELA-GT-2018 Continuous                                 0.308539   \n",
       "Spearman Corr. (Std) NELA-GT-2018 Continuous                                 0.311739   \n",
       "\n",
       "                                                    Linear Regression Embeddings  \\\n",
       "MSE (Avg) EuroParl 6th Legislation                                      0.129101   \n",
       "MSE (Std) EuroParl 6th Legislation                                      0.000862   \n",
       "Pearson Corr. (Avg) EuroParl 6th Legislation                            0.361924   \n",
       "Pearson Corr. (Std) EuroParl 6th Legislation                            0.227485   \n",
       "Spearman Corr. (Avg) EuroParl 6th Legislation                           0.265638   \n",
       "Spearman Corr. (Std) EuroParl 6th Legislation                           0.293699   \n",
       "MSE (Avg) EuroParl 5th Legislation                                      0.101294   \n",
       "MSE (Std) EuroParl 5th Legislation                                      0.003349   \n",
       "Pearson Corr. (Avg) EuroParl 5th Legislation                            0.377332   \n",
       "Pearson Corr. (Std) EuroParl 5th Legislation                            0.354612   \n",
       "Spearman Corr. (Avg) EuroParl 5th Legislation                           0.351183   \n",
       "Spearman Corr. (Std) EuroParl 5th Legislation                           0.282686   \n",
       "MSE (Avg) EuroParl 5th & 6th Legislation                                0.087471   \n",
       "MSE (Std) EuroParl 5th & 6th Legislation                                0.006829   \n",
       "Pearson Corr. (Avg) EuroParl 5th & 6th Legislation                      0.315735   \n",
       "Pearson Corr. (Std) EuroParl 5th & 6th Legislation                      0.284937   \n",
       "Spearman Corr. (Avg) EuroParl 5th & 6th Legisla...                      0.334989   \n",
       "Spearman Corr. (Std) EuroParl 5th & 6th Legisla...                      0.322739   \n",
       "MSE (Avg) NELA-GT-2018 Left-Right                                       0.238675   \n",
       "MSE (Std) NELA-GT-2018 Left-Right                                       0.009087   \n",
       "Pearson Corr. (Avg) NELA-GT-2018 Left-Right                             0.145083   \n",
       "Pearson Corr. (Std) NELA-GT-2018 Left-Right                             0.147986   \n",
       "Spearman Corr. (Avg) NELA-GT-2018 Left-Right                            0.143094   \n",
       "Spearman Corr. (Std) NELA-GT-2018 Left-Right                            0.141647   \n",
       "MSE (Avg) NELA-GT-2018 Left-Center-Right                                0.160290   \n",
       "MSE (Std) NELA-GT-2018 Left-Center-Right                                0.012574   \n",
       "Pearson Corr. (Avg) NELA-GT-2018 Left-Center-Right                      0.118587   \n",
       "Pearson Corr. (Std) NELA-GT-2018 Left-Center-Right                      0.116156   \n",
       "Spearman Corr. (Avg) NELA-GT-2018 Left-Center-R...                      0.113726   \n",
       "Spearman Corr. (Std) NELA-GT-2018 Left-Center-R...                      0.112086   \n",
       "MSE (Avg) NELA-GT-2018 Random                                           0.253553   \n",
       "MSE (Std) NELA-GT-2018 Random                                           0.002308   \n",
       "Pearson Corr. (Avg) NELA-GT-2018 Random                                 0.293508   \n",
       "Pearson Corr. (Std) NELA-GT-2018 Random                                 0.385040   \n",
       "Spearman Corr. (Avg) NELA-GT-2018 Random                                0.274847   \n",
       "Spearman Corr. (Std) NELA-GT-2018 Random                                0.386924   \n",
       "MSE (Avg) NELA-GT-2018 Continuous                                       0.123979   \n",
       "MSE (Std) NELA-GT-2018 Continuous                                       0.008586   \n",
       "Pearson Corr. (Avg) NELA-GT-2018 Continuous                             0.175977   \n",
       "Pearson Corr. (Std) NELA-GT-2018 Continuous                             0.223720   \n",
       "Spearman Corr. (Avg) NELA-GT-2018 Continuous                            0.203056   \n",
       "Spearman Corr. (Std) NELA-GT-2018 Continuous                            0.273183   \n",
       "\n",
       "                                                    Linear Regression Embeddings (Norm.)  \\\n",
       "MSE (Avg) EuroParl 6th Legislation                                              0.173257   \n",
       "MSE (Std) EuroParl 6th Legislation                                              0.011791   \n",
       "Pearson Corr. (Avg) EuroParl 6th Legislation                                    0.361924   \n",
       "Pearson Corr. (Std) EuroParl 6th Legislation                                    0.227485   \n",
       "Spearman Corr. (Avg) EuroParl 6th Legislation                                   0.265638   \n",
       "Spearman Corr. (Std) EuroParl 6th Legislation                                   0.293699   \n",
       "MSE (Avg) EuroParl 5th Legislation                                              0.151181   \n",
       "MSE (Std) EuroParl 5th Legislation                                              0.027215   \n",
       "Pearson Corr. (Avg) EuroParl 5th Legislation                                    0.377332   \n",
       "Pearson Corr. (Std) EuroParl 5th Legislation                                    0.354613   \n",
       "Spearman Corr. (Avg) EuroParl 5th Legislation                                   0.351183   \n",
       "Spearman Corr. (Std) EuroParl 5th Legislation                                   0.282686   \n",
       "MSE (Avg) EuroParl 5th & 6th Legislation                                        0.121729   \n",
       "MSE (Std) EuroParl 5th & 6th Legislation                                        0.009879   \n",
       "Pearson Corr. (Avg) EuroParl 5th & 6th Legislation                              0.315735   \n",
       "Pearson Corr. (Std) EuroParl 5th & 6th Legislation                              0.284937   \n",
       "Spearman Corr. (Avg) EuroParl 5th & 6th Legisla...                              0.334989   \n",
       "Spearman Corr. (Std) EuroParl 5th & 6th Legisla...                              0.322739   \n",
       "MSE (Avg) NELA-GT-2018 Left-Right                                               0.237842   \n",
       "MSE (Std) NELA-GT-2018 Left-Right                                               0.015841   \n",
       "Pearson Corr. (Avg) NELA-GT-2018 Left-Right                                     0.145083   \n",
       "Pearson Corr. (Std) NELA-GT-2018 Left-Right                                     0.147986   \n",
       "Spearman Corr. (Avg) NELA-GT-2018 Left-Right                                    0.143094   \n",
       "Spearman Corr. (Std) NELA-GT-2018 Left-Right                                    0.141647   \n",
       "MSE (Avg) NELA-GT-2018 Left-Center-Right                                        0.169354   \n",
       "MSE (Std) NELA-GT-2018 Left-Center-Right                                        0.006925   \n",
       "Pearson Corr. (Avg) NELA-GT-2018 Left-Center-Right                              0.118587   \n",
       "Pearson Corr. (Std) NELA-GT-2018 Left-Center-Right                              0.116156   \n",
       "Spearman Corr. (Avg) NELA-GT-2018 Left-Center-R...                              0.113726   \n",
       "Spearman Corr. (Std) NELA-GT-2018 Left-Center-R...                              0.112086   \n",
       "MSE (Avg) NELA-GT-2018 Random                                                   0.289404   \n",
       "MSE (Std) NELA-GT-2018 Random                                                   0.006968   \n",
       "Pearson Corr. (Avg) NELA-GT-2018 Random                                         0.293508   \n",
       "Pearson Corr. (Std) NELA-GT-2018 Random                                         0.385040   \n",
       "Spearman Corr. (Avg) NELA-GT-2018 Random                                        0.274847   \n",
       "Spearman Corr. (Std) NELA-GT-2018 Random                                        0.386924   \n",
       "MSE (Avg) NELA-GT-2018 Continuous                                               0.146337   \n",
       "MSE (Std) NELA-GT-2018 Continuous                                               0.018834   \n",
       "Pearson Corr. (Avg) NELA-GT-2018 Continuous                                     0.175977   \n",
       "Pearson Corr. (Std) NELA-GT-2018 Continuous                                     0.223720   \n",
       "Spearman Corr. (Avg) NELA-GT-2018 Continuous                                    0.203056   \n",
       "Spearman Corr. (Std) NELA-GT-2018 Continuous                                    0.273183   \n",
       "\n",
       "                                                    Linear Regression Token Counts  \\\n",
       "MSE (Avg) EuroParl 6th Legislation                                        0.710654   \n",
       "MSE (Std) EuroParl 6th Legislation                                        0.500882   \n",
       "Pearson Corr. (Avg) EuroParl 6th Legislation                              0.441395   \n",
       "Pearson Corr. (Std) EuroParl 6th Legislation                              0.476476   \n",
       "Spearman Corr. (Avg) EuroParl 6th Legislation                             0.377844   \n",
       "Spearman Corr. (Std) EuroParl 6th Legislation                             0.370614   \n",
       "MSE (Avg) EuroParl 5th Legislation                                        0.325128   \n",
       "MSE (Std) EuroParl 5th Legislation                                        0.192835   \n",
       "Pearson Corr. (Avg) EuroParl 5th Legislation                              0.303843   \n",
       "Pearson Corr. (Std) EuroParl 5th Legislation                              0.334877   \n",
       "Spearman Corr. (Avg) EuroParl 5th Legislation                             0.333536   \n",
       "Spearman Corr. (Std) EuroParl 5th Legislation                             0.244220   \n",
       "MSE (Avg) EuroParl 5th & 6th Legislation                                  0.218101   \n",
       "MSE (Std) EuroParl 5th & 6th Legislation                                  0.056892   \n",
       "Pearson Corr. (Avg) EuroParl 5th & 6th Legislation                        0.268925   \n",
       "Pearson Corr. (Std) EuroParl 5th & 6th Legislation                        0.265124   \n",
       "Spearman Corr. (Avg) EuroParl 5th & 6th Legisla...                        0.110436   \n",
       "Spearman Corr. (Std) EuroParl 5th & 6th Legisla...                        0.205507   \n",
       "MSE (Avg) NELA-GT-2018 Left-Right                                         0.130716   \n",
       "MSE (Std) NELA-GT-2018 Left-Right                                         0.012665   \n",
       "Pearson Corr. (Avg) NELA-GT-2018 Left-Right                               0.348703   \n",
       "Pearson Corr. (Std) NELA-GT-2018 Left-Right                               0.349717   \n",
       "Spearman Corr. (Avg) NELA-GT-2018 Left-Right                              0.358315   \n",
       "Spearman Corr. (Std) NELA-GT-2018 Left-Right                              0.359367   \n",
       "MSE (Avg) NELA-GT-2018 Left-Center-Right                                  0.110094   \n",
       "MSE (Std) NELA-GT-2018 Left-Center-Right                                  0.006090   \n",
       "Pearson Corr. (Avg) NELA-GT-2018 Left-Center-Right                        0.302847   \n",
       "Pearson Corr. (Std) NELA-GT-2018 Left-Center-Right                        0.303299   \n",
       "Spearman Corr. (Avg) NELA-GT-2018 Left-Center-R...                        0.306367   \n",
       "Spearman Corr. (Std) NELA-GT-2018 Left-Center-R...                        0.306836   \n",
       "MSE (Avg) NELA-GT-2018 Random                                             0.350050   \n",
       "MSE (Std) NELA-GT-2018 Random                                             0.015798   \n",
       "Pearson Corr. (Avg) NELA-GT-2018 Random                                   0.252318   \n",
       "Pearson Corr. (Std) NELA-GT-2018 Random                                   0.359990   \n",
       "Spearman Corr. (Avg) NELA-GT-2018 Random                                  0.210087   \n",
       "Spearman Corr. (Std) NELA-GT-2018 Random                                  0.322854   \n",
       "MSE (Avg) NELA-GT-2018 Continuous                                         0.089681   \n",
       "MSE (Std) NELA-GT-2018 Continuous                                         0.005742   \n",
       "Pearson Corr. (Avg) NELA-GT-2018 Continuous                               0.280593   \n",
       "Pearson Corr. (Std) NELA-GT-2018 Continuous                               0.282258   \n",
       "Spearman Corr. (Avg) NELA-GT-2018 Continuous                              0.284883   \n",
       "Spearman Corr. (Std) NELA-GT-2018 Continuous                              0.286467   \n",
       "\n",
       "                                                    Linear Regression Token Counts (Norm.)  \\\n",
       "MSE (Avg) EuroParl 6th Legislation                                                0.283489   \n",
       "MSE (Std) EuroParl 6th Legislation                                                0.013460   \n",
       "Pearson Corr. (Avg) EuroParl 6th Legislation                                      0.441395   \n",
       "Pearson Corr. (Std) EuroParl 6th Legislation                                      0.476476   \n",
       "Spearman Corr. (Avg) EuroParl 6th Legislation                                     0.377844   \n",
       "Spearman Corr. (Std) EuroParl 6th Legislation                                     0.370614   \n",
       "MSE (Avg) EuroParl 5th Legislation                                                0.223669   \n",
       "MSE (Std) EuroParl 5th Legislation                                                0.062699   \n",
       "Pearson Corr. (Avg) EuroParl 5th Legislation                                      0.303843   \n",
       "Pearson Corr. (Std) EuroParl 5th Legislation                                      0.334877   \n",
       "Spearman Corr. (Avg) EuroParl 5th Legislation                                     0.333536   \n",
       "Spearman Corr. (Std) EuroParl 5th Legislation                                     0.244220   \n",
       "MSE (Avg) EuroParl 5th & 6th Legislation                                          0.150077   \n",
       "MSE (Std) EuroParl 5th & 6th Legislation                                          0.000868   \n",
       "Pearson Corr. (Avg) EuroParl 5th & 6th Legislation                                0.268925   \n",
       "Pearson Corr. (Std) EuroParl 5th & 6th Legislation                                0.265124   \n",
       "Spearman Corr. (Avg) EuroParl 5th & 6th Legisla...                                0.110436   \n",
       "Spearman Corr. (Std) EuroParl 5th & 6th Legisla...                                0.205507   \n",
       "MSE (Avg) NELA-GT-2018 Left-Right                                                 0.250048   \n",
       "MSE (Std) NELA-GT-2018 Left-Right                                                 0.012725   \n",
       "Pearson Corr. (Avg) NELA-GT-2018 Left-Right                                       0.348703   \n",
       "Pearson Corr. (Std) NELA-GT-2018 Left-Right                                       0.349717   \n",
       "Spearman Corr. (Avg) NELA-GT-2018 Left-Right                                      0.358315   \n",
       "Spearman Corr. (Std) NELA-GT-2018 Left-Right                                      0.359367   \n",
       "MSE (Avg) NELA-GT-2018 Left-Center-Right                                          0.192989   \n",
       "MSE (Std) NELA-GT-2018 Left-Center-Right                                          0.016748   \n",
       "Pearson Corr. (Avg) NELA-GT-2018 Left-Center-Right                                0.302847   \n",
       "Pearson Corr. (Std) NELA-GT-2018 Left-Center-Right                                0.303299   \n",
       "Spearman Corr. (Avg) NELA-GT-2018 Left-Center-R...                                0.306367   \n",
       "Spearman Corr. (Std) NELA-GT-2018 Left-Center-R...                                0.306836   \n",
       "MSE (Avg) NELA-GT-2018 Random                                                     0.289037   \n",
       "MSE (Std) NELA-GT-2018 Random                                                     0.006571   \n",
       "Pearson Corr. (Avg) NELA-GT-2018 Random                                           0.252318   \n",
       "Pearson Corr. (Std) NELA-GT-2018 Random                                           0.359990   \n",
       "Spearman Corr. (Avg) NELA-GT-2018 Random                                          0.210087   \n",
       "Spearman Corr. (Std) NELA-GT-2018 Random                                          0.322854   \n",
       "MSE (Avg) NELA-GT-2018 Continuous                                                 0.143450   \n",
       "MSE (Std) NELA-GT-2018 Continuous                                                 0.008976   \n",
       "Pearson Corr. (Avg) NELA-GT-2018 Continuous                                       0.280593   \n",
       "Pearson Corr. (Std) NELA-GT-2018 Continuous                                       0.282258   \n",
       "Spearman Corr. (Avg) NELA-GT-2018 Continuous                                      0.284883   \n",
       "Spearman Corr. (Std) NELA-GT-2018 Continuous                                      0.286467   \n",
       "\n",
       "                                                    SemScale (ONLY Norm.)  \\\n",
       "MSE (Avg) EuroParl 6th Legislation                               0.162246   \n",
       "MSE (Std) EuroParl 6th Legislation                               0.052948   \n",
       "Pearson Corr. (Avg) EuroParl 6th Legislation                     0.293404   \n",
       "Pearson Corr. (Std) EuroParl 6th Legislation                     0.149991   \n",
       "Spearman Corr. (Avg) EuroParl 6th Legislation                    0.493854   \n",
       "Spearman Corr. (Std) EuroParl 6th Legislation                    0.063651   \n",
       "MSE (Avg) EuroParl 5th Legislation                               0.198854   \n",
       "MSE (Std) EuroParl 5th Legislation                               0.094703   \n",
       "Pearson Corr. (Avg) EuroParl 5th Legislation                    -0.058150   \n",
       "Pearson Corr. (Std) EuroParl 5th Legislation                     0.414691   \n",
       "Spearman Corr. (Avg) EuroParl 5th Legislation                   -0.059890   \n",
       "Spearman Corr. (Std) EuroParl 5th Legislation                    0.417033   \n",
       "MSE (Avg) EuroParl 5th & 6th Legislation                         0.107976   \n",
       "MSE (Std) EuroParl 5th & 6th Legislation                         0.014554   \n",
       "Pearson Corr. (Avg) EuroParl 5th & 6th Legislation              -0.045562   \n",
       "Pearson Corr. (Std) EuroParl 5th & 6th Legislation               0.352043   \n",
       "Spearman Corr. (Avg) EuroParl 5th & 6th Legisla...              -0.035302   \n",
       "Spearman Corr. (Std) EuroParl 5th & 6th Legisla...               0.383469   \n",
       "MSE (Avg) NELA-GT-2018 Left-Right                                0.303978   \n",
       "MSE (Std) NELA-GT-2018 Left-Right                                0.035620   \n",
       "Pearson Corr. (Avg) NELA-GT-2018 Left-Right                     -0.001692   \n",
       "Pearson Corr. (Std) NELA-GT-2018 Left-Right                      0.137851   \n",
       "Spearman Corr. (Avg) NELA-GT-2018 Left-Right                    -0.031204   \n",
       "Spearman Corr. (Std) NELA-GT-2018 Left-Right                     0.156411   \n",
       "MSE (Avg) NELA-GT-2018 Left-Center-Right                         0.200501   \n",
       "MSE (Std) NELA-GT-2018 Left-Center-Right                         0.027058   \n",
       "Pearson Corr. (Avg) NELA-GT-2018 Left-Center-Right               0.041802   \n",
       "Pearson Corr. (Std) NELA-GT-2018 Left-Center-Right               0.083095   \n",
       "Spearman Corr. (Avg) NELA-GT-2018 Left-Center-R...               0.043861   \n",
       "Spearman Corr. (Std) NELA-GT-2018 Left-Center-R...               0.080819   \n",
       "MSE (Avg) NELA-GT-2018 Random                                    0.281406   \n",
       "MSE (Std) NELA-GT-2018 Random                                    0.004994   \n",
       "Pearson Corr. (Avg) NELA-GT-2018 Random                         -0.031709   \n",
       "Pearson Corr. (Std) NELA-GT-2018 Random                          0.045820   \n",
       "Spearman Corr. (Avg) NELA-GT-2018 Random                        -0.030817   \n",
       "Spearman Corr. (Std) NELA-GT-2018 Random                         0.039533   \n",
       "MSE (Avg) NELA-GT-2018 Continuous                                0.177693   \n",
       "MSE (Std) NELA-GT-2018 Continuous                                0.033999   \n",
       "Pearson Corr. (Avg) NELA-GT-2018 Continuous                     -0.021106   \n",
       "Pearson Corr. (Std) NELA-GT-2018 Continuous                      0.072324   \n",
       "Spearman Corr. (Avg) NELA-GT-2018 Continuous                    -0.023670   \n",
       "Spearman Corr. (Std) NELA-GT-2018 Continuous                     0.080775   \n",
       "\n",
       "                                                    Wordfish (ONLY Norm.)  \\\n",
       "MSE (Avg) EuroParl 6th Legislation                               0.280839   \n",
       "MSE (Std) EuroParl 6th Legislation                               0.007554   \n",
       "Pearson Corr. (Avg) EuroParl 6th Legislation                    -0.169065   \n",
       "Pearson Corr. (Std) EuroParl 6th Legislation                     0.012244   \n",
       "Spearman Corr. (Avg) EuroParl 6th Legislation                   -0.107257   \n",
       "Spearman Corr. (Std) EuroParl 6th Legislation                    0.043621   \n",
       "MSE (Avg) EuroParl 5th Legislation                               0.207949   \n",
       "MSE (Std) EuroParl 5th Legislation                               0.076501   \n",
       "Pearson Corr. (Avg) EuroParl 5th Legislation                    -0.050712   \n",
       "Pearson Corr. (Std) EuroParl 5th Legislation                     0.370078   \n",
       "Spearman Corr. (Avg) EuroParl 5th Legislation                   -0.147541   \n",
       "Spearman Corr. (Std) EuroParl 5th Legislation                    0.343970   \n",
       "MSE (Avg) EuroParl 5th & 6th Legislation                         0.165600   \n",
       "MSE (Std) EuroParl 5th & 6th Legislation                         0.037844   \n",
       "Pearson Corr. (Avg) EuroParl 5th & 6th Legislation               0.051520   \n",
       "Pearson Corr. (Std) EuroParl 5th & 6th Legislation               0.124763   \n",
       "Spearman Corr. (Avg) EuroParl 5th & 6th Legisla...              -0.013956   \n",
       "Spearman Corr. (Std) EuroParl 5th & 6th Legisla...               0.155153   \n",
       "MSE (Avg) NELA-GT-2018 Left-Right                                0.283616   \n",
       "MSE (Std) NELA-GT-2018 Left-Right                                0.023245   \n",
       "Pearson Corr. (Avg) NELA-GT-2018 Left-Right                      0.120569   \n",
       "Pearson Corr. (Std) NELA-GT-2018 Left-Right                      0.094860   \n",
       "Spearman Corr. (Avg) NELA-GT-2018 Left-Right                     0.123885   \n",
       "Spearman Corr. (Std) NELA-GT-2018 Left-Right                     0.087349   \n",
       "MSE (Avg) NELA-GT-2018 Left-Center-Right                         0.212624   \n",
       "MSE (Std) NELA-GT-2018 Left-Center-Right                         0.023629   \n",
       "Pearson Corr. (Avg) NELA-GT-2018 Left-Center-Right               0.094594   \n",
       "Pearson Corr. (Std) NELA-GT-2018 Left-Center-Right               0.103774   \n",
       "Spearman Corr. (Avg) NELA-GT-2018 Left-Center-R...               0.090843   \n",
       "Spearman Corr. (Std) NELA-GT-2018 Left-Center-R...               0.092010   \n",
       "MSE (Avg) NELA-GT-2018 Random                                    0.355752   \n",
       "MSE (Std) NELA-GT-2018 Random                                    0.025972   \n",
       "Pearson Corr. (Avg) NELA-GT-2018 Random                         -0.036331   \n",
       "Pearson Corr. (Std) NELA-GT-2018 Random                          0.078630   \n",
       "Spearman Corr. (Avg) NELA-GT-2018 Random                        -0.034224   \n",
       "Spearman Corr. (Std) NELA-GT-2018 Random                         0.083158   \n",
       "MSE (Avg) NELA-GT-2018 Continuous                                0.212595   \n",
       "MSE (Std) NELA-GT-2018 Continuous                                0.023973   \n",
       "Pearson Corr. (Avg) NELA-GT-2018 Continuous                     -0.078678   \n",
       "Pearson Corr. (Std) NELA-GT-2018 Continuous                      0.112333   \n",
       "Spearman Corr. (Avg) NELA-GT-2018 Continuous                    -0.081043   \n",
       "Spearman Corr. (Std) NELA-GT-2018 Continuous                     0.112009   \n",
       "\n",
       "                                                    Wordscores  \\\n",
       "MSE (Avg) EuroParl 6th Legislation                    0.126645   \n",
       "MSE (Std) EuroParl 6th Legislation                    0.001206   \n",
       "Pearson Corr. (Avg) EuroParl 6th Legislation          0.423704   \n",
       "Pearson Corr. (Std) EuroParl 6th Legislation          0.050418   \n",
       "Spearman Corr. (Avg) EuroParl 6th Legislation         0.236763   \n",
       "Spearman Corr. (Std) EuroParl 6th Legislation         0.008691   \n",
       "MSE (Avg) EuroParl 5th Legislation                    0.101389   \n",
       "MSE (Std) EuroParl 5th Legislation                    0.003577   \n",
       "Pearson Corr. (Avg) EuroParl 5th Legislation          0.171931   \n",
       "Pearson Corr. (Std) EuroParl 5th Legislation          0.065332   \n",
       "Spearman Corr. (Avg) EuroParl 5th Legislation         0.198315   \n",
       "Spearman Corr. (Std) EuroParl 5th Legislation         0.026886   \n",
       "MSE (Avg) EuroParl 5th & 6th Legislation              0.086626   \n",
       "MSE (Std) EuroParl 5th & 6th Legislation              0.007452   \n",
       "Pearson Corr. (Avg) EuroParl 5th & 6th Legislation    0.543320   \n",
       "Pearson Corr. (Std) EuroParl 5th & 6th Legislation    0.049064   \n",
       "Spearman Corr. (Avg) EuroParl 5th & 6th Legisla...    0.547375   \n",
       "Spearman Corr. (Std) EuroParl 5th & 6th Legisla...    0.066300   \n",
       "MSE (Avg) NELA-GT-2018 Left-Right                     0.227902   \n",
       "MSE (Std) NELA-GT-2018 Left-Right                     0.001172   \n",
       "Pearson Corr. (Avg) NELA-GT-2018 Left-Right           0.689396   \n",
       "Pearson Corr. (Std) NELA-GT-2018 Left-Right           0.028962   \n",
       "Spearman Corr. (Avg) NELA-GT-2018 Left-Right          0.728865   \n",
       "Spearman Corr. (Std) NELA-GT-2018 Left-Right          0.024503   \n",
       "MSE (Avg) NELA-GT-2018 Left-Center-Right              0.154300   \n",
       "MSE (Std) NELA-GT-2018 Left-Center-Right              0.013253   \n",
       "Pearson Corr. (Avg) NELA-GT-2018 Left-Center-Right    0.612616   \n",
       "Pearson Corr. (Std) NELA-GT-2018 Left-Center-Right    0.025674   \n",
       "Spearman Corr. (Avg) NELA-GT-2018 Left-Center-R...    0.656143   \n",
       "Spearman Corr. (Std) NELA-GT-2018 Left-Center-R...    0.031580   \n",
       "MSE (Avg) NELA-GT-2018 Random                         0.250257   \n",
       "MSE (Std) NELA-GT-2018 Random                         0.000195   \n",
       "Pearson Corr. (Avg) NELA-GT-2018 Random              -0.023452   \n",
       "Pearson Corr. (Std) NELA-GT-2018 Random               0.026881   \n",
       "Spearman Corr. (Avg) NELA-GT-2018 Random             -0.026238   \n",
       "Spearman Corr. (Std) NELA-GT-2018 Random              0.029957   \n",
       "MSE (Avg) NELA-GT-2018 Continuous                     0.118501   \n",
       "MSE (Std) NELA-GT-2018 Continuous                     0.007508   \n",
       "Pearson Corr. (Avg) NELA-GT-2018 Continuous           0.584502   \n",
       "Pearson Corr. (Std) NELA-GT-2018 Continuous           0.009125   \n",
       "Spearman Corr. (Avg) NELA-GT-2018 Continuous          0.618951   \n",
       "Spearman Corr. (Std) NELA-GT-2018 Continuous          0.021789   \n",
       "\n",
       "                                                    Wordscores (Norm.)  \n",
       "MSE (Avg) EuroParl 6th Legislation                            0.155367  \n",
       "MSE (Std) EuroParl 6th Legislation                            0.045521  \n",
       "Pearson Corr. (Avg) EuroParl 6th Legislation                  0.423704  \n",
       "Pearson Corr. (Std) EuroParl 6th Legislation                  0.050418  \n",
       "Spearman Corr. (Avg) EuroParl 6th Legislation                 0.236763  \n",
       "Spearman Corr. (Std) EuroParl 6th Legislation                 0.008691  \n",
       "MSE (Avg) EuroParl 5th Legislation                            0.149485  \n",
       "MSE (Std) EuroParl 5th Legislation                            0.016303  \n",
       "Pearson Corr. (Avg) EuroParl 5th Legislation                  0.171931  \n",
       "Pearson Corr. (Std) EuroParl 5th Legislation                  0.065332  \n",
       "Spearman Corr. (Avg) EuroParl 5th Legislation                 0.198315  \n",
       "Spearman Corr. (Std) EuroParl 5th Legislation                 0.026886  \n",
       "MSE (Avg) EuroParl 5th & 6th Legislation                      0.098308  \n",
       "MSE (Std) EuroParl 5th & 6th Legislation                      0.021664  \n",
       "Pearson Corr. (Avg) EuroParl 5th & 6th Legislation            0.543320  \n",
       "Pearson Corr. (Std) EuroParl 5th & 6th Legislation            0.049064  \n",
       "Spearman Corr. (Avg) EuroParl 5th & 6th Legisla...            0.547375  \n",
       "Spearman Corr. (Std) EuroParl 5th & 6th Legisla...            0.066300  \n",
       "MSE (Avg) NELA-GT-2018 Left-Right                             0.181469  \n",
       "MSE (Std) NELA-GT-2018 Left-Right                             0.011735  \n",
       "Pearson Corr. (Avg) NELA-GT-2018 Left-Right                   0.689396  \n",
       "Pearson Corr. (Std) NELA-GT-2018 Left-Right                   0.028962  \n",
       "Spearman Corr. (Avg) NELA-GT-2018 Left-Right                  0.728865  \n",
       "Spearman Corr. (Std) NELA-GT-2018 Left-Right                  0.024503  \n",
       "MSE (Avg) NELA-GT-2018 Left-Center-Right                      0.142841  \n",
       "MSE (Std) NELA-GT-2018 Left-Center-Right                      0.020334  \n",
       "Pearson Corr. (Avg) NELA-GT-2018 Left-Center-Right            0.612616  \n",
       "Pearson Corr. (Std) NELA-GT-2018 Left-Center-Right            0.025674  \n",
       "Spearman Corr. (Avg) NELA-GT-2018 Left-Center-R...            0.656143  \n",
       "Spearman Corr. (Std) NELA-GT-2018 Left-Center-R...            0.031580  \n",
       "MSE (Avg) NELA-GT-2018 Random                                 0.294814  \n",
       "MSE (Std) NELA-GT-2018 Random                                 0.008708  \n",
       "Pearson Corr. (Avg) NELA-GT-2018 Random                      -0.023452  \n",
       "Pearson Corr. (Std) NELA-GT-2018 Random                       0.026881  \n",
       "Spearman Corr. (Avg) NELA-GT-2018 Random                     -0.026238  \n",
       "Spearman Corr. (Std) NELA-GT-2018 Random                      0.029957  \n",
       "MSE (Avg) NELA-GT-2018 Continuous                             0.114567  \n",
       "MSE (Std) NELA-GT-2018 Continuous                             0.011067  \n",
       "Pearson Corr. (Avg) NELA-GT-2018 Continuous                   0.584502  \n",
       "Pearson Corr. (Std) NELA-GT-2018 Continuous                   0.009125  \n",
       "Spearman Corr. (Avg) NELA-GT-2018 Continuous                  0.618951  \n",
       "Spearman Corr. (Std) NELA-GT-2018 Continuous                  0.021789  "
      ]
     },
     "execution_count": 2,
     "metadata": {},
     "output_type": "execute_result"
    }
   ],
   "source": [
    "metrics"
   ]
  },
  {
   "cell_type": "markdown",
   "metadata": {},
   "source": [
    "We pick the notebooks with randomly generated data and create a second variable without them "
   ]
  },
  {
   "cell_type": "code",
   "execution_count": 3,
   "metadata": {},
   "outputs": [
    {
     "data": {
      "text/plain": [
       "Index(['MSE (Avg) NELA-GT-2018 Random', 'MSE (Std) NELA-GT-2018 Random',\n",
       "       'Pearson Corr. (Avg) NELA-GT-2018 Random',\n",
       "       'Pearson Corr. (Std) NELA-GT-2018 Random',\n",
       "       'Spearman Corr. (Avg) NELA-GT-2018 Random',\n",
       "       'Spearman Corr. (Std) NELA-GT-2018 Random'],\n",
       "      dtype='object')"
      ]
     },
     "execution_count": 3,
     "metadata": {},
     "output_type": "execute_result"
    }
   ],
   "source": [
    "metrics.index[30:36]"
   ]
  },
  {
   "cell_type": "code",
   "execution_count": 4,
   "metadata": {
    "scrolled": true
   },
   "outputs": [],
   "source": [
    "metrics_without_random = metrics.drop(metrics.index[30:36])"
   ]
  },
  {
   "cell_type": "markdown",
   "metadata": {},
   "source": [
    "## Metrics without random data"
   ]
  },
  {
   "cell_type": "markdown",
   "metadata": {},
   "source": [
    "# MSE"
   ]
  },
  {
   "cell_type": "code",
   "execution_count": 5,
   "metadata": {
    "scrolled": true
   },
   "outputs": [
    {
     "data": {
      "text/plain": [
       "Wordscores                                0.135894\n",
       "Linear Regression Embeddings              0.140135\n",
       "Wordscores (Norm.)                        0.140339\n",
       "BERT                                      0.159241\n",
       "Linear Regression Embeddings (Norm.)      0.166617\n",
       "SemScale (ONLY Norm.)                     0.191875\n",
       "Feed Forward Token Counts (Norm.)         0.199190\n",
       "BERT (Norm.)                              0.207287\n",
       "Linear Regression Token Counts (Norm.)    0.207287\n",
       "Feed Forward Token Counts                 0.226456\n",
       "Wordfish (ONLY Norm.)                     0.227204\n",
       "Feed Forward Embeddings (Norm.)           0.229544\n",
       "Linear Regression Token Counts            0.264062\n",
       "Feed Forward Embeddings                   0.276442\n",
       "dtype: float64"
      ]
     },
     "execution_count": 5,
     "metadata": {},
     "output_type": "execute_result"
    }
   ],
   "source": [
    "# Mean MSE (Avg) values per method\n",
    "metrics_without_random.iloc[::6].mean(axis=0).sort_values()"
   ]
  },
  {
   "cell_type": "code",
   "execution_count": 6,
   "metadata": {},
   "outputs": [
    {
     "data": {
      "text/plain": [
       "Wordscores                                0.005695\n",
       "Linear Regression Embeddings              0.006881\n",
       "Feed Forward Token Counts                 0.012863\n",
       "Linear Regression Embeddings (Norm.)      0.015081\n",
       "BERT                                      0.016055\n",
       "BERT (Norm.)                              0.019246\n",
       "Linear Regression Token Counts (Norm.)    0.019246\n",
       "Wordscores (Norm.)                        0.021104\n",
       "Feed Forward Token Counts (Norm.)         0.021637\n",
       "Wordfish (ONLY Norm.)                     0.032124\n",
       "SemScale (ONLY Norm.)                     0.043147\n",
       "Feed Forward Embeddings (Norm.)           0.052323\n",
       "Feed Forward Embeddings                   0.093598\n",
       "Linear Regression Token Counts            0.129184\n",
       "dtype: float64"
      ]
     },
     "execution_count": 6,
     "metadata": {},
     "output_type": "execute_result"
    }
   ],
   "source": [
    "# Mean MSE (std) values per method\n",
    "metrics_without_random.iloc[1::6].mean(axis=0).sort_values()"
   ]
  },
  {
   "cell_type": "code",
   "execution_count": 7,
   "metadata": {},
   "outputs": [
    {
     "data": {
      "text/plain": [
       "MSE (Avg) NELA-GT-2018 Continuous           0.137481\n",
       "MSE (Avg) NELA-GT-2018 Left-Center-Right    0.164013\n",
       "MSE (Avg) EuroParl 5th & 6th Legislation    0.170212\n",
       "MSE (Avg) EuroParl 5th Legislation          0.216135\n",
       "MSE (Avg) NELA-GT-2018 Left-Right           0.239196\n",
       "MSE (Avg) EuroParl 6th Legislation          0.260780\n",
       "dtype: float64"
      ]
     },
     "execution_count": 7,
     "metadata": {},
     "output_type": "execute_result"
    }
   ],
   "source": [
    "# Mean MSE (Avg) values per notebook\n",
    "metrics_without_random.iloc[::6].mean(axis=1).sort_values()"
   ]
  },
  {
   "cell_type": "code",
   "execution_count": 8,
   "metadata": {},
   "outputs": [
    {
     "data": {
      "text/plain": [
       "MSE (Std) NELA-GT-2018 Continuous           0.019901\n",
       "MSE (Std) EuroParl 5th & 6th Legislation    0.020429\n",
       "MSE (Std) NELA-GT-2018 Left-Center-Right    0.025396\n",
       "MSE (Std) NELA-GT-2018 Left-Right           0.031974\n",
       "MSE (Std) EuroParl 5th Legislation          0.053367\n",
       "MSE (Std) EuroParl 6th Legislation          0.058156\n",
       "dtype: float64"
      ]
     },
     "execution_count": 8,
     "metadata": {},
     "output_type": "execute_result"
    }
   ],
   "source": [
    "# Mean MSE (std) values per notebook\n",
    "metrics_without_random.iloc[1::6].mean(axis=1).sort_values()"
   ]
  },
  {
   "cell_type": "markdown",
   "metadata": {},
   "source": [
    "# Pearson"
   ]
  },
  {
   "cell_type": "code",
   "execution_count": 9,
   "metadata": {},
   "outputs": [
    {
     "data": {
      "text/plain": [
       "Wordfish (ONLY Norm.)                    -0.005295\n",
       "SemScale (ONLY Norm.)                     0.034783\n",
       "BERT                                      0.171134\n",
       "BERT (Norm.)                              0.171134\n",
       "Linear Regression Embeddings              0.249106\n",
       "Linear Regression Embeddings (Norm.)      0.249106\n",
       "Feed Forward Embeddings (Norm.)           0.279422\n",
       "Feed Forward Embeddings                   0.279565\n",
       "Feed Forward Token Counts (Norm.)         0.287876\n",
       "Feed Forward Token Counts                 0.287876\n",
       "Linear Regression Token Counts            0.324384\n",
       "Linear Regression Token Counts (Norm.)    0.324384\n",
       "Wordscores                                0.504245\n",
       "Wordscores (Norm.)                        0.504245\n",
       "dtype: float64"
      ]
     },
     "execution_count": 9,
     "metadata": {},
     "output_type": "execute_result"
    }
   ],
   "source": [
    "# GET Pearson (AVG) per method\n",
    "metrics_without_random.iloc[2::6].mean(axis=0).sort_values()"
   ]
  },
  {
   "cell_type": "code",
   "execution_count": 10,
   "metadata": {
    "scrolled": true
   },
   "outputs": [
    {
     "data": {
      "text/plain": [
       "Wordscores                                0.038096\n",
       "Wordscores (Norm.)                        0.038096\n",
       "Wordfish (ONLY Norm.)                     0.136342\n",
       "SemScale (ONLY Norm.)                     0.201666\n",
       "Linear Regression Embeddings              0.225816\n",
       "Linear Regression Embeddings (Norm.)      0.225816\n",
       "BERT                                      0.253323\n",
       "BERT (Norm.)                              0.253323\n",
       "Feed Forward Token Counts                 0.259535\n",
       "Feed Forward Token Counts (Norm.)         0.259536\n",
       "Feed Forward Embeddings                   0.297208\n",
       "Feed Forward Embeddings (Norm.)           0.298146\n",
       "Linear Regression Token Counts            0.335292\n",
       "Linear Regression Token Counts (Norm.)    0.335292\n",
       "dtype: float64"
      ]
     },
     "execution_count": 10,
     "metadata": {},
     "output_type": "execute_result"
    }
   ],
   "source": [
    "# GET Pearson (Std) per method\n",
    "metrics_without_random.iloc[3::6].mean(axis=0).sort_values()"
   ]
  },
  {
   "cell_type": "code",
   "execution_count": 11,
   "metadata": {
    "scrolled": true
   },
   "outputs": [
    {
     "data": {
      "text/plain": [
       "Pearson Corr. (Avg) EuroParl 5th Legislation          0.196428\n",
       "Pearson Corr. (Avg) NELA-GT-2018 Continuous           0.232104\n",
       "Pearson Corr. (Avg) NELA-GT-2018 Left-Center-Right    0.244176\n",
       "Pearson Corr. (Avg) NELA-GT-2018 Left-Right           0.294703\n",
       "Pearson Corr. (Avg) EuroParl 5th & 6th Legislation    0.302074\n",
       "Pearson Corr. (Avg) EuroParl 6th Legislation          0.302102\n",
       "dtype: float64"
      ]
     },
     "execution_count": 11,
     "metadata": {},
     "output_type": "execute_result"
    }
   ],
   "source": [
    "# GET Pearson (AVG) per notebook\n",
    "metrics_without_random.iloc[2::6].mean(axis=1).sort_values()"
   ]
  },
  {
   "cell_type": "code",
   "execution_count": 12,
   "metadata": {
    "scrolled": false
   },
   "outputs": [
    {
     "data": {
      "text/plain": [
       "Pearson Corr. (Std) NELA-GT-2018 Left-Center-Right    0.161207\n",
       "Pearson Corr. (Std) NELA-GT-2018 Continuous           0.182454\n",
       "Pearson Corr. (Std) NELA-GT-2018 Left-Right           0.195151\n",
       "Pearson Corr. (Std) EuroParl 6th Legislation          0.238137\n",
       "Pearson Corr. (Std) EuroParl 5th & 6th Legislation    0.248145\n",
       "Pearson Corr. (Std) EuroParl 5th Legislation          0.313469\n",
       "dtype: float64"
      ]
     },
     "execution_count": 12,
     "metadata": {},
     "output_type": "execute_result"
    }
   ],
   "source": [
    "# GET Pearson (Std) per notebook\n",
    "metrics_without_random.iloc[3::6].mean(axis=1).sort_values()"
   ]
  },
  {
   "cell_type": "markdown",
   "metadata": {},
   "source": [
    "# Spearman"
   ]
  },
  {
   "cell_type": "code",
   "execution_count": 13,
   "metadata": {
    "scrolled": true
   },
   "outputs": [
    {
     "data": {
      "text/plain": [
       "Wordfish (ONLY Norm.)                    -0.022511\n",
       "SemScale (ONLY Norm.)                     0.064608\n",
       "BERT                                      0.174963\n",
       "BERT (Norm.)                              0.174963\n",
       "Linear Regression Embeddings              0.235281\n",
       "Linear Regression Embeddings (Norm.)      0.235281\n",
       "Feed Forward Embeddings                   0.279450\n",
       "Feed Forward Embeddings (Norm.)           0.279450\n",
       "Linear Regression Token Counts            0.295230\n",
       "Linear Regression Token Counts (Norm.)    0.295230\n",
       "Feed Forward Token Counts                 0.297555\n",
       "Feed Forward Token Counts (Norm.)         0.297555\n",
       "Wordscores                                0.497735\n",
       "Wordscores (Norm.)                        0.497735\n",
       "dtype: float64"
      ]
     },
     "execution_count": 13,
     "metadata": {},
     "output_type": "execute_result"
    }
   ],
   "source": [
    "# GET Spearman (AVG) per method\n",
    "metrics_without_random.iloc[4::6].mean(axis=0).sort_values()"
   ]
  },
  {
   "cell_type": "code",
   "execution_count": 14,
   "metadata": {
    "scrolled": true
   },
   "outputs": [
    {
     "data": {
      "text/plain": [
       "Wordscores                                0.029958\n",
       "Wordscores (Norm.)                        0.029958\n",
       "Wordfish (ONLY Norm.)                     0.139018\n",
       "SemScale (ONLY Norm.)                     0.197026\n",
       "Linear Regression Embeddings              0.237673\n",
       "Linear Regression Embeddings (Norm.)      0.237673\n",
       "Feed Forward Embeddings                   0.255509\n",
       "Feed Forward Embeddings (Norm.)           0.255509\n",
       "BERT                                      0.282557\n",
       "BERT (Norm.)                              0.282557\n",
       "Feed Forward Token Counts                 0.294453\n",
       "Feed Forward Token Counts (Norm.)         0.294453\n",
       "Linear Regression Token Counts            0.295502\n",
       "Linear Regression Token Counts (Norm.)    0.295502\n",
       "dtype: float64"
      ]
     },
     "execution_count": 14,
     "metadata": {},
     "output_type": "execute_result"
    }
   ],
   "source": [
    "# GET Spearman (Std) per method\n",
    "metrics_without_random.iloc[5::6].mean(axis=0).sort_values()"
   ]
  },
  {
   "cell_type": "code",
   "execution_count": 15,
   "metadata": {
    "scrolled": true
   },
   "outputs": [
    {
     "data": {
      "text/plain": [
       "Spearman Corr. (Avg) EuroParl 5th Legislation          0.209204\n",
       "Spearman Corr. (Avg) NELA-GT-2018 Continuous           0.240135\n",
       "Spearman Corr. (Avg) NELA-GT-2018 Left-Center-Right    0.243059\n",
       "Spearman Corr. (Avg) EuroParl 5th & 6th Legislation    0.265105\n",
       "Spearman Corr. (Avg) EuroParl 6th Legislation          0.291027\n",
       "Spearman Corr. (Avg) NELA-GT-2018 Left-Right           0.298070\n",
       "dtype: float64"
      ]
     },
     "execution_count": 15,
     "metadata": {},
     "output_type": "execute_result"
    }
   ],
   "source": [
    "# GET Spearman (AVG) per notebook\n",
    "metrics_without_random.iloc[4::6].mean(axis=1).sort_values()"
   ]
  },
  {
   "cell_type": "code",
   "execution_count": 16,
   "metadata": {
    "scrolled": false
   },
   "outputs": [
    {
     "data": {
      "text/plain": [
       "Spearman Corr. (Std) NELA-GT-2018 Left-Center-Right    0.148031\n",
       "Spearman Corr. (Std) NELA-GT-2018 Continuous           0.192001\n",
       "Spearman Corr. (Std) NELA-GT-2018 Left-Right           0.193650\n",
       "Spearman Corr. (Std) EuroParl 5th & 6th Legislation    0.231898\n",
       "Spearman Corr. (Std) EuroParl 6th Legislation          0.237849\n",
       "Spearman Corr. (Std) EuroParl 5th Legislation          0.328028\n",
       "dtype: float64"
      ]
     },
     "execution_count": 16,
     "metadata": {},
     "output_type": "execute_result"
    }
   ],
   "source": [
    "# GET Spearman (Std) per notebook\n",
    "metrics_without_random.iloc[5::6].mean(axis=1).sort_values()"
   ]
  },
  {
   "cell_type": "markdown",
   "metadata": {},
   "source": [
    "## Metrics with random data"
   ]
  },
  {
   "cell_type": "markdown",
   "metadata": {},
   "source": [
    "## MSE"
   ]
  },
  {
   "cell_type": "code",
   "execution_count": 17,
   "metadata": {
    "scrolled": true
   },
   "outputs": [
    {
     "data": {
      "text/plain": [
       "Wordscores                                0.152231\n",
       "Linear Regression Embeddings              0.156338\n",
       "Wordscores (Norm.)                        0.162407\n",
       "BERT                                      0.172607\n",
       "Linear Regression Embeddings (Norm.)      0.184158\n",
       "SemScale (ONLY Norm.)                     0.204665\n",
       "Feed Forward Token Counts (Norm.)         0.217696\n",
       "BERT (Norm.)                              0.218966\n",
       "Linear Regression Token Counts (Norm.)    0.218966\n",
       "Feed Forward Token Counts                 0.239466\n",
       "Wordfish (ONLY Norm.)                     0.245568\n",
       "Feed Forward Embeddings (Norm.)           0.249512\n",
       "Linear Regression Token Counts            0.276346\n",
       "Feed Forward Embeddings                   0.297377\n",
       "dtype: float64"
      ]
     },
     "execution_count": 17,
     "metadata": {},
     "output_type": "execute_result"
    }
   ],
   "source": [
    "# Mean MSE (Avg) values per method\n",
    "metrics.iloc[::6].mean(axis=0).sort_values()"
   ]
  },
  {
   "cell_type": "code",
   "execution_count": 18,
   "metadata": {},
   "outputs": [
    {
     "data": {
      "text/plain": [
       "Wordscores                                0.004909\n",
       "Linear Regression Embeddings              0.006228\n",
       "Feed Forward Token Counts                 0.012627\n",
       "Linear Regression Embeddings (Norm.)      0.013922\n",
       "BERT                                      0.014305\n",
       "BERT (Norm.)                              0.017435\n",
       "Linear Regression Token Counts (Norm.)    0.017435\n",
       "Wordscores (Norm.)                        0.019333\n",
       "Feed Forward Token Counts (Norm.)         0.020426\n",
       "Wordfish (ONLY Norm.)                     0.031245\n",
       "SemScale (ONLY Norm.)                     0.037697\n",
       "Feed Forward Embeddings (Norm.)           0.057289\n",
       "Feed Forward Embeddings                   0.092510\n",
       "Linear Regression Token Counts            0.112986\n",
       "dtype: float64"
      ]
     },
     "execution_count": 18,
     "metadata": {},
     "output_type": "execute_result"
    }
   ],
   "source": [
    "# Mean MSE (std) values per method\n",
    "metrics.iloc[1::6].mean(axis=0).sort_values()"
   ]
  },
  {
   "cell_type": "code",
   "execution_count": 19,
   "metadata": {},
   "outputs": [
    {
     "data": {
      "text/plain": [
       "MSE (Avg) NELA-GT-2018 Continuous           0.137481\n",
       "MSE (Avg) NELA-GT-2018 Left-Center-Right    0.164013\n",
       "MSE (Avg) EuroParl 5th & 6th Legislation    0.170212\n",
       "MSE (Avg) EuroParl 5th Legislation          0.216135\n",
       "MSE (Avg) NELA-GT-2018 Left-Right           0.239196\n",
       "MSE (Avg) EuroParl 6th Legislation          0.260780\n",
       "MSE (Avg) NELA-GT-2018 Random               0.310334\n",
       "dtype: float64"
      ]
     },
     "execution_count": 19,
     "metadata": {},
     "output_type": "execute_result"
    }
   ],
   "source": [
    "# Mean MSE (Avg) values per notebook\n",
    "metrics.iloc[::6].mean(axis=1).sort_values()"
   ]
  },
  {
   "cell_type": "code",
   "execution_count": 20,
   "metadata": {},
   "outputs": [
    {
     "data": {
      "text/plain": [
       "MSE (Std) NELA-GT-2018 Continuous           0.019901\n",
       "MSE (Std) NELA-GT-2018 Random               0.019952\n",
       "MSE (Std) EuroParl 5th & 6th Legislation    0.020429\n",
       "MSE (Std) NELA-GT-2018 Left-Center-Right    0.025396\n",
       "MSE (Std) NELA-GT-2018 Left-Right           0.031974\n",
       "MSE (Std) EuroParl 5th Legislation          0.053367\n",
       "MSE (Std) EuroParl 6th Legislation          0.058156\n",
       "dtype: float64"
      ]
     },
     "execution_count": 20,
     "metadata": {},
     "output_type": "execute_result"
    }
   ],
   "source": [
    "# Mean MSE (std) values per notebook\n",
    "metrics.iloc[1::6].mean(axis=1).sort_values()"
   ]
  },
  {
   "cell_type": "markdown",
   "metadata": {},
   "source": [
    "# Pearson"
   ]
  },
  {
   "cell_type": "code",
   "execution_count": 21,
   "metadata": {},
   "outputs": [
    {
     "data": {
      "text/plain": [
       "Wordfish (ONLY Norm.)                    -0.009729\n",
       "SemScale (ONLY Norm.)                     0.025284\n",
       "BERT                                      0.185862\n",
       "BERT (Norm.)                              0.185862\n",
       "Linear Regression Embeddings              0.255450\n",
       "Linear Regression Embeddings (Norm.)      0.255450\n",
       "Feed Forward Token Counts (Norm.)         0.274312\n",
       "Feed Forward Token Counts                 0.274312\n",
       "Feed Forward Embeddings (Norm.)           0.279422\n",
       "Feed Forward Embeddings                   0.279565\n",
       "Linear Regression Token Counts            0.314089\n",
       "Linear Regression Token Counts (Norm.)    0.314089\n",
       "Wordscores                                0.428860\n",
       "Wordscores (Norm.)                        0.428860\n",
       "dtype: float64"
      ]
     },
     "execution_count": 21,
     "metadata": {},
     "output_type": "execute_result"
    }
   ],
   "source": [
    "# GET Pearson (AVG) per method\n",
    "metrics.iloc[2::6].mean(axis=0).sort_values()"
   ]
  },
  {
   "cell_type": "code",
   "execution_count": 22,
   "metadata": {
    "scrolled": true
   },
   "outputs": [
    {
     "data": {
      "text/plain": [
       "Wordscores                                0.036494\n",
       "Wordscores (Norm.)                        0.036494\n",
       "Wordfish (ONLY Norm.)                     0.128097\n",
       "SemScale (ONLY Norm.)                     0.179402\n",
       "Linear Regression Embeddings              0.248562\n",
       "Linear Regression Embeddings (Norm.)      0.248562\n",
       "Feed Forward Token Counts                 0.268991\n",
       "Feed Forward Token Counts (Norm.)         0.268991\n",
       "BERT (Norm.)                              0.270999\n",
       "BERT                                      0.270999\n",
       "Feed Forward Embeddings                   0.297208\n",
       "Feed Forward Embeddings (Norm.)           0.298146\n",
       "Linear Regression Token Counts (Norm.)    0.338820\n",
       "Linear Regression Token Counts            0.338820\n",
       "dtype: float64"
      ]
     },
     "execution_count": 22,
     "metadata": {},
     "output_type": "execute_result"
    }
   ],
   "source": [
    "# GET Pearson (Std) per method\n",
    "metrics.iloc[3::6].mean(axis=0).sort_values()"
   ]
  },
  {
   "cell_type": "code",
   "execution_count": 23,
   "metadata": {
    "scrolled": true
   },
   "outputs": [
    {
     "data": {
      "text/plain": [
       "Pearson Corr. (Avg) NELA-GT-2018 Random               0.159252\n",
       "Pearson Corr. (Avg) EuroParl 5th Legislation          0.196428\n",
       "Pearson Corr. (Avg) NELA-GT-2018 Continuous           0.232104\n",
       "Pearson Corr. (Avg) NELA-GT-2018 Left-Center-Right    0.244176\n",
       "Pearson Corr. (Avg) NELA-GT-2018 Left-Right           0.294703\n",
       "Pearson Corr. (Avg) EuroParl 5th & 6th Legislation    0.302074\n",
       "Pearson Corr. (Avg) EuroParl 6th Legislation          0.302102\n",
       "dtype: float64"
      ]
     },
     "execution_count": 23,
     "metadata": {},
     "output_type": "execute_result"
    }
   ],
   "source": [
    "# GET Pearson (AVG) per notebook\n",
    "metrics.iloc[2::6].mean(axis=1).sort_values()"
   ]
  },
  {
   "cell_type": "code",
   "execution_count": 24,
   "metadata": {
    "scrolled": false
   },
   "outputs": [
    {
     "data": {
      "text/plain": [
       "Pearson Corr. (Std) NELA-GT-2018 Left-Center-Right    0.161207\n",
       "Pearson Corr. (Std) NELA-GT-2018 Continuous           0.182454\n",
       "Pearson Corr. (Std) NELA-GT-2018 Left-Right           0.195151\n",
       "Pearson Corr. (Std) EuroParl 6th Legislation          0.238137\n",
       "Pearson Corr. (Std) EuroParl 5th & 6th Legislation    0.248145\n",
       "Pearson Corr. (Std) NELA-GT-2018 Random               0.256154\n",
       "Pearson Corr. (Std) EuroParl 5th Legislation          0.313469\n",
       "dtype: float64"
      ]
     },
     "execution_count": 24,
     "metadata": {},
     "output_type": "execute_result"
    }
   ],
   "source": [
    "# GET Pearson (Std) per notebook\n",
    "metrics.iloc[3::6].mean(axis=1).sort_values()"
   ]
  },
  {
   "cell_type": "markdown",
   "metadata": {},
   "source": [
    "# Spearman"
   ]
  },
  {
   "cell_type": "code",
   "execution_count": 25,
   "metadata": {
    "scrolled": true
   },
   "outputs": [
    {
     "data": {
      "text/plain": [
       "Wordfish (ONLY Norm.)                    -0.024185\n",
       "SemScale (ONLY Norm.)                     0.050976\n",
       "BERT                                      0.183848\n",
       "BERT (Norm.)                              0.183848\n",
       "Linear Regression Embeddings              0.240933\n",
       "Linear Regression Embeddings (Norm.)      0.240933\n",
       "Feed Forward Embeddings                   0.279450\n",
       "Feed Forward Embeddings (Norm.)           0.279450\n",
       "Feed Forward Token Counts                 0.281238\n",
       "Feed Forward Token Counts (Norm.)         0.281238\n",
       "Linear Regression Token Counts            0.283067\n",
       "Linear Regression Token Counts (Norm.)    0.283067\n",
       "Wordscores                                0.422882\n",
       "Wordscores (Norm.)                        0.422882\n",
       "dtype: float64"
      ]
     },
     "execution_count": 25,
     "metadata": {},
     "output_type": "execute_result"
    }
   ],
   "source": [
    "# GET Spearman (AVG) per method\n",
    "metrics.iloc[4::6].mean(axis=0).sort_values()"
   ]
  },
  {
   "cell_type": "code",
   "execution_count": 26,
   "metadata": {
    "scrolled": true
   },
   "outputs": [
    {
     "data": {
      "text/plain": [
       "Wordscores                                0.029958\n",
       "Wordscores (Norm.)                        0.029958\n",
       "Wordfish (ONLY Norm.)                     0.131038\n",
       "SemScale (ONLY Norm.)                     0.174527\n",
       "Feed Forward Embeddings                   0.255509\n",
       "Feed Forward Embeddings (Norm.)           0.255509\n",
       "Linear Regression Embeddings              0.258995\n",
       "Linear Regression Embeddings (Norm.)      0.258995\n",
       "BERT                                      0.287787\n",
       "BERT (Norm.)                              0.287787\n",
       "Feed Forward Token Counts                 0.297485\n",
       "Feed Forward Token Counts (Norm.)         0.297485\n",
       "Linear Regression Token Counts            0.299409\n",
       "Linear Regression Token Counts (Norm.)    0.299409\n",
       "dtype: float64"
      ]
     },
     "execution_count": 26,
     "metadata": {},
     "output_type": "execute_result"
    }
   ],
   "source": [
    "# GET Spearman (Std) per method\n",
    "metrics.iloc[5::6].mean(axis=0).sort_values()"
   ]
  },
  {
   "cell_type": "code",
   "execution_count": 27,
   "metadata": {
    "scrolled": true
   },
   "outputs": [
    {
     "data": {
      "text/plain": [
       "Spearman Corr. (Avg) NELA-GT-2018 Random               0.141111\n",
       "Spearman Corr. (Avg) EuroParl 5th Legislation          0.209204\n",
       "Spearman Corr. (Avg) NELA-GT-2018 Continuous           0.240135\n",
       "Spearman Corr. (Avg) NELA-GT-2018 Left-Center-Right    0.243059\n",
       "Spearman Corr. (Avg) EuroParl 5th & 6th Legislation    0.265105\n",
       "Spearman Corr. (Avg) EuroParl 6th Legislation          0.291027\n",
       "Spearman Corr. (Avg) NELA-GT-2018 Left-Right           0.298070\n",
       "dtype: float64"
      ]
     },
     "execution_count": 27,
     "metadata": {},
     "output_type": "execute_result"
    }
   ],
   "source": [
    "# GET Spearman (AVG) per notebook\n",
    "metrics.iloc[4::6].mean(axis=1).sort_values()"
   ]
  },
  {
   "cell_type": "code",
   "execution_count": 28,
   "metadata": {
    "scrolled": false
   },
   "outputs": [
    {
     "data": {
      "text/plain": [
       "Spearman Corr. (Std) NELA-GT-2018 Left-Center-Right    0.148031\n",
       "Spearman Corr. (Std) NELA-GT-2018 Continuous           0.192001\n",
       "Spearman Corr. (Std) NELA-GT-2018 Left-Right           0.193650\n",
       "Spearman Corr. (Std) EuroParl 5th & 6th Legislation    0.231898\n",
       "Spearman Corr. (Std) EuroParl 6th Legislation          0.237849\n",
       "Spearman Corr. (Std) NELA-GT-2018 Random               0.239321\n",
       "Spearman Corr. (Std) EuroParl 5th Legislation          0.328028\n",
       "dtype: float64"
      ]
     },
     "execution_count": 28,
     "metadata": {},
     "output_type": "execute_result"
    }
   ],
   "source": [
    "# GET Spearman (Std) per notebook\n",
    "metrics.iloc[5::6].mean(axis=1).sort_values()"
   ]
  },
  {
   "cell_type": "markdown",
   "metadata": {},
   "source": [
    "# --- END NEW PART"
   ]
  },
  {
   "cell_type": "markdown",
   "metadata": {},
   "source": [
    "# Summary and Discussion of the Results for NELA-GT-2018 (Horne et al.) and EuroParl (Nanni et al.) "
   ]
  },
  {
   "cell_type": "markdown",
   "metadata": {},
   "source": [
    "This notebook summarizes and discusses the results of applying the methods onto both datasets.\n",
    "\n",
    "Except for SemScale and Wordfish all the outputs are orignal and thus unnormalized. SemScale is normalized by default and Wordfish outputs on a different scale, thus has to be normalized.\n",
    "\n",
    "Following the order of methods as they appear in the notebooks, we present the outputs of every method from the following 4 notebooks:\n",
    "\n",
    "- NELA-GT-2018 (Horne) Left-Right\n",
    "- NELA-GT-2018 (Horne) Continuous\n",
    "- EuroParl 5th Legislation\n",
    "- EuroParl 5th & 6th Legislation\n",
    "\n",
    "The reason for selecting these notebooks is that the data they contain differ the most from each other. The articles dataset (Horne) has 2 corner-cases: binary classification with left-right and a more continuous classification using all 5 leanings.\n",
    "\n",
    "Considering the speeches dataset (EuroParl) we present one of the two legislatures, and both legislatures combined,  thus being able to study the results of an increase in data."
   ]
  },
  {
   "cell_type": "markdown",
   "metadata": {},
   "source": [
    "## Preprocessing"
   ]
  },
  {
   "cell_type": "markdown",
   "metadata": {},
   "source": [
    "In the NELA-GT-2018 (Horne) notebooks we created synthetic articles with each article containing a fixed number of words. We looked at the cumulative distribution of the article word counts in the dataset in order to determine the article size. These numbers have shown themselves to be quite consistent throughout all the notebook, we thus take an example for the left articles from the horne_l_r (NELA-GT-2018 (Horne) Left-Right) notebook:"
   ]
  },
  {
   "cell_type": "markdown",
   "metadata": {},
   "source": [
    "<img src='./figs/word_count_1.svg'/>"
   ]
  },
  {
   "cell_type": "markdown",
   "metadata": {},
   "source": [
    "As we can see, we have quite extreme outliers in our dataset. We thus removed all articles with less than 50 and more than 5000 words, as those may be faulty data in the dataset. In any case, they would not be what we would recognize as an article. As a result we ended up with this distribution:"
   ]
  },
  {
   "cell_type": "markdown",
   "metadata": {},
   "source": [
    "<img src='./figs/word_count_2.svg'/>"
   ]
  },
  {
   "cell_type": "markdown",
   "metadata": {},
   "source": [
    "Using the elbow method, we decided for an article length of 1000 words."
   ]
  },
  {
   "cell_type": "markdown",
   "metadata": {},
   "source": [
    "For the EuroParl dataset we didn't create new synthetic articles, however, we also applied the two different ways of preprocessing."
   ]
  },
  {
   "cell_type": "markdown",
   "metadata": {},
   "source": [
    "For certain methods, we want to provide text which has not been altered by typical NLP processes such as, for example, stemming. The basic preprocessing is applied to all input texts – it is the minimum amount of alteration the methods receive. \n",
    "\n",
    "Since we want to start with the most natural text, we will remove extra whitespace, special symbols, numbers and layout syntax for all methods. This means we remove everything except the symbols ' ? ! . : , and small and capital letters in order to create our base data for all methods. The reason for that is that such basic punctuation is actually part of the word embeddings used by Nanni et al. in their SemScale paper. We use these word embeddings in all notebooks. They find their application in SemScale itself, but also in the feed-forward networks and linear regression, as we run them separately on the word embeddings and on token counts. Additionally, even though not using the word embeddings from Nanni et al, BERT can also interpret punctuation. It must be noted that while we limit our experiments to texts of the English language, some texts include letters from foreign languages, like the letter é, or other symbols which some of our methods would not be able to handle well. We thus try to transform the text to something that most closely resembles a natural text of the English language, using only the English alphabet and only having reasonable whitespaces."
   ]
  },
  {
   "cell_type": "markdown",
   "metadata": {},
   "source": [
    "For methods which are based apply further text preprocessing, working on the input from the basic preprocessing, because a reduced space of words means we actually count the frequencies for the base words, and not count separate frequencies for variations of words, which would impede our methods in interpreting the data correctly. We thus use the following further preprocessing steps:\n",
    "\n",
    "- **Lowercasing**: Set all upper case letters to lower case. This helps us reduce the count of words.\n",
    "\n",
    "\n",
    "- **Removal of punctuation and numbers**:  Punctuation and numbers are not of benefit for our word frequency methods, as they give little semantic information when their count per document appears in a document-feature matrix or a token count vector.\n",
    "\n",
    "\n",
    "- **Removal of stopwords**: Stopwords such as \"the\" or \"is\" and others are not words containing a direct sentiment on their own and are thus removed.\n",
    "\n",
    "\n",
    "- **Stemming**: Words in the texts are pruned to their base form, e.g. \"runner\" and \"running\" may be pruned to \"run\". This is already an example of what problems stemming may cause (e.g. turning verbs into nouns), however, it greatly reduces the number of words inside a text corpus and is thus beneficial for our word frequency methods.\n",
    "\n",
    "\n",
    "- **Removal of extra whitespace**: Through previous preprocessing and through faults in the dataset, extra whitespace in the text may exist which is removed."
   ]
  },
  {
   "cell_type": "markdown",
   "metadata": {},
   "source": [
    "# Methods"
   ]
  },
  {
   "cell_type": "markdown",
   "metadata": {},
   "source": [
    "## Wordscores"
   ]
  },
  {
   "cell_type": "markdown",
   "metadata": {},
   "source": [
    "<img src='./figs/NELA-GT-2018 Left-Right/Wordscores/fold_1.svg'/>"
   ]
  },
  {
   "cell_type": "markdown",
   "metadata": {},
   "source": [
    "We can see that Wordscores generates predictions very centered around one point, not really being able to scale across the whole 0-1 scale. However, we can see that the there is a shifted average in the results and Wordscores can differentiate in some way between left and right articles."
   ]
  },
  {
   "cell_type": "markdown",
   "metadata": {
    "scrolled": false
   },
   "source": [
    "<img src='./figs/NELA-GT-2018 Continuous/Wordscores/fold_1.svg'/>"
   ]
  },
  {
   "cell_type": "markdown",
   "metadata": {},
   "source": [
    "Again, we have results very centered around a value, with all outputs. However, here too, Wordscores can differentiate somewhat between the leanings."
   ]
  },
  {
   "cell_type": "markdown",
   "metadata": {},
   "source": [
    "<img src='./figs/EuroParl 5th Legislation/Wordscores/fold_1.svg'/>"
   ]
  },
  {
   "cell_type": "markdown",
   "metadata": {},
   "source": [
    "With the few documents of one EuroParl legislation, Wordscores fails to create reasonable results. Again, everything is very centered around one value."
   ]
  },
  {
   "cell_type": "markdown",
   "metadata": {},
   "source": [
    "<img src='./figs/EuroParl 5th & 6th Legislation/Wordscores/fold_1.svg'/>"
   ]
  },
  {
   "cell_type": "markdown",
   "metadata": {},
   "source": [
    "Even when combining both legislations, thus increasing the amount of documents, Wordscores fails to detect a significant slope."
   ]
  },
  {
   "cell_type": "markdown",
   "metadata": {},
   "source": [
    "### Summary\n",
    "\n",
    "With enough documents, Wordscores can detect different leanings, however, while being too centered around one value, thus not being able to display the scale of difference between different political leanings strongly enough."
   ]
  },
  {
   "cell_type": "markdown",
   "metadata": {},
   "source": [
    "<hr style=\"border:4px solid black\"> </hr>"
   ]
  },
  {
   "cell_type": "markdown",
   "metadata": {},
   "source": [
    "## Wordfish"
   ]
  },
  {
   "cell_type": "markdown",
   "metadata": {},
   "source": [
    "<img src='./figs/NELA-GT-2018 Left-Right/Wordfish/fold_1.svg'/>"
   ]
  },
  {
   "cell_type": "markdown",
   "metadata": {},
   "source": [
    "Compared to Wordscores, Wordfish differs a lot in the way the outputs are distributed. The outputs are distributed along the 0-1 scale (which probably also has to do with Wordfish's internal scaling). Yet, we are still able to discover a slight slope. What is interesting is that right-winged articles seem to spread out much more than left-winged articles."
   ]
  },
  {
   "cell_type": "markdown",
   "metadata": {},
   "source": [
    "<img src='./figs/NELA-GT-2018 Continuous/Wordfish/fold_1.svg'/>"
   ]
  },
  {
   "cell_type": "markdown",
   "metadata": {},
   "source": [
    "Here, we can discover a slope again, indicating the right identification of left to right, however, we do not have the effect from before, that right-winged articles are spread out more. Also, the confidence interval (shade behind the regression line) is quite large."
   ]
  },
  {
   "cell_type": "markdown",
   "metadata": {},
   "source": [
    "<img src='./figs/EuroParl 5th Legislation/Wordfish/fold_1.svg'/>"
   ]
  },
  {
   "cell_type": "markdown",
   "metadata": {},
   "source": [
    "We are able to detect a more accurate slope, however, with the results spread out so far, that we have a very, very large confidence interval."
   ]
  },
  {
   "cell_type": "markdown",
   "metadata": {},
   "source": [
    "<img src='./figs/EuroParl 5th & 6th Legislation/Wordfish/fold_1.svg'/>"
   ]
  },
  {
   "cell_type": "markdown",
   "metadata": {},
   "source": [
    "Interestingly, the slope here goes into the wrong direction and again with a very large confidence interval. "
   ]
  },
  {
   "cell_type": "markdown",
   "metadata": {},
   "source": [
    "### Summary\n",
    "\n",
    "In summary we can say that the results are very very spread out, possible due to the scaling of Wordfish. A larger number of documents is needed for Wordfish to confidently detect a correct slope."
   ]
  },
  {
   "cell_type": "markdown",
   "metadata": {},
   "source": [
    "# Ideas\n",
    "\n",
    "Add more notebooks researching this unusual behavior?"
   ]
  },
  {
   "cell_type": "markdown",
   "metadata": {},
   "source": [
    "<hr style=\"border:4px solid black\"> </hr>"
   ]
  },
  {
   "cell_type": "markdown",
   "metadata": {},
   "source": [
    "## SemScale"
   ]
  },
  {
   "cell_type": "markdown",
   "metadata": {},
   "source": [
    "<img src='./figs/NELA-GT-2018 Left-Right/SemScale/fold_1.svg'/>"
   ]
  },
  {
   "cell_type": "markdown",
   "metadata": {},
   "source": [
    "At first glance, the results remind one of Wordfish, with the centered values, however, we must remember that SemScale includes min-max scaling. On closer inspection it becomes clear that we have an outlier that marks the (in min-max scaling mandatory) 0 value on the y-axis. Disregarding the outlier, the results are similar to Wordfish, with a correct slope."
   ]
  },
  {
   "cell_type": "markdown",
   "metadata": {},
   "source": [
    "<img src='./figs/NELA-GT-2018 Continuous/SemScale/fold_1.svg'/>"
   ]
  },
  {
   "cell_type": "markdown",
   "metadata": {},
   "source": [
    "We can see that SemScale does not detect the correct slope from left to right here, the values seem almost randomly distibuted."
   ]
  },
  {
   "cell_type": "markdown",
   "metadata": {},
   "source": [
    "<img src='./figs/EuroParl 5th Legislation/SemScale/fold_1.svg'/>"
   ]
  },
  {
   "cell_type": "markdown",
   "metadata": {},
   "source": [
    "With fewer values, SemScale improves upon the previous result. While we have large confidence intervals, the slope is quite correctly identifiable."
   ]
  },
  {
   "cell_type": "markdown",
   "metadata": {},
   "source": [
    "<img src='./figs/EuroParl 5th & 6th Legislation/SemScale/fold_1.svg'/>"
   ]
  },
  {
   "cell_type": "markdown",
   "metadata": {},
   "source": [
    "Again the slope is identifiable, and this time with lower confidence intervals."
   ]
  },
  {
   "cell_type": "markdown",
   "metadata": {},
   "source": [
    "### Summary\n",
    "\n",
    "Unlike most methods, after a certain amount of data, the results actually seem to worsen. In the case with the most data, SemScale is even unable to identify the slope/change in political direction at all. In all other cases it can identify the slope, with the combined EuroParl dataset having a lower confidence interval than with the individual legislature. We assume that there may be a sweet spot of the amount of data for SemScale."
   ]
  },
  {
   "cell_type": "markdown",
   "metadata": {},
   "source": [
    "<hr style=\"border:4px solid black\"> </hr>"
   ]
  },
  {
   "cell_type": "markdown",
   "metadata": {},
   "source": [
    "## BERT"
   ]
  },
  {
   "cell_type": "markdown",
   "metadata": {},
   "source": [
    "<img src='./figs/NELA-GT-2018 Left-Right/BERT/fold_1.svg'/>"
   ]
  },
  {
   "cell_type": "markdown",
   "metadata": {},
   "source": [
    "It becomes clear that the results here are unscaled, as we receive negative values as results. Again, like some other methods, the results are spread out widely, but with an identifiable slope."
   ]
  },
  {
   "cell_type": "markdown",
   "metadata": {},
   "source": [
    "<img src='./figs/NELA-GT-2018 Continuous/BERT/fold_1.svg'/>"
   ]
  },
  {
   "cell_type": "markdown",
   "metadata": {},
   "source": [
    "Here BERT switches from having widely spread out results to results centered around a value again, with an identifiable slope."
   ]
  },
  {
   "cell_type": "markdown",
   "metadata": {},
   "source": [
    "<img src='./figs/EuroParl 5th Legislation/BERT/fold_1.svg'/>"
   ]
  },
  {
   "cell_type": "markdown",
   "metadata": {},
   "source": [
    "This result is unusuable, we assume it to be because of the small number of documents. Afterall, BERT is a cutting-edge machine-learning method which should definitely perform best with the most data."
   ]
  },
  {
   "cell_type": "markdown",
   "metadata": {
    "scrolled": true
   },
   "source": [
    "<img src='./figs/EuroParl 5th & 6th Legislation/BERT/fold_1.svg'/>"
   ]
  },
  {
   "cell_type": "markdown",
   "metadata": {},
   "source": [
    "Even when having the legislations combined, the amount of data is likely not sufficient."
   ]
  },
  {
   "cell_type": "markdown",
   "metadata": {},
   "source": [
    "<hr style=\"border:4px solid black\"> </hr>"
   ]
  },
  {
   "cell_type": "markdown",
   "metadata": {},
   "source": [
    "## Linear Regression (Token Counts)"
   ]
  },
  {
   "cell_type": "markdown",
   "metadata": {},
   "source": [
    "<img src='./figs/NELA-GT-2018 Left-Right/Linear Regression with Token Counts/fold_1.svg'/>"
   ]
  },
  {
   "cell_type": "markdown",
   "metadata": {},
   "source": [
    "While linear regression produces a lot of out-of-bounds values, we do have a good slope."
   ]
  },
  {
   "cell_type": "markdown",
   "metadata": {},
   "source": [
    "<img src='./figs/NELA-GT-2018 Continuous/Linear Regression with Token Counts/fold_1.svg'/>"
   ]
  },
  {
   "cell_type": "markdown",
   "metadata": {},
   "source": [
    "Again, a clear slope with a few outliers and out of bound values."
   ]
  },
  {
   "cell_type": "markdown",
   "metadata": {},
   "source": [
    "<img src='./figs/EuroParl 5th Legislation/Linear Regression with Token Counts/fold_1.svg'/>"
   ]
  },
  {
   "cell_type": "markdown",
   "metadata": {},
   "source": [
    "While causing large confidence-intervals, linear regression with token counts can still identify a slope."
   ]
  },
  {
   "cell_type": "markdown",
   "metadata": {},
   "source": [
    "<img src='./figs/EuroParl 5th & 6th Legislation/Linear Regression with Token Counts/fold_1.svg'/>"
   ]
  },
  {
   "cell_type": "markdown",
   "metadata": {},
   "source": [
    "Maybe the results for the 5th legislature were accidental, as more data clearly worsens the results here."
   ]
  },
  {
   "cell_type": "markdown",
   "metadata": {},
   "source": [
    "### Summary\n",
    "\n",
    "When applying linear regression with token counts having enough data and applying min-max normalization afterwards creates good results. The usablity with low amounts of data cannot be assured."
   ]
  },
  {
   "cell_type": "markdown",
   "metadata": {},
   "source": [
    "<hr style=\"border:4px solid black\"> </hr>"
   ]
  },
  {
   "cell_type": "markdown",
   "metadata": {},
   "source": [
    "## Feed-Forward Neural Network (Token Counts)"
   ]
  },
  {
   "cell_type": "markdown",
   "metadata": {},
   "source": [
    "<img src='./figs/NELA-GT-2018 Left-Right/Feed-forward with Token Counts/fold_1.svg'/>"
   ]
  },
  {
   "cell_type": "markdown",
   "metadata": {},
   "source": [
    "These are possibly the best results so far. We see a clear centering of the values around the correct target values (0 and 1) and we have a steep slope, with only a few outliers for both leanings."
   ]
  },
  {
   "cell_type": "markdown",
   "metadata": {},
   "source": [
    "<img src='./figs/NELA-GT-2018 Continuous/Feed-forward with Token Counts/fold_1.svg'/>"
   ]
  },
  {
   "cell_type": "markdown",
   "metadata": {},
   "source": [
    "Again, we have a clear slope with values slightly centered around their correct target values."
   ]
  },
  {
   "cell_type": "markdown",
   "metadata": {},
   "source": [
    "<img src='./figs/EuroParl 5th Legislation/Feed-forward with Token Counts/fold_1.svg'/>"
   ]
  },
  {
   "cell_type": "markdown",
   "metadata": {},
   "source": [
    "The method completely fails here, outputting 0 for every document. We assume the amount of data to just not be enough."
   ]
  },
  {
   "cell_type": "markdown",
   "metadata": {},
   "source": [
    "<img src='./figs/EuroParl 5th & 6th Legislation/Feed-forward with Token Counts/fold_1.svg'/>"
   ]
  },
  {
   "cell_type": "markdown",
   "metadata": {},
   "source": [
    "Even with both legislatures combined, the output is not usable."
   ]
  },
  {
   "cell_type": "markdown",
   "metadata": {},
   "source": [
    "### Summary\n",
    "\n",
    "Despite having the so far best results, it completely fails to produce output with the EuroParl dataset.\n",
    "This method only seems to work with a larger amount of documents."
   ]
  },
  {
   "cell_type": "markdown",
   "metadata": {},
   "source": [
    "<hr style=\"border:4px solid black\"> </hr>"
   ]
  },
  {
   "cell_type": "markdown",
   "metadata": {},
   "source": [
    "## Linear Regression (Embeddings)"
   ]
  },
  {
   "cell_type": "markdown",
   "metadata": {},
   "source": [
    "<img src='./figs/NELA-GT-2018 Left-Right/Linear Regression with Embeddings/fold_1.svg'/>"
   ]
  },
  {
   "cell_type": "markdown",
   "metadata": {},
   "source": [
    "Unlike with token counts, we do not suffer from out-of-bounds or large outlier values. However, both results are, although the correct slope being detected, centered around a similar value again."
   ]
  },
  {
   "cell_type": "markdown",
   "metadata": {},
   "source": [
    "<img src='./figs/NELA-GT-2018 Continuous/Linear Regression with Embeddings/fold_1.svg'/>"
   ]
  },
  {
   "cell_type": "markdown",
   "metadata": {},
   "source": [
    "Again, all the results are centered around similar values, however with a slight slope that has low confidence-intervals."
   ]
  },
  {
   "cell_type": "markdown",
   "metadata": {},
   "source": [
    "<img src='./figs/EuroParl 5th Legislation/Linear Regression with Embeddings/fold_1.svg'/>"
   ]
  },
  {
   "cell_type": "markdown",
   "metadata": {},
   "source": [
    "For the smaller EuroParl dataset, the results are not usable."
   ]
  },
  {
   "cell_type": "markdown",
   "metadata": {},
   "source": [
    "<img src='./figs/EuroParl 5th & 6th Legislation/Linear Regression with Embeddings/fold_1.svg'/>"
   ]
  },
  {
   "cell_type": "markdown",
   "metadata": {},
   "source": [
    "Using the combined EuroParl dataset, a very very slight slope may be visible, but the results are still not usable in our opinion."
   ]
  },
  {
   "cell_type": "markdown",
   "metadata": {},
   "source": [
    "### Summary\n",
    "\n",
    "Unlike with token counts, linear regression using embeddings creates no out-of-bounds or large outlier values. The downside is that the values are very much centered around one value, creating just a very slight slope. Linear regression using token counts creates much better results here."
   ]
  },
  {
   "cell_type": "markdown",
   "metadata": {},
   "source": [
    "<hr style=\"border:4px solid black\"> </hr>"
   ]
  },
  {
   "cell_type": "markdown",
   "metadata": {},
   "source": [
    "## Feed-Forward Neural Network (Embeddings)"
   ]
  },
  {
   "cell_type": "markdown",
   "metadata": {},
   "source": [
    "<img src='./figs/NELA-GT-2018 Left-Right/Feed-forward with Embeddings/fold_1.svg'/>"
   ]
  },
  {
   "cell_type": "markdown",
   "metadata": {},
   "source": [
    "Surprisingly, the neural network using embeddings fails with the NELA-GT-2018 dataset, but not with EuroParl as seen further below."
   ]
  },
  {
   "cell_type": "markdown",
   "metadata": {},
   "source": [
    "<img src='./figs/NELA-GT-2018 Continuous/Feed-forward with Embeddings/fold_1.svg'/>"
   ]
  },
  {
   "cell_type": "markdown",
   "metadata": {},
   "source": [
    "Again, the method completely fails."
   ]
  },
  {
   "cell_type": "markdown",
   "metadata": {},
   "source": [
    "<img src='./figs/EuroParl 5th Legislation/Feed-forward with Embeddings/fold_1.svg'/>"
   ]
  },
  {
   "cell_type": "markdown",
   "metadata": {},
   "source": [
    "The values are all above 0.4 and the slope goes into the wrong direction but interestingly, output is created at all, unlike with the NELA-GT dataset."
   ]
  },
  {
   "cell_type": "markdown",
   "metadata": {},
   "source": [
    "<img src='./figs/EuroParl 5th & 6th Legislation/Feed-forward with Embeddings/fold_1.svg'/>"
   ]
  },
  {
   "cell_type": "markdown",
   "metadata": {},
   "source": [
    "A slight slope is detected, but the values are totally shifted towards the 0.8-1 area."
   ]
  },
  {
   "cell_type": "markdown",
   "metadata": {},
   "source": [
    "### Summary\n",
    "\n",
    "The worst method so far, all results seem unusable."
   ]
  },
  {
   "cell_type": "markdown",
   "metadata": {},
   "source": [
    "## Final Results"
   ]
  },
  {
   "cell_type": "markdown",
   "metadata": {},
   "source": [
    "<img src='./figs/NELA-GT-2018 Left-Right/MSEs.svg'/>\n",
    "<img src='./figs/NELA-GT-2018 Continuous/MSEs.svg'/>\n",
    "<img src='./figs/EuroParl 5th Legislation/MSEs.svg'/>\n",
    "<img src='./figs/EuroParl 5th & 6th Legislation/MSEs.svg'/>"
   ]
  },
  {
   "cell_type": "markdown",
   "metadata": {},
   "source": [
    "We can see that BERT usually scores in the middle.\n",
    "\n",
    "With NELA-GT-2018, Token Counts seem to always outperform with EuroParl it seems the oter way around for just one legislation or mixed when combining both legislations.\n",
    "\n",
    "In most cases, the unnormalized methods actually seem to outperform the normalized methods, despite some methods creating out-of-bounds values like BERT, yet the **unnormalized BERT always outperforms the normalized BERT.**"
   ]
  }
 ],
 "metadata": {
  "kernelspec": {
   "display_name": "Python 3",
   "language": "python",
   "name": "python3"
  },
  "language_info": {
   "codemirror_mode": {
    "name": "ipython",
    "version": 3
   },
   "file_extension": ".py",
   "mimetype": "text/x-python",
   "name": "python",
   "nbconvert_exporter": "python",
   "pygments_lexer": "ipython3",
   "version": "3.7.6"
  },
  "varInspector": {
   "cols": {
    "lenName": 16,
    "lenType": 16,
    "lenVar": 40
   },
   "kernels_config": {
    "python": {
     "delete_cmd_postfix": "",
     "delete_cmd_prefix": "del ",
     "library": "var_list.py",
     "varRefreshCmd": "print(var_dic_list())"
    },
    "r": {
     "delete_cmd_postfix": ") ",
     "delete_cmd_prefix": "rm(",
     "library": "var_list.r",
     "varRefreshCmd": "cat(var_dic_list()) "
    }
   },
   "types_to_exclude": [
    "module",
    "function",
    "builtin_function_or_method",
    "instance",
    "_Feature"
   ],
   "window_display": false
  }
 },
 "nbformat": 4,
 "nbformat_minor": 4
}
